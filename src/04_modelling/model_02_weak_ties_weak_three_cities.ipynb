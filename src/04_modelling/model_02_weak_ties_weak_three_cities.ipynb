{
 "cells": [
  {
   "cell_type": "markdown",
   "id": "032ef233",
   "metadata": {},
   "source": [
    "# Examine whether the significant mobility ties are weak"
   ]
  },
  {
   "cell_type": "code",
   "execution_count": 1,
   "id": "e03e5bf0",
   "metadata": {
    "collapsed": true
   },
   "outputs": [
    {
     "name": "stderr",
     "output_type": "stream",
     "text": [
      "\n",
      "Bad key text.latex.unicode in file /home/jtl/anaconda3/lib/python3.7/site-packages/matplotlib/mpl-data/stylelib/_classic_test.mplstyle, line 112 ('text.latex.unicode : False # use \"ucs\" and \"inputenc\" LaTeX packages for handling')\n",
      "You probably need to get an updated matplotlibrc file from\n",
      "https://github.com/matplotlib/matplotlib/blob/v3.5.1/matplotlibrc.template\n",
      "or from the matplotlib source distribution\n",
      "\n",
      "Bad key text.latex.preview in file /home/jtl/anaconda3/lib/python3.7/site-packages/matplotlib/mpl-data/stylelib/_classic_test.mplstyle, line 125 ('text.latex.preview : False')\n",
      "You probably need to get an updated matplotlibrc file from\n",
      "https://github.com/matplotlib/matplotlib/blob/v3.5.1/matplotlibrc.template\n",
      "or from the matplotlib source distribution\n",
      "\n",
      "Bad key mathtext.fallback_to_cm in file /home/jtl/anaconda3/lib/python3.7/site-packages/matplotlib/mpl-data/stylelib/_classic_test.mplstyle, line 157 ('mathtext.fallback_to_cm : True  # When True, use symbols from the Computer Modern')\n",
      "You probably need to get an updated matplotlibrc file from\n",
      "https://github.com/matplotlib/matplotlib/blob/v3.5.1/matplotlibrc.template\n",
      "or from the matplotlib source distribution\n",
      "\n",
      "Bad key savefig.jpeg_quality in file /home/jtl/anaconda3/lib/python3.7/site-packages/matplotlib/mpl-data/stylelib/_classic_test.mplstyle, line 420 ('savefig.jpeg_quality: 95       # when a jpeg is saved, the default quality parameter.')\n",
      "You probably need to get an updated matplotlibrc file from\n",
      "https://github.com/matplotlib/matplotlib/blob/v3.5.1/matplotlibrc.template\n",
      "or from the matplotlib source distribution\n",
      "\n",
      "Bad key savefig.frameon in file /home/jtl/anaconda3/lib/python3.7/site-packages/matplotlib/mpl-data/stylelib/_classic_test.mplstyle, line 423 ('savefig.frameon : True')\n",
      "You probably need to get an updated matplotlibrc file from\n",
      "https://github.com/matplotlib/matplotlib/blob/v3.5.1/matplotlibrc.template\n",
      "or from the matplotlib source distribution\n",
      "\n",
      "Bad key pgf.debug in file /home/jtl/anaconda3/lib/python3.7/site-packages/matplotlib/mpl-data/stylelib/_classic_test.mplstyle, line 444 ('pgf.debug           : False')\n",
      "You probably need to get an updated matplotlibrc file from\n",
      "https://github.com/matplotlib/matplotlib/blob/v3.5.1/matplotlibrc.template\n",
      "or from the matplotlib source distribution\n",
      "\n",
      "Bad key verbose.level in file /home/jtl/anaconda3/lib/python3.7/site-packages/matplotlib/mpl-data/stylelib/_classic_test.mplstyle, line 475 ('verbose.level  : silent      # one of silent, helpful, debug, debug-annoying')\n",
      "You probably need to get an updated matplotlibrc file from\n",
      "https://github.com/matplotlib/matplotlib/blob/v3.5.1/matplotlibrc.template\n",
      "or from the matplotlib source distribution\n",
      "\n",
      "Bad key verbose.fileo in file /home/jtl/anaconda3/lib/python3.7/site-packages/matplotlib/mpl-data/stylelib/_classic_test.mplstyle, line 476 ('verbose.fileo  : sys.stdout  # a log filename, sys.stdout or sys.stderr')\n",
      "You probably need to get an updated matplotlibrc file from\n",
      "https://github.com/matplotlib/matplotlib/blob/v3.5.1/matplotlibrc.template\n",
      "or from the matplotlib source distribution\n",
      "\n",
      "Bad key keymap.all_axes in file /home/jtl/anaconda3/lib/python3.7/site-packages/matplotlib/mpl-data/stylelib/_classic_test.mplstyle, line 493 ('keymap.all_axes : a                 # enable all axes')\n",
      "You probably need to get an updated matplotlibrc file from\n",
      "https://github.com/matplotlib/matplotlib/blob/v3.5.1/matplotlibrc.template\n",
      "or from the matplotlib source distribution\n",
      "\n",
      "Bad key animation.avconv_path in file /home/jtl/anaconda3/lib/python3.7/site-packages/matplotlib/mpl-data/stylelib/_classic_test.mplstyle, line 504 ('animation.avconv_path: avconv     # Path to avconv binary. Without full path')\n",
      "You probably need to get an updated matplotlibrc file from\n",
      "https://github.com/matplotlib/matplotlib/blob/v3.5.1/matplotlibrc.template\n",
      "or from the matplotlib source distribution\n",
      "\n",
      "Bad key animation.avconv_args in file /home/jtl/anaconda3/lib/python3.7/site-packages/matplotlib/mpl-data/stylelib/_classic_test.mplstyle, line 506 ('animation.avconv_args:            # Additional arguments to pass to avconv')\n",
      "You probably need to get an updated matplotlibrc file from\n",
      "https://github.com/matplotlib/matplotlib/blob/v3.5.1/matplotlibrc.template\n",
      "or from the matplotlib source distribution\n"
     ]
    }
   ],
   "source": [
    "import pandas as pd\n",
    "import numpy as np\n",
    "import matplotlib.pyplot as plt\n",
    "import geopandas as gpd\n",
    "from datetime import datetime \n",
    "from dateutil import tz\n",
    "import gzip\n",
    "import time\n",
    "import pickle\n",
    "import copy"
   ]
  },
  {
   "cell_type": "code",
   "execution_count": 2,
   "id": "b5c517be",
   "metadata": {},
   "outputs": [],
   "source": [
    "import sys\n",
    "sys.path.append(\"../\")\n",
    "import utils"
   ]
  },
  {
   "cell_type": "code",
   "execution_count": 3,
   "id": "64363ebf",
   "metadata": {},
   "outputs": [],
   "source": [
    "# read files\n",
    "with open(\"../../data/02_intermediate/boston_stays.pickle\", 'rb') as f:\n",
    "    df_boston = pickle.load(f)\n",
    "\n",
    "with open(\"../../data/02_intermediate/miami_stays.pickle\", 'rb') as f:\n",
    "    df_miami = pickle.load(f)\n",
    "\n",
    "with open(\"../../data/02_intermediate/chicago_stays.pickle\", 'rb') as f:\n",
    "    df_chicago = pickle.load(f)\n",
    "\n",
    "with open(\"../../data/03_processed/A_home_activity_three_cities_unweighted_dic.pickle\", 'rb') as f:\n",
    "    A_home_activity_unweighted_dic = pickle.load(f)\n",
    "    \n",
    "# with open(\"../../data/03_processed/greater_boston_ct_socioecon_shp.pickle\", 'rb') as f:\n",
    "#     df_shp = pickle.load(f)\n"
   ]
  },
  {
   "cell_type": "code",
   "execution_count": 4,
   "id": "d75a00c7",
   "metadata": {},
   "outputs": [],
   "source": [
    "# read evaluation files\n",
    "with open(\"../../data/05_model_outputs/lasso_coefficients.pickle\", 'rb') as f:\n",
    "    lasso_coef = pickle.load(f)\n",
    "    "
   ]
  },
  {
   "cell_type": "code",
   "execution_count": 5,
   "id": "4abe15b8",
   "metadata": {},
   "outputs": [
    {
     "data": {
      "text/plain": [
       "dict_keys(['boston', 'chicago', 'miami', 'total'])"
      ]
     },
     "execution_count": 5,
     "metadata": {},
     "output_type": "execute_result"
    }
   ],
   "source": [
    "lasso_coef.keys()"
   ]
  },
  {
   "cell_type": "code",
   "execution_count": 25,
   "id": "b02be460",
   "metadata": {},
   "outputs": [
    {
     "data": {
      "text/plain": [
       "Index(['Latin American', 'Caribbean', 'Brazilian', 'Fried Chicken',\n",
       "       'Laundromat', 'Food Stand', 'Tennis Court', 'Fishing Store', 'Football',\n",
       "       'Science Museum', 'Ski Area', 'Peking Duck', 'Cupcakes', 'Skating Rink',\n",
       "       'French'],\n",
       "      dtype='object')"
      ]
     },
     "execution_count": 25,
     "metadata": {},
     "output_type": "execute_result"
    }
   ],
   "source": [
    "lasso_coef['boston']['inc_median_household_2018']['lasso (no socio-demographics)'].index"
   ]
  },
  {
   "cell_type": "markdown",
   "id": "e089a0d2",
   "metadata": {},
   "source": [
    "# Significant ties are weak ties"
   ]
  },
  {
   "cell_type": "code",
   "execution_count": 6,
   "id": "27d55b79",
   "metadata": {},
   "outputs": [],
   "source": [
    "# activity counts for the three cities\n",
    "# boston\n",
    "activity_counts_boston = np.unique(df_boston.cat, return_counts = True)"
   ]
  },
  {
   "cell_type": "code",
   "execution_count": 11,
   "id": "8954033f",
   "metadata": {},
   "outputs": [],
   "source": [
    "# miami\n",
    "activity_counts_miami = np.unique(df_miami.cat, return_counts = True)"
   ]
  },
  {
   "cell_type": "code",
   "execution_count": 12,
   "id": "26827d85",
   "metadata": {},
   "outputs": [],
   "source": [
    "# chicago\n",
    "activity_counts_chicago = np.unique(df_chicago.cat, return_counts = True)"
   ]
  },
  {
   "cell_type": "code",
   "execution_count": 13,
   "id": "493ad254",
   "metadata": {},
   "outputs": [],
   "source": [
    "# convert the counts to df\n",
    "activity_counts_dic = {}\n",
    "activity_counts_dic['boston']=activity_counts_boston\n",
    "activity_counts_dic['miami']=activity_counts_miami\n",
    "activity_counts_dic['chicago']=activity_counts_chicago\n",
    "\n",
    "# turn them to dataframes\n",
    "activity_counts_df_dic = {}\n",
    "for key_ in activity_counts_dic.keys():\n",
    "    activity_counts = activity_counts_dic[key_]\n",
    "    activity_count_df = pd.DataFrame(activity_counts[1],\n",
    "                                 index = activity_counts[0],\n",
    "                                 columns = ['count'])\n",
    "    sorted_activity_count_df = activity_count_df.sort_values('count', ascending=False)\n",
    "    activity_counts_df_dic[key_] = sorted_activity_count_df\n"
   ]
  },
  {
   "cell_type": "code",
   "execution_count": 21,
   "id": "41323f0f",
   "metadata": {},
   "outputs": [],
   "source": [
    "# compute the total\n",
    "sorted_activity_count_total_df = activity_counts_df_dic['boston'].add(activity_counts_df_dic['miami'], fill_value=0.0).add(activity_counts_df_dic['chicago'], fill_value=0.0)\n",
    "sorted_activity_count_total_df = sorted_activity_count_total_df.sort_values('count', ascending=False)\n",
    "activity_counts_df_dic['total'] = sorted_activity_count_total_df\n"
   ]
  },
  {
   "cell_type": "code",
   "execution_count": 34,
   "id": "0a5a13d5",
   "metadata": {
    "scrolled": false
   },
   "outputs": [
    {
     "name": "stdout",
     "output_type": "stream",
     "text": [
      "\n",
      "---------\n",
      "inc_median_household_2018\n",
      "\n",
      "boston\n",
      "0.008992098345709094\n",
      "Index(['Office', 'Residential', 'Building', 'Automotive', 'Church',\n",
      "       'Salon / Barbershop', 'Doctor's Office', 'Pizza', 'American',\n",
      "       'Gas Station', 'Gym', 'Road', 'Bank', 'Donuts', 'Hardware'],\n",
      "      dtype='object')\n",
      "Index(['Latin American', 'Caribbean', 'Brazilian', 'Fried Chicken',\n",
      "       'Laundromat', 'Food Stand', 'Tennis Court', 'Fishing Store', 'Football',\n",
      "       'Science Museum', 'Ski Area', 'Peking Duck', 'Cupcakes', 'Skating Rink',\n",
      "       'French'],\n",
      "      dtype='object')\n",
      "[260, 190, 225, 304, 262, 540, 210, 527, 215, 319, 322, 557, 343, 114, 301]\n",
      "\n",
      "miami\n",
      "0.01959459759148913\n",
      "Index(['Residential', 'Office', 'Building', 'Pool', 'Housing Development',\n",
      "       'Automotive', 'Church', 'Doctor's Office', 'Grocery Store', 'Road',\n",
      "       'Gym', 'Salon / Barbershop', 'Park', 'Gas Station', 'Fast Food'],\n",
      "      dtype='object')\n",
      "Index(['Discount Store', 'Pawn Shop', 'Storage', 'Supermarket', 'Concert Hall',\n",
      "       'Modern European', 'Squash Court', 'Golf Course', 'Gastropub', 'Salad',\n",
      "       'Football', 'Theater', 'Baseball', 'Soccer Field', 'Tennis Court'],\n",
      "      dtype='object')\n",
      "[83, 396, 93, 250, 217, 481, 525, 51, 237, 267, 221, 148, 302, 141, 98]\n",
      "\n",
      "chicago\n",
      "0.008800558413683511\n",
      "Index(['Office', 'Building', 'Church', 'Residential', 'Automotive',\n",
      "       'Salon / Barbershop', 'Doctor's Office', 'Park', 'Gas Station', 'Bar',\n",
      "       'Road', 'Hardware', 'Fast Food', 'Bank', 'Elementary School'],\n",
      "      dtype='object')\n",
      "Index(['Discount Store', 'Caribbean', 'Check Cashing Service', 'Laundromat',\n",
      "       'Basketball', 'Volcano', 'Kosher', 'Pilates Studio', 'Kitchen Supply',\n",
      "       'Skating Rink', 'Bagels', 'New American', 'French', 'Hockey',\n",
      "       'Golf Course'],\n",
      "      dtype='object')\n",
      "[73, 297, 431, 348, 391, 622, 604, 375, 473, 212, 284, 243, 354, 323, 112]\n",
      "\n",
      "total\n",
      "0.01760407659477489\n",
      "Index(['Office', 'Building', 'Residential', 'Church', 'Automotive',\n",
      "       'Doctor's Office', 'Salon / Barbershop', 'Road', 'Gas Station', 'Park',\n",
      "       'Gym', 'Pool', 'Grocery Store', 'Bar', 'Hardware'],\n",
      "      dtype='object')\n",
      "Index(['Discount Store', 'Convenience Store', 'Laundromat', 'Yoga Studio',\n",
      "       'Steakhouse', 'French', 'Science Museum', 'Football', 'Stadium',\n",
      "       'Gastropub', 'Toys & Games', 'Wine Shop', 'Hockey', 'Skating Rink',\n",
      "       'New American'],\n",
      "      dtype='object')\n",
      "[82, 43, 351, 181, 124, 266, 368, 236, 272, 264, 219, 305, 290, 238, 232]\n",
      "\n",
      "---------\n",
      "property_value_median_2018\n",
      "\n",
      "boston\n",
      "0.02258174908255111\n",
      "Index(['Office', 'Residential', 'Building', 'Automotive', 'Church',\n",
      "       'Salon / Barbershop', 'Doctor's Office', 'Pizza', 'American',\n",
      "       'Gas Station', 'Gym', 'Road', 'Bank', 'Donuts', 'Hardware'],\n",
      "      dtype='object')\n",
      "Index(['Discount Store', 'Convenience Store', 'Hot Dogs', 'Car Washes',\n",
      "       'Latin American', 'Tattoo', 'Brazilian', 'Video Games', 'Strip Club',\n",
      "       'Art Museum', 'Locksmith', 'Bagels', 'Cycle Studio', 'Salad', 'French'],\n",
      "      dtype='object')\n",
      "[118, 19, 295, 111, 260, 206, 225, 251, 162, 273, 404, 226, 305, 286, 301]\n",
      "\n",
      "miami\n",
      "0.033709653916250706\n",
      "Index(['Residential', 'Office', 'Building', 'Pool', 'Housing Development',\n",
      "       'Automotive', 'Church', 'Doctor's Office', 'Grocery Store', 'Road',\n",
      "       'Gym', 'Salon / Barbershop', 'Park', 'Gas Station', 'Fast Food'],\n",
      "      dtype='object')\n",
      "Index(['Fast Food', 'Discount Store', 'Smoke Shop', 'Casino', 'Perfume Shop',\n",
      "       'Storage', 'Big Box Store', 'Outdoor Event Space', 'Synagogue', 'Sushi',\n",
      "       'Gastropub', 'Bistro', 'Religious School', 'Theater', 'Tennis Court'],\n",
      "      dtype='object')\n",
      "[14, 83, 133, 119, 427, 93, 33, 563, 145, 151, 237, 363, 392, 148, 98]\n",
      "\n",
      "chicago\n",
      "0.009852153776709805\n",
      "Index(['Office', 'Building', 'Church', 'Residential', 'Automotive',\n",
      "       'Salon / Barbershop', 'Doctor's Office', 'Park', 'Gas Station', 'Bar',\n",
      "       'Road', 'Hardware', 'Fast Food', 'Bank', 'Elementary School'],\n",
      "      dtype='object')\n",
      "Index(['Discount Store', 'Food', 'Pawn Shop', 'Buffet', 'Caribbean',\n",
      "       'Pilates Studio', 'Climbing Gym', 'Tennis Court', 'Yoga Studio',\n",
      "       'Gourmet', 'Hockey', 'Kosher', 'Curling Ice', 'New American', 'French'],\n",
      "      dtype='object')\n",
      "[73, 111, 398, 246, 297, 375, 483, 227, 187, 351, 323, 604, 559, 243, 354]\n",
      "\n",
      "total\n",
      "0.04453047398986189\n",
      "Index(['Office', 'Building', 'Residential', 'Church', 'Automotive',\n",
      "       'Doctor's Office', 'Salon / Barbershop', 'Road', 'Gas Station', 'Park',\n",
      "       'Gym', 'Pool', 'Grocery Store', 'Bar', 'Hardware'],\n",
      "      dtype='object')\n",
      "Index(['Discount Store', 'Fast Food', 'Convenience Store', 'Gas Station',\n",
      "       'Storage', 'Food', 'Yoga Studio', 'Tennis Court', 'Gastropub', 'Hockey',\n",
      "       'Metro', 'Cycle Studio', 'Wine Shop', 'French', 'New American'],\n",
      "      dtype='object')\n",
      "[82, 18, 43, 8, 108, 104, 181, 159, 264, 290, 337, 431, 305, 266, 232]\n",
      "\n",
      "---------\n",
      "rent_median_2018\n",
      "\n",
      "boston\n",
      "0.010637470906489694\n",
      "Index(['Office', 'Residential', 'Building', 'Automotive', 'Church',\n",
      "       'Salon / Barbershop', 'Doctor's Office', 'Pizza', 'American',\n",
      "       'Gas Station', 'Gym', 'Road', 'Bank', 'Donuts', 'Hardware'],\n",
      "      dtype='object')\n",
      "Index(['Thrift / Vintage', 'Pet Service', 'Caribbean', 'Hot Dogs', 'Spanish',\n",
      "       'Storage', 'Indian Chinese', 'Noodles', 'Engineering', 'Gastropub',\n",
      "       'University', 'Synagogue', 'Sorority House', 'Art Museum', 'French'],\n",
      "      dtype='object')\n",
      "[183, 243, 190, 295, 279, 130, 561, 367, 317, 235, 177, 200, 376, 273, 301]\n",
      "\n",
      "miami\n",
      "0.014114104335628961\n",
      "Index(['Residential', 'Office', 'Building', 'Pool', 'Housing Development',\n",
      "       'Automotive', 'Church', 'Doctor's Office', 'Grocery Store', 'Road',\n",
      "       'Gym', 'Salon / Barbershop', 'Park', 'Gas Station', 'Fast Food'],\n",
      "      dtype='object')\n",
      "Index(['Discount Store', 'Gay Bar', 'Pawn Shop', 'Lighthouse', 'Cantonese',\n",
      "       'Circus', 'Track', 'Tennis', 'Baseball', 'Gastropub', 'Basketball',\n",
      "       'University', 'Golf Course', 'Sushi', 'Salad'],\n",
      "      dtype='object')\n",
      "[83, 210, 396, 380, 554, 442, 277, 328, 302, 237, 373, 170, 51, 151, 267]\n",
      "\n",
      "chicago\n",
      "0.008582901147976916\n",
      "Index(['Office', 'Building', 'Church', 'Residential', 'Automotive',\n",
      "       'Salon / Barbershop', 'Doctor's Office', 'Park', 'Gas Station', 'Bar',\n",
      "       'Road', 'Hardware', 'Fast Food', 'Bank', 'Elementary School'],\n",
      "      dtype='object')\n",
      "Index(['Discount Store', 'Check Cashing Service', 'Laundromat',\n",
      "       'Grilled Meat Restaurants', 'North Indian', 'Recreation Center',\n",
      "       'Kitchen Supply', 'Tennis Court', 'Travel Agency', 'Basketball',\n",
      "       'Golf Course', 'French', 'Kosher', 'Bagels', 'New American'],\n",
      "      dtype='object')\n",
      "[73, 431, 348, 621, 585, 257, 473, 227, 383, 391, 112, 354, 604, 284, 243]\n",
      "\n",
      "total\n",
      "0.01716415892633567\n",
      "Index(['Office', 'Building', 'Residential', 'Church', 'Automotive',\n",
      "       'Doctor's Office', 'Salon / Barbershop', 'Road', 'Gas Station', 'Park',\n",
      "       'Gym', 'Pool', 'Grocery Store', 'Bar', 'Hardware'],\n",
      "      dtype='object')\n",
      "Index(['Discount Store', 'Bus Station', 'Bistro', 'Wine Shop', 'Synagogue',\n",
      "       'Football', 'Tech Startup', 'Cycle Studio', 'Salad', 'Science',\n",
      "       'Gastropub', 'Tennis Court', 'Bagels', 'French', 'New American'],\n",
      "      dtype='object')\n",
      "[82, 60, 384, 305, 210, 236, 72, 431, 302, 273, 264, 159, 244, 266, 232]\n"
     ]
    }
   ],
   "source": [
    "# use iterations to compute 1. total ratio, 2. top 20 strong mobility ties, 3. sorting of the significant mobility ties\n",
    "weak_mobility_ties_results = {}\n",
    "output_var_list = ['inc_median_household_2018', 'property_value_median_2018', 'rent_median_2018']\n",
    "model_type = 'lasso (no socio-demographics)'\n",
    "\n",
    "for output_var in output_var_list:\n",
    "    print()\n",
    "    print(\"---------\")\n",
    "    print(output_var)\n",
    "    for key_ in activity_counts_df_dic.keys():\n",
    "        print()\n",
    "        print(key_)\n",
    "        sig_activities = lasso_coef[key_][output_var][model_type].index\n",
    "        ratio = activity_counts_df_dic[key_].loc[sig_activities].sum()[0]/activity_counts_df_dic[key_].sum()[0]\n",
    "        print(ratio)\n",
    "        print(activity_counts_df_dic[key_].sort_values('count', ascending=False).index[:15])\n",
    "        print(sig_activities)\n",
    "\n",
    "        ranking_list = []\n",
    "        for sig_activity in sig_activities:\n",
    "            ranking = list(activity_counts_df_dic[key_].index).index(sig_activity)\n",
    "            ranking_list.append(ranking)\n",
    "    #     print(sorted(ranking_list))\n",
    "        print(ranking_list)\n"
   ]
  },
  {
   "cell_type": "code",
   "execution_count": null,
   "id": "9180e181",
   "metadata": {},
   "outputs": [],
   "source": []
  },
  {
   "cell_type": "code",
   "execution_count": null,
   "id": "a10bf44f",
   "metadata": {},
   "outputs": [],
   "source": []
  },
  {
   "cell_type": "code",
   "execution_count": null,
   "id": "2cf283e9",
   "metadata": {},
   "outputs": [],
   "source": []
  },
  {
   "cell_type": "code",
   "execution_count": null,
   "id": "f47e1568",
   "metadata": {},
   "outputs": [],
   "source": []
  },
  {
   "cell_type": "code",
   "execution_count": null,
   "id": "77829a16",
   "metadata": {},
   "outputs": [],
   "source": []
  },
  {
   "cell_type": "code",
   "execution_count": null,
   "id": "0ed0604d",
   "metadata": {},
   "outputs": [],
   "source": []
  },
  {
   "cell_type": "code",
   "execution_count": null,
   "id": "366d319e",
   "metadata": {},
   "outputs": [],
   "source": []
  },
  {
   "cell_type": "code",
   "execution_count": null,
   "id": "6a776fab",
   "metadata": {},
   "outputs": [],
   "source": []
  },
  {
   "cell_type": "code",
   "execution_count": null,
   "id": "8bf6363a",
   "metadata": {},
   "outputs": [],
   "source": []
  },
  {
   "cell_type": "code",
   "execution_count": null,
   "id": "aaf362e1",
   "metadata": {},
   "outputs": [],
   "source": []
  }
 ],
 "metadata": {
  "kernelspec": {
   "display_name": "Python 3",
   "language": "python",
   "name": "python3"
  },
  "language_info": {
   "codemirror_mode": {
    "name": "ipython",
    "version": 3
   },
   "file_extension": ".py",
   "mimetype": "text/x-python",
   "name": "python",
   "nbconvert_exporter": "python",
   "pygments_lexer": "ipython3",
   "version": "3.7.11"
  }
 },
 "nbformat": 4,
 "nbformat_minor": 5
}
