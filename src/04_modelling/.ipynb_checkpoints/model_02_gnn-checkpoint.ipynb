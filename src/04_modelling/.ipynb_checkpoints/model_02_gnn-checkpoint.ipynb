{
 "cells": [
  {
   "cell_type": "code",
   "execution_count": 1,
   "metadata": {},
   "outputs": [],
   "source": [
    "import numpy as np\n",
    "import pandas as pd\n",
    "import geopandas as gpd\n",
    "import networkx as nx\n",
    "import matplotlib.pyplot as plt\n",
    "import pickle\n",
    "import copy\n",
    "import scipy.sparse as sp\n",
    "from scipy.sparse import csr_matrix\n",
    "\n",
    "import torch\n",
    "from torch_geometric.data import Data\n",
    "from torch_geometric.loader import DataLoader\n"
   ]
  },
  {
   "cell_type": "code",
   "execution_count": 2,
   "metadata": {},
   "outputs": [],
   "source": [
    "# read files.\n",
    "\n",
    "# read files\n",
    "with open(\"../data/02_intermediate/place_graph_X.pickle\", 'rb') as f:\n",
    "    X_place = pickle.load(f) # data frame\n",
    "\n",
    "with open(\"../data/02_intermediate/place_graph_A.pickle\", 'rb') as f:\n",
    "    A_place = pickle.load(f) # sparse matrix\n",
    "\n",
    "with open(\"../data/02_intermediate/place_graph_weighted_A.pickle\", 'rb') as f:\n",
    "    A_weighted_place = pickle.load(f) # sparse matrix    \n",
    "    \n",
    "with open(\"../data/02_intermediate/place_graph_Z.pickle\", 'rb') as f:\n",
    "    Z_place = pickle.load(f) # data frame\n",
    "    "
   ]
  },
  {
   "cell_type": "code",
   "execution_count": 3,
   "metadata": {
    "scrolled": true
   },
   "outputs": [
    {
     "data": {
      "text/html": [
       "<div>\n",
       "<style scoped>\n",
       "    .dataframe tbody tr th:only-of-type {\n",
       "        vertical-align: middle;\n",
       "    }\n",
       "\n",
       "    .dataframe tbody tr th {\n",
       "        vertical-align: top;\n",
       "    }\n",
       "\n",
       "    .dataframe thead th {\n",
       "        text-align: right;\n",
       "    }\n",
       "</style>\n",
       "<table border=\"1\" class=\"dataframe\">\n",
       "  <thead>\n",
       "    <tr style=\"text-align: right;\">\n",
       "      <th></th>\n",
       "      <th>inc_per_capita</th>\n",
       "      <th>property_value_median</th>\n",
       "      <th>pop_total</th>\n",
       "      <th>households</th>\n",
       "      <th>race_white_ratio</th>\n",
       "      <th>race_black_ratio</th>\n",
       "      <th>age_median</th>\n",
       "      <th>travel_driving_ratio</th>\n",
       "      <th>edu_bachelor_ratio</th>\n",
       "    </tr>\n",
       "    <tr>\n",
       "      <th>full_bg_fips</th>\n",
       "      <th></th>\n",
       "      <th></th>\n",
       "      <th></th>\n",
       "      <th></th>\n",
       "      <th></th>\n",
       "      <th></th>\n",
       "      <th></th>\n",
       "      <th></th>\n",
       "      <th></th>\n",
       "    </tr>\n",
       "  </thead>\n",
       "  <tbody>\n",
       "    <tr>\n",
       "      <th>250092011001</th>\n",
       "      <td>46400.0</td>\n",
       "      <td>521300.0</td>\n",
       "      <td>544.0</td>\n",
       "      <td>259.0</td>\n",
       "      <td>1.000000</td>\n",
       "      <td>0.000000</td>\n",
       "      <td>52.8</td>\n",
       "      <td>0.728395</td>\n",
       "      <td>0.239669</td>\n",
       "    </tr>\n",
       "    <tr>\n",
       "      <th>250092021011</th>\n",
       "      <td>54513.0</td>\n",
       "      <td>464100.0</td>\n",
       "      <td>721.0</td>\n",
       "      <td>248.0</td>\n",
       "      <td>0.970874</td>\n",
       "      <td>0.000000</td>\n",
       "      <td>47.4</td>\n",
       "      <td>0.737931</td>\n",
       "      <td>0.334669</td>\n",
       "    </tr>\n",
       "    <tr>\n",
       "      <th>250092021012</th>\n",
       "      <td>48486.0</td>\n",
       "      <td>461900.0</td>\n",
       "      <td>518.0</td>\n",
       "      <td>202.0</td>\n",
       "      <td>0.967181</td>\n",
       "      <td>0.000000</td>\n",
       "      <td>39.9</td>\n",
       "      <td>0.836538</td>\n",
       "      <td>0.413408</td>\n",
       "    </tr>\n",
       "    <tr>\n",
       "      <th>250092021013</th>\n",
       "      <td>43408.0</td>\n",
       "      <td>391000.0</td>\n",
       "      <td>805.0</td>\n",
       "      <td>288.0</td>\n",
       "      <td>0.822360</td>\n",
       "      <td>0.045963</td>\n",
       "      <td>35.4</td>\n",
       "      <td>0.761261</td>\n",
       "      <td>0.250000</td>\n",
       "    </tr>\n",
       "    <tr>\n",
       "      <th>250092021021</th>\n",
       "      <td>35731.0</td>\n",
       "      <td>403800.0</td>\n",
       "      <td>1181.0</td>\n",
       "      <td>402.0</td>\n",
       "      <td>0.957663</td>\n",
       "      <td>0.029636</td>\n",
       "      <td>33.8</td>\n",
       "      <td>0.902357</td>\n",
       "      <td>0.204301</td>\n",
       "    </tr>\n",
       "    <tr>\n",
       "      <th>...</th>\n",
       "      <td>...</td>\n",
       "      <td>...</td>\n",
       "      <td>...</td>\n",
       "      <td>...</td>\n",
       "      <td>...</td>\n",
       "      <td>...</td>\n",
       "      <td>...</td>\n",
       "      <td>...</td>\n",
       "      <td>...</td>\n",
       "    </tr>\n",
       "    <tr>\n",
       "      <th>330170870001</th>\n",
       "      <td>25345.0</td>\n",
       "      <td>218500.0</td>\n",
       "      <td>1479.0</td>\n",
       "      <td>549.0</td>\n",
       "      <td>1.000000</td>\n",
       "      <td>0.000000</td>\n",
       "      <td>33.2</td>\n",
       "      <td>0.926868</td>\n",
       "      <td>0.100338</td>\n",
       "    </tr>\n",
       "    <tr>\n",
       "      <th>330170870002</th>\n",
       "      <td>24643.0</td>\n",
       "      <td>158700.0</td>\n",
       "      <td>1612.0</td>\n",
       "      <td>630.0</td>\n",
       "      <td>0.984491</td>\n",
       "      <td>0.000000</td>\n",
       "      <td>38.5</td>\n",
       "      <td>0.869505</td>\n",
       "      <td>0.127907</td>\n",
       "    </tr>\n",
       "    <tr>\n",
       "      <th>330170870003</th>\n",
       "      <td>28067.0</td>\n",
       "      <td>169300.0</td>\n",
       "      <td>1657.0</td>\n",
       "      <td>597.0</td>\n",
       "      <td>1.000000</td>\n",
       "      <td>0.000000</td>\n",
       "      <td>35.9</td>\n",
       "      <td>0.896261</td>\n",
       "      <td>0.098936</td>\n",
       "    </tr>\n",
       "    <tr>\n",
       "      <th>330170870004</th>\n",
       "      <td>20110.0</td>\n",
       "      <td>93200.0</td>\n",
       "      <td>1087.0</td>\n",
       "      <td>561.0</td>\n",
       "      <td>1.000000</td>\n",
       "      <td>0.000000</td>\n",
       "      <td>54.6</td>\n",
       "      <td>1.000000</td>\n",
       "      <td>0.179310</td>\n",
       "    </tr>\n",
       "    <tr>\n",
       "      <th>330170880003</th>\n",
       "      <td>30849.0</td>\n",
       "      <td>181100.0</td>\n",
       "      <td>2366.0</td>\n",
       "      <td>899.0</td>\n",
       "      <td>0.989856</td>\n",
       "      <td>0.005072</td>\n",
       "      <td>42.7</td>\n",
       "      <td>0.886241</td>\n",
       "      <td>0.144919</td>\n",
       "    </tr>\n",
       "  </tbody>\n",
       "</table>\n",
       "<p>3101 rows × 9 columns</p>\n",
       "</div>"
      ],
      "text/plain": [
       "              inc_per_capita  property_value_median  pop_total  households  \\\n",
       "full_bg_fips                                                                 \n",
       "250092011001         46400.0               521300.0      544.0       259.0   \n",
       "250092021011         54513.0               464100.0      721.0       248.0   \n",
       "250092021012         48486.0               461900.0      518.0       202.0   \n",
       "250092021013         43408.0               391000.0      805.0       288.0   \n",
       "250092021021         35731.0               403800.0     1181.0       402.0   \n",
       "...                      ...                    ...        ...         ...   \n",
       "330170870001         25345.0               218500.0     1479.0       549.0   \n",
       "330170870002         24643.0               158700.0     1612.0       630.0   \n",
       "330170870003         28067.0               169300.0     1657.0       597.0   \n",
       "330170870004         20110.0                93200.0     1087.0       561.0   \n",
       "330170880003         30849.0               181100.0     2366.0       899.0   \n",
       "\n",
       "              race_white_ratio  race_black_ratio  age_median  \\\n",
       "full_bg_fips                                                   \n",
       "250092011001          1.000000          0.000000        52.8   \n",
       "250092021011          0.970874          0.000000        47.4   \n",
       "250092021012          0.967181          0.000000        39.9   \n",
       "250092021013          0.822360          0.045963        35.4   \n",
       "250092021021          0.957663          0.029636        33.8   \n",
       "...                        ...               ...         ...   \n",
       "330170870001          1.000000          0.000000        33.2   \n",
       "330170870002          0.984491          0.000000        38.5   \n",
       "330170870003          1.000000          0.000000        35.9   \n",
       "330170870004          1.000000          0.000000        54.6   \n",
       "330170880003          0.989856          0.005072        42.7   \n",
       "\n",
       "              travel_driving_ratio  edu_bachelor_ratio  \n",
       "full_bg_fips                                            \n",
       "250092011001              0.728395            0.239669  \n",
       "250092021011              0.737931            0.334669  \n",
       "250092021012              0.836538            0.413408  \n",
       "250092021013              0.761261            0.250000  \n",
       "250092021021              0.902357            0.204301  \n",
       "...                            ...                 ...  \n",
       "330170870001              0.926868            0.100338  \n",
       "330170870002              0.869505            0.127907  \n",
       "330170870003              0.896261            0.098936  \n",
       "330170870004              1.000000            0.179310  \n",
       "330170880003              0.886241            0.144919  \n",
       "\n",
       "[3101 rows x 9 columns]"
      ]
     },
     "execution_count": 3,
     "metadata": {},
     "output_type": "execute_result"
    }
   ],
   "source": [
    "X_place"
   ]
  },
  {
   "cell_type": "code",
   "execution_count": 4,
   "metadata": {},
   "outputs": [
    {
     "data": {
      "text/plain": [
       "<3101x3101 sparse matrix of type '<class 'numpy.float64'>'\n",
       "\twith 5290563 stored elements in Compressed Sparse Row format>"
      ]
     },
     "execution_count": 4,
     "metadata": {},
     "output_type": "execute_result"
    }
   ],
   "source": [
    "A_place"
   ]
  },
  {
   "cell_type": "code",
   "execution_count": 5,
   "metadata": {},
   "outputs": [
    {
     "data": {
      "text/html": [
       "<div>\n",
       "<style scoped>\n",
       "    .dataframe tbody tr th:only-of-type {\n",
       "        vertical-align: middle;\n",
       "    }\n",
       "\n",
       "    .dataframe tbody tr th {\n",
       "        vertical-align: top;\n",
       "    }\n",
       "\n",
       "    .dataframe thead th {\n",
       "        text-align: right;\n",
       "    }\n",
       "</style>\n",
       "<table border=\"1\" class=\"dataframe\">\n",
       "  <thead>\n",
       "    <tr style=\"text-align: right;\">\n",
       "      <th></th>\n",
       "      <th>inc_per_capita_annual_growth</th>\n",
       "      <th>pop_total_annual_growth</th>\n",
       "      <th>property_value_median_annual_growth</th>\n",
       "    </tr>\n",
       "    <tr>\n",
       "      <th>full_bg_fips</th>\n",
       "      <th></th>\n",
       "      <th></th>\n",
       "      <th></th>\n",
       "    </tr>\n",
       "  </thead>\n",
       "  <tbody>\n",
       "    <tr>\n",
       "      <th>250092011001</th>\n",
       "      <td>0.105</td>\n",
       "      <td>-0.094</td>\n",
       "      <td>0.062</td>\n",
       "    </tr>\n",
       "    <tr>\n",
       "      <th>250092021011</th>\n",
       "      <td>0.101</td>\n",
       "      <td>0.001</td>\n",
       "      <td>0.050</td>\n",
       "    </tr>\n",
       "    <tr>\n",
       "      <th>250092021012</th>\n",
       "      <td>0.078</td>\n",
       "      <td>0.013</td>\n",
       "      <td>0.028</td>\n",
       "    </tr>\n",
       "    <tr>\n",
       "      <th>250092021013</th>\n",
       "      <td>0.005</td>\n",
       "      <td>0.034</td>\n",
       "      <td>0.027</td>\n",
       "    </tr>\n",
       "    <tr>\n",
       "      <th>250092021021</th>\n",
       "      <td>0.125</td>\n",
       "      <td>-0.037</td>\n",
       "      <td>0.055</td>\n",
       "    </tr>\n",
       "    <tr>\n",
       "      <th>...</th>\n",
       "      <td>...</td>\n",
       "      <td>...</td>\n",
       "      <td>...</td>\n",
       "    </tr>\n",
       "    <tr>\n",
       "      <th>330170870001</th>\n",
       "      <td>0.094</td>\n",
       "      <td>-0.031</td>\n",
       "      <td>0.020</td>\n",
       "    </tr>\n",
       "    <tr>\n",
       "      <th>330170870002</th>\n",
       "      <td>-0.018</td>\n",
       "      <td>0.037</td>\n",
       "      <td>0.044</td>\n",
       "    </tr>\n",
       "    <tr>\n",
       "      <th>330170870003</th>\n",
       "      <td>0.161</td>\n",
       "      <td>-0.094</td>\n",
       "      <td>0.107</td>\n",
       "    </tr>\n",
       "    <tr>\n",
       "      <th>330170870004</th>\n",
       "      <td>0.084</td>\n",
       "      <td>0.084</td>\n",
       "      <td>0.030</td>\n",
       "    </tr>\n",
       "    <tr>\n",
       "      <th>330170880003</th>\n",
       "      <td>0.049</td>\n",
       "      <td>-0.044</td>\n",
       "      <td>0.017</td>\n",
       "    </tr>\n",
       "  </tbody>\n",
       "</table>\n",
       "<p>3101 rows × 3 columns</p>\n",
       "</div>"
      ],
      "text/plain": [
       "              inc_per_capita_annual_growth  pop_total_annual_growth  \\\n",
       "full_bg_fips                                                          \n",
       "250092011001                         0.105                   -0.094   \n",
       "250092021011                         0.101                    0.001   \n",
       "250092021012                         0.078                    0.013   \n",
       "250092021013                         0.005                    0.034   \n",
       "250092021021                         0.125                   -0.037   \n",
       "...                                    ...                      ...   \n",
       "330170870001                         0.094                   -0.031   \n",
       "330170870002                        -0.018                    0.037   \n",
       "330170870003                         0.161                   -0.094   \n",
       "330170870004                         0.084                    0.084   \n",
       "330170880003                         0.049                   -0.044   \n",
       "\n",
       "              property_value_median_annual_growth  \n",
       "full_bg_fips                                       \n",
       "250092011001                                0.062  \n",
       "250092021011                                0.050  \n",
       "250092021012                                0.028  \n",
       "250092021013                                0.027  \n",
       "250092021021                                0.055  \n",
       "...                                           ...  \n",
       "330170870001                                0.020  \n",
       "330170870002                                0.044  \n",
       "330170870003                                0.107  \n",
       "330170870004                                0.030  \n",
       "330170880003                                0.017  \n",
       "\n",
       "[3101 rows x 3 columns]"
      ]
     },
     "execution_count": 5,
     "metadata": {},
     "output_type": "execute_result"
    }
   ],
   "source": [
    "Z_place"
   ]
  },
  {
   "cell_type": "markdown",
   "metadata": {},
   "source": [
    "## Linear reg benchmark (SM Package)"
   ]
  },
  {
   "cell_type": "code",
   "execution_count": 6,
   "metadata": {},
   "outputs": [],
   "source": [
    "import statsmodels.api as sm\n",
    "from sklearn.preprocessing import normalize"
   ]
  },
  {
   "cell_type": "code",
   "execution_count": 39,
   "metadata": {
    "scrolled": true
   },
   "outputs": [
    {
     "name": "stdout",
     "output_type": "stream",
     "text": [
      "                            OLS Regression Results                            \n",
      "==============================================================================\n",
      "Dep. Variable:              pop_total   R-squared:                       0.757\n",
      "Model:                            OLS   Adj. R-squared:                  0.756\n",
      "Method:                 Least Squares   F-statistic:                     1203.\n",
      "Date:                Tue, 05 Oct 2021   Prob (F-statistic):               0.00\n",
      "Time:                        10:32:02   Log-Likelihood:                -22292.\n",
      "No. Observations:                3101   AIC:                         4.460e+04\n",
      "Df Residuals:                    3092   BIC:                         4.466e+04\n",
      "Df Model:                           8                                         \n",
      "Covariance Type:            nonrobust                                         \n",
      "=========================================================================================\n",
      "                            coef    std err          t      P>|t|      [0.025      0.975]\n",
      "-----------------------------------------------------------------------------------------\n",
      "const                   475.8073     43.410     10.961      0.000     390.691     560.923\n",
      "property_value_median     0.0007   4.36e-05     15.261      0.000       0.001       0.001\n",
      "inc_per_capita           -0.0074      0.000    -15.009      0.000      -0.008      -0.006\n",
      "households                2.2179      0.023     94.801      0.000       2.172       2.264\n",
      "race_white_ratio         45.5701     46.898      0.972      0.331     -46.383     137.524\n",
      "race_black_ratio        -30.2893     55.218     -0.549      0.583    -138.558      77.979\n",
      "age_median              -14.3312      0.865    -16.576      0.000     -16.026     -12.636\n",
      "travel_driving_ratio    416.0645     33.301     12.494      0.000     350.770     481.359\n",
      "edu_bachelor_ratio       17.5121     64.766      0.270      0.787    -109.476     144.500\n",
      "==============================================================================\n",
      "Omnibus:                     2159.344   Durbin-Watson:                   1.699\n",
      "Prob(Omnibus):                  0.000   Jarque-Bera (JB):            70593.640\n",
      "Skew:                           2.872   Prob(JB):                         0.00\n",
      "Kurtosis:                      25.657   Cond. No.                     6.05e+06\n",
      "==============================================================================\n",
      "\n",
      "Warnings:\n",
      "[1] Standard Errors assume that the covariance matrix of the errors is correctly specified.\n",
      "[2] The condition number is large, 6.05e+06. This might indicate that there are\n",
      "strong multicollinearity or other numerical problems.\n"
     ]
    }
   ],
   "source": [
    "# predict income with raw data\n",
    "input_vars = ['property_value_median', 'inc_per_capita', \n",
    "              'households', 'race_white_ratio', 'race_black_ratio', 'age_median', \n",
    "              'travel_driving_ratio', 'edu_bachelor_ratio']\n",
    "\n",
    "# specify X and y\n",
    "X = sm.add_constant(X_place[input_vars])\n",
    "output_var = 'pop_total'\n",
    "y = X_place[output_var] # here use X_place\n",
    "\n",
    "# regression on y and X\n",
    "mod = sm.OLS(y, X)\n",
    "res = mod.fit()\n",
    "print(res.summary())"
   ]
  },
  {
   "cell_type": "code",
   "execution_count": 79,
   "metadata": {
    "scrolled": true
   },
   "outputs": [
    {
     "name": "stdout",
     "output_type": "stream",
     "text": [
      "                            OLS Regression Results                            \n",
      "==============================================================================\n",
      "Dep. Variable:                      y   R-squared:                       0.648\n",
      "Model:                            OLS   Adj. R-squared:                  0.647\n",
      "Method:                 Least Squares   F-statistic:                     711.7\n",
      "Date:                Tue, 05 Oct 2021   Prob (F-statistic):               0.00\n",
      "Time:                        10:35:11   Log-Likelihood:                 12123.\n",
      "No. Observations:                3101   AIC:                        -2.423e+04\n",
      "Df Residuals:                    3092   BIC:                        -2.417e+04\n",
      "Df Model:                           8                                         \n",
      "Covariance Type:            nonrobust                                         \n",
      "==============================================================================\n",
      "                 coef    std err          t      P>|t|      [0.025      0.975]\n",
      "------------------------------------------------------------------------------\n",
      "const          0.0092      0.001     14.230      0.000       0.008       0.011\n",
      "x1             0.3422      0.022     15.261      0.000       0.298       0.386\n",
      "x2             0.7936      0.014     56.846      0.000       0.766       0.821\n",
      "x3            -0.3617      0.022    -16.570      0.000      -0.405      -0.319\n",
      "x4            -0.0622      0.031     -1.989      0.047      -0.124      -0.001\n",
      "x5            -0.0024      0.009     -0.268      0.789      -0.020       0.015\n",
      "x6             0.0494      0.031      1.604      0.109      -0.011       0.110\n",
      "x7            -0.3295      0.021    -15.689      0.000      -0.371      -0.288\n",
      "x8             0.0141      0.015      0.948      0.343      -0.015       0.043\n",
      "==============================================================================\n",
      "Omnibus:                     1339.566   Durbin-Watson:                   1.442\n",
      "Prob(Omnibus):                  0.000   Jarque-Bera (JB):            25501.446\n",
      "Skew:                           1.572   Prob(JB):                         0.00\n",
      "Kurtosis:                      16.692   Cond. No.                         421.\n",
      "==============================================================================\n",
      "\n",
      "Warnings:\n",
      "[1] Standard Errors assume that the covariance matrix of the errors is correctly specified.\n"
     ]
    }
   ],
   "source": [
    "# predict income with normalized X and y. \n",
    "# predict income with raw data\n",
    "input_vars = ['pop_total', 'inc_per_capita', \n",
    "              'households', 'race_white_ratio', 'race_black_ratio', 'age_median', \n",
    "              'travel_driving_ratio', 'edu_bachelor_ratio']\n",
    "\n",
    "# specify X and y\n",
    "X = normalize(X_place[input_vars].values, axis = 0)\n",
    "X = sm.add_constant(X)\n",
    "output_var = 'property_value_median'\n",
    "y = normalize(X_place[output_var].values.reshape(-1, 1), axis = 0) # here use X_place\n",
    "\n",
    "# regression on y and X\n",
    "mod = sm.OLS(y, X)\n",
    "res = mod.fit()\n",
    "print(res.summary())\n"
   ]
  },
  {
   "cell_type": "code",
   "execution_count": 41,
   "metadata": {},
   "outputs": [
    {
     "data": {
      "text/plain": [
       "array([[5.21300000e+05, 4.64000000e+04, 2.59000000e+02, ...,\n",
       "        5.28000000e+01, 7.28395062e-01, 2.39669421e-01],\n",
       "       [4.64100000e+05, 5.45130000e+04, 2.48000000e+02, ...,\n",
       "        4.74000000e+01, 7.37931034e-01, 3.34669339e-01],\n",
       "       [4.61900000e+05, 4.84860000e+04, 2.02000000e+02, ...,\n",
       "        3.99000000e+01, 8.36538462e-01, 4.13407821e-01],\n",
       "       ...,\n",
       "       [1.69300000e+05, 2.80670000e+04, 5.97000000e+02, ...,\n",
       "        3.59000000e+01, 8.96260555e-01, 9.89361702e-02],\n",
       "       [9.32000000e+04, 2.01100000e+04, 5.61000000e+02, ...,\n",
       "        5.46000000e+01, 1.00000000e+00, 1.79310345e-01],\n",
       "       [1.81100000e+05, 3.08490000e+04, 8.99000000e+02, ...,\n",
       "        4.27000000e+01, 8.86241353e-01, 1.44919169e-01]])"
      ]
     },
     "execution_count": 41,
     "metadata": {},
     "output_type": "execute_result"
    }
   ],
   "source": [
    "X_place[input_vars].values"
   ]
  },
  {
   "cell_type": "code",
   "execution_count": null,
   "metadata": {},
   "outputs": [],
   "source": []
  },
  {
   "cell_type": "markdown",
   "metadata": {},
   "source": [
    "## Use torch to replicate the linear reg benchmark."
   ]
  },
  {
   "cell_type": "markdown",
   "metadata": {},
   "source": [
    "Successfully replicated the sm linear reg by using pytorch. (R2 and parameters are both consistent)"
   ]
  },
  {
   "cell_type": "code",
   "execution_count": 69,
   "metadata": {},
   "outputs": [],
   "source": [
    "import torch"
   ]
  },
  {
   "cell_type": "code",
   "execution_count": 70,
   "metadata": {},
   "outputs": [],
   "source": [
    "# input x and y.\n",
    "input_vars = ['pop_total', 'inc_per_capita', \n",
    "              'households', 'race_white_ratio', 'race_black_ratio', 'age_median', \n",
    "              'travel_driving_ratio', 'edu_bachelor_ratio']\n",
    "\n",
    "# specify X and y\n",
    "X = normalize(X_place[input_vars].values, axis = 0)\n",
    "\n",
    "output_var = 'property_value_median'\n",
    "y = normalize(X_place[output_var].values.reshape(-1, 1), axis = 0).reshape(-1,1) # here use X_place\n"
   ]
  },
  {
   "cell_type": "code",
   "execution_count": 71,
   "metadata": {},
   "outputs": [
    {
     "data": {
      "text/plain": [
       "(3101, 8)"
      ]
     },
     "execution_count": 71,
     "metadata": {},
     "output_type": "execute_result"
    }
   ],
   "source": [
    "X.shape"
   ]
  },
  {
   "cell_type": "code",
   "execution_count": 72,
   "metadata": {},
   "outputs": [
    {
     "data": {
      "text/plain": [
       "array([[0.01983286],\n",
       "       [0.01765669],\n",
       "       [0.01757299],\n",
       "       ...,\n",
       "       [0.00644102],\n",
       "       [0.00354579],\n",
       "       [0.00688995]])"
      ]
     },
     "execution_count": 72,
     "metadata": {},
     "output_type": "execute_result"
    }
   ],
   "source": [
    "y"
   ]
  },
  {
   "cell_type": "code",
   "execution_count": 73,
   "metadata": {},
   "outputs": [
    {
     "name": "stdout",
     "output_type": "stream",
     "text": [
      "torch.Size([3101, 8])\n",
      "torch.Size([3101, 1])\n"
     ]
    }
   ],
   "source": [
    "# change types of X and y.\n",
    "X = X.astype('float32')\n",
    "y = y.astype('float32')\n",
    "\n",
    "# tensor\n",
    "X_tensor = torch.from_numpy(X)\n",
    "y_tensor = torch.from_numpy(y)\n",
    "\n",
    "print(X_tensor.size())\n",
    "print(y_tensor.size())"
   ]
  },
  {
   "cell_type": "code",
   "execution_count": 74,
   "metadata": {},
   "outputs": [],
   "source": [
    "# set up.\n",
    "import torch.nn.functional as F\n",
    "from torch.nn import Linear\n",
    "\n",
    "device = torch.device('cuda:0' if torch.cuda.is_available() else 'cpu')\n",
    "linear_model = Linear(8, 1, bias = True).to(device)\n",
    "X_tensor = X_tensor.to(device)\n",
    "y_tensor = y_tensor.to(device)\n",
    "# optimizer = torch.optim.Adam(linear_model.parameters(), lr=0.01, weight_decay=5e-4)\n",
    "optimizer = torch.optim.Adam(linear_model.parameters(), lr=0.01)\n"
   ]
  },
  {
   "cell_type": "code",
   "execution_count": 75,
   "metadata": {
    "scrolled": true
   },
   "outputs": [
    {
     "name": "stdout",
     "output_type": "stream",
     "text": [
      "tensor(0.0180, device='cuda:0', grad_fn=<MseLossBackward>)\n",
      "tensor(6.0313e-05, device='cuda:0', grad_fn=<MseLossBackward>)\n",
      "tensor(4.7082e-05, device='cuda:0', grad_fn=<MseLossBackward>)\n",
      "tensor(3.9802e-05, device='cuda:0', grad_fn=<MseLossBackward>)\n",
      "tensor(3.4969e-05, device='cuda:0', grad_fn=<MseLossBackward>)\n",
      "tensor(3.1834e-05, device='cuda:0', grad_fn=<MseLossBackward>)\n",
      "tensor(2.9723e-05, device='cuda:0', grad_fn=<MseLossBackward>)\n",
      "tensor(2.8204e-05, device='cuda:0', grad_fn=<MseLossBackward>)\n",
      "tensor(2.7058e-05, device='cuda:0', grad_fn=<MseLossBackward>)\n",
      "tensor(2.6179e-05, device='cuda:0', grad_fn=<MseLossBackward>)\n",
      "tensor(2.5508e-05, device='cuda:0', grad_fn=<MseLossBackward>)\n",
      "tensor(2.5001e-05, device='cuda:0', grad_fn=<MseLossBackward>)\n",
      "tensor(2.4623e-05, device='cuda:0', grad_fn=<MseLossBackward>)\n",
      "tensor(2.4341e-05, device='cuda:0', grad_fn=<MseLossBackward>)\n",
      "tensor(2.4133e-05, device='cuda:0', grad_fn=<MseLossBackward>)\n",
      "tensor(2.3979e-05, device='cuda:0', grad_fn=<MseLossBackward>)\n",
      "tensor(2.3864e-05, device='cuda:0', grad_fn=<MseLossBackward>)\n",
      "tensor(2.3778e-05, device='cuda:0', grad_fn=<MseLossBackward>)\n",
      "tensor(2.3714e-05, device='cuda:0', grad_fn=<MseLossBackward>)\n",
      "tensor(2.3666e-05, device='cuda:0', grad_fn=<MseLossBackward>)\n",
      "tensor(2.3630e-05, device='cuda:0', grad_fn=<MseLossBackward>)\n",
      "tensor(2.3604e-05, device='cuda:0', grad_fn=<MseLossBackward>)\n",
      "tensor(2.3584e-05, device='cuda:0', grad_fn=<MseLossBackward>)\n",
      "tensor(2.3570e-05, device='cuda:0', grad_fn=<MseLossBackward>)\n",
      "tensor(2.3560e-05, device='cuda:0', grad_fn=<MseLossBackward>)\n",
      "tensor(2.3553e-05, device='cuda:0', grad_fn=<MseLossBackward>)\n",
      "tensor(2.3548e-05, device='cuda:0', grad_fn=<MseLossBackward>)\n",
      "tensor(2.3545e-05, device='cuda:0', grad_fn=<MseLossBackward>)\n",
      "tensor(2.3543e-05, device='cuda:0', grad_fn=<MseLossBackward>)\n",
      "tensor(2.3541e-05, device='cuda:0', grad_fn=<MseLossBackward>)\n",
      "tensor(2.3540e-05, device='cuda:0', grad_fn=<MseLossBackward>)\n",
      "tensor(2.3540e-05, device='cuda:0', grad_fn=<MseLossBackward>)\n",
      "tensor(2.3539e-05, device='cuda:0', grad_fn=<MseLossBackward>)\n",
      "tensor(2.3539e-05, device='cuda:0', grad_fn=<MseLossBackward>)\n",
      "tensor(2.3539e-05, device='cuda:0', grad_fn=<MseLossBackward>)\n",
      "tensor(2.3539e-05, device='cuda:0', grad_fn=<MseLossBackward>)\n",
      "tensor(2.3539e-05, device='cuda:0', grad_fn=<MseLossBackward>)\n",
      "tensor(2.3539e-05, device='cuda:0', grad_fn=<MseLossBackward>)\n",
      "tensor(2.3539e-05, device='cuda:0', grad_fn=<MseLossBackward>)\n",
      "tensor(2.3539e-05, device='cuda:0', grad_fn=<MseLossBackward>)\n",
      "tensor(2.3539e-05, device='cuda:0', grad_fn=<MseLossBackward>)\n",
      "tensor(2.3539e-05, device='cuda:0', grad_fn=<MseLossBackward>)\n",
      "tensor(2.3539e-05, device='cuda:0', grad_fn=<MseLossBackward>)\n",
      "tensor(2.3539e-05, device='cuda:0', grad_fn=<MseLossBackward>)\n",
      "tensor(2.3539e-05, device='cuda:0', grad_fn=<MseLossBackward>)\n",
      "tensor(2.3539e-05, device='cuda:0', grad_fn=<MseLossBackward>)\n",
      "tensor(2.3539e-05, device='cuda:0', grad_fn=<MseLossBackward>)\n",
      "tensor(2.3539e-05, device='cuda:0', grad_fn=<MseLossBackward>)\n",
      "tensor(2.3539e-05, device='cuda:0', grad_fn=<MseLossBackward>)\n",
      "tensor(2.3539e-05, device='cuda:0', grad_fn=<MseLossBackward>)\n"
     ]
    }
   ],
   "source": [
    "# train\n",
    "linear_model.train()\n",
    "\n",
    "for epoch in range(5000):\n",
    "    optimizer.zero_grad()\n",
    "    out = linear_model(X_tensor)\n",
    "    loss = F.mse_loss(out, y_tensor)\n",
    "    if epoch%100 == 0:\n",
    "        print(loss)\n",
    "    # Here it is. Compute on the WHOLE training set, then evaluate using the mask.\n",
    "    loss.backward()\n",
    "    optimizer.step()    "
   ]
  },
  {
   "cell_type": "code",
   "execution_count": 76,
   "metadata": {
    "scrolled": true
   },
   "outputs": [
    {
     "name": "stdout",
     "output_type": "stream",
     "text": [
      "Parameter containing:\n",
      "tensor([[ 0.3422,  0.7936, -0.3618, -0.0623, -0.0024,  0.0494, -0.3295,  0.0141]],\n",
      "       device='cuda:0', requires_grad=True)\n",
      "Parameter containing:\n",
      "tensor([0.0092], device='cuda:0', requires_grad=True)\n"
     ]
    }
   ],
   "source": [
    "# check the weights\n",
    "print(linear_model.weight)\n",
    "print(linear_model.bias)"
   ]
  },
  {
   "cell_type": "code",
   "execution_count": 77,
   "metadata": {
    "scrolled": true
   },
   "outputs": [
    {
     "name": "stdout",
     "output_type": "stream",
     "text": [
      "R2 from sklearn: 0.6480619867863684\n"
     ]
    }
   ],
   "source": [
    "# compute R2\n",
    "from sklearn.metrics import r2_score\n",
    "y_pred = linear_model(X_tensor).cpu().detach().numpy()\n",
    "y_true = y_tensor.cpu().numpy()\n",
    "print('R2 from sklearn:', r2_score(y_true, y_pred)) # What?! Only 34.5%?! \n"
   ]
  },
  {
   "cell_type": "code",
   "execution_count": 78,
   "metadata": {},
   "outputs": [
    {
     "name": "stdout",
     "output_type": "stream",
     "text": [
      "2.3538758e-05\n",
      "6.688325e-05\n",
      "R2 from my own formula: 0.648061990737915\n"
     ]
    }
   ],
   "source": [
    "# compute R2 by hand...\n",
    "def mse(t1, t2):\n",
    "    diff = t1 - t2\n",
    "    return torch.sum(diff * diff) / diff.numel()\n",
    "\n",
    "##\n",
    "y_pred = linear_model(X_tensor)\n",
    "y_true = y_tensor\n",
    "after_mse = mse(y_pred, y_true).cpu().detach().numpy()\n",
    "\n",
    "##\n",
    "y_average = y_tensor.mean().repeat(len(y_tensor))\n",
    "before_mse = mse(y_average, y_true).cpu().detach().numpy()\n",
    "\n",
    "## R2\n",
    "print(after_mse)\n",
    "print(before_mse)\n",
    "print('R2 from my own formula:', 1 - after_mse/before_mse) # Hmm...\n"
   ]
  },
  {
   "cell_type": "code",
   "execution_count": null,
   "metadata": {},
   "outputs": [],
   "source": []
  },
  {
   "cell_type": "code",
   "execution_count": null,
   "metadata": {},
   "outputs": [],
   "source": []
  },
  {
   "cell_type": "code",
   "execution_count": null,
   "metadata": {},
   "outputs": [],
   "source": []
  },
  {
   "cell_type": "markdown",
   "metadata": {},
   "source": [
    "## Use Linear + Conv to improve R2."
   ]
  },
  {
   "cell_type": "markdown",
   "metadata": {},
   "source": [
    "- Spatial autocorrelation should be able to help. But coding needs to be right. \n",
    "- The adjacency matrix is critical. I don't think a fully connected graph can work well.\n"
   ]
  },
  {
   "cell_type": "code",
   "execution_count": 80,
   "metadata": {
    "scrolled": false
   },
   "outputs": [
    {
     "name": "stdout",
     "output_type": "stream",
     "text": [
      "5540825427.0\n"
     ]
    }
   ],
   "source": [
    "A_weighted_array = A_weighted_place.toarray()\n",
    "print(np.sum(A_weighted_array))"
   ]
  },
  {
   "cell_type": "code",
   "execution_count": 81,
   "metadata": {
    "scrolled": true
   },
   "outputs": [
    {
     "data": {
      "text/html": [
       "<div>\n",
       "<style scoped>\n",
       "    .dataframe tbody tr th:only-of-type {\n",
       "        vertical-align: middle;\n",
       "    }\n",
       "\n",
       "    .dataframe tbody tr th {\n",
       "        vertical-align: top;\n",
       "    }\n",
       "\n",
       "    .dataframe thead th {\n",
       "        text-align: right;\n",
       "    }\n",
       "</style>\n",
       "<table border=\"1\" class=\"dataframe\">\n",
       "  <thead>\n",
       "    <tr style=\"text-align: right;\">\n",
       "      <th></th>\n",
       "      <th>0</th>\n",
       "    </tr>\n",
       "  </thead>\n",
       "  <tbody>\n",
       "    <tr>\n",
       "      <th>count</th>\n",
       "      <td>9.616201e+06</td>\n",
       "    </tr>\n",
       "    <tr>\n",
       "      <th>mean</th>\n",
       "      <td>5.761969e+02</td>\n",
       "    </tr>\n",
       "    <tr>\n",
       "      <th>std</th>\n",
       "      <td>2.983999e+04</td>\n",
       "    </tr>\n",
       "    <tr>\n",
       "      <th>min</th>\n",
       "      <td>0.000000e+00</td>\n",
       "    </tr>\n",
       "    <tr>\n",
       "      <th>25%</th>\n",
       "      <td>0.000000e+00</td>\n",
       "    </tr>\n",
       "    <tr>\n",
       "      <th>50%</th>\n",
       "      <td>1.000000e+00</td>\n",
       "    </tr>\n",
       "    <tr>\n",
       "      <th>75%</th>\n",
       "      <td>2.600000e+01</td>\n",
       "    </tr>\n",
       "    <tr>\n",
       "      <th>max</th>\n",
       "      <td>2.358477e+07</td>\n",
       "    </tr>\n",
       "  </tbody>\n",
       "</table>\n",
       "</div>"
      ],
      "text/plain": [
       "                  0\n",
       "count  9.616201e+06\n",
       "mean   5.761969e+02\n",
       "std    2.983999e+04\n",
       "min    0.000000e+00\n",
       "25%    0.000000e+00\n",
       "50%    1.000000e+00\n",
       "75%    2.600000e+01\n",
       "max    2.358477e+07"
      ]
     },
     "execution_count": 81,
     "metadata": {},
     "output_type": "execute_result"
    }
   ],
   "source": [
    "# describe\n",
    "pd.DataFrame(A_weighted_array.reshape(-1, 1)).describe()"
   ]
  },
  {
   "cell_type": "code",
   "execution_count": 82,
   "metadata": {
    "scrolled": true
   },
   "outputs": [
    {
     "name": "stdout",
     "output_type": "stream",
     "text": [
      "Num of edges in the new adjacency matrix:  2073313.0\n",
      "Num of edges in the initial adjacency matrix:  5290563.0\n",
      "Total number of potential edges:  9616201\n"
     ]
    },
    {
     "data": {
      "text/plain": [
       "array([[1., 1., 1., ..., 0., 0., 0.],\n",
       "       [1., 1., 1., ..., 0., 0., 0.],\n",
       "       [1., 1., 1., ..., 0., 0., 0.],\n",
       "       ...,\n",
       "       [0., 0., 0., ..., 1., 1., 1.],\n",
       "       [0., 0., 0., ..., 1., 1., 1.],\n",
       "       [0., 0., 0., ..., 1., 1., 1.]])"
      ]
     },
     "execution_count": 82,
     "metadata": {},
     "output_type": "execute_result"
    }
   ],
   "source": [
    "# create a threshold to filter the weighting array.\n",
    "import copy\n",
    "A_threshold = copy.copy(A_weighted_array)\n",
    "\n",
    "epsilon = 100.0\n",
    "import copy\n",
    "A_threshold = copy.copy(A_weighted_array)\n",
    "smaller_than_threshold_mask = A_threshold < epsilon\n",
    "A_threshold[smaller_than_threshold_mask] = 0.0\n",
    "larger_than_threshold_mask = A_threshold > epsilon\n",
    "A_threshold[larger_than_threshold_mask] = 1.0\n",
    "\n",
    "print(\"Num of edges in the new adjacency matrix: \", np.sum(A_threshold))\n",
    "print(\"Num of edges in the initial adjacency matrix: \", np.sum(A_place))\n",
    "print(\"Total number of potential edges: \", A_place.shape[0]*A_place.shape[1])\n",
    "\n",
    "# Q: what is the right density in a graph?\n",
    "\n",
    "A_threshold"
   ]
  },
  {
   "cell_type": "code",
   "execution_count": null,
   "metadata": {},
   "outputs": [],
   "source": []
  },
  {
   "cell_type": "code",
   "execution_count": null,
   "metadata": {},
   "outputs": [],
   "source": []
  },
  {
   "cell_type": "code",
   "execution_count": null,
   "metadata": {},
   "outputs": [],
   "source": []
  },
  {
   "cell_type": "code",
   "execution_count": 83,
   "metadata": {},
   "outputs": [
    {
     "name": "stdout",
     "output_type": "stream",
     "text": [
      "3231.0\n",
      "0.0\n"
     ]
    }
   ],
   "source": [
    "# remove self loop? Yes.\n",
    "print(np.sum(np.diagonal(A_threshold))) # ! Many self-loops do not reach the threshold!\n",
    "np.fill_diagonal(A_threshold, 0.0)\n",
    "print(np.sum(np.diagonal(A_threshold)))\n"
   ]
  },
  {
   "cell_type": "code",
   "execution_count": 84,
   "metadata": {},
   "outputs": [],
   "source": [
    "# prepare data object.\n",
    "# write the gnn + linear module.\n",
    "# train & evaluate."
   ]
  },
  {
   "cell_type": "markdown",
   "metadata": {},
   "source": [
    "First, prepare the data object"
   ]
  },
  {
   "cell_type": "code",
   "execution_count": 85,
   "metadata": {},
   "outputs": [],
   "source": [
    "from torch_geometric.data import Data\n",
    "from torch_geometric.loader import DataLoader\n",
    "from scipy.sparse import csr_matrix"
   ]
  },
  {
   "cell_type": "code",
   "execution_count": 86,
   "metadata": {},
   "outputs": [],
   "source": [
    "# input x and y.\n",
    "input_vars = ['pop_total', 'inc_per_capita', \n",
    "              'households', 'race_white_ratio', 'race_black_ratio', 'age_median', \n",
    "              'travel_driving_ratio', 'edu_bachelor_ratio']\n",
    "\n",
    "# specify X and y\n",
    "X = normalize(X_place[input_vars].values, axis = 0)\n",
    "\n",
    "output_var = 'property_value_median'\n",
    "y = normalize(X_place[output_var].values.reshape(-1, 1), axis = 0).reshape(-1,1) # here use X_place\n"
   ]
  },
  {
   "cell_type": "code",
   "execution_count": 87,
   "metadata": {
    "scrolled": true
   },
   "outputs": [
    {
     "name": "stdout",
     "output_type": "stream",
     "text": [
      "torch.Size([3101, 8])\n",
      "torch.Size([3101, 1])\n"
     ]
    }
   ],
   "source": [
    "# change types of X and y.\n",
    "X = X.astype('float32')\n",
    "y = y.astype('float32')\n",
    "\n",
    "# X and y tensor\n",
    "X_tensor = torch.from_numpy(X)\n",
    "y_tensor = torch.from_numpy(y)\n",
    "\n",
    "print(X_tensor.size())\n",
    "print(y_tensor.size())"
   ]
  },
  {
   "cell_type": "code",
   "execution_count": 88,
   "metadata": {
    "scrolled": true
   },
   "outputs": [
    {
     "name": "stdout",
     "output_type": "stream",
     "text": [
      "1436086\n",
      "1436086\n",
      "1436086\n"
     ]
    }
   ],
   "source": [
    "# Use the scipy crs to get the list of (row, col) indicators.\n",
    "row_idx = csr_matrix(A_threshold).tocoo().row\n",
    "col_idx = csr_matrix(A_threshold).tocoo().col\n",
    "data_idx = csr_matrix(A_threshold).tocoo().data\n",
    "\n",
    "print(len(data_idx))\n",
    "print(len(col_idx))\n",
    "print(len(row_idx))\n"
   ]
  },
  {
   "cell_type": "code",
   "execution_count": 89,
   "metadata": {},
   "outputs": [
    {
     "name": "stdout",
     "output_type": "stream",
     "text": [
      "0\n"
     ]
    }
   ],
   "source": [
    "# test self loops\n",
    "count = 0\n",
    "\n",
    "for i in range(len(col_idx)):\n",
    "    if col_idx[i] == row_idx[i]:\n",
    "        count += 1\n",
    "print(count)"
   ]
  },
  {
   "cell_type": "code",
   "execution_count": 90,
   "metadata": {},
   "outputs": [],
   "source": [
    "# Train and test masks (later)"
   ]
  },
  {
   "cell_type": "code",
   "execution_count": 91,
   "metadata": {},
   "outputs": [
    {
     "data": {
      "text/plain": [
       "Data(x=[3101, 8], edge_index=[2, 2872172], y=[3101, 1])"
      ]
     },
     "execution_count": 91,
     "metadata": {},
     "output_type": "execute_result"
    }
   ],
   "source": [
    "# Create a tensor\n",
    "edge_index = torch.tensor([list(row_idx)+list(col_idx), list(col_idx)+list(row_idx)], dtype = torch.long)\n",
    "data = Data(edge_index=edge_index, x = X_tensor, y = y_tensor)\n",
    "data \n"
   ]
  },
  {
   "cell_type": "code",
   "execution_count": 92,
   "metadata": {},
   "outputs": [
    {
     "name": "stdout",
     "output_type": "stream",
     "text": [
      "True\n",
      "False\n",
      "8\n"
     ]
    }
   ],
   "source": [
    "# check\n",
    "print(data.is_undirected())\n",
    "print(data.has_self_loops())\n",
    "print(data.num_node_features)\n"
   ]
  },
  {
   "cell_type": "code",
   "execution_count": 93,
   "metadata": {},
   "outputs": [],
   "source": [
    "import torch.nn.functional as F\n",
    "from torch_geometric.nn import GCNConv, Linear, GATConv"
   ]
  },
  {
   "cell_type": "code",
   "execution_count": 222,
   "metadata": {},
   "outputs": [],
   "source": [
    "class GAT(torch.nn.Module):\n",
    "    def __init__(self, hidden_channels, out_channels):\n",
    "        super().__init__()\n",
    "        self.conv1 = GATConv((-1, -1), hidden_channels, add_self_loops=False)\n",
    "        self.lin1 = Linear(-1, hidden_channels)\n",
    "        self.conv2 = GATConv((-1, -1), out_channels, add_self_loops=False)\n",
    "        self.lin2 = Linear(-1, out_channels)\n",
    "\n",
    "    def forward(self, data):\n",
    "        x = self.conv1(data.x, data.edge_index) + self.lin1(data.x) # Hmm, add linear here! Consider using it for your naive GNN.\n",
    "        x = x.relu()\n",
    "        x = self.conv2(x, data.edge_index) + self.lin2(data.x)\n",
    "        return x\n",
    "\n",
    "# model = GAT(hidden_channels=64, out_channels=1)\n"
   ]
  },
  {
   "cell_type": "code",
   "execution_count": 94,
   "metadata": {},
   "outputs": [],
   "source": [
    "# training and get high training performance first.\n",
    "class GCN(torch.nn.Module):\n",
    "    def __init__(self):\n",
    "        super().__init__()\n",
    "        self.conv1 = GCNConv(data.num_node_features, 1, bias = True)\n",
    "        self.lin1 = Linear(-1, 1, bias = True)\n",
    "#         self.conv2 = GCNConv(16, dataset.num_classes)\n",
    "#         self.conv2 = GCNConv(16, 1)\n",
    "\n",
    "    def forward(self, data):\n",
    "        x, edge_index = data.x, data.edge_index\n",
    "#         x = self.lin1(x)\n",
    "        x = self.conv1(x, edge_index) + self.lin1(x)\n",
    "#         x = F.relu(x)\n",
    "#         x = F.dropout(x, training=self.training)\n",
    "#         x = self.conv2(x, edge_index)\n",
    "        return x\n"
   ]
  },
  {
   "cell_type": "code",
   "execution_count": 95,
   "metadata": {},
   "outputs": [],
   "source": [
    "# set up\n",
    "device = torch.device('cuda:0' if torch.cuda.is_available() else 'cpu')\n",
    "# model = GAT(hidden_channels=64, out_channels=1).to(device)\n",
    "model = GCN().to(device)\n",
    "data = data.to(device)\n",
    "# optimizer = torch.optim.Adam(model.parameters(), lr=0.01, weight_decay=9e-6)\n",
    "optimizer = torch.optim.Adam(model.parameters(), lr=0.01)\n"
   ]
  },
  {
   "cell_type": "code",
   "execution_count": 96,
   "metadata": {
    "scrolled": true
   },
   "outputs": [
    {
     "name": "stdout",
     "output_type": "stream",
     "text": [
      "tensor(0.0636, device='cuda:0', grad_fn=<MseLossBackward>)\n",
      "tensor(0.0001, device='cuda:0', grad_fn=<MseLossBackward>)\n",
      "tensor(8.5342e-05, device='cuda:0', grad_fn=<MseLossBackward>)\n",
      "tensor(6.9047e-05, device='cuda:0', grad_fn=<MseLossBackward>)\n",
      "tensor(5.8737e-05, device='cuda:0', grad_fn=<MseLossBackward>)\n",
      "tensor(5.0849e-05, device='cuda:0', grad_fn=<MseLossBackward>)\n",
      "tensor(4.4510e-05, device='cuda:0', grad_fn=<MseLossBackward>)\n",
      "tensor(3.9467e-05, device='cuda:0', grad_fn=<MseLossBackward>)\n",
      "tensor(3.5521e-05, device='cuda:0', grad_fn=<MseLossBackward>)\n",
      "tensor(3.2464e-05, device='cuda:0', grad_fn=<MseLossBackward>)\n",
      "tensor(3.0106e-05, device='cuda:0', grad_fn=<MseLossBackward>)\n",
      "tensor(2.8286e-05, device='cuda:0', grad_fn=<MseLossBackward>)\n",
      "tensor(2.6880e-05, device='cuda:0', grad_fn=<MseLossBackward>)\n",
      "tensor(2.5792e-05, device='cuda:0', grad_fn=<MseLossBackward>)\n",
      "tensor(2.4950e-05, device='cuda:0', grad_fn=<MseLossBackward>)\n",
      "tensor(2.4298e-05, device='cuda:0', grad_fn=<MseLossBackward>)\n",
      "tensor(2.3793e-05, device='cuda:0', grad_fn=<MseLossBackward>)\n",
      "tensor(2.3401e-05, device='cuda:0', grad_fn=<MseLossBackward>)\n",
      "tensor(2.3094e-05, device='cuda:0', grad_fn=<MseLossBackward>)\n",
      "tensor(2.2852e-05, device='cuda:0', grad_fn=<MseLossBackward>)\n",
      "tensor(2.2658e-05, device='cuda:0', grad_fn=<MseLossBackward>)\n",
      "tensor(2.2501e-05, device='cuda:0', grad_fn=<MseLossBackward>)\n",
      "tensor(2.2372e-05, device='cuda:0', grad_fn=<MseLossBackward>)\n",
      "tensor(2.2264e-05, device='cuda:0', grad_fn=<MseLossBackward>)\n",
      "tensor(2.2172e-05, device='cuda:0', grad_fn=<MseLossBackward>)\n",
      "tensor(2.2093e-05, device='cuda:0', grad_fn=<MseLossBackward>)\n",
      "tensor(2.2024e-05, device='cuda:0', grad_fn=<MseLossBackward>)\n",
      "tensor(2.1963e-05, device='cuda:0', grad_fn=<MseLossBackward>)\n",
      "tensor(2.1909e-05, device='cuda:0', grad_fn=<MseLossBackward>)\n",
      "tensor(2.1861e-05, device='cuda:0', grad_fn=<MseLossBackward>)\n",
      "tensor(2.1818e-05, device='cuda:0', grad_fn=<MseLossBackward>)\n",
      "tensor(2.1779e-05, device='cuda:0', grad_fn=<MseLossBackward>)\n",
      "tensor(2.1744e-05, device='cuda:0', grad_fn=<MseLossBackward>)\n",
      "tensor(2.1712e-05, device='cuda:0', grad_fn=<MseLossBackward>)\n",
      "tensor(2.1684e-05, device='cuda:0', grad_fn=<MseLossBackward>)\n",
      "tensor(2.1659e-05, device='cuda:0', grad_fn=<MseLossBackward>)\n",
      "tensor(2.1636e-05, device='cuda:0', grad_fn=<MseLossBackward>)\n",
      "tensor(2.1616e-05, device='cuda:0', grad_fn=<MseLossBackward>)\n",
      "tensor(2.1598e-05, device='cuda:0', grad_fn=<MseLossBackward>)\n",
      "tensor(2.1583e-05, device='cuda:0', grad_fn=<MseLossBackward>)\n",
      "tensor(2.1569e-05, device='cuda:0', grad_fn=<MseLossBackward>)\n",
      "tensor(2.1556e-05, device='cuda:0', grad_fn=<MseLossBackward>)\n",
      "tensor(2.1545e-05, device='cuda:0', grad_fn=<MseLossBackward>)\n",
      "tensor(2.1536e-05, device='cuda:0', grad_fn=<MseLossBackward>)\n",
      "tensor(2.1527e-05, device='cuda:0', grad_fn=<MseLossBackward>)\n",
      "tensor(2.1520e-05, device='cuda:0', grad_fn=<MseLossBackward>)\n",
      "tensor(2.1513e-05, device='cuda:0', grad_fn=<MseLossBackward>)\n",
      "tensor(2.1507e-05, device='cuda:0', grad_fn=<MseLossBackward>)\n",
      "tensor(2.1502e-05, device='cuda:0', grad_fn=<MseLossBackward>)\n",
      "tensor(2.1497e-05, device='cuda:0', grad_fn=<MseLossBackward>)\n",
      "tensor(2.1493e-05, device='cuda:0', grad_fn=<MseLossBackward>)\n",
      "tensor(2.1489e-05, device='cuda:0', grad_fn=<MseLossBackward>)\n",
      "tensor(2.1485e-05, device='cuda:0', grad_fn=<MseLossBackward>)\n",
      "tensor(2.1482e-05, device='cuda:0', grad_fn=<MseLossBackward>)\n",
      "tensor(2.1479e-05, device='cuda:0', grad_fn=<MseLossBackward>)\n",
      "tensor(2.1476e-05, device='cuda:0', grad_fn=<MseLossBackward>)\n",
      "tensor(2.1473e-05, device='cuda:0', grad_fn=<MseLossBackward>)\n",
      "tensor(2.1471e-05, device='cuda:0', grad_fn=<MseLossBackward>)\n",
      "tensor(2.1468e-05, device='cuda:0', grad_fn=<MseLossBackward>)\n",
      "tensor(2.1466e-05, device='cuda:0', grad_fn=<MseLossBackward>)\n",
      "tensor(2.1464e-05, device='cuda:0', grad_fn=<MseLossBackward>)\n",
      "tensor(2.1463e-05, device='cuda:0', grad_fn=<MseLossBackward>)\n",
      "tensor(2.1461e-05, device='cuda:0', grad_fn=<MseLossBackward>)\n",
      "tensor(2.1459e-05, device='cuda:0', grad_fn=<MseLossBackward>)\n",
      "tensor(2.1458e-05, device='cuda:0', grad_fn=<MseLossBackward>)\n",
      "tensor(2.1457e-05, device='cuda:0', grad_fn=<MseLossBackward>)\n",
      "tensor(2.1456e-05, device='cuda:0', grad_fn=<MseLossBackward>)\n",
      "tensor(2.1455e-05, device='cuda:0', grad_fn=<MseLossBackward>)\n",
      "tensor(2.1454e-05, device='cuda:0', grad_fn=<MseLossBackward>)\n",
      "tensor(2.4281e-05, device='cuda:0', grad_fn=<MseLossBackward>)\n",
      "tensor(2.1452e-05, device='cuda:0', grad_fn=<MseLossBackward>)\n",
      "tensor(2.1452e-05, device='cuda:0', grad_fn=<MseLossBackward>)\n",
      "tensor(2.1451e-05, device='cuda:0', grad_fn=<MseLossBackward>)\n",
      "tensor(2.1451e-05, device='cuda:0', grad_fn=<MseLossBackward>)\n",
      "tensor(2.1450e-05, device='cuda:0', grad_fn=<MseLossBackward>)\n",
      "tensor(2.1472e-05, device='cuda:0', grad_fn=<MseLossBackward>)\n",
      "tensor(2.1450e-05, device='cuda:0', grad_fn=<MseLossBackward>)\n",
      "tensor(2.1449e-05, device='cuda:0', grad_fn=<MseLossBackward>)\n",
      "tensor(2.1525e-05, device='cuda:0', grad_fn=<MseLossBackward>)\n",
      "tensor(2.1449e-05, device='cuda:0', grad_fn=<MseLossBackward>)\n",
      "tensor(2.1449e-05, device='cuda:0', grad_fn=<MseLossBackward>)\n",
      "tensor(2.1558e-05, device='cuda:0', grad_fn=<MseLossBackward>)\n",
      "tensor(2.1449e-05, device='cuda:0', grad_fn=<MseLossBackward>)\n",
      "tensor(2.1448e-05, device='cuda:0', grad_fn=<MseLossBackward>)\n",
      "tensor(2.1474e-05, device='cuda:0', grad_fn=<MseLossBackward>)\n",
      "tensor(2.1448e-05, device='cuda:0', grad_fn=<MseLossBackward>)\n",
      "tensor(2.1448e-05, device='cuda:0', grad_fn=<MseLossBackward>)\n",
      "tensor(2.1906e-05, device='cuda:0', grad_fn=<MseLossBackward>)\n",
      "tensor(2.1448e-05, device='cuda:0', grad_fn=<MseLossBackward>)\n",
      "tensor(2.1448e-05, device='cuda:0', grad_fn=<MseLossBackward>)\n",
      "tensor(2.1452e-05, device='cuda:0', grad_fn=<MseLossBackward>)\n",
      "tensor(2.1448e-05, device='cuda:0', grad_fn=<MseLossBackward>)\n",
      "tensor(2.1448e-05, device='cuda:0', grad_fn=<MseLossBackward>)\n",
      "tensor(2.1450e-05, device='cuda:0', grad_fn=<MseLossBackward>)\n",
      "tensor(2.1448e-05, device='cuda:0', grad_fn=<MseLossBackward>)\n",
      "tensor(2.2111e-05, device='cuda:0', grad_fn=<MseLossBackward>)\n",
      "tensor(2.1448e-05, device='cuda:0', grad_fn=<MseLossBackward>)\n",
      "tensor(2.1448e-05, device='cuda:0', grad_fn=<MseLossBackward>)\n",
      "tensor(2.1448e-05, device='cuda:0', grad_fn=<MseLossBackward>)\n",
      "tensor(2.1483e-05, device='cuda:0', grad_fn=<MseLossBackward>)\n"
     ]
    }
   ],
   "source": [
    "# train\n",
    "model.train()\n",
    "for epoch in range(10000):\n",
    "    optimizer.zero_grad()\n",
    "    out = model(data)\n",
    "    loss = F.mse_loss(out, data.y)\n",
    "#     print(loss)\n",
    "    if epoch % 100 == 0:\n",
    "        print(loss)\n",
    "    loss.backward()\n",
    "    optimizer.step()\n"
   ]
  },
  {
   "cell_type": "code",
   "execution_count": 97,
   "metadata": {
    "scrolled": false
   },
   "outputs": [
    {
     "data": {
      "text/plain": [
       "tensor([[0.0171],\n",
       "        [0.0194],\n",
       "        [0.0188],\n",
       "        ...,\n",
       "        [0.0085],\n",
       "        [0.0047],\n",
       "        [0.0097]], device='cuda:0', grad_fn=<AddBackward0>)"
      ]
     },
     "execution_count": 97,
     "metadata": {},
     "output_type": "execute_result"
    }
   ],
   "source": [
    "model(data)"
   ]
  },
  {
   "cell_type": "code",
   "execution_count": 98,
   "metadata": {},
   "outputs": [
    {
     "name": "stdout",
     "output_type": "stream",
     "text": [
      "R2 from sklearn: 0.6793297379373169\n"
     ]
    }
   ],
   "source": [
    "# compute R2\n",
    "from sklearn.metrics import r2_score\n",
    "y_pred = model(data).cpu().detach().numpy()\n",
    "y_true = y_tensor.cpu().numpy()\n",
    "print('R2 from sklearn:', r2_score(y_true, y_pred)) "
   ]
  },
  {
   "cell_type": "code",
   "execution_count": 48,
   "metadata": {},
   "outputs": [
    {
     "data": {
      "text/plain": [
       "tensor([[0.0198, 0.0064, 0.0080,  ..., 0.0234, 0.0172, 0.0158],\n",
       "        [0.0177, 0.0084, 0.0076,  ..., 0.0210, 0.0175, 0.0221],\n",
       "        [0.0176, 0.0061, 0.0062,  ..., 0.0177, 0.0198, 0.0273],\n",
       "        ...,\n",
       "        [0.0064, 0.0194, 0.0183,  ..., 0.0159, 0.0212, 0.0065],\n",
       "        [0.0035, 0.0127, 0.0172,  ..., 0.0242, 0.0237, 0.0118],\n",
       "        [0.0069, 0.0277, 0.0276,  ..., 0.0189, 0.0210, 0.0096]],\n",
       "       device='cuda:0')"
      ]
     },
     "execution_count": 48,
     "metadata": {},
     "output_type": "execute_result"
    }
   ],
   "source": [
    "data.x"
   ]
  },
  {
   "cell_type": "code",
   "execution_count": null,
   "metadata": {},
   "outputs": [],
   "source": []
  },
  {
   "cell_type": "code",
   "execution_count": null,
   "metadata": {},
   "outputs": [],
   "source": []
  },
  {
   "cell_type": "code",
   "execution_count": null,
   "metadata": {},
   "outputs": [],
   "source": []
  },
  {
   "cell_type": "code",
   "execution_count": null,
   "metadata": {},
   "outputs": [],
   "source": []
  },
  {
   "cell_type": "code",
   "execution_count": null,
   "metadata": {},
   "outputs": [],
   "source": []
  },
  {
   "cell_type": "code",
   "execution_count": null,
   "metadata": {},
   "outputs": [],
   "source": []
  },
  {
   "cell_type": "code",
   "execution_count": null,
   "metadata": {},
   "outputs": [],
   "source": []
  },
  {
   "cell_type": "code",
   "execution_count": null,
   "metadata": {},
   "outputs": [],
   "source": []
  },
  {
   "cell_type": "code",
   "execution_count": null,
   "metadata": {},
   "outputs": [],
   "source": []
  },
  {
   "cell_type": "code",
   "execution_count": null,
   "metadata": {},
   "outputs": [],
   "source": []
  },
  {
   "cell_type": "code",
   "execution_count": null,
   "metadata": {},
   "outputs": [],
   "source": []
  },
  {
   "cell_type": "code",
   "execution_count": null,
   "metadata": {},
   "outputs": [],
   "source": []
  },
  {
   "cell_type": "code",
   "execution_count": null,
   "metadata": {},
   "outputs": [],
   "source": []
  },
  {
   "cell_type": "code",
   "execution_count": null,
   "metadata": {},
   "outputs": [],
   "source": []
  },
  {
   "cell_type": "code",
   "execution_count": null,
   "metadata": {},
   "outputs": [],
   "source": []
  },
  {
   "cell_type": "code",
   "execution_count": null,
   "metadata": {},
   "outputs": [],
   "source": []
  },
  {
   "cell_type": "code",
   "execution_count": null,
   "metadata": {},
   "outputs": [],
   "source": []
  },
  {
   "cell_type": "markdown",
   "metadata": {},
   "source": [
    "## Data object"
   ]
  },
  {
   "cell_type": "code",
   "execution_count": 203,
   "metadata": {},
   "outputs": [],
   "source": [
    "from sklearn.preprocessing import normalize"
   ]
  },
  {
   "cell_type": "code",
   "execution_count": 220,
   "metadata": {},
   "outputs": [
    {
     "data": {
      "text/plain": [
       "tensor([0.0179, 0.0210, 0.0187,  ..., 0.0108, 0.0078, 0.0119])"
      ]
     },
     "execution_count": 220,
     "metadata": {},
     "output_type": "execute_result"
    }
   ],
   "source": [
    "# need to prepare the following.\n",
    "# x, edge_index, y, train_mask, val_mask, test_mask\n",
    "\n",
    "input_vars = ['property_value_median', 'pop_total', \n",
    "              'households', 'race_white_ratio', 'race_black_ratio', 'age_median', \n",
    "              'travel_driving_ratio', 'edu_bachelor_ratio']\n",
    "\n",
    "\n",
    "# input_vars = ['inc_per_capita', 'property_value_median', 'pop_total', \n",
    "#               'households', 'race_white_ratio', 'race_black_ratio', 'age_median', \n",
    "#               'travel_driving_ratio', 'edu_bachelor_ratio']\n",
    "\n",
    "x = normalize(X_place[input_vars], axis = 0)\n",
    "x = torch.tensor(x, dtype = torch.float)\n",
    "\n",
    "# output_var = 'inc_per_capita_annual_growth'\n",
    "# y = Z_place[output_var].values\n",
    "# y = torch.tensor(y, dtype = torch.float)\n",
    "# y\n",
    "\n",
    "output_var = 'inc_per_capita'\n",
    "y = normalize(X_place.loc[:, output_var].values.reshape(-1,1), axis = 0).reshape(-1)\n",
    "y = torch.tensor(y, dtype = torch.float)\n",
    "y\n",
    "\n"
   ]
  },
  {
   "cell_type": "code",
   "execution_count": 221,
   "metadata": {},
   "outputs": [],
   "source": [
    "# masks\n",
    "train_mask = torch.tensor(np.random.choice([False, True], size = len(x), p = [0.4, 0.6]))\n",
    "test_mask = ~train_mask "
   ]
  },
  {
   "cell_type": "code",
   "execution_count": 222,
   "metadata": {},
   "outputs": [
    {
     "data": {
      "text/plain": [
       "tensor([ True,  True,  True,  ..., False,  True,  True])"
      ]
     },
     "execution_count": 222,
     "metadata": {},
     "output_type": "execute_result"
    }
   ],
   "source": [
    "train_mask"
   ]
  },
  {
   "cell_type": "code",
   "execution_count": 223,
   "metadata": {
    "scrolled": true
   },
   "outputs": [
    {
     "data": {
      "text/plain": [
       "tensor([False, False, False,  ...,  True, False, False])"
      ]
     },
     "execution_count": 223,
     "metadata": {},
     "output_type": "execute_result"
    }
   ],
   "source": [
    "test_mask"
   ]
  },
  {
   "cell_type": "code",
   "execution_count": 224,
   "metadata": {},
   "outputs": [
    {
     "data": {
      "text/plain": [
       "torch.Size([2, 10581126])"
      ]
     },
     "execution_count": 224,
     "metadata": {},
     "output_type": "execute_result"
    }
   ],
   "source": [
    "# create the edge_index\n",
    "edge_row = A_place.tocoo().row\n",
    "edge_col = A_place.tocoo().col\n",
    "\n",
    "edge_index = torch.tensor([list(edge_row) + list(edge_col),\n",
    "                           list(edge_col) + list(edge_row)], dtype=torch.long)\n",
    "\n",
    "edge_index.size() # The graph is too dense. Not sure if it is good.\n"
   ]
  },
  {
   "cell_type": "code",
   "execution_count": 225,
   "metadata": {},
   "outputs": [
    {
     "data": {
      "text/plain": [
       "Data(x=[3101, 8], edge_index=[2, 10581126], y=[3101], train_mask=[3101], test_mask=[3101])"
      ]
     },
     "execution_count": 225,
     "metadata": {},
     "output_type": "execute_result"
    }
   ],
   "source": [
    "# data\n",
    "data = Data(x = x, \n",
    "            y = y,\n",
    "            edge_index = edge_index, \n",
    "            train_mask = train_mask, \n",
    "            test_mask = test_mask)\n",
    "data"
   ]
  },
  {
   "cell_type": "code",
   "execution_count": 226,
   "metadata": {},
   "outputs": [
    {
     "data": {
      "text/plain": [
       "10581126"
      ]
     },
     "execution_count": 226,
     "metadata": {},
     "output_type": "execute_result"
    }
   ],
   "source": [
    "data.num_edges"
   ]
  },
  {
   "cell_type": "code",
   "execution_count": 227,
   "metadata": {},
   "outputs": [
    {
     "data": {
      "text/plain": [
       "3101"
      ]
     },
     "execution_count": 227,
     "metadata": {},
     "output_type": "execute_result"
    }
   ],
   "source": [
    "data.num_nodes"
   ]
  },
  {
   "cell_type": "code",
   "execution_count": 228,
   "metadata": {},
   "outputs": [
    {
     "data": {
      "text/plain": [
       "False"
      ]
     },
     "execution_count": 228,
     "metadata": {},
     "output_type": "execute_result"
    }
   ],
   "source": [
    "data.is_directed()"
   ]
  },
  {
   "cell_type": "code",
   "execution_count": 229,
   "metadata": {
    "scrolled": true
   },
   "outputs": [
    {
     "data": {
      "text/plain": [
       "True"
      ]
     },
     "execution_count": 229,
     "metadata": {},
     "output_type": "execute_result"
    }
   ],
   "source": [
    "data.has_self_loops()"
   ]
  },
  {
   "cell_type": "code",
   "execution_count": 230,
   "metadata": {},
   "outputs": [
    {
     "data": {
      "text/plain": [
       "8"
      ]
     },
     "execution_count": 230,
     "metadata": {},
     "output_type": "execute_result"
    }
   ],
   "source": [
    "data.num_node_features"
   ]
  },
  {
   "cell_type": "code",
   "execution_count": 66,
   "metadata": {
    "scrolled": true
   },
   "outputs": [
    {
     "data": {
      "text/plain": [
       "['__call__',\n",
       " '__cat_dim__',\n",
       " '__class__',\n",
       " '__contains__',\n",
       " '__copy__',\n",
       " '__deepcopy__',\n",
       " '__delattr__',\n",
       " '__delitem__',\n",
       " '__dict__',\n",
       " '__dir__',\n",
       " '__doc__',\n",
       " '__eq__',\n",
       " '__format__',\n",
       " '__ge__',\n",
       " '__getattr__',\n",
       " '__getattribute__',\n",
       " '__getitem__',\n",
       " '__getstate__',\n",
       " '__gt__',\n",
       " '__hash__',\n",
       " '__inc__',\n",
       " '__init__',\n",
       " '__init_subclass__',\n",
       " '__iter__',\n",
       " '__le__',\n",
       " '__len__',\n",
       " '__lt__',\n",
       " '__module__',\n",
       " '__ne__',\n",
       " '__new__',\n",
       " '__reduce__',\n",
       " '__reduce_ex__',\n",
       " '__repr__',\n",
       " '__setattr__',\n",
       " '__setitem__',\n",
       " '__setstate__',\n",
       " '__sizeof__',\n",
       " '__str__',\n",
       " '__subclasshook__',\n",
       " '__weakref__',\n",
       " '_store',\n",
       " 'apply',\n",
       " 'apply_',\n",
       " 'batch',\n",
       " 'clone',\n",
       " 'coalesce',\n",
       " 'contains_isolated_nodes',\n",
       " 'contains_self_loops',\n",
       " 'contiguous',\n",
       " 'cpu',\n",
       " 'cuda',\n",
       " 'debug',\n",
       " 'detach',\n",
       " 'detach_',\n",
       " 'edge_attr',\n",
       " 'edge_index',\n",
       " 'edge_stores',\n",
       " 'from_dict',\n",
       " 'has_isolated_nodes',\n",
       " 'has_self_loops',\n",
       " 'is_coalesced',\n",
       " 'is_directed',\n",
       " 'is_undirected',\n",
       " 'keys',\n",
       " 'node_stores',\n",
       " 'num_edge_features',\n",
       " 'num_edges',\n",
       " 'num_faces',\n",
       " 'num_features',\n",
       " 'num_node_features',\n",
       " 'num_nodes',\n",
       " 'pin_memory',\n",
       " 'pos',\n",
       " 'record_stream',\n",
       " 'requires_grad_',\n",
       " 'share_memory_',\n",
       " 'size',\n",
       " 'stores',\n",
       " 'stores_as',\n",
       " 'to',\n",
       " 'to_dict',\n",
       " 'to_namedtuple',\n",
       " 'x',\n",
       " 'y']"
      ]
     },
     "execution_count": 66,
     "metadata": {},
     "output_type": "execute_result"
    }
   ],
   "source": [
    "dir(data)"
   ]
  },
  {
   "cell_type": "markdown",
   "metadata": {},
   "source": [
    "## Train a one-layer linear GNN"
   ]
  },
  {
   "cell_type": "code",
   "execution_count": 231,
   "metadata": {},
   "outputs": [],
   "source": [
    "import torch.nn.functional as F\n",
    "from torch_geometric.nn import GCNConv"
   ]
  },
  {
   "cell_type": "code",
   "execution_count": 232,
   "metadata": {},
   "outputs": [],
   "source": [
    "class GCN(torch.nn.Module):\n",
    "    def __init__(self):\n",
    "        super().__init__()\n",
    "        self.conv1 = GCNConv(data.num_node_features, 1, bias = True)\n",
    "#         self.conv2 = GCNConv(16, dataset.num_classes)\n",
    "#         self.conv2 = GCNConv(16, 1)\n",
    "\n",
    "\n",
    "    def forward(self, data):\n",
    "        x, edge_index = data.x, data.edge_index\n",
    "\n",
    "        x = self.conv1(x, edge_index)\n",
    "#         x = F.relu(x)\n",
    "#         x = F.dropout(x, training=self.training)\n",
    "#         x = self.conv2(x, edge_index)\n",
    "\n",
    "        return x\n",
    "    "
   ]
  },
  {
   "cell_type": "code",
   "execution_count": 233,
   "metadata": {},
   "outputs": [],
   "source": [
    "# set up\n",
    "device = torch.device('cuda:0' if torch.cuda.is_available() else 'cpu')\n",
    "model = GCN().to(device)\n",
    "data = data.to(device)\n",
    "optimizer = torch.optim.Adam(model.parameters(), lr=0.01, weight_decay=5e-4)\n"
   ]
  },
  {
   "cell_type": "code",
   "execution_count": 234,
   "metadata": {},
   "outputs": [
    {
     "name": "stdout",
     "output_type": "stream",
     "text": [
      "\n",
      "conv1\n",
      "conv1.lin\n"
     ]
    }
   ],
   "source": [
    "for name,module in model.named_modules():\n",
    "    print(name)"
   ]
  },
  {
   "cell_type": "code",
   "execution_count": 235,
   "metadata": {},
   "outputs": [
    {
     "data": {
      "text/plain": [
       "GCNConv(8, 1)"
      ]
     },
     "execution_count": 235,
     "metadata": {},
     "output_type": "execute_result"
    }
   ],
   "source": [
    "model.conv1"
   ]
  },
  {
   "cell_type": "code",
   "execution_count": 236,
   "metadata": {},
   "outputs": [
    {
     "data": {
      "text/plain": [
       "Parameter containing:\n",
       "tensor([0.], device='cuda:0', requires_grad=True)"
      ]
     },
     "execution_count": 236,
     "metadata": {},
     "output_type": "execute_result"
    }
   ],
   "source": [
    "model.conv1.bias"
   ]
  },
  {
   "cell_type": "code",
   "execution_count": 237,
   "metadata": {},
   "outputs": [
    {
     "data": {
      "text/plain": [
       "Parameter containing:\n",
       "tensor([[-0.4244,  0.2909, -0.0465,  0.2135, -0.7993,  0.0136, -0.1730,  0.7642]],\n",
       "       device='cuda:0', requires_grad=True)"
      ]
     },
     "execution_count": 237,
     "metadata": {},
     "output_type": "execute_result"
    }
   ],
   "source": [
    "model.conv1.lin.weight"
   ]
  },
  {
   "cell_type": "code",
   "execution_count": 238,
   "metadata": {},
   "outputs": [
    {
     "data": {
      "text/plain": [
       "<generator object Module.parameters at 0x7f21149a00d0>"
      ]
     },
     "execution_count": 238,
     "metadata": {},
     "output_type": "execute_result"
    }
   ],
   "source": [
    "model.parameters()"
   ]
  },
  {
   "cell_type": "code",
   "execution_count": 239,
   "metadata": {
    "scrolled": true
   },
   "outputs": [
    {
     "name": "stderr",
     "output_type": "stream",
     "text": [
      "/home/jtl/anaconda3/lib/python3.7/site-packages/ipykernel_launcher.py:6: UserWarning: Using a target size (torch.Size([1861])) that is different to the input size (torch.Size([1861, 1])). This will likely lead to incorrect results due to broadcasting. Please ensure they have the same size.\n",
      "  \n"
     ]
    },
    {
     "name": "stdout",
     "output_type": "stream",
     "text": [
      "tensor(0.0002, device='cuda:0', grad_fn=<MseLossBackward>)\n",
      "tensor(7.4984e-05, device='cuda:0', grad_fn=<MseLossBackward>)\n",
      "tensor(0.0001, device='cuda:0', grad_fn=<MseLossBackward>)\n",
      "tensor(0.0002, device='cuda:0', grad_fn=<MseLossBackward>)\n",
      "tensor(0.0001, device='cuda:0', grad_fn=<MseLossBackward>)\n",
      "tensor(8.4601e-05, device='cuda:0', grad_fn=<MseLossBackward>)\n",
      "tensor(7.2098e-05, device='cuda:0', grad_fn=<MseLossBackward>)\n",
      "tensor(8.8387e-05, device='cuda:0', grad_fn=<MseLossBackward>)\n",
      "tensor(0.0001, device='cuda:0', grad_fn=<MseLossBackward>)\n",
      "tensor(0.0001, device='cuda:0', grad_fn=<MseLossBackward>)\n",
      "tensor(9.1147e-05, device='cuda:0', grad_fn=<MseLossBackward>)\n",
      "tensor(7.5484e-05, device='cuda:0', grad_fn=<MseLossBackward>)\n",
      "tensor(7.1429e-05, device='cuda:0', grad_fn=<MseLossBackward>)\n",
      "tensor(7.8777e-05, device='cuda:0', grad_fn=<MseLossBackward>)\n",
      "tensor(8.7669e-05, device='cuda:0', grad_fn=<MseLossBackward>)\n",
      "tensor(8.9018e-05, device='cuda:0', grad_fn=<MseLossBackward>)\n",
      "tensor(8.2300e-05, device='cuda:0', grad_fn=<MseLossBackward>)\n",
      "tensor(7.3939e-05, device='cuda:0', grad_fn=<MseLossBackward>)\n",
      "tensor(7.0544e-05, device='cuda:0', grad_fn=<MseLossBackward>)\n",
      "tensor(7.3487e-05, device='cuda:0', grad_fn=<MseLossBackward>)\n",
      "tensor(7.8527e-05, device='cuda:0', grad_fn=<MseLossBackward>)\n",
      "tensor(8.0357e-05, device='cuda:0', grad_fn=<MseLossBackward>)\n",
      "tensor(7.7452e-05, device='cuda:0', grad_fn=<MseLossBackward>)\n",
      "tensor(7.2697e-05, device='cuda:0', grad_fn=<MseLossBackward>)\n",
      "tensor(7.0099e-05, device='cuda:0', grad_fn=<MseLossBackward>)\n",
      "tensor(7.1149e-05, device='cuda:0', grad_fn=<MseLossBackward>)\n",
      "tensor(7.3883e-05, device='cuda:0', grad_fn=<MseLossBackward>)\n",
      "tensor(7.5165e-05, device='cuda:0', grad_fn=<MseLossBackward>)\n",
      "tensor(7.3751e-05, device='cuda:0', grad_fn=<MseLossBackward>)\n",
      "tensor(7.1115e-05, device='cuda:0', grad_fn=<MseLossBackward>)\n",
      "tensor(6.9645e-05, device='cuda:0', grad_fn=<MseLossBackward>)\n",
      "tensor(7.0283e-05, device='cuda:0', grad_fn=<MseLossBackward>)\n",
      "tensor(7.1847e-05, device='cuda:0', grad_fn=<MseLossBackward>)\n",
      "tensor(7.2468e-05, device='cuda:0', grad_fn=<MseLossBackward>)\n",
      "tensor(7.1503e-05, device='cuda:0', grad_fn=<MseLossBackward>)\n",
      "tensor(6.9964e-05, device='cuda:0', grad_fn=<MseLossBackward>)\n",
      "tensor(6.9271e-05, device='cuda:0', grad_fn=<MseLossBackward>)\n",
      "tensor(6.9790e-05, device='cuda:0', grad_fn=<MseLossBackward>)\n",
      "tensor(7.0625e-05, device='cuda:0', grad_fn=<MseLossBackward>)\n",
      "tensor(7.0722e-05, device='cuda:0', grad_fn=<MseLossBackward>)\n",
      "tensor(6.9970e-05, device='cuda:0', grad_fn=<MseLossBackward>)\n",
      "tensor(6.9168e-05, device='cuda:0', grad_fn=<MseLossBackward>)\n",
      "tensor(6.9049e-05, device='cuda:0', grad_fn=<MseLossBackward>)\n",
      "tensor(6.9517e-05, device='cuda:0', grad_fn=<MseLossBackward>)\n",
      "tensor(6.9874e-05, device='cuda:0', grad_fn=<MseLossBackward>)\n",
      "tensor(6.9657e-05, device='cuda:0', grad_fn=<MseLossBackward>)\n",
      "tensor(6.9106e-05, device='cuda:0', grad_fn=<MseLossBackward>)\n",
      "tensor(6.8789e-05, device='cuda:0', grad_fn=<MseLossBackward>)\n",
      "tensor(6.8927e-05, device='cuda:0', grad_fn=<MseLossBackward>)\n",
      "tensor(6.9207e-05, device='cuda:0', grad_fn=<MseLossBackward>)\n",
      "tensor(6.9214e-05, device='cuda:0', grad_fn=<MseLossBackward>)\n",
      "tensor(6.8918e-05, device='cuda:0', grad_fn=<MseLossBackward>)\n",
      "tensor(6.8648e-05, device='cuda:0', grad_fn=<MseLossBackward>)\n",
      "tensor(6.8651e-05, device='cuda:0', grad_fn=<MseLossBackward>)\n",
      "tensor(6.8823e-05, device='cuda:0', grad_fn=<MseLossBackward>)\n",
      "tensor(6.8880e-05, device='cuda:0', grad_fn=<MseLossBackward>)\n",
      "tensor(6.8725e-05, device='cuda:0', grad_fn=<MseLossBackward>)\n",
      "tensor(6.8528e-05, device='cuda:0', grad_fn=<MseLossBackward>)\n",
      "tensor(6.8486e-05, device='cuda:0', grad_fn=<MseLossBackward>)\n",
      "tensor(6.8575e-05, device='cuda:0', grad_fn=<MseLossBackward>)\n",
      "tensor(6.8623e-05, device='cuda:0', grad_fn=<MseLossBackward>)\n",
      "tensor(6.8537e-05, device='cuda:0', grad_fn=<MseLossBackward>)\n",
      "tensor(6.8412e-05, device='cuda:0', grad_fn=<MseLossBackward>)\n",
      "tensor(6.8376e-05, device='cuda:0', grad_fn=<MseLossBackward>)\n",
      "tensor(6.8427e-05, device='cuda:0', grad_fn=<MseLossBackward>)\n",
      "tensor(6.8456e-05, device='cuda:0', grad_fn=<MseLossBackward>)\n",
      "tensor(6.8400e-05, device='cuda:0', grad_fn=<MseLossBackward>)\n",
      "tensor(6.8317e-05, device='cuda:0', grad_fn=<MseLossBackward>)\n",
      "tensor(6.8291e-05, device='cuda:0', grad_fn=<MseLossBackward>)\n",
      "tensor(6.8318e-05, device='cuda:0', grad_fn=<MseLossBackward>)\n",
      "tensor(6.8329e-05, device='cuda:0', grad_fn=<MseLossBackward>)\n",
      "tensor(6.8288e-05, device='cuda:0', grad_fn=<MseLossBackward>)\n",
      "tensor(6.8238e-05, device='cuda:0', grad_fn=<MseLossBackward>)\n",
      "tensor(6.8226e-05, device='cuda:0', grad_fn=<MseLossBackward>)\n",
      "tensor(6.8243e-05, device='cuda:0', grad_fn=<MseLossBackward>)\n",
      "tensor(6.8243e-05, device='cuda:0', grad_fn=<MseLossBackward>)\n",
      "tensor(6.8211e-05, device='cuda:0', grad_fn=<MseLossBackward>)\n",
      "tensor(6.8179e-05, device='cuda:0', grad_fn=<MseLossBackward>)\n",
      "tensor(6.8174e-05, device='cuda:0', grad_fn=<MseLossBackward>)\n",
      "tensor(6.8181e-05, device='cuda:0', grad_fn=<MseLossBackward>)\n",
      "tensor(6.8174e-05, device='cuda:0', grad_fn=<MseLossBackward>)\n",
      "tensor(6.8150e-05, device='cuda:0', grad_fn=<MseLossBackward>)\n",
      "tensor(6.8134e-05, device='cuda:0', grad_fn=<MseLossBackward>)\n",
      "tensor(6.8134e-05, device='cuda:0', grad_fn=<MseLossBackward>)\n",
      "tensor(6.8137e-05, device='cuda:0', grad_fn=<MseLossBackward>)\n",
      "tensor(6.8126e-05, device='cuda:0', grad_fn=<MseLossBackward>)\n",
      "tensor(6.8108e-05, device='cuda:0', grad_fn=<MseLossBackward>)\n",
      "tensor(6.8100e-05, device='cuda:0', grad_fn=<MseLossBackward>)\n",
      "tensor(6.8100e-05, device='cuda:0', grad_fn=<MseLossBackward>)\n",
      "tensor(6.8097e-05, device='cuda:0', grad_fn=<MseLossBackward>)\n",
      "tensor(6.8087e-05, device='cuda:0', grad_fn=<MseLossBackward>)\n",
      "tensor(6.8077e-05, device='cuda:0', grad_fn=<MseLossBackward>)\n",
      "tensor(6.8075e-05, device='cuda:0', grad_fn=<MseLossBackward>)\n",
      "tensor(6.8074e-05, device='cuda:0', grad_fn=<MseLossBackward>)\n",
      "tensor(6.8069e-05, device='cuda:0', grad_fn=<MseLossBackward>)\n",
      "tensor(6.8061e-05, device='cuda:0', grad_fn=<MseLossBackward>)\n",
      "tensor(6.8055e-05, device='cuda:0', grad_fn=<MseLossBackward>)\n",
      "tensor(6.8053e-05, device='cuda:0', grad_fn=<MseLossBackward>)\n",
      "tensor(6.8051e-05, device='cuda:0', grad_fn=<MseLossBackward>)\n",
      "tensor(6.8046e-05, device='cuda:0', grad_fn=<MseLossBackward>)\n"
     ]
    }
   ],
   "source": [
    "# train\n",
    "model.train()\n",
    "for epoch in range(100):\n",
    "    optimizer.zero_grad()\n",
    "    out = model(data)\n",
    "    loss = F.mse_loss(out[data.train_mask], data.y[data.train_mask])\n",
    "    print(loss)\n",
    "    loss.backward()\n",
    "    optimizer.step()\n"
   ]
  },
  {
   "cell_type": "code",
   "execution_count": 141,
   "metadata": {},
   "outputs": [
    {
     "data": {
      "text/plain": [
       "tensor(0.0589, device='cuda:0')"
      ]
     },
     "execution_count": 141,
     "metadata": {},
     "output_type": "execute_result"
    }
   ],
   "source": [
    "data.y.mean()"
   ]
  },
  {
   "cell_type": "code",
   "execution_count": 240,
   "metadata": {},
   "outputs": [
    {
     "data": {
      "text/plain": [
       "tensor(6.7986e-05, device='cuda:0')"
      ]
     },
     "execution_count": 240,
     "metadata": {},
     "output_type": "execute_result"
    }
   ],
   "source": [
    "# \n",
    "loss_train = F.mse_loss(torch.Tensor.repeat(data.y.mean(), len(data.x))[data.train_mask], data.y[data.train_mask])\n",
    "loss_train\n",
    "# len(torch.Tensor.repeat(data.y.mean(), len(data.x)))\n"
   ]
  },
  {
   "cell_type": "code",
   "execution_count": 132,
   "metadata": {},
   "outputs": [
    {
     "name": "stderr",
     "output_type": "stream",
     "text": [
      "/home/jtl/anaconda3/lib/python3.7/site-packages/ipykernel_launcher.py:3: UserWarning: Using a target size (torch.Size([1822])) that is different to the input size (torch.Size([1822, 1])). This will likely lead to incorrect results due to broadcasting. Please ensure they have the same size.\n",
      "  This is separate from the ipykernel package so we can avoid doing imports until\n"
     ]
    },
    {
     "data": {
      "text/plain": [
       "tensor(0.0098, device='cuda:0', grad_fn=<MseLossBackward>)"
      ]
     },
     "execution_count": 132,
     "metadata": {},
     "output_type": "execute_result"
    }
   ],
   "source": [
    "# eval train and test R2.\n",
    "out = model(data)\n",
    "loss = F.mse_loss(out[data.train_mask], data.y[data.train_mask])\n",
    "loss\n"
   ]
  },
  {
   "cell_type": "code",
   "execution_count": 133,
   "metadata": {},
   "outputs": [
    {
     "data": {
      "text/plain": [
       "tensor(0.0104, device='cuda:0')"
      ]
     },
     "execution_count": 133,
     "metadata": {},
     "output_type": "execute_result"
    }
   ],
   "source": [
    "loss_test = F.mse_loss(torch.Tensor.repeat(data.y.mean(), len(data.x))[data.test_mask], data.y[data.test_mask])\n",
    "loss_test\n"
   ]
  },
  {
   "cell_type": "code",
   "execution_count": 134,
   "metadata": {},
   "outputs": [
    {
     "name": "stderr",
     "output_type": "stream",
     "text": [
      "/home/jtl/anaconda3/lib/python3.7/site-packages/ipykernel_launcher.py:1: UserWarning: Using a target size (torch.Size([1279])) that is different to the input size (torch.Size([1279, 1])). This will likely lead to incorrect results due to broadcasting. Please ensure they have the same size.\n",
      "  \"\"\"Entry point for launching an IPython kernel.\n"
     ]
    },
    {
     "data": {
      "text/plain": [
       "tensor(0.0104, device='cuda:0', grad_fn=<MseLossBackward>)"
      ]
     },
     "execution_count": 134,
     "metadata": {},
     "output_type": "execute_result"
    }
   ],
   "source": [
    "loss = F.mse_loss(out[data.test_mask], data.y[data.test_mask])\n",
    "loss"
   ]
  },
  {
   "cell_type": "code",
   "execution_count": null,
   "metadata": {},
   "outputs": [],
   "source": []
  },
  {
   "cell_type": "code",
   "execution_count": null,
   "metadata": {},
   "outputs": [],
   "source": []
  },
  {
   "cell_type": "code",
   "execution_count": 135,
   "metadata": {},
   "outputs": [
    {
     "data": {
      "text/plain": [
       "(array([ 22., 152., 346., 499., 354., 189., 106.,  69.,  49.,  36.]),\n",
       " array([0.05952434, 0.05965265, 0.05978097, 0.05990928, 0.06003759,\n",
       "        0.06016591, 0.06029423, 0.06042254, 0.06055085, 0.06067917,\n",
       "        0.06080748], dtype=float32),\n",
       " <a list of 10 Patch objects>)"
      ]
     },
     "execution_count": 135,
     "metadata": {},
     "output_type": "execute_result"
    },
    {
     "data": {
      "image/png": "[encoded data removed]",
      "text/plain": [
       "<Figure size 720x720 with 1 Axes>"
      ]
     },
     "metadata": {
      "needs_background": "light"
     },
     "output_type": "display_data"
    }
   ],
   "source": [
    "fig, ax = plt.subplots(figsize = (10, 10))\n",
    "\n",
    "# plt.figure(size = (10, 10))\n",
    "ax.hist(out[data.train_mask].cpu().detach().numpy())"
   ]
  },
  {
   "cell_type": "code",
   "execution_count": 136,
   "metadata": {},
   "outputs": [
    {
     "data": {
      "text/plain": [
       "(array([6.000e+00, 2.250e+02, 1.077e+03, 4.300e+02, 5.500e+01, 2.000e+01,\n",
       "        5.000e+00, 1.000e+00, 2.000e+00, 1.000e+00]),\n",
       " array([-0.292 , -0.1628, -0.0336,  0.0956,  0.2248,  0.354 ,  0.4832,\n",
       "         0.6124,  0.7416,  0.8708,  1.    ], dtype=float32),\n",
       " <a list of 10 Patch objects>)"
      ]
     },
     "execution_count": 136,
     "metadata": {},
     "output_type": "execute_result"
    },
    {
     "data": {
      "image/png": "[encoded data removed]",
      "text/plain": [
       "<Figure size 432x288 with 1 Axes>"
      ]
     },
     "metadata": {
      "needs_background": "light"
     },
     "output_type": "display_data"
    }
   ],
   "source": [
    "plt.hist(data.y[data.train_mask].cpu().numpy())"
   ]
  },
  {
   "cell_type": "code",
   "execution_count": null,
   "metadata": {},
   "outputs": [],
   "source": []
  },
  {
   "cell_type": "code",
   "execution_count": null,
   "metadata": {},
   "outputs": [],
   "source": []
  },
  {
   "cell_type": "code",
   "execution_count": null,
   "metadata": {},
   "outputs": [],
   "source": []
  },
  {
   "cell_type": "code",
   "execution_count": 29,
   "metadata": {},
   "outputs": [
    {
     "data": {
      "text/plain": [
       "10581126"
      ]
     },
     "execution_count": 29,
     "metadata": {},
     "output_type": "execute_result"
    }
   ],
   "source": [
    "len(list(edge_row) + list(edge_col))"
   ]
  },
  {
   "cell_type": "code",
   "execution_count": 22,
   "metadata": {},
   "outputs": [
    {
     "data": {
      "text/plain": [
       "5290563"
      ]
     },
     "execution_count": 22,
     "metadata": {},
     "output_type": "execute_result"
    }
   ],
   "source": [
    "\n",
    "A_place.tocoo().data\n",
    "len(A_place.tocoo().col)"
   ]
  },
  {
   "cell_type": "code",
   "execution_count": null,
   "metadata": {},
   "outputs": [],
   "source": []
  },
  {
   "cell_type": "code",
   "execution_count": null,
   "metadata": {},
   "outputs": [],
   "source": []
  },
  {
   "cell_type": "code",
   "execution_count": null,
   "metadata": {},
   "outputs": [],
   "source": []
  },
  {
   "cell_type": "code",
   "execution_count": null,
   "metadata": {},
   "outputs": [],
   "source": []
  },
  {
   "cell_type": "code",
   "execution_count": 7,
   "metadata": {},
   "outputs": [
    {
     "data": {
      "text/plain": [
       "Data()"
      ]
     },
     "execution_count": 7,
     "metadata": {},
     "output_type": "execute_result"
    }
   ],
   "source": [
    "data.x = "
   ]
  },
  {
   "cell_type": "code",
   "execution_count": null,
   "metadata": {},
   "outputs": [],
   "source": []
  },
  {
   "cell_type": "code",
   "execution_count": null,
   "metadata": {},
   "outputs": [],
   "source": []
  },
  {
   "cell_type": "code",
   "execution_count": null,
   "metadata": {},
   "outputs": [],
   "source": []
  },
  {
   "cell_type": "code",
   "execution_count": null,
   "metadata": {},
   "outputs": [],
   "source": []
  },
  {
   "cell_type": "code",
   "execution_count": null,
   "metadata": {},
   "outputs": [],
   "source": []
  },
  {
   "cell_type": "code",
   "execution_count": null,
   "metadata": {},
   "outputs": [],
   "source": []
  },
  {
   "cell_type": "code",
   "execution_count": null,
   "metadata": {},
   "outputs": [],
   "source": []
  },
  {
   "cell_type": "code",
   "execution_count": null,
   "metadata": {},
   "outputs": [],
   "source": []
  },
  {
   "cell_type": "code",
   "execution_count": null,
   "metadata": {},
   "outputs": [],
   "source": []
  },
  {
   "cell_type": "code",
   "execution_count": null,
   "metadata": {},
   "outputs": [],
   "source": []
  },
  {
   "cell_type": "code",
   "execution_count": null,
   "metadata": {},
   "outputs": [],
   "source": []
  }
 ],
 "metadata": {
  "kernelspec": {
   "display_name": "Python 3",
   "language": "python",
   "name": "python3"
  },
  "language_info": {
   "codemirror_mode": {
    "name": "ipython",
    "version": 3
   },
   "file_extension": ".py",
   "mimetype": "text/x-python",
   "name": "python",
   "nbconvert_exporter": "python",
   "pygments_lexer": "ipython3",
   "version": "3.7.4"
  }
 },
 "nbformat": 4,
 "nbformat_minor": 4
}
