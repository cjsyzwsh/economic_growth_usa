{
 "cells": [
  {
   "cell_type": "markdown",
   "id": "e2f421cc",
   "metadata": {},
   "source": [
    "# Describe sociodemographics data\n",
    "\n",
    "- summarizing the sociodemographics in the three cities."
   ]
  },
  {
   "cell_type": "code",
   "execution_count": 1,
   "id": "70b5327d",
   "metadata": {
    "collapsed": true
   },
   "outputs": [
    {
     "name": "stderr",
     "output_type": "stream",
     "text": [
      "\n",
      "Bad key text.latex.unicode in file /home/jtl/anaconda3/lib/python3.7/site-packages/matplotlib/mpl-data/stylelib/_classic_test.mplstyle, line 112 ('text.latex.unicode : False # use \"ucs\" and \"inputenc\" LaTeX packages for handling')\n",
      "You probably need to get an updated matplotlibrc file from\n",
      "https://github.com/matplotlib/matplotlib/blob/v3.5.1/matplotlibrc.template\n",
      "or from the matplotlib source distribution\n",
      "\n",
      "Bad key text.latex.preview in file /home/jtl/anaconda3/lib/python3.7/site-packages/matplotlib/mpl-data/stylelib/_classic_test.mplstyle, line 125 ('text.latex.preview : False')\n",
      "You probably need to get an updated matplotlibrc file from\n",
      "https://github.com/matplotlib/matplotlib/blob/v3.5.1/matplotlibrc.template\n",
      "or from the matplotlib source distribution\n",
      "\n",
      "Bad key mathtext.fallback_to_cm in file /home/jtl/anaconda3/lib/python3.7/site-packages/matplotlib/mpl-data/stylelib/_classic_test.mplstyle, line 157 ('mathtext.fallback_to_cm : True  # When True, use symbols from the Computer Modern')\n",
      "You probably need to get an updated matplotlibrc file from\n",
      "https://github.com/matplotlib/matplotlib/blob/v3.5.1/matplotlibrc.template\n",
      "or from the matplotlib source distribution\n",
      "\n",
      "Bad key savefig.jpeg_quality in file /home/jtl/anaconda3/lib/python3.7/site-packages/matplotlib/mpl-data/stylelib/_classic_test.mplstyle, line 420 ('savefig.jpeg_quality: 95       # when a jpeg is saved, the default quality parameter.')\n",
      "You probably need to get an updated matplotlibrc file from\n",
      "https://github.com/matplotlib/matplotlib/blob/v3.5.1/matplotlibrc.template\n",
      "or from the matplotlib source distribution\n",
      "\n",
      "Bad key savefig.frameon in file /home/jtl/anaconda3/lib/python3.7/site-packages/matplotlib/mpl-data/stylelib/_classic_test.mplstyle, line 423 ('savefig.frameon : True')\n",
      "You probably need to get an updated matplotlibrc file from\n",
      "https://github.com/matplotlib/matplotlib/blob/v3.5.1/matplotlibrc.template\n",
      "or from the matplotlib source distribution\n",
      "\n",
      "Bad key pgf.debug in file /home/jtl/anaconda3/lib/python3.7/site-packages/matplotlib/mpl-data/stylelib/_classic_test.mplstyle, line 444 ('pgf.debug           : False')\n",
      "You probably need to get an updated matplotlibrc file from\n",
      "https://github.com/matplotlib/matplotlib/blob/v3.5.1/matplotlibrc.template\n",
      "or from the matplotlib source distribution\n",
      "\n",
      "Bad key verbose.level in file /home/jtl/anaconda3/lib/python3.7/site-packages/matplotlib/mpl-data/stylelib/_classic_test.mplstyle, line 475 ('verbose.level  : silent      # one of silent, helpful, debug, debug-annoying')\n",
      "You probably need to get an updated matplotlibrc file from\n",
      "https://github.com/matplotlib/matplotlib/blob/v3.5.1/matplotlibrc.template\n",
      "or from the matplotlib source distribution\n",
      "\n",
      "Bad key verbose.fileo in file /home/jtl/anaconda3/lib/python3.7/site-packages/matplotlib/mpl-data/stylelib/_classic_test.mplstyle, line 476 ('verbose.fileo  : sys.stdout  # a log filename, sys.stdout or sys.stderr')\n",
      "You probably need to get an updated matplotlibrc file from\n",
      "https://github.com/matplotlib/matplotlib/blob/v3.5.1/matplotlibrc.template\n",
      "or from the matplotlib source distribution\n",
      "\n",
      "Bad key keymap.all_axes in file /home/jtl/anaconda3/lib/python3.7/site-packages/matplotlib/mpl-data/stylelib/_classic_test.mplstyle, line 493 ('keymap.all_axes : a                 # enable all axes')\n",
      "You probably need to get an updated matplotlibrc file from\n",
      "https://github.com/matplotlib/matplotlib/blob/v3.5.1/matplotlibrc.template\n",
      "or from the matplotlib source distribution\n",
      "\n",
      "Bad key animation.avconv_path in file /home/jtl/anaconda3/lib/python3.7/site-packages/matplotlib/mpl-data/stylelib/_classic_test.mplstyle, line 504 ('animation.avconv_path: avconv     # Path to avconv binary. Without full path')\n",
      "You probably need to get an updated matplotlibrc file from\n",
      "https://github.com/matplotlib/matplotlib/blob/v3.5.1/matplotlibrc.template\n",
      "or from the matplotlib source distribution\n",
      "\n",
      "Bad key animation.avconv_args in file /home/jtl/anaconda3/lib/python3.7/site-packages/matplotlib/mpl-data/stylelib/_classic_test.mplstyle, line 506 ('animation.avconv_args:            # Additional arguments to pass to avconv')\n",
      "You probably need to get an updated matplotlibrc file from\n",
      "https://github.com/matplotlib/matplotlib/blob/v3.5.1/matplotlibrc.template\n",
      "or from the matplotlib source distribution\n"
     ]
    }
   ],
   "source": [
    "import numpy as np\n",
    "import pandas as pd\n",
    "import geopandas as gpd\n",
    "import networkx as nx\n",
    "import matplotlib.pyplot as plt\n",
    "import pickle\n",
    "import copy"
   ]
  },
  {
   "cell_type": "code",
   "execution_count": 2,
   "id": "ddca74e7",
   "metadata": {},
   "outputs": [],
   "source": [
    "import seaborn as sns"
   ]
  },
  {
   "cell_type": "code",
   "execution_count": 3,
   "id": "01425a0a",
   "metadata": {},
   "outputs": [],
   "source": [
    "# read files\n",
    "with open(\"../../data/02_intermediate/socioecon_boston_miami_chicago_ct_shp_dic.pickle\", 'rb') as f:\n",
    "    socioecon_shp_dic = pickle.load(f)\n",
    "    "
   ]
  },
  {
   "cell_type": "code",
   "execution_count": 4,
   "id": "aee842b4",
   "metadata": {},
   "outputs": [],
   "source": [
    "table_location = '../../../economic-strength-of-weak-mobility-ties-paper-/tables/' \n"
   ]
  },
  {
   "cell_type": "code",
   "execution_count": 5,
   "id": "c08a588f",
   "metadata": {},
   "outputs": [
    {
     "name": "stdout",
     "output_type": "stream",
     "text": [
      "(992, 193)\n",
      "(1922, 193)\n",
      "(926, 193)\n"
     ]
    }
   ],
   "source": [
    "#\n",
    "print(socioecon_shp_dic['boston'].shape)\n",
    "print(socioecon_shp_dic['chicago'].shape)\n",
    "print(socioecon_shp_dic['miami'].shape)"
   ]
  },
  {
   "cell_type": "code",
   "execution_count": null,
   "id": "183dc3b1",
   "metadata": {},
   "outputs": [],
   "source": []
  },
  {
   "cell_type": "markdown",
   "id": "52b0c59a",
   "metadata": {},
   "source": [
    "# Sociodemographics by cities"
   ]
  },
  {
   "cell_type": "code",
   "execution_count": 6,
   "id": "3af208f4",
   "metadata": {},
   "outputs": [],
   "source": [
    "# input variables\n",
    "var_inputs = ['pop_total_2016',\n",
    "              'pop_density_2016',\n",
    "              'age_median_2016', \n",
    "              'household_size_avg_2016',\n",
    "              'sex_male_ratio_2016', \n",
    "              'race_white_ratio_2016',\n",
    "              'edu_higher_edu_ratio_2016',            \n",
    "              'vehicle_per_capita_2016']\n",
    "\n",
    "var_outputs = ['inc_median_household_2018',\n",
    "               'property_value_median_2018',\n",
    "               'rent_median_2018']\n",
    "\n",
    "var_input_names = ['Total Population',\n",
    "                   'Population Density',\n",
    "                   'Median Age', \n",
    "                   'Average Household Size',\n",
    "                   'Ratio of Males', \n",
    "                   'Ratio of White',\n",
    "                   'Ratio of Higher Education',            \n",
    "                   'Vehicle per capita']\n",
    "\n",
    "var_output_names = ['Household Median Income',\n",
    "                    'Property Value',\n",
    "                    'Rent']\n"
   ]
  },
  {
   "cell_type": "code",
   "execution_count": 7,
   "id": "799b7b45",
   "metadata": {},
   "outputs": [],
   "source": [
    "# \n",
    "description_dic = {}\n",
    "for city in ['boston','chicago','miami']:\n",
    "    city_description = np.round_(socioecon_shp_dic[city][var_inputs + var_outputs].describe().T[['mean','std','min','50%','max']], decimals = 3)\n",
    "    city_description.index = var_input_names + var_output_names\n",
    "    description_dic[city] = city_description\n"
   ]
  },
  {
   "cell_type": "code",
   "execution_count": 8,
   "id": "189ba7c7",
   "metadata": {},
   "outputs": [
    {
     "data": {
      "text/plain": [
       "{'boston':                                  mean         std        min         50%  \\\n",
       " Total Population             4764.749    1668.252     53.000    4666.500   \n",
       " Population Density              0.004       0.005      0.000       0.002   \n",
       " Median Age                     39.056       6.797     19.900      40.100   \n",
       " Average Household Size          3.318      13.567      1.548       2.652   \n",
       " Ratio of Males                  0.485       0.040      0.309       0.485   \n",
       " Ratio of White                  0.762       0.219      0.022       0.834   \n",
       " Ratio of Higher Education       0.422       0.191      0.024       0.409   \n",
       " Vehicle per capita              0.522       0.076      0.227       0.522   \n",
       " Household Median Income     90577.629   37546.228  12759.000   88058.500   \n",
       " Property Value             463118.306  211752.065  74800.000  404200.000   \n",
       " Rent                         1450.153     446.052    281.000    1385.500   \n",
       " \n",
       "                                    max  \n",
       " Total Population              9514.000  \n",
       " Population Density               0.037  \n",
       " Median Age                      66.900  \n",
       " Average Household Size         383.000  \n",
       " Ratio of Males                   0.933  \n",
       " Ratio of White                   1.000  \n",
       " Ratio of Higher Education        0.900  \n",
       " Vehicle per capita               0.959  \n",
       " Household Median Income     250001.000  \n",
       " Property Value             1563900.000  \n",
       " Rent                          3257.000  ,\n",
       " 'chicago':                                  mean         std        min         50%  \\\n",
       " Total Population             4106.660    1638.896    298.000    4041.500   \n",
       " Population Density              0.004       0.005      0.000       0.002   \n",
       " Median Age                     37.377       6.603     18.000      37.100   \n",
       " Average Household Size          3.327      13.620      1.344       2.789   \n",
       " Ratio of Males                  0.487       0.040      0.328       0.489   \n",
       " Ratio of White                  0.617       0.303      0.000       0.719   \n",
       " Ratio of Higher Education       0.334       0.202      0.005       0.306   \n",
       " Vehicle per capita              0.471       0.103      0.006       0.478   \n",
       " Household Median Income     72731.630   36532.973   9787.000   65753.500   \n",
       " Property Value             265387.399  157963.926  19400.000  225250.000   \n",
       " Rent                         1231.127     404.220    280.000    1124.000   \n",
       " \n",
       "                                    max  \n",
       " Total Population              9364.000  \n",
       " Population Density               0.071  \n",
       " Median Age                      71.000  \n",
       " Average Household Size         515.000  \n",
       " Ratio of Males                   0.990  \n",
       " Ratio of White                   0.993  \n",
       " Ratio of Higher Education        0.843  \n",
       " Vehicle per capita               1.000  \n",
       " Household Median Income     250001.000  \n",
       " Property Value             1528600.000  \n",
       " Rent                          3501.000  ,\n",
       " 'miami':                                  mean         std        min         50%  \\\n",
       " Total Population             4334.222    1625.270    663.000    4313.000   \n",
       " Population Density              0.003       0.003      0.000       0.002   \n",
       " Median Age                     42.798      10.331     19.000      40.600   \n",
       " Average Household Size         11.182     136.169      1.340       2.900   \n",
       " Ratio of Males                  0.486       0.049      0.327       0.482   \n",
       " Ratio of White                  0.713       0.260      0.003       0.795   \n",
       " Ratio of Higher Education       0.286       0.147      0.017       0.268   \n",
       " Vehicle per capita              0.456       0.095      0.000       0.470   \n",
       " Household Median Income     61608.905   32004.524  11927.000   54115.000   \n",
       " Property Value             292930.825  231024.039  16300.000  237400.000   \n",
       " Rent                         1462.598     486.617    255.000    1365.000   \n",
       " \n",
       "                                    max  \n",
       " Total Population             13926.000  \n",
       " Population Density               0.025  \n",
       " Median Age                      79.700  \n",
       " Average Household Size        3103.000  \n",
       " Ratio of Males                   0.981  \n",
       " Ratio of White                   1.000  \n",
       " Ratio of Higher Education        0.750  \n",
       " Vehicle per capita               0.750  \n",
       " Household Median Income     250001.000  \n",
       " Property Value             2000001.000  \n",
       " Rent                          3501.000  }"
      ]
     },
     "execution_count": 8,
     "metadata": {},
     "output_type": "execute_result"
    }
   ],
   "source": [
    "description_dic"
   ]
  },
  {
   "cell_type": "markdown",
   "id": "c8ddd7fc",
   "metadata": {},
   "source": [
    "## Save"
   ]
  },
  {
   "cell_type": "code",
   "execution_count": 24,
   "id": "846b0439",
   "metadata": {},
   "outputs": [],
   "source": [
    "# save to latex\n",
    "with open(table_location+'description_sociodemographics.tex', 'w') as f:\n",
    "    f.write(pd.concat(description_dic, axis = 0).to_latex())\n",
    "    "
   ]
  },
  {
   "cell_type": "code",
   "execution_count": null,
   "id": "f0d0a313",
   "metadata": {},
   "outputs": [],
   "source": []
  },
  {
   "cell_type": "code",
   "execution_count": null,
   "id": "d5320775",
   "metadata": {},
   "outputs": [],
   "source": []
  },
  {
   "cell_type": "code",
   "execution_count": null,
   "id": "486caef3",
   "metadata": {},
   "outputs": [],
   "source": []
  }
 ],
 "metadata": {
  "kernelspec": {
   "display_name": "Python 3",
   "language": "python",
   "name": "python3"
  },
  "language_info": {
   "codemirror_mode": {
    "name": "ipython",
    "version": 3
   },
   "file_extension": ".py",
   "mimetype": "text/x-python",
   "name": "python",
   "nbconvert_exporter": "python",
   "pygments_lexer": "ipython3",
   "version": "3.7.11"
  }
 },
 "nbformat": 4,
 "nbformat_minor": 5
}
