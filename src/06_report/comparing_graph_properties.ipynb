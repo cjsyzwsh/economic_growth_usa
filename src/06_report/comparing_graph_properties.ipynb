{
 "cells": [
  {
   "cell_type": "markdown",
   "id": "58cdca5c",
   "metadata": {},
   "source": [
    "# Comparing the graph properties\n",
    "\n",
    "- Inputs: activity-based mobility network properties.\n",
    "    - The properties include at least 11 metrics, # of components, nodes, edges, density, diameter, average degree, and average clustering coeff, size_of_giant_component, diameter_giant_component, ave_distance_giant_component, edge_betweenness_centrality\n",
    "    \n",
    "- Outpus: printing results for analysis."
   ]
  },
  {
   "cell_type": "code",
   "execution_count": 1,
   "id": "a2cef285",
   "metadata": {
    "collapsed": true
   },
   "outputs": [
    {
     "name": "stderr",
     "output_type": "stream",
     "text": [
      "\n",
      "Bad key text.latex.unicode in file /home/jtl/anaconda3/lib/python3.7/site-packages/matplotlib/mpl-data/stylelib/_classic_test.mplstyle, line 112 ('text.latex.unicode : False # use \"ucs\" and \"inputenc\" LaTeX packages for handling')\n",
      "You probably need to get an updated matplotlibrc file from\n",
      "https://github.com/matplotlib/matplotlib/blob/v3.5.1/matplotlibrc.template\n",
      "or from the matplotlib source distribution\n",
      "\n",
      "Bad key text.latex.preview in file /home/jtl/anaconda3/lib/python3.7/site-packages/matplotlib/mpl-data/stylelib/_classic_test.mplstyle, line 125 ('text.latex.preview : False')\n",
      "You probably need to get an updated matplotlibrc file from\n",
      "https://github.com/matplotlib/matplotlib/blob/v3.5.1/matplotlibrc.template\n",
      "or from the matplotlib source distribution\n",
      "\n",
      "Bad key mathtext.fallback_to_cm in file /home/jtl/anaconda3/lib/python3.7/site-packages/matplotlib/mpl-data/stylelib/_classic_test.mplstyle, line 157 ('mathtext.fallback_to_cm : True  # When True, use symbols from the Computer Modern')\n",
      "You probably need to get an updated matplotlibrc file from\n",
      "https://github.com/matplotlib/matplotlib/blob/v3.5.1/matplotlibrc.template\n",
      "or from the matplotlib source distribution\n",
      "\n",
      "Bad key savefig.jpeg_quality in file /home/jtl/anaconda3/lib/python3.7/site-packages/matplotlib/mpl-data/stylelib/_classic_test.mplstyle, line 420 ('savefig.jpeg_quality: 95       # when a jpeg is saved, the default quality parameter.')\n",
      "You probably need to get an updated matplotlibrc file from\n",
      "https://github.com/matplotlib/matplotlib/blob/v3.5.1/matplotlibrc.template\n",
      "or from the matplotlib source distribution\n",
      "\n",
      "Bad key savefig.frameon in file /home/jtl/anaconda3/lib/python3.7/site-packages/matplotlib/mpl-data/stylelib/_classic_test.mplstyle, line 423 ('savefig.frameon : True')\n",
      "You probably need to get an updated matplotlibrc file from\n",
      "https://github.com/matplotlib/matplotlib/blob/v3.5.1/matplotlibrc.template\n",
      "or from the matplotlib source distribution\n",
      "\n",
      "Bad key pgf.debug in file /home/jtl/anaconda3/lib/python3.7/site-packages/matplotlib/mpl-data/stylelib/_classic_test.mplstyle, line 444 ('pgf.debug           : False')\n",
      "You probably need to get an updated matplotlibrc file from\n",
      "https://github.com/matplotlib/matplotlib/blob/v3.5.1/matplotlibrc.template\n",
      "or from the matplotlib source distribution\n",
      "\n",
      "Bad key verbose.level in file /home/jtl/anaconda3/lib/python3.7/site-packages/matplotlib/mpl-data/stylelib/_classic_test.mplstyle, line 475 ('verbose.level  : silent      # one of silent, helpful, debug, debug-annoying')\n",
      "You probably need to get an updated matplotlibrc file from\n",
      "https://github.com/matplotlib/matplotlib/blob/v3.5.1/matplotlibrc.template\n",
      "or from the matplotlib source distribution\n",
      "\n",
      "Bad key verbose.fileo in file /home/jtl/anaconda3/lib/python3.7/site-packages/matplotlib/mpl-data/stylelib/_classic_test.mplstyle, line 476 ('verbose.fileo  : sys.stdout  # a log filename, sys.stdout or sys.stderr')\n",
      "You probably need to get an updated matplotlibrc file from\n",
      "https://github.com/matplotlib/matplotlib/blob/v3.5.1/matplotlibrc.template\n",
      "or from the matplotlib source distribution\n",
      "\n",
      "Bad key keymap.all_axes in file /home/jtl/anaconda3/lib/python3.7/site-packages/matplotlib/mpl-data/stylelib/_classic_test.mplstyle, line 493 ('keymap.all_axes : a                 # enable all axes')\n",
      "You probably need to get an updated matplotlibrc file from\n",
      "https://github.com/matplotlib/matplotlib/blob/v3.5.1/matplotlibrc.template\n",
      "or from the matplotlib source distribution\n",
      "\n",
      "Bad key animation.avconv_path in file /home/jtl/anaconda3/lib/python3.7/site-packages/matplotlib/mpl-data/stylelib/_classic_test.mplstyle, line 504 ('animation.avconv_path: avconv     # Path to avconv binary. Without full path')\n",
      "You probably need to get an updated matplotlibrc file from\n",
      "https://github.com/matplotlib/matplotlib/blob/v3.5.1/matplotlibrc.template\n",
      "or from the matplotlib source distribution\n",
      "\n",
      "Bad key animation.avconv_args in file /home/jtl/anaconda3/lib/python3.7/site-packages/matplotlib/mpl-data/stylelib/_classic_test.mplstyle, line 506 ('animation.avconv_args:            # Additional arguments to pass to avconv')\n",
      "You probably need to get an updated matplotlibrc file from\n",
      "https://github.com/matplotlib/matplotlib/blob/v3.5.1/matplotlibrc.template\n",
      "or from the matplotlib source distribution\n"
     ]
    }
   ],
   "source": [
    "import numpy as np\n",
    "import pandas as pd\n",
    "import geopandas as gpd\n",
    "import networkx as nx\n",
    "import matplotlib.pyplot as plt\n",
    "import pickle\n",
    "import copy\n",
    "from scipy.sparse import csr_matrix\n",
    "import time"
   ]
  },
  {
   "cell_type": "code",
   "execution_count": 2,
   "id": "09f69a04",
   "metadata": {},
   "outputs": [],
   "source": [
    "import sys\n",
    "sys.path.append(\"../\")\n",
    "import utils"
   ]
  },
  {
   "cell_type": "code",
   "execution_count": 3,
   "id": "91ac2ae2",
   "metadata": {},
   "outputs": [
    {
     "data": {
      "text/plain": [
       "<module 'utils' from '../utils.py'>"
      ]
     },
     "execution_count": 3,
     "metadata": {},
     "output_type": "execute_result"
    }
   ],
   "source": [
    "import importlib\n",
    "importlib.reload(utils)"
   ]
  },
  {
   "cell_type": "code",
   "execution_count": 4,
   "id": "ad48f446",
   "metadata": {},
   "outputs": [],
   "source": [
    "# read evaluation files\n",
    "with open(\"../../data/05_model_outputs/lasso_coefficients.pickle\", 'rb') as f:\n",
    "    lasso_coef = pickle.load(f)"
   ]
  },
  {
   "cell_type": "code",
   "execution_count": 5,
   "id": "03bd7c26",
   "metadata": {},
   "outputs": [],
   "source": [
    "# read the property parameters\n",
    "with open(\"../../data/05_model_outputs/network_property_degree_clustering.pickle\", 'rb') as f:\n",
    "    network_property_degree_clustering = pickle.load(f)\n",
    "\n",
    "with open(\"../../data/05_model_outputs/network_property_diameters.pickle\", 'rb') as f:\n",
    "    network_property_diameters = pickle.load(f)\n",
    "\n",
    "with open(\"../../data/05_model_outputs/network_property_edge_bet_centrality.pickle\", 'rb') as f:\n",
    "    network_property_edge_bet_centrality = pickle.load(f)\n",
    "\n",
    "with open(\"../../data/05_model_outputs/network_property_edge_bet_centrality_simpler.pickle\", 'rb') as f:\n",
    "    network_property_edge_bet_centrality_simpler = pickle.load(f)\n",
    "    \n",
    "with open(\"../../data/05_model_outputs/network_property_other_parameters.pickle\", 'rb') as f:\n",
    "    network_property_other_parameters = pickle.load(f)\n"
   ]
  },
  {
   "cell_type": "code",
   "execution_count": 6,
   "id": "5247007f",
   "metadata": {},
   "outputs": [],
   "source": [
    "# read the shapefiles.\n",
    "with open(\"../../data/02_intermediate/boston_miami_chicago_ct_shp_dic.pickle\", 'rb') as f:\n",
    "    shp_dic = pickle.load(f)\n"
   ]
  },
  {
   "cell_type": "code",
   "execution_count": 7,
   "id": "22c518ab",
   "metadata": {},
   "outputs": [],
   "source": [
    "# read files\n",
    "with open(\"../../data/02_intermediate/boston_stays.pickle\", 'rb') as f:\n",
    "    df_boston = pickle.load(f)\n",
    "\n",
    "with open(\"../../data/02_intermediate/miami_stays.pickle\", 'rb') as f:\n",
    "    df_miami = pickle.load(f)\n",
    "\n",
    "with open(\"../../data/02_intermediate/chicago_stays.pickle\", 'rb') as f:\n",
    "    df_chicago = pickle.load(f)\n",
    "    "
   ]
  },
  {
   "cell_type": "code",
   "execution_count": 8,
   "id": "63f07fb7",
   "metadata": {},
   "outputs": [],
   "source": [
    "# create the activity counts\n",
    "# activity counts for the three cities\n",
    "# boston\n",
    "activity_counts_boston = np.unique(df_boston.cat, return_counts = True)\n",
    "\n",
    "# miami\n",
    "activity_counts_miami = np.unique(df_miami.cat, return_counts = True)\n",
    "\n",
    "# chicago\n",
    "activity_counts_chicago = np.unique(df_chicago.cat, return_counts = True)\n",
    "\n",
    "# convert the counts to df\n",
    "activity_counts_dic = {}\n",
    "activity_counts_dic['boston']=activity_counts_boston\n",
    "activity_counts_dic['miami']=activity_counts_miami\n",
    "activity_counts_dic['chicago']=activity_counts_chicago\n",
    "\n",
    "# turn them to dataframes\n",
    "activity_counts_df_dic = {}\n",
    "for key_ in activity_counts_dic.keys():\n",
    "    activity_counts = activity_counts_dic[key_]\n",
    "    activity_count_df = pd.DataFrame(activity_counts[1],\n",
    "                                 index = activity_counts[0],\n",
    "                                 columns = ['count'])\n",
    "    sorted_activity_count_df = activity_count_df.sort_values('count', ascending=False)\n",
    "    activity_counts_df_dic[key_] = sorted_activity_count_df\n"
   ]
  },
  {
   "cell_type": "code",
   "execution_count": 9,
   "id": "14ebba87",
   "metadata": {
    "scrolled": false
   },
   "outputs": [
    {
     "name": "stdout",
     "output_type": "stream",
     "text": [
      "(array([  1,   2,   3,   4,   5,   6,   7,   8,   9,  10,  11,  12,  13,\n",
      "        14,  15,  16,  17,  19,  20,  21,  22,  23,  24,  25,  26,  27,\n",
      "        28,  29,  30,  32,  33,  34,  35,  37,  38,  39,  40,  42,  43,\n",
      "        44,  45,  46,  47,  49,  50,  51,  53,  54,  55,  59,  72,  84,\n",
      "       128, 227, 270]), array([159, 197, 134, 112,  70,  51,  31,  16,  10,   8,   8,   5,   5,\n",
      "         5,   7,   3,   3,   5,   6,   1,   4,   6,   2,   5,   5,   4,\n",
      "         1,   3,   2,   7,   1,   2,   2,   2,   1,   1,   2,   1,   1,\n",
      "         2,   1,   1,   1,   1,   1,   1,   1,   1,   1,   1,   1,   1,\n",
      "         1,   1,   1]))\n",
      "6.8486187845303865\n",
      "0.19312751731996589\n"
     ]
    }
   ],
   "source": [
    "# need to reorganize the structure of the graph parameters.\n",
    "# print(network_property_degree_clustering['boston']['ATM']['degrees'])\n",
    "print(network_property_degree_clustering['boston']['ATM']['degree_distributions'])\n",
    "print(network_property_degree_clustering['boston']['ATM']['average_degree'])\n",
    "# print(network_property_degree_clustering['boston']['ATM']['clustering'])\n",
    "print(network_property_degree_clustering['boston']['ATM']['average_clustering'])\n"
   ]
  },
  {
   "cell_type": "code",
   "execution_count": 10,
   "id": "4e6302cf",
   "metadata": {},
   "outputs": [
    {
     "data": {
      "text/plain": [
       "1.9560357735750789"
      ]
     },
     "execution_count": 10,
     "metadata": {},
     "output_type": "execute_result"
    }
   ],
   "source": [
    "# \n",
    "network_property_diameters['boston']['Office'] # diameter for the graph (spatial + mobility) \n"
   ]
  },
  {
   "cell_type": "code",
   "execution_count": 11,
   "id": "bcc1b566",
   "metadata": {
    "scrolled": true
   },
   "outputs": [
    {
     "data": {
      "text/plain": [
       "{('spatial', 'Italian', 'Brazilian'): (4.90988798752745e-05,\n",
       "  0.00011468902324290533,\n",
       "  9.882343085783116e-05),\n",
       " ('spatial', 'Residence Hall', 'Latin American'): (0.00022458565992399394,\n",
       "  0.0005740032990235093,\n",
       "  0.000381001077884699),\n",
       " ('spatial', 'Tech Startup', 'Caribbean'): (9.614840655075186e-05,\n",
       "  0.0002495983075323691,\n",
       "  0.00014291645271266538),\n",
       " ('spatial', 'Hospital', 'Fried Chicken'): (5.349496610079905e-05,\n",
       "  0.00019465617313739965,\n",
       "  6.395696346199216e-05),\n",
       " ('spatial', 'Grocery Store', 'Caribbean'): (6.088677214268247e-05,\n",
       "  0.00011878760016217698,\n",
       "  8.633763464931991e-05),\n",
       " ('spatial', 'Road', 'Laundromat'): (6.780755821001826e-05,\n",
       "  0.0001394879430019811,\n",
       "  8.948370708462066e-05),\n",
       " ('spatial', 'Salon / Barbershop', 'Caribbean'): (4.714324213718289e-05,\n",
       "  7.613246424278207e-05,\n",
       "  6.58241459703407e-05),\n",
       " ('spatial', 'Residence Hall', 'Fried Chicken'): (0.00022075568582207109,\n",
       "  0.0005897393556411182,\n",
       "  0.0004376327458275497),\n",
       " ('spatial', 'Laundry', 'Laundromat'): (0.00013271575387975508,\n",
       "  0.00021888662801765424,\n",
       "  0.00020066623614708255),\n",
       " ('spatial', 'Residential', 'Caribbean'): (3.0241734236051076e-05,\n",
       "  6.727897910110479e-05,\n",
       "  4.298554969957249e-05)}"
      ]
     },
     "execution_count": 11,
     "metadata": {},
     "output_type": "execute_result"
    }
   ],
   "source": [
    "# edge betweennecess centrality 1\n",
    "network_property_edge_bet_centrality['boston']['inc_median_household_2018'][('strong', 'weak_sig_neg')]\n"
   ]
  },
  {
   "cell_type": "code",
   "execution_count": 12,
   "id": "4f1f7959",
   "metadata": {
    "scrolled": true
   },
   "outputs": [
    {
     "data": {
      "text/plain": [
       "{('spatial', 'ATM'): (0.0002754214292717695, 0.0007504549615181455)}"
      ]
     },
     "execution_count": 12,
     "metadata": {},
     "output_type": "execute_result"
    }
   ],
   "source": [
    "# \n",
    "network_property_edge_bet_centrality_simpler['boston']['ATM']\n"
   ]
  },
  {
   "cell_type": "code",
   "execution_count": 13,
   "id": "1fdcc8f0",
   "metadata": {
    "scrolled": false
   },
   "outputs": [
    {
     "data": {
      "text/plain": [
       "{'n_components': 1,\n",
       " 'n_nodes': 905,\n",
       " 'n_edges': 3099,\n",
       " 'density': 0.007575905735099985,\n",
       " 'sizes_of_components': [905],\n",
       " 'size_of_giant_component': 905,\n",
       " 'diameter_giant_component': 6,\n",
       " 'ave_distance_giant_component': 3.068241822715494}"
      ]
     },
     "execution_count": 13,
     "metadata": {},
     "output_type": "execute_result"
    }
   ],
   "source": [
    "# \n",
    "network_property_other_parameters['boston']['ATM']\n"
   ]
  },
  {
   "cell_type": "markdown",
   "id": "88683abb",
   "metadata": {},
   "source": [
    "### Creating a dictionary for the three cities"
   ]
  },
  {
   "cell_type": "code",
   "execution_count": null,
   "id": "571995fd",
   "metadata": {},
   "outputs": [],
   "source": [
    "for key_ in network_property_edge_bet_centrality_simpler['boston'].keys():\n",
    "    spatial_centrality, mobility_centrality = network_property_edge_bet_centrality_simpler['boston'][key_][('spatial', key_)]\n",
    "    mobility_centrality /= spatial_centrality\n",
    "    print(mobility_centrality)\n",
    "    normalized_spatial_centrality_list.append(mobility_centrality)\n"
   ]
  },
  {
   "cell_type": "code",
   "execution_count": 59,
   "id": "7c8e5fb3",
   "metadata": {},
   "outputs": [],
   "source": [
    "# properties: \n",
    "# components, nodes, edges, density, diameter, average degree, and average clustering coeff. (7 parameters)\n",
    "# size_of_giant_component, diameter_giant_component, ave_distance_giant_component. (3 parameters)\n",
    "# edge_betweenness_centrality\n",
    "\n",
    "network_property_dic = {}\n",
    "\n",
    "column_list = ['n_components', 'n_nodes', 'n_edges', 'density', 'diameter',\n",
    "               'ave_degree', 'ave_clustering_coeff', 'size_giant_component',\n",
    "               'diameter_giant_component', 'ave_distance_giant_component', 'edge_betweenness_centrality']\n",
    "num_cols = len(column_list)\n",
    "\n",
    "for city in ['boston','chicago','miami']:\n",
    "    num_rows = len(network_property_other_parameters[city].keys())\n",
    "    network_property_dic[city] = pd.DataFrame(np.zeros((num_rows, num_cols)), \n",
    "                                                  index = list(network_property_other_parameters[city].keys()),\n",
    "                                                  columns = column_list)\n",
    "\n",
    "    for activity in network_property_other_parameters[city].keys():\n",
    "        ###\n",
    "        network_property_dic[city].loc[activity, 'n_components']=network_property_other_parameters[city][activity]['n_components']\n",
    "        network_property_dic[city].loc[activity, 'n_nodes']=network_property_other_parameters[city][activity]['n_nodes']\n",
    "        network_property_dic[city].loc[activity, 'n_edges']=network_property_other_parameters[city][activity]['n_edges']\n",
    "        network_property_dic[city].loc[activity, 'density']=network_property_other_parameters[city][activity]['density']\n",
    "        network_property_dic[city].loc[activity, 'size_giant_component']=network_property_other_parameters[city][activity]['size_of_giant_component']\n",
    "        network_property_dic[city].loc[activity, 'diameter_giant_component']=network_property_other_parameters[city][activity]['diameter_giant_component']\n",
    "        network_property_dic[city].loc[activity, 'ave_distance_giant_component']=network_property_other_parameters[city][activity]['ave_distance_giant_component']\n",
    "        ###\n",
    "        network_property_dic[city].loc[activity, 'diameter']=network_property_diameters[city][activity]\n",
    "        ###\n",
    "        network_property_dic[city].loc[activity, 'ave_degree']=network_property_degree_clustering[city][activity]['average_degree']\n",
    "        network_property_dic[city].loc[activity, 'ave_clustering_coeff']=network_property_degree_clustering[city][activity]['average_clustering']\n",
    "        ### \n",
    "        spatial_centrality, mobility_centrality = network_property_edge_bet_centrality_simpler[city][activity][('spatial', activity)]\n",
    "        mobility_centrality = mobility_centrality/spatial_centrality\n",
    "        network_property_dic[city].loc[activity, 'edge_betweenness_centrality']=mobility_centrality\n",
    "\n",
    "        "
   ]
  },
  {
   "cell_type": "code",
   "execution_count": 60,
   "id": "8026a360",
   "metadata": {
    "scrolled": true
   },
   "outputs": [
    {
     "data": {
      "text/html": [
       "<div>\n",
       "<style scoped>\n",
       "    .dataframe tbody tr th:only-of-type {\n",
       "        vertical-align: middle;\n",
       "    }\n",
       "\n",
       "    .dataframe tbody tr th {\n",
       "        vertical-align: top;\n",
       "    }\n",
       "\n",
       "    .dataframe thead th {\n",
       "        text-align: right;\n",
       "    }\n",
       "</style>\n",
       "<table border=\"1\" class=\"dataframe\">\n",
       "  <thead>\n",
       "    <tr style=\"text-align: right;\">\n",
       "      <th></th>\n",
       "      <th>n_components</th>\n",
       "      <th>n_nodes</th>\n",
       "      <th>n_edges</th>\n",
       "      <th>density</th>\n",
       "      <th>diameter</th>\n",
       "      <th>ave_degree</th>\n",
       "      <th>ave_clustering_coeff</th>\n",
       "      <th>size_giant_component</th>\n",
       "      <th>diameter_giant_component</th>\n",
       "      <th>ave_distance_giant_component</th>\n",
       "      <th>edge_betweenness_centrality</th>\n",
       "    </tr>\n",
       "  </thead>\n",
       "  <tbody>\n",
       "    <tr>\n",
       "      <th>ATM</th>\n",
       "      <td>52.0</td>\n",
       "      <td>1729.0</td>\n",
       "      <td>5657.0</td>\n",
       "      <td>0.003787</td>\n",
       "      <td>3.379906</td>\n",
       "      <td>6.543667</td>\n",
       "      <td>0.193183</td>\n",
       "      <td>1678.0</td>\n",
       "      <td>6.0</td>\n",
       "      <td>3.434973</td>\n",
       "      <td>3.205386</td>\n",
       "    </tr>\n",
       "    <tr>\n",
       "      <th>Academic Building</th>\n",
       "      <td>7.0</td>\n",
       "      <td>1894.0</td>\n",
       "      <td>13873.0</td>\n",
       "      <td>0.007739</td>\n",
       "      <td>2.550373</td>\n",
       "      <td>14.649419</td>\n",
       "      <td>0.299976</td>\n",
       "      <td>1888.0</td>\n",
       "      <td>6.0</td>\n",
       "      <td>2.566283</td>\n",
       "      <td>2.931379</td>\n",
       "    </tr>\n",
       "    <tr>\n",
       "      <th>Accessories</th>\n",
       "      <td>31.0</td>\n",
       "      <td>1830.0</td>\n",
       "      <td>7215.0</td>\n",
       "      <td>0.004311</td>\n",
       "      <td>2.685688</td>\n",
       "      <td>7.885246</td>\n",
       "      <td>0.388231</td>\n",
       "      <td>1800.0</td>\n",
       "      <td>6.0</td>\n",
       "      <td>2.686374</td>\n",
       "      <td>3.864272</td>\n",
       "    </tr>\n",
       "    <tr>\n",
       "      <th>Acupuncturist</th>\n",
       "      <td>26.0</td>\n",
       "      <td>1122.0</td>\n",
       "      <td>1792.0</td>\n",
       "      <td>0.002850</td>\n",
       "      <td>3.925502</td>\n",
       "      <td>3.194296</td>\n",
       "      <td>0.100971</td>\n",
       "      <td>1097.0</td>\n",
       "      <td>8.0</td>\n",
       "      <td>3.733869</td>\n",
       "      <td>5.193274</td>\n",
       "    </tr>\n",
       "    <tr>\n",
       "      <th>Administrative Building</th>\n",
       "      <td>11.0</td>\n",
       "      <td>1857.0</td>\n",
       "      <td>9652.0</td>\n",
       "      <td>0.005601</td>\n",
       "      <td>2.723700</td>\n",
       "      <td>10.395261</td>\n",
       "      <td>0.250102</td>\n",
       "      <td>1847.0</td>\n",
       "      <td>5.0</td>\n",
       "      <td>2.751851</td>\n",
       "      <td>3.032321</td>\n",
       "    </tr>\n",
       "    <tr>\n",
       "      <th>...</th>\n",
       "      <td>...</td>\n",
       "      <td>...</td>\n",
       "      <td>...</td>\n",
       "      <td>...</td>\n",
       "      <td>...</td>\n",
       "      <td>...</td>\n",
       "      <td>...</td>\n",
       "      <td>...</td>\n",
       "      <td>...</td>\n",
       "      <td>...</td>\n",
       "      <td>...</td>\n",
       "    </tr>\n",
       "    <tr>\n",
       "      <th>Women's Store</th>\n",
       "      <td>2.0</td>\n",
       "      <td>1909.0</td>\n",
       "      <td>18076.0</td>\n",
       "      <td>0.009925</td>\n",
       "      <td>2.370394</td>\n",
       "      <td>18.937664</td>\n",
       "      <td>0.431373</td>\n",
       "      <td>1908.0</td>\n",
       "      <td>5.0</td>\n",
       "      <td>2.373771</td>\n",
       "      <td>3.646145</td>\n",
       "    </tr>\n",
       "    <tr>\n",
       "      <th>Yoga Studio</th>\n",
       "      <td>13.0</td>\n",
       "      <td>1810.0</td>\n",
       "      <td>9187.0</td>\n",
       "      <td>0.005612</td>\n",
       "      <td>3.058783</td>\n",
       "      <td>10.151381</td>\n",
       "      <td>0.165384</td>\n",
       "      <td>1798.0</td>\n",
       "      <td>6.0</td>\n",
       "      <td>3.119472</td>\n",
       "      <td>2.573897</td>\n",
       "    </tr>\n",
       "    <tr>\n",
       "      <th>Yogurt</th>\n",
       "      <td>26.0</td>\n",
       "      <td>1633.0</td>\n",
       "      <td>5785.0</td>\n",
       "      <td>0.004341</td>\n",
       "      <td>3.246128</td>\n",
       "      <td>7.085119</td>\n",
       "      <td>0.192523</td>\n",
       "      <td>1608.0</td>\n",
       "      <td>6.0</td>\n",
       "      <td>3.183417</td>\n",
       "      <td>3.012569</td>\n",
       "    </tr>\n",
       "    <tr>\n",
       "      <th>Zoo</th>\n",
       "      <td>55.0</td>\n",
       "      <td>822.0</td>\n",
       "      <td>958.0</td>\n",
       "      <td>0.002839</td>\n",
       "      <td>3.786278</td>\n",
       "      <td>2.330900</td>\n",
       "      <td>0.014570</td>\n",
       "      <td>768.0</td>\n",
       "      <td>6.0</td>\n",
       "      <td>3.059400</td>\n",
       "      <td>7.163502</td>\n",
       "    </tr>\n",
       "    <tr>\n",
       "      <th>Zoo Exhibit</th>\n",
       "      <td>43.0</td>\n",
       "      <td>1368.0</td>\n",
       "      <td>2418.0</td>\n",
       "      <td>0.002586</td>\n",
       "      <td>2.933383</td>\n",
       "      <td>3.535088</td>\n",
       "      <td>0.358619</td>\n",
       "      <td>1326.0</td>\n",
       "      <td>6.0</td>\n",
       "      <td>2.477931</td>\n",
       "      <td>5.628002</td>\n",
       "    </tr>\n",
       "  </tbody>\n",
       "</table>\n",
       "<p>652 rows × 11 columns</p>\n",
       "</div>"
      ],
      "text/plain": [
       "                         n_components  n_nodes  n_edges   density  diameter  \\\n",
       "ATM                              52.0   1729.0   5657.0  0.003787  3.379906   \n",
       "Academic Building                 7.0   1894.0  13873.0  0.007739  2.550373   \n",
       "Accessories                      31.0   1830.0   7215.0  0.004311  2.685688   \n",
       "Acupuncturist                    26.0   1122.0   1792.0  0.002850  3.925502   \n",
       "Administrative Building          11.0   1857.0   9652.0  0.005601  2.723700   \n",
       "...                               ...      ...      ...       ...       ...   \n",
       "Women's Store                     2.0   1909.0  18076.0  0.009925  2.370394   \n",
       "Yoga Studio                      13.0   1810.0   9187.0  0.005612  3.058783   \n",
       "Yogurt                           26.0   1633.0   5785.0  0.004341  3.246128   \n",
       "Zoo                              55.0    822.0    958.0  0.002839  3.786278   \n",
       "Zoo Exhibit                      43.0   1368.0   2418.0  0.002586  2.933383   \n",
       "\n",
       "                         ave_degree  ave_clustering_coeff  \\\n",
       "ATM                        6.543667              0.193183   \n",
       "Academic Building         14.649419              0.299976   \n",
       "Accessories                7.885246              0.388231   \n",
       "Acupuncturist              3.194296              0.100971   \n",
       "Administrative Building   10.395261              0.250102   \n",
       "...                             ...                   ...   \n",
       "Women's Store             18.937664              0.431373   \n",
       "Yoga Studio               10.151381              0.165384   \n",
       "Yogurt                     7.085119              0.192523   \n",
       "Zoo                        2.330900              0.014570   \n",
       "Zoo Exhibit                3.535088              0.358619   \n",
       "\n",
       "                         size_giant_component  diameter_giant_component  \\\n",
       "ATM                                    1678.0                       6.0   \n",
       "Academic Building                      1888.0                       6.0   \n",
       "Accessories                            1800.0                       6.0   \n",
       "Acupuncturist                          1097.0                       8.0   \n",
       "Administrative Building                1847.0                       5.0   \n",
       "...                                       ...                       ...   \n",
       "Women's Store                          1908.0                       5.0   \n",
       "Yoga Studio                            1798.0                       6.0   \n",
       "Yogurt                                 1608.0                       6.0   \n",
       "Zoo                                     768.0                       6.0   \n",
       "Zoo Exhibit                            1326.0                       6.0   \n",
       "\n",
       "                         ave_distance_giant_component  \\\n",
       "ATM                                          3.434973   \n",
       "Academic Building                            2.566283   \n",
       "Accessories                                  2.686374   \n",
       "Acupuncturist                                3.733869   \n",
       "Administrative Building                      2.751851   \n",
       "...                                               ...   \n",
       "Women's Store                                2.373771   \n",
       "Yoga Studio                                  3.119472   \n",
       "Yogurt                                       3.183417   \n",
       "Zoo                                          3.059400   \n",
       "Zoo Exhibit                                  2.477931   \n",
       "\n",
       "                         edge_betweenness_centrality  \n",
       "ATM                                         3.205386  \n",
       "Academic Building                           2.931379  \n",
       "Accessories                                 3.864272  \n",
       "Acupuncturist                               5.193274  \n",
       "Administrative Building                     3.032321  \n",
       "...                                              ...  \n",
       "Women's Store                               3.646145  \n",
       "Yoga Studio                                 2.573897  \n",
       "Yogurt                                      3.012569  \n",
       "Zoo                                         7.163502  \n",
       "Zoo Exhibit                                 5.628002  \n",
       "\n",
       "[652 rows x 11 columns]"
      ]
     },
     "execution_count": 60,
     "metadata": {},
     "output_type": "execute_result"
    }
   ],
   "source": [
    "network_property_dic['chicago']"
   ]
  },
  {
   "cell_type": "code",
   "execution_count": 61,
   "id": "e29c1fad",
   "metadata": {},
   "outputs": [],
   "source": [
    "# create the four activity lists\n",
    "activity_cat_dic = {}\n",
    "top_K_as_strong_mobility_ties = 50\n",
    "model_type = 'lasso (no socio-demographics)'\n",
    "\n",
    "for city in ['boston','chicago','miami']:\n",
    "    activity_cat_dic[city]={}\n",
    "    for output_var in ['inc_median_household_2018','property_value_median_2018', 'rent_median_2018']:\n",
    "        activity_cat_dic[city][output_var]={}\n",
    "\n",
    "        # parameters\n",
    "        strong_activity_list = list(activity_counts_df_dic[city].index[:top_K_as_strong_mobility_ties]) # top 50.\n",
    "        weak_sig_activity_list = list(lasso_coef[city][output_var][model_type].index)\n",
    "        weak_sig_neg_activities = list(lasso_coef[city][output_var][model_type]['value'].loc[lasso_coef[city][output_var][model_type]['value'] < 0.0].index)\n",
    "        weak_sig_pos_activities = list(lasso_coef[city][output_var][model_type]['value'].loc[lasso_coef[city][output_var][model_type]['value'] > 0.0].index)\n",
    "        weak_insig_activity_list = list(set(activity_counts_df_dic[city].index).difference(set(strong_activity_list)).difference(set(weak_sig_activity_list)))\n",
    "\n",
    "        # activity_list_dic = {}\n",
    "        activity_cat_dic[city][output_var]['strong']=strong_activity_list\n",
    "        activity_cat_dic[city][output_var]['weak_sig_neg']=weak_sig_neg_activities\n",
    "        activity_cat_dic[city][output_var]['weak_sig_pos']=weak_sig_pos_activities\n",
    "        activity_cat_dic[city][output_var]['weak_insig']=weak_insig_activity_list\n",
    "\n",
    "# aggregate the activity list for the three output variables.\n",
    "# the output variable dimension does not seem to matter too much in this analysis.\n",
    "activity_cat_agg_outputs_dic = {}\n",
    "for city in ['boston','chicago','miami']:\n",
    "    activity_cat_agg_outputs_dic[city]={}\n",
    "    activity_cat_agg_outputs_dic[city]['strong']=list(set(activity_cat_dic[city]['inc_median_household_2018']['strong']).union(set(activity_cat_dic[city]['property_value_median_2018']['strong'])).union(set(activity_cat_dic[city]['rent_median_2018']['strong'])))\n",
    "    activity_cat_agg_outputs_dic[city]['weak_sig_neg']=list(set(activity_cat_dic[city]['inc_median_household_2018']['weak_sig_neg']).union(set(activity_cat_dic[city]['property_value_median_2018']['weak_sig_neg'])).union(set(activity_cat_dic[city]['rent_median_2018']['weak_sig_neg'])))\n",
    "    activity_cat_agg_outputs_dic[city]['weak_sig_pos']=list(set(activity_cat_dic[city]['inc_median_household_2018']['weak_sig_pos']).union(set(activity_cat_dic[city]['property_value_median_2018']['weak_sig_pos'])).union(set(activity_cat_dic[city]['rent_median_2018']['weak_sig_pos'])))\n",
    "    activity_cat_agg_outputs_dic[city]['weak_insig']=list(set(activity_cat_dic[city]['inc_median_household_2018']['weak_insig']).union(set(activity_cat_dic[city]['property_value_median_2018']['weak_insig'])).union(set(activity_cat_dic[city]['rent_median_2018']['weak_insig'])))\n",
    "\n",
    "        "
   ]
  },
  {
   "cell_type": "code",
   "execution_count": 62,
   "id": "647bcaa0",
   "metadata": {},
   "outputs": [
    {
     "data": {
      "text/plain": [
       "['n_components',\n",
       " 'n_nodes',\n",
       " 'n_edges',\n",
       " 'density',\n",
       " 'diameter',\n",
       " 'ave_degree',\n",
       " 'ave_clustering_coeff',\n",
       " 'size_giant_component',\n",
       " 'diameter_giant_component',\n",
       " 'ave_distance_giant_component',\n",
       " 'edge_betweenness_centrality']"
      ]
     },
     "execution_count": 62,
     "metadata": {},
     "output_type": "execute_result"
    }
   ],
   "source": [
    "network_property_list = list(network_property_dic['boston'].columns)\n",
    "network_property_list"
   ]
  },
  {
   "cell_type": "code",
   "execution_count": 63,
   "id": "ddbeb10e",
   "metadata": {},
   "outputs": [],
   "source": [
    "# Need to compare 4 groups for 10 parameters * 3 output variables * 3 cities. \n",
    "# leading dimension: 10 parameters.\n",
    "# aggregate the three output variables. \n",
    "network_properties_in_activity_categories_dic = {}\n",
    "network_property_list = list(network_property_dic['boston'].columns)\n",
    "\n",
    "for network_property in network_property_list:\n",
    "    network_properties_in_activity_categories_dic[network_property]={}\n",
    "    for city in ['boston','chicago','miami']:\n",
    "        network_properties_in_activity_categories_dic[network_property][city]=pd.DataFrame([network_property_dic[city].loc[activity_cat_agg_outputs_dic[city]['strong'], network_property].values,\n",
    "                                                                                            network_property_dic[city].loc[activity_cat_agg_outputs_dic[city]['weak_sig_neg'], network_property].values,\n",
    "                                                                                            network_property_dic[city].loc[activity_cat_agg_outputs_dic[city]['weak_sig_pos'], network_property].values,\n",
    "                                                                                            network_property_dic[city].loc[activity_cat_agg_outputs_dic[city]['weak_insig'], network_property].values],\n",
    "                                                                                            index = ['strong','weak_sig_neg','weak_sig_pos','weak_insig']).T\n",
    "        \n",
    "        \n",
    "        \n",
    "#         network_properties_in_activity_categories_dic[city][output_var]={}\n",
    "        \n",
    "#         # \n",
    "#         network_properties_in_activity_categories_dic[city][output_var]['strong']=network_property_dic[city].loc[activity_cat_dic[city][output_var]['strong'], :]\n",
    "#         network_properties_in_activity_categories_dic[city][output_var]['weak_sig_neg']=network_property_dic[city].loc[activity_cat_dic[city][output_var]['weak_sig_neg'], :]\n",
    "#         network_properties_in_activity_categories_dic[city][output_var]['weak_sig_pos']=network_property_dic[city].loc[activity_cat_dic[city][output_var]['weak_sig_pos'], :]\n",
    "#         network_properties_in_activity_categories_dic[city][output_var]['weak_insig']=network_property_dic[city].loc[activity_cat_dic[city][output_var]['weak_insig'], :]\n"
   ]
  },
  {
   "cell_type": "code",
   "execution_count": 64,
   "id": "a38053c3",
   "metadata": {},
   "outputs": [
    {
     "data": {
      "text/plain": [
       "['n_components',\n",
       " 'n_nodes',\n",
       " 'n_edges',\n",
       " 'density',\n",
       " 'diameter',\n",
       " 'ave_degree',\n",
       " 'ave_clustering_coeff',\n",
       " 'size_giant_component',\n",
       " 'diameter_giant_component',\n",
       " 'ave_distance_giant_component',\n",
       " 'edge_betweenness_centrality']"
      ]
     },
     "execution_count": 64,
     "metadata": {},
     "output_type": "execute_result"
    }
   ],
   "source": [
    "network_property_list"
   ]
  },
  {
   "cell_type": "markdown",
   "id": "a42e1f9f",
   "metadata": {},
   "source": [
    "## Analysis (3 * 10)\n",
    "\n",
    "- TBD: statistical tests.\n",
    "- Some writing."
   ]
  },
  {
   "cell_type": "code",
   "execution_count": 65,
   "id": "c93018d2",
   "metadata": {},
   "outputs": [],
   "source": [
    "from scipy import stats"
   ]
  },
  {
   "cell_type": "markdown",
   "id": "cd6a53a4",
   "metadata": {},
   "source": [
    "#### nodes\n",
    "\n",
    "It seems that the positive mobility ties have smaller coverage than the negative ones. And the weak ties seem to have a consistent coverage of the census tracts.\n"
   ]
  },
  {
   "cell_type": "code",
   "execution_count": 21,
   "id": "37509766",
   "metadata": {},
   "outputs": [
    {
     "name": "stdout",
     "output_type": "stream",
     "text": [
      "\n",
      "boston\n",
      "         strong  weak_sig_neg  weak_sig_pos  weak_insig\n",
      "count   50.0000      16.00000     22.000000  582.000000\n",
      "mean   983.1200     748.50000    504.590909  462.003436\n",
      "std     15.2029     155.13521    277.361318  348.311536\n",
      "min    897.0000     455.00000     40.000000    1.000000\n",
      "25%    984.2500     624.75000    295.500000  117.250000\n",
      "50%    988.0000     716.50000    584.500000  428.500000\n",
      "75%    989.0000     879.25000    667.250000  819.750000\n",
      "max    992.0000     987.00000    875.000000  987.000000\n",
      "strong - weak_sig_neg Ttest_indResult(statistic=10.709382935506703, pvalue=6.611852639024816e-16)\n",
      "strong - weak_sig_pos Ttest_indResult(statistic=12.26916361944002, pvalue=4.120005833641091e-19)\n",
      "weak_sig_neg - weak_sig_pos Ttest_indResult(statistic=3.1681682665669246, pvalue=0.0031233117368522243)\n",
      "weak_insig - weak_sig_neg Ttest_indResult(statistic=-3.2790514062347587, pvalue=0.0011022464714073013)\n",
      "weak_insig - weak_sig_pos Ttest_indResult(statistic=-0.5665756292931462, pvalue=0.5712137013951191)\n",
      "\n",
      "chicago\n",
      "            strong  weak_sig_neg  weak_sig_pos   weak_insig\n",
      "count    50.000000      7.000000     20.000000   598.000000\n",
      "mean   1912.960000   1371.000000   1050.800000  1038.591973\n",
      "std      12.208996    455.154553    655.028613   688.252912\n",
      "min    1845.000000    824.000000     43.000000     2.000000\n",
      "25%    1915.000000    970.500000    394.000000   312.750000\n",
      "50%    1916.000000   1495.000000   1359.000000  1140.000000\n",
      "75%    1918.000000   1714.000000   1520.250000  1724.250000\n",
      "max    1920.000000   1909.000000   1810.000000  1918.000000\n",
      "strong - weak_sig_neg Ttest_indResult(statistic=8.90714287858861, pvalue=2.975672008963695e-12)\n",
      "strong - weak_sig_pos Ttest_indResult(statistic=9.407230147214399, pvalue=6.243480673129835e-14)\n",
      "weak_sig_neg - weak_sig_pos Ttest_indResult(statistic=1.1893807012609778, pvalue=0.2454639924287939)\n",
      "weak_insig - weak_sig_neg Ttest_indResult(statistic=-1.273985549325689, pvalue=0.20315933474779865)\n",
      "weak_insig - weak_sig_pos Ttest_indResult(statistic=-0.07814491470374403, pvalue=0.9377381560012209)\n",
      "\n",
      "miami\n",
      "          strong  weak_sig_neg  weak_sig_pos  weak_insig\n",
      "count   50.00000     11.000000     22.000000  578.000000\n",
      "mean   922.76000    774.272727    647.000000  550.179931\n",
      "std      2.69966    217.725098    310.431804  329.534158\n",
      "min    911.00000    290.000000     54.000000    3.000000\n",
      "25%    921.25000    694.500000    492.250000  218.000000\n",
      "50%    923.00000    913.000000    809.000000  638.000000\n",
      "75%    924.75000    920.000000    882.000000  882.750000\n",
      "max    926.00000    925.000000    917.000000  925.000000\n",
      "strong - weak_sig_neg Ttest_indResult(statistic=4.972326556200774, pvalue=6.025202807247813e-06)\n",
      "strong - weak_sig_pos Ttest_indResult(statistic=6.338641843601219, pvalue=1.958827656395357e-08)\n",
      "weak_sig_neg - weak_sig_pos Ttest_indResult(statistic=1.2142017262958587, pvalue=0.2338397641956364)\n",
      "weak_insig - weak_sig_neg Ttest_indResult(statistic=-2.2450424756339737, pvalue=0.025136901649875493)\n",
      "weak_insig - weak_sig_pos Ttest_indResult(statistic=-1.3552666042517298, pvalue=0.1758443080436662)\n"
     ]
    }
   ],
   "source": [
    "network_property = 'n_nodes'\n",
    "\n",
    "for city in ['boston','chicago','miami']:\n",
    "# city = 'boston'\n",
    "    print()\n",
    "    print(city)\n",
    "    print(network_properties_in_activity_categories_dic[network_property][city].describe())\n",
    "    \n",
    "    print('strong - weak_sig_neg',stats.ttest_ind(network_properties_in_activity_categories_dic[network_property][city].loc[~network_properties_in_activity_categories_dic[network_property][city]['strong'].isna(), 'strong'], \n",
    "                          network_properties_in_activity_categories_dic[network_property][city].loc[~network_properties_in_activity_categories_dic[network_property][city]['weak_sig_neg'].isna(), 'weak_sig_neg']))\n",
    "    print('strong - weak_sig_pos',stats.ttest_ind(network_properties_in_activity_categories_dic[network_property][city].loc[~network_properties_in_activity_categories_dic[network_property][city]['strong'].isna(), 'strong'], \n",
    "                          network_properties_in_activity_categories_dic[network_property][city].loc[~network_properties_in_activity_categories_dic[network_property][city]['weak_sig_pos'].isna(), 'weak_sig_pos']))\n",
    "    print('weak_sig_neg - weak_sig_pos',stats.ttest_ind(network_properties_in_activity_categories_dic[network_property][city].loc[~network_properties_in_activity_categories_dic[network_property][city]['weak_sig_neg'].isna(), 'weak_sig_neg'], \n",
    "                          network_properties_in_activity_categories_dic[network_property][city].loc[~network_properties_in_activity_categories_dic[network_property][city]['weak_sig_pos'].isna(), 'weak_sig_pos']))\n",
    "    print('weak_insig - weak_sig_neg',stats.ttest_ind(network_properties_in_activity_categories_dic[network_property][city].loc[~network_properties_in_activity_categories_dic[network_property][city]['weak_insig'].isna(), 'weak_insig'], \n",
    "                          network_properties_in_activity_categories_dic[network_property][city].loc[~network_properties_in_activity_categories_dic[network_property][city]['weak_sig_neg'].isna(), 'weak_sig_neg']))\n",
    "    print('weak_insig - weak_sig_pos',stats.ttest_ind(network_properties_in_activity_categories_dic[network_property][city].loc[~network_properties_in_activity_categories_dic[network_property][city]['weak_insig'].isna(), 'weak_insig'], \n",
    "                          network_properties_in_activity_categories_dic[network_property][city].loc[~network_properties_in_activity_categories_dic[network_property][city]['weak_sig_pos'].isna(), 'weak_sig_pos']))\n",
    "\n",
    "# print('chicago')\n",
    "# print(network_properties_in_activity_categories_dic[network_property]['chicago'].describe())\n",
    "# print('miami')\n",
    "# print(network_properties_in_activity_categories_dic[network_property]['miami'].describe())\n"
   ]
  },
  {
   "cell_type": "markdown",
   "id": "29d16250",
   "metadata": {},
   "source": [
    "#### node coverage\n",
    "\n",
    "- It seems hard to differentiate between the positive and negative mobility ties in node coverage. However, the significant mobility ties have much smaller coverage than the strong ties and broader coverage than the insignificant ties.\n",
    "- It suggests while weak, the important mobilities have more structural meaning (?) than the insignificant mobility ties. In statistical tests, it is hard to show this separately, but if I combine the three cities, we shall see a significant effect."
   ]
  },
  {
   "cell_type": "code",
   "execution_count": 22,
   "id": "52d7fd1f",
   "metadata": {},
   "outputs": [
    {
     "name": "stdout",
     "output_type": "stream",
     "text": [
      "\n",
      "boston\n",
      "          strong  weak_sig_neg  weak_sig_pos  weak_insig\n",
      "count  50.000000     16.000000     22.000000  582.000000\n",
      "mean    0.991048      0.754536      0.508660    0.465729\n",
      "std     0.015326      0.156386      0.279598    0.351120\n",
      "min     0.904234      0.458669      0.040323    0.001008\n",
      "25%     0.992188      0.629788      0.297883    0.118196\n",
      "50%     0.995968      0.722278      0.589214    0.431956\n",
      "75%     0.996976      0.886341      0.672631    0.826361\n",
      "max     1.000000      0.994960      0.882056    0.994960\n",
      "strong - weak_sig_neg Ttest_indResult(statistic=10.709382935506703, pvalue=6.611852639024816e-16)\n",
      "strong - weak_sig_pos Ttest_indResult(statistic=12.269163619440018, pvalue=4.1200058336411212e-19)\n",
      "weak_sig_neg - weak_sig_pos Ttest_indResult(statistic=3.168168266566924, pvalue=0.0031233117368522243)\n",
      "weak_insig - weak_sig_neg Ttest_indResult(statistic=-3.2790514062347578, pvalue=0.0011022464714073035)\n",
      "weak_insig - weak_sig_pos Ttest_indResult(statistic=-0.5665756292931458, pvalue=0.5712137013951194)\n",
      "\n",
      "chicago\n",
      "          strong  weak_sig_neg  weak_sig_pos  weak_insig\n",
      "count  50.000000      7.000000     20.000000  598.000000\n",
      "mean    0.995297      0.713319      0.546722    0.540370\n",
      "std     0.006352      0.236813      0.340806    0.358092\n",
      "min     0.959938      0.428720      0.022373    0.001041\n",
      "25%     0.996358      0.504943      0.204995    0.162721\n",
      "50%     0.996878      0.777836      0.707076    0.593132\n",
      "75%     0.997919      0.891779      0.790973    0.897112\n",
      "max     0.998959      0.993236      0.941727    0.997919\n",
      "strong - weak_sig_neg Ttest_indResult(statistic=8.907142878588616, pvalue=2.9756720089636518e-12)\n",
      "strong - weak_sig_pos Ttest_indResult(statistic=9.407230147214399, pvalue=6.243480673129835e-14)\n",
      "weak_sig_neg - weak_sig_pos Ttest_indResult(statistic=1.189380701260977, pvalue=0.2454639924287942)\n",
      "weak_insig - weak_sig_neg Ttest_indResult(statistic=-1.2739855493256875, pvalue=0.2031593347477991)\n",
      "weak_insig - weak_sig_pos Ttest_indResult(statistic=-0.07814491470374321, pvalue=0.9377381560012215)\n",
      "\n",
      "miami\n",
      "          strong  weak_sig_neg  weak_sig_pos  weak_insig\n",
      "count  50.000000     11.000000     22.000000  578.000000\n",
      "mean    0.996501      0.836148      0.698704    0.594147\n",
      "std     0.002915      0.235124      0.335240    0.355868\n",
      "min     0.983801      0.313175      0.058315    0.003240\n",
      "25%     0.994870      0.750000      0.531587    0.235421\n",
      "50%     0.996760      0.985961      0.873650    0.688985\n",
      "75%     0.998650      0.993521      0.952484    0.953294\n",
      "max     1.000000      0.998920      0.990281    0.998920\n",
      "strong - weak_sig_neg Ttest_indResult(statistic=4.97232655620078, pvalue=6.02520280724767e-06)\n",
      "strong - weak_sig_pos Ttest_indResult(statistic=6.338641843601228, pvalue=1.9588276563952817e-08)\n",
      "weak_sig_neg - weak_sig_pos Ttest_indResult(statistic=1.2142017262958602, pvalue=0.23383976419563582)\n",
      "weak_insig - weak_sig_neg Ttest_indResult(statistic=-2.245042475633973, pvalue=0.02513690164987554)\n",
      "weak_insig - weak_sig_pos Ttest_indResult(statistic=-1.3552666042517267, pvalue=0.1758443080436672)\n"
     ]
    }
   ],
   "source": [
    "# create a property as node coverage.\n",
    "network_properties_in_activity_categories_dic['node_coverage']={}\n",
    "\n",
    "for city in ['boston','chicago','miami']:\n",
    "    network_properties_in_activity_categories_dic['node_coverage'][city]=network_properties_in_activity_categories_dic['n_nodes'][city]/shp_dic[city].shape[0]\n",
    "\n",
    "# analyze\n",
    "network_property = 'node_coverage'\n",
    "\n",
    "for city in ['boston','chicago','miami']:\n",
    "# city = 'boston'\n",
    "    print()\n",
    "    print(city)\n",
    "    print(network_properties_in_activity_categories_dic[network_property][city].describe())\n",
    "    \n",
    "    print('strong - weak_sig_neg',stats.ttest_ind(network_properties_in_activity_categories_dic[network_property][city].loc[~network_properties_in_activity_categories_dic[network_property][city]['strong'].isna(), 'strong'], \n",
    "                          network_properties_in_activity_categories_dic[network_property][city].loc[~network_properties_in_activity_categories_dic[network_property][city]['weak_sig_neg'].isna(), 'weak_sig_neg']))\n",
    "    print('strong - weak_sig_pos',stats.ttest_ind(network_properties_in_activity_categories_dic[network_property][city].loc[~network_properties_in_activity_categories_dic[network_property][city]['strong'].isna(), 'strong'], \n",
    "                          network_properties_in_activity_categories_dic[network_property][city].loc[~network_properties_in_activity_categories_dic[network_property][city]['weak_sig_pos'].isna(), 'weak_sig_pos']))\n",
    "    print('weak_sig_neg - weak_sig_pos',stats.ttest_ind(network_properties_in_activity_categories_dic[network_property][city].loc[~network_properties_in_activity_categories_dic[network_property][city]['weak_sig_neg'].isna(), 'weak_sig_neg'], \n",
    "                          network_properties_in_activity_categories_dic[network_property][city].loc[~network_properties_in_activity_categories_dic[network_property][city]['weak_sig_pos'].isna(), 'weak_sig_pos']))\n",
    "    print('weak_insig - weak_sig_neg',stats.ttest_ind(network_properties_in_activity_categories_dic[network_property][city].loc[~network_properties_in_activity_categories_dic[network_property][city]['weak_insig'].isna(), 'weak_insig'], \n",
    "                          network_properties_in_activity_categories_dic[network_property][city].loc[~network_properties_in_activity_categories_dic[network_property][city]['weak_sig_neg'].isna(), 'weak_sig_neg']))\n",
    "    print('weak_insig - weak_sig_pos',stats.ttest_ind(network_properties_in_activity_categories_dic[network_property][city].loc[~network_properties_in_activity_categories_dic[network_property][city]['weak_insig'].isna(), 'weak_insig'], \n",
    "                          network_properties_in_activity_categories_dic[network_property][city].loc[~network_properties_in_activity_categories_dic[network_property][city]['weak_sig_pos'].isna(), 'weak_sig_pos']))\n"
   ]
  },
  {
   "cell_type": "markdown",
   "id": "6ce906af",
   "metadata": {},
   "source": [
    "#### edges\n",
    "- Significant mobility ties are weak. It is very consistent across all three cities.\n",
    "- Regarding edges, the significant mobility ties are weak. But the positive mobility ties are even weaker than the negative mobility ties. A much smaller proportion of the mobility ties are positively associated with economic productivity. \n",
    "- This differentiator between positive and negative mobility ties is extremely significant, consistent in all three cities. Even with very small sample size, we could see the stat significance in all three cases.\n"
   ]
  },
  {
   "cell_type": "code",
   "execution_count": 23,
   "id": "78988703",
   "metadata": {
    "scrolled": false
   },
   "outputs": [
    {
     "name": "stdout",
     "output_type": "stream",
     "text": [
      "\n",
      "boston\n",
      "             strong  weak_sig_neg  weak_sig_pos    weak_insig\n",
      "count     50.000000     16.000000     22.000000    582.000000\n",
      "mean   15107.440000   2866.375000   1119.409091   1439.986254\n",
      "std     7352.648433   3071.947458   1046.954752   1964.722314\n",
      "min     3110.000000    791.000000     40.000000      1.000000\n",
      "25%    10448.250000   1272.750000    374.250000    120.750000\n",
      "50%    13239.500000   1870.000000   1024.500000    580.500000\n",
      "75%    18330.500000   2759.500000   1288.250000   2021.000000\n",
      "max    37681.000000  13257.000000   4561.000000  11472.000000\n",
      "strong - weak_sig_neg Ttest_indResult(statistic=6.454108582930698, pvalue=1.6706184775388727e-08)\n",
      "strong - weak_sig_pos Ttest_indResult(statistic=8.84942639467337, pvalue=4.994600977486016e-13)\n",
      "weak_sig_neg - weak_sig_pos Ttest_indResult(statistic=2.4867844411576234, pvalue=0.017663500149260835)\n",
      "weak_insig - weak_sig_neg Ttest_indResult(statistic=-2.8141829557051232, pvalue=0.005051582284246804)\n",
      "weak_insig - weak_sig_pos Ttest_indResult(statistic=0.7608142004208057, pvalue=0.4470659447271238)\n",
      "\n",
      "chicago\n",
      "              strong  weak_sig_neg  weak_sig_pos    weak_insig\n",
      "count      50.000000      7.000000     20.000000    598.000000\n",
      "mean    52599.220000   7778.285714   3204.450000   4681.458194\n",
      "std     29126.555778   9801.500799   3383.447113   7006.854655\n",
      "min     10726.000000   1320.000000     49.000000      0.000000\n",
      "25%     30652.500000   1724.500000    466.250000    291.500000\n",
      "50%     45313.500000   3661.000000   2472.500000   1680.000000\n",
      "75%     71968.500000   9035.500000   3865.250000   6022.500000\n",
      "max    129406.000000  27947.000000  11918.000000  41985.000000\n",
      "strong - weak_sig_neg Ttest_indResult(statistic=4.012188400280989, pvalue=0.00018333286506816266)\n",
      "strong - weak_sig_pos Ttest_indResult(statistic=7.53123154696103, pvalue=1.5544566579288006e-10)\n",
      "weak_sig_neg - weak_sig_pos Ttest_indResult(statistic=1.8481766863892792, pvalue=0.07644060487022411)\n",
      "weak_insig - weak_sig_neg Ttest_indResult(statistic=-1.157066597678689, pvalue=0.2477032986548291)\n",
      "weak_insig - weak_sig_pos Ttest_indResult(statistic=0.9384883324797678, pvalue=0.34836133286298676)\n",
      "\n",
      "miami\n",
      "             strong  weak_sig_neg  weak_sig_pos    weak_insig\n",
      "count     50.000000     11.000000     22.000000    578.000000\n",
      "mean   22916.420000   7679.363636   2165.409091   2219.531142\n",
      "std    11754.946292  10935.846289   2239.622750   3171.909301\n",
      "min     8175.000000    356.000000     28.000000      0.000000\n",
      "25%    13703.500000   1265.000000    341.500000    189.250000\n",
      "50%    19335.000000   4127.000000   1551.500000    815.500000\n",
      "75%    28585.000000   8915.000000   3157.750000   3135.500000\n",
      "max    57603.000000  38417.000000   8016.000000  18404.000000\n",
      "strong - weak_sig_neg Ttest_indResult(statistic=3.9373555862611447, pvalue=0.0002201537088137571)\n",
      "strong - weak_sig_pos Ttest_indResult(statistic=8.183658296928263, pvalue=8.383036058658948e-12)\n",
      "weak_sig_neg - weak_sig_pos Ttest_indResult(statistic=2.3046896917095756, pvalue=0.028045623533681414)\n",
      "weak_insig - weak_sig_neg Ttest_indResult(statistic=-5.19417926703413, pvalue=2.840121817167645e-07)\n",
      "weak_insig - weak_sig_pos Ttest_indResult(statistic=0.07925214689871996, pvalue=0.9368585804602795)\n"
     ]
    }
   ],
   "source": [
    "network_property = 'n_edges'\n",
    "\n",
    "for city in ['boston','chicago','miami']:\n",
    "# city = 'boston'\n",
    "    print()\n",
    "    print(city)\n",
    "    print(network_properties_in_activity_categories_dic[network_property][city].describe())\n",
    "    \n",
    "    print('strong - weak_sig_neg',stats.ttest_ind(network_properties_in_activity_categories_dic[network_property][city].loc[~network_properties_in_activity_categories_dic[network_property][city]['strong'].isna(), 'strong'], \n",
    "                          network_properties_in_activity_categories_dic[network_property][city].loc[~network_properties_in_activity_categories_dic[network_property][city]['weak_sig_neg'].isna(), 'weak_sig_neg']))\n",
    "    print('strong - weak_sig_pos',stats.ttest_ind(network_properties_in_activity_categories_dic[network_property][city].loc[~network_properties_in_activity_categories_dic[network_property][city]['strong'].isna(), 'strong'], \n",
    "                          network_properties_in_activity_categories_dic[network_property][city].loc[~network_properties_in_activity_categories_dic[network_property][city]['weak_sig_pos'].isna(), 'weak_sig_pos']))\n",
    "    print('weak_sig_neg - weak_sig_pos',stats.ttest_ind(network_properties_in_activity_categories_dic[network_property][city].loc[~network_properties_in_activity_categories_dic[network_property][city]['weak_sig_neg'].isna(), 'weak_sig_neg'], \n",
    "                          network_properties_in_activity_categories_dic[network_property][city].loc[~network_properties_in_activity_categories_dic[network_property][city]['weak_sig_pos'].isna(), 'weak_sig_pos']))\n",
    "    print('weak_insig - weak_sig_neg',stats.ttest_ind(network_properties_in_activity_categories_dic[network_property][city].loc[~network_properties_in_activity_categories_dic[network_property][city]['weak_insig'].isna(), 'weak_insig'], \n",
    "                          network_properties_in_activity_categories_dic[network_property][city].loc[~network_properties_in_activity_categories_dic[network_property][city]['weak_sig_neg'].isna(), 'weak_sig_neg']))\n",
    "    print('weak_insig - weak_sig_pos',stats.ttest_ind(network_properties_in_activity_categories_dic[network_property][city].loc[~network_properties_in_activity_categories_dic[network_property][city]['weak_insig'].isna(), 'weak_insig'], \n",
    "                          network_properties_in_activity_categories_dic[network_property][city].loc[~network_properties_in_activity_categories_dic[network_property][city]['weak_sig_pos'].isna(), 'weak_sig_pos']))\n",
    "\n"
   ]
  },
  {
   "cell_type": "markdown",
   "id": "94b27ff9",
   "metadata": {},
   "source": [
    "#### density\n",
    "\n",
    "- A bit difficult to compare because very insignificant weak mobility ties could have density = 1. e.g. two nodes one edge. "
   ]
  },
  {
   "cell_type": "code",
   "execution_count": 24,
   "id": "8bb88d7f",
   "metadata": {},
   "outputs": [
    {
     "name": "stdout",
     "output_type": "stream",
     "text": [
      "\n",
      "boston\n",
      "          strong  weak_sig_neg  weak_sig_pos  weak_insig\n",
      "count  50.000000     16.000000     22.000000  582.000000\n",
      "mean    0.031059      0.008659      0.012965    0.033641\n",
      "std     0.014828      0.005344      0.014067    0.087496\n",
      "min     0.007739      0.004836      0.003996    0.000000\n",
      "25%     0.021691      0.006242      0.006201    0.006330\n",
      "50%     0.027236      0.007105      0.006529    0.009175\n",
      "75%     0.037519      0.008994      0.009059    0.019404\n",
      "max     0.076970      0.027245      0.051282    1.000000\n",
      "strong - weak_sig_neg Ttest_indResult(statistic=5.894771525452509, pvalue=1.5323743086715669e-07)\n",
      "strong - weak_sig_pos Ttest_indResult(statistic=4.842894982032091, pvalue=7.39816594359865e-06)\n",
      "weak_sig_neg - weak_sig_pos Ttest_indResult(statistic=-1.1614202756588008, pvalue=0.2531140625873107)\n",
      "weak_insig - weak_sig_neg Ttest_indResult(statistic=1.1410992878255592, pvalue=0.2542868962853475)\n",
      "weak_insig - weak_sig_pos Ttest_indResult(statistic=1.1069821682414833, pvalue=0.268743767074567)\n",
      "\n",
      "chicago\n",
      "          strong  weak_sig_neg  weak_sig_pos  weak_insig\n",
      "count  50.000000      7.000000     20.000000  598.000000\n",
      "mean    0.028675      0.005956      0.011232    0.013725\n",
      "std     0.015781      0.004411      0.015090    0.048706\n",
      "min     0.006305      0.002999      0.002361    0.000000\n",
      "25%     0.016772      0.003506      0.003016    0.003194\n",
      "50%     0.024648      0.004374      0.004334    0.004766\n",
      "75%     0.039127      0.005981      0.008560    0.009800\n",
      "max     0.070464      0.015345      0.054264    1.000000\n",
      "strong - weak_sig_neg Ttest_indResult(statistic=3.761620704149623, pvalue=0.00041132395407322305)\n",
      "strong - weak_sig_pos Ttest_indResult(statistic=4.228775337818969, pvalue=7.182631861201241e-05)\n",
      "weak_sig_neg - weak_sig_pos Ttest_indResult(statistic=-0.9011800570918029, pvalue=0.3760927529080289)\n",
      "weak_insig - weak_sig_neg Ttest_indResult(statistic=0.42166949119860964, pvalue=0.6734165536339699)\n",
      "weak_insig - weak_sig_pos Ttest_indResult(statistic=0.22840852992866822, pvalue=0.8194044602095976)\n",
      "\n",
      "miami\n",
      "          strong  weak_sig_neg  weak_sig_pos  weak_insig\n",
      "count  50.000000     11.000000     22.000000  578.000000\n",
      "mean    0.053808      0.019653      0.010195    0.017890\n",
      "std     0.027472      0.024595      0.008318    0.056589\n",
      "min     0.019722      0.004449      0.001615    0.000000\n",
      "25%     0.032136      0.006495      0.004688    0.005050\n",
      "50%     0.045538      0.009913      0.006874    0.007978\n",
      "75%     0.066889      0.021079      0.012553    0.013850\n",
      "max     0.134791      0.089896      0.038435    1.000000\n",
      "strong - weak_sig_neg Ttest_indResult(statistic=3.797686208155428, pvalue=0.00034737337183782577)\n",
      "strong - weak_sig_pos Ttest_indResult(statistic=7.275136106911346, pvalue=3.925320718643573e-10)\n",
      "weak_sig_neg - weak_sig_pos Ttest_indResult(statistic=1.6463539306258268, pvalue=0.10979325110864188)\n",
      "weak_insig - weak_sig_neg Ttest_indResult(statistic=-0.10303325757321485, pvalue=0.9179717646829616)\n",
      "weak_insig - weak_sig_pos Ttest_indResult(statistic=0.6370552094828278, pvalue=0.5243326835811914)\n"
     ]
    }
   ],
   "source": [
    "network_property = 'density'\n",
    "\n",
    "for city in ['boston','chicago','miami']:\n",
    "# city = 'boston'\n",
    "    print()\n",
    "    print(city)\n",
    "    print(network_properties_in_activity_categories_dic[network_property][city].describe())\n",
    "    \n",
    "    print('strong - weak_sig_neg',stats.ttest_ind(network_properties_in_activity_categories_dic[network_property][city].loc[~network_properties_in_activity_categories_dic[network_property][city]['strong'].isna(), 'strong'], \n",
    "                          network_properties_in_activity_categories_dic[network_property][city].loc[~network_properties_in_activity_categories_dic[network_property][city]['weak_sig_neg'].isna(), 'weak_sig_neg']))\n",
    "    print('strong - weak_sig_pos',stats.ttest_ind(network_properties_in_activity_categories_dic[network_property][city].loc[~network_properties_in_activity_categories_dic[network_property][city]['strong'].isna(), 'strong'], \n",
    "                          network_properties_in_activity_categories_dic[network_property][city].loc[~network_properties_in_activity_categories_dic[network_property][city]['weak_sig_pos'].isna(), 'weak_sig_pos']))\n",
    "    print('weak_sig_neg - weak_sig_pos',stats.ttest_ind(network_properties_in_activity_categories_dic[network_property][city].loc[~network_properties_in_activity_categories_dic[network_property][city]['weak_sig_neg'].isna(), 'weak_sig_neg'], \n",
    "                          network_properties_in_activity_categories_dic[network_property][city].loc[~network_properties_in_activity_categories_dic[network_property][city]['weak_sig_pos'].isna(), 'weak_sig_pos']))\n",
    "    print('weak_insig - weak_sig_neg',stats.ttest_ind(network_properties_in_activity_categories_dic[network_property][city].loc[~network_properties_in_activity_categories_dic[network_property][city]['weak_insig'].isna(), 'weak_insig'], \n",
    "                          network_properties_in_activity_categories_dic[network_property][city].loc[~network_properties_in_activity_categories_dic[network_property][city]['weak_sig_neg'].isna(), 'weak_sig_neg']))\n",
    "    print('weak_insig - weak_sig_pos',stats.ttest_ind(network_properties_in_activity_categories_dic[network_property][city].loc[~network_properties_in_activity_categories_dic[network_property][city]['weak_insig'].isna(), 'weak_insig'], \n",
    "                          network_properties_in_activity_categories_dic[network_property][city].loc[~network_properties_in_activity_categories_dic[network_property][city]['weak_sig_pos'].isna(), 'weak_sig_pos']))\n",
    "\n"
   ]
  },
  {
   "cell_type": "markdown",
   "id": "546e5aa1",
   "metadata": {},
   "source": [
    "#### average and median degree\n",
    "\n",
    "- Negatively significant mobility ties have larger node degrees than the positively significant mobility ties. This is directly related to the number of edges. "
   ]
  },
  {
   "cell_type": "code",
   "execution_count": 25,
   "id": "971594b0",
   "metadata": {},
   "outputs": [
    {
     "name": "stdout",
     "output_type": "stream",
     "text": [
      "\n",
      "boston\n",
      "          strong  weak_sig_neg  weak_sig_pos  weak_insig\n",
      "count  50.000000     16.000000     22.000000  582.000000\n",
      "mean   30.617368      6.897202      3.724299    4.259546\n",
      "std    14.760845      5.826037      1.846026    3.470237\n",
      "min     6.934225      2.978930      2.000000    0.226415\n",
      "25%    21.279391      3.756960      2.542430    2.123776\n",
      "50%    26.841347      5.222646      3.397979    2.690608\n",
      "75%    37.068756      6.528542      3.951277    5.055920\n",
      "max    76.123232     26.863222     10.425143   23.246201\n",
      "strong - weak_sig_neg Ttest_indResult(statistic=6.246766487688487, pvalue=3.8171701530012874e-08)\n",
      "strong - weak_sig_pos Ttest_indResult(statistic=8.483196365093406, pvalue=2.3540248119738518e-12)\n",
      "weak_sig_neg - weak_sig_pos Ttest_indResult(statistic=2.4044173083044162, pvalue=0.021468003862119583)\n",
      "weak_insig - weak_sig_neg Ttest_indResult(statistic=-2.9329984713111923, pvalue=0.0034860447447636013)\n",
      "weak_insig - weak_sig_pos Ttest_indResult(statistic=0.719200482001734, pvalue=0.4722964842905748)\n",
      "\n",
      "chicago\n",
      "           strong  weak_sig_neg  weak_sig_pos  weak_insig\n",
      "count   50.000000      7.000000     20.000000  598.000000\n",
      "mean    54.908986      9.279586      4.707960    6.016415\n",
      "std     30.312413      9.614724      3.207662    6.878656\n",
      "min     11.627100      3.165468      1.971831    0.000000\n",
      "25%     32.130169      3.575728      2.373064    2.094623\n",
      "50%     47.250782      4.684581      3.588763    3.049196\n",
      "75%     75.025776     10.338198      5.067778    6.985549\n",
      "max    135.008868     29.279204     13.842044   43.802817\n",
      "strong - weak_sig_neg Ttest_indResult(statistic=3.9277639071299477, pvalue=0.00024135908832365952)\n",
      "strong - weak_sig_pos Ttest_indResult(statistic=7.3579810069106175, pvalue=3.2020424877696756e-10)\n",
      "weak_sig_neg - weak_sig_pos Ttest_indResult(statistic=1.9004162929332662, pvalue=0.06896970008772454)\n",
      "weak_insig - weak_sig_neg Ttest_indResult(statistic=-1.24195899949369, pvalue=0.21473451512501868)\n",
      "weak_insig - weak_sig_pos Ttest_indResult(statistic=0.847095249174253, pvalue=0.3972710150420806)\n",
      "\n",
      "miami\n",
      "           strong  weak_sig_neg  weak_sig_pos  weak_insig\n",
      "count   50.000000     11.000000     22.000000  578.000000\n",
      "mean    49.633545     17.128363      5.384335    5.623037\n",
      "std     25.399955     23.330772      4.556134    6.494827\n",
      "min     17.947311      2.455172      1.000000    0.000000\n",
      "25%     29.661255      3.553392      2.036782    2.000000\n",
      "50%     41.941140      9.040526      3.820614    2.785264\n",
      "75%     61.805405     19.376143      7.177816    7.226168\n",
      "max    124.547027     83.063784     17.973094   39.921909\n",
      "strong - weak_sig_neg Ttest_indResult(statistic=3.894627325861407, pvalue=0.00025333485335991395)\n",
      "strong - weak_sig_pos Ttest_indResult(statistic=8.083133451475627, pvalue=1.2840186172676116e-11)\n",
      "weak_sig_neg - weak_sig_pos Ttest_indResult(statistic=2.3093537120230976, pvalue=0.027753070671290424)\n",
      "weak_insig - weak_sig_neg Ttest_indResult(statistic=-5.3068704035527094, pvalue=1.5833320824943498e-07)\n",
      "weak_insig - weak_sig_pos Ttest_indResult(statistic=0.17072468238155167, pvalue=0.8644980011683776)\n"
     ]
    }
   ],
   "source": [
    "network_property = 'ave_degree'\n",
    "\n",
    "for city in ['boston','chicago','miami']:\n",
    "# city = 'boston'\n",
    "    print()\n",
    "    print(city)\n",
    "    print(network_properties_in_activity_categories_dic[network_property][city].describe())\n",
    "    \n",
    "    print('strong - weak_sig_neg',stats.ttest_ind(network_properties_in_activity_categories_dic[network_property][city].loc[~network_properties_in_activity_categories_dic[network_property][city]['strong'].isna(), 'strong'], \n",
    "                          network_properties_in_activity_categories_dic[network_property][city].loc[~network_properties_in_activity_categories_dic[network_property][city]['weak_sig_neg'].isna(), 'weak_sig_neg']))\n",
    "    print('strong - weak_sig_pos',stats.ttest_ind(network_properties_in_activity_categories_dic[network_property][city].loc[~network_properties_in_activity_categories_dic[network_property][city]['strong'].isna(), 'strong'], \n",
    "                          network_properties_in_activity_categories_dic[network_property][city].loc[~network_properties_in_activity_categories_dic[network_property][city]['weak_sig_pos'].isna(), 'weak_sig_pos']))\n",
    "    print('weak_sig_neg - weak_sig_pos',stats.ttest_ind(network_properties_in_activity_categories_dic[network_property][city].loc[~network_properties_in_activity_categories_dic[network_property][city]['weak_sig_neg'].isna(), 'weak_sig_neg'], \n",
    "                          network_properties_in_activity_categories_dic[network_property][city].loc[~network_properties_in_activity_categories_dic[network_property][city]['weak_sig_pos'].isna(), 'weak_sig_pos']))\n",
    "    print('weak_insig - weak_sig_neg',stats.ttest_ind(network_properties_in_activity_categories_dic[network_property][city].loc[~network_properties_in_activity_categories_dic[network_property][city]['weak_insig'].isna(), 'weak_insig'], \n",
    "                          network_properties_in_activity_categories_dic[network_property][city].loc[~network_properties_in_activity_categories_dic[network_property][city]['weak_sig_neg'].isna(), 'weak_sig_neg']))\n",
    "    print('weak_insig - weak_sig_pos',stats.ttest_ind(network_properties_in_activity_categories_dic[network_property][city].loc[~network_properties_in_activity_categories_dic[network_property][city]['weak_insig'].isna(), 'weak_insig'], \n",
    "                          network_properties_in_activity_categories_dic[network_property][city].loc[~network_properties_in_activity_categories_dic[network_property][city]['weak_sig_pos'].isna(), 'weak_sig_pos']))\n"
   ]
  },
  {
   "cell_type": "markdown",
   "id": "707f8986",
   "metadata": {},
   "source": [
    "#### average clustering coefficients. \n",
    "\n",
    "- The clustering coefficients of the weak mobility ties are closer to the individual-based social networks. In Jure's MSN (2008) benchmark, the clustering coefficient is 0.137. Our significant mobility ties are much closer to this number than the strong mobility ties.\n"
   ]
  },
  {
   "cell_type": "code",
   "execution_count": 26,
   "id": "01330229",
   "metadata": {},
   "outputs": [
    {
     "name": "stdout",
     "output_type": "stream",
     "text": [
      "\n",
      "boston\n",
      "          strong  weak_sig_neg  weak_sig_pos  weak_insig\n",
      "count  50.000000     16.000000     22.000000  582.000000\n",
      "mean    0.284888      0.182716      0.156202    0.105742\n",
      "std     0.089696      0.077609      0.125755    0.106317\n",
      "min     0.131850      0.075573      0.000000    0.000000\n",
      "25%     0.228546      0.131448      0.072211    0.011423\n",
      "50%     0.270336      0.176929      0.135262    0.080465\n",
      "75%     0.337509      0.211261      0.201440    0.169344\n",
      "max     0.559299      0.346560      0.549959    0.549959\n",
      "strong - weak_sig_neg Ttest_indResult(statistic=4.088049319901323, pvalue=0.0001237227909958031)\n",
      "strong - weak_sig_pos Ttest_indResult(statistic=4.9379202186146305, pvalue=5.164032233478484e-06)\n",
      "weak_sig_neg - weak_sig_pos Ttest_indResult(statistic=0.7449334944229816, pvalue=0.4611477406723109)\n",
      "weak_insig - weak_sig_neg Ttest_indResult(statistic=-2.8739565368417685, pvalue=0.004198178502841806)\n",
      "weak_insig - weak_sig_pos Ttest_indResult(statistic=-2.17018986794138, pvalue=0.03038275019698115)\n",
      "\n",
      "chicago\n",
      "          strong  weak_sig_neg  weak_sig_pos  weak_insig\n",
      "count  50.000000      7.000000     20.000000  598.000000\n",
      "mean    0.265672      0.200075      0.151413    0.124926\n",
      "std     0.097208      0.117161      0.121547    0.116489\n",
      "min     0.120459      0.105169      0.000000    0.000000\n",
      "25%     0.204991      0.126208      0.086059    0.022857\n",
      "50%     0.253876      0.154610      0.129655    0.103170\n",
      "75%     0.313079      0.242048      0.195911    0.198170\n",
      "max     0.550545      0.404232      0.472965    0.584923\n",
      "strong - weak_sig_neg Ttest_indResult(statistic=1.6323465446453025, pvalue=0.10831949343883054)\n",
      "strong - weak_sig_pos Ttest_indResult(statistic=4.129430967909275, pvalue=0.00010163278272932968)\n",
      "weak_sig_neg - weak_sig_pos Ttest_indResult(statistic=0.9194992762284875, pvalue=0.36662193261568243)\n",
      "weak_insig - weak_sig_neg Ttest_indResult(statistic=-1.6967990719509385, pvalue=0.09025071697964768)\n",
      "weak_insig - weak_sig_pos Ttest_indResult(statistic=-0.9988949745691399, pvalue=0.31823778708164624)\n",
      "\n",
      "miami\n",
      "          strong  weak_sig_neg  weak_sig_pos  weak_insig\n",
      "count  50.000000     11.000000     22.000000  578.000000\n",
      "mean    0.358403      0.308965      0.169534    0.144424\n",
      "std     0.091987      0.176190      0.143305    0.130080\n",
      "min     0.213606      0.041846      0.000000    0.000000\n",
      "25%     0.291791      0.202947      0.021040    0.020427\n",
      "50%     0.342367      0.284801      0.180099    0.119534\n",
      "75%     0.412128      0.380166      0.266137    0.244046\n",
      "max     0.603915      0.603915      0.488618    0.688119\n",
      "strong - weak_sig_neg Ttest_indResult(statistic=1.3391320654270331, pvalue=0.18566413503955187)\n",
      "strong - weak_sig_pos Ttest_indResult(statistic=6.715614233763883, pvalue=4.104293637028032e-09)\n",
      "weak_sig_neg - weak_sig_pos Ttest_indResult(statistic=2.44105847643089, pvalue=0.020552039035329157)\n",
      "weak_insig - weak_sig_neg Ttest_indResult(statistic=-4.126652375494047, pvalue=4.213600162829363e-05)\n",
      "weak_insig - weak_sig_pos Ttest_indResult(statistic=-0.8853216093377007, pvalue=0.37633904266657003)\n"
     ]
    }
   ],
   "source": [
    "network_property = 'ave_clustering_coeff'\n",
    "\n",
    "for city in ['boston','chicago','miami']:\n",
    "# city = 'boston'\n",
    "    print()\n",
    "    print(city)\n",
    "    print(network_properties_in_activity_categories_dic[network_property][city].describe())\n",
    "    \n",
    "    print('strong - weak_sig_neg',stats.ttest_ind(network_properties_in_activity_categories_dic[network_property][city].loc[~network_properties_in_activity_categories_dic[network_property][city]['strong'].isna(), 'strong'], \n",
    "                          network_properties_in_activity_categories_dic[network_property][city].loc[~network_properties_in_activity_categories_dic[network_property][city]['weak_sig_neg'].isna(), 'weak_sig_neg']))\n",
    "    print('strong - weak_sig_pos',stats.ttest_ind(network_properties_in_activity_categories_dic[network_property][city].loc[~network_properties_in_activity_categories_dic[network_property][city]['strong'].isna(), 'strong'], \n",
    "                          network_properties_in_activity_categories_dic[network_property][city].loc[~network_properties_in_activity_categories_dic[network_property][city]['weak_sig_pos'].isna(), 'weak_sig_pos']))\n",
    "    print('weak_sig_neg - weak_sig_pos',stats.ttest_ind(network_properties_in_activity_categories_dic[network_property][city].loc[~network_properties_in_activity_categories_dic[network_property][city]['weak_sig_neg'].isna(), 'weak_sig_neg'], \n",
    "                          network_properties_in_activity_categories_dic[network_property][city].loc[~network_properties_in_activity_categories_dic[network_property][city]['weak_sig_pos'].isna(), 'weak_sig_pos']))\n",
    "    print('weak_insig - weak_sig_neg',stats.ttest_ind(network_properties_in_activity_categories_dic[network_property][city].loc[~network_properties_in_activity_categories_dic[network_property][city]['weak_insig'].isna(), 'weak_insig'], \n",
    "                          network_properties_in_activity_categories_dic[network_property][city].loc[~network_properties_in_activity_categories_dic[network_property][city]['weak_sig_neg'].isna(), 'weak_sig_neg']))\n",
    "    print('weak_insig - weak_sig_pos',stats.ttest_ind(network_properties_in_activity_categories_dic[network_property][city].loc[~network_properties_in_activity_categories_dic[network_property][city]['weak_insig'].isna(), 'weak_insig'], \n",
    "                          network_properties_in_activity_categories_dic[network_property][city].loc[~network_properties_in_activity_categories_dic[network_property][city]['weak_sig_pos'].isna(), 'weak_sig_pos']))\n"
   ]
  },
  {
   "cell_type": "markdown",
   "id": "e27cea8e",
   "metadata": {},
   "source": [
    "#### number of components\n",
    "\n",
    "- Somehow I sense that the weak place-based mobility ties resemble the structure of a individual-based social network, in terms of the number of components, size distributiosn of the components, diameters, clustering coefficients, and others.\n",
    "- For example, the weak mobility networks have a gaint component associated with many scattered nodes, which is similar to the MSN network, while the strong mobility networks are not. \n"
   ]
  },
  {
   "cell_type": "code",
   "execution_count": 27,
   "id": "859392eb",
   "metadata": {},
   "outputs": [
    {
     "name": "stdout",
     "output_type": "stream",
     "text": [
      "\n",
      "boston\n",
      "          strong  weak_sig_neg  weak_sig_pos  weak_insig\n",
      "count  50.000000      16.00000     22.000000  582.000000\n",
      "mean    1.140000       4.37500      3.500000    3.013746\n",
      "std     0.639196      11.92127      8.267838    8.153000\n",
      "min     1.000000       1.00000      1.000000    1.000000\n",
      "25%     1.000000       1.00000      1.000000    1.000000\n",
      "50%     1.000000       1.00000      1.000000    1.000000\n",
      "75%     1.000000       2.00000      2.000000    3.000000\n",
      "max     5.000000      49.00000     40.000000  142.000000\n",
      "strong - weak_sig_neg Ttest_indResult(statistic=-1.9424031495015468, pvalue=0.05649120063782898)\n",
      "strong - weak_sig_pos Ttest_indResult(statistic=-2.022935466772827, pvalue=0.046900781167958566)\n",
      "weak_sig_neg - weak_sig_pos Ttest_indResult(statistic=0.26752973756274956, pvalue=0.7905881339074615)\n",
      "weak_insig - weak_sig_neg Ttest_indResult(statistic=-0.6496220221163947, pvalue=0.5161866853287991)\n",
      "weak_insig - weak_sig_pos Ttest_indResult(statistic=-0.27446411946922616, pvalue=0.7838221318529589)\n",
      "\n",
      "chicago\n",
      "          strong  weak_sig_neg  weak_sig_pos   weak_insig\n",
      "count  50.000000      7.000000     20.000000   598.000000\n",
      "mean    2.000000     30.142857     28.100000    50.028428\n",
      "std     1.895214     46.806084     36.862333   129.256361\n",
      "min     1.000000      1.000000      1.000000     1.000000\n",
      "25%     1.000000      2.000000      1.750000     4.000000\n",
      "50%     1.000000     20.000000     14.000000    17.000000\n",
      "75%     2.000000     26.500000     34.500000    43.000000\n",
      "max    12.000000    133.000000    144.000000  1294.000000\n",
      "strong - weak_sig_neg Ttest_indResult(statistic=-4.481052579355069, pvalue=3.8051867351352394e-05)\n",
      "strong - weak_sig_pos Ttest_indResult(statistic=-5.045579542663556, pvalue=3.594068240751244e-06)\n",
      "weak_sig_neg - weak_sig_pos Ttest_indResult(statistic=0.1178327067722722, pvalue=0.907141832446649)\n",
      "weak_insig - weak_sig_neg Ttest_indResult(statistic=0.4064373095744451, pvalue=0.6845655154252335)\n",
      "weak_insig - weak_sig_pos Ttest_indResult(statistic=0.7571270598835987, pvalue=0.4492632404311666)\n",
      "\n",
      "miami\n",
      "          strong  weak_sig_neg  weak_sig_pos  weak_insig\n",
      "count  50.000000     11.000000     22.000000  578.000000\n",
      "mean    1.720000     23.181818     67.045455   49.600346\n",
      "std     1.340728     26.026211     79.514885   55.680518\n",
      "min     1.000000      1.000000      1.000000    1.000000\n",
      "25%     1.000000      4.000000     18.250000    9.000000\n",
      "50%     1.000000     11.000000     43.500000   34.000000\n",
      "75%     2.000000     40.000000     99.250000   68.000000\n",
      "max     7.000000     75.000000    351.000000  380.000000\n",
      "strong - weak_sig_neg Ttest_indResult(statistic=-5.9757519705629285, pvalue=1.4187619806442167e-07)\n",
      "strong - weak_sig_pos Ttest_indResult(statistic=-5.860834677869462, pvalue=1.3767857297040156e-07)\n",
      "weak_sig_neg - weak_sig_pos Ttest_indResult(statistic=-1.7704084130535251, pvalue=0.08649392191836607)\n",
      "weak_insig - weak_sig_neg Ttest_indResult(statistic=1.5693449979579106, pvalue=0.11710643500324094)\n",
      "weak_insig - weak_sig_pos Ttest_indResult(statistic=-1.4167253602443035, pvalue=0.15708395964868932)\n"
     ]
    }
   ],
   "source": [
    "network_property = 'n_components'\n",
    "\n",
    "for city in ['boston','chicago','miami']:\n",
    "# city = 'boston'\n",
    "    print()\n",
    "    print(city)\n",
    "    print(network_properties_in_activity_categories_dic[network_property][city].describe())\n",
    "    \n",
    "    print('strong - weak_sig_neg',stats.ttest_ind(network_properties_in_activity_categories_dic[network_property][city].loc[~network_properties_in_activity_categories_dic[network_property][city]['strong'].isna(), 'strong'], \n",
    "                          network_properties_in_activity_categories_dic[network_property][city].loc[~network_properties_in_activity_categories_dic[network_property][city]['weak_sig_neg'].isna(), 'weak_sig_neg']))\n",
    "    print('strong - weak_sig_pos',stats.ttest_ind(network_properties_in_activity_categories_dic[network_property][city].loc[~network_properties_in_activity_categories_dic[network_property][city]['strong'].isna(), 'strong'], \n",
    "                          network_properties_in_activity_categories_dic[network_property][city].loc[~network_properties_in_activity_categories_dic[network_property][city]['weak_sig_pos'].isna(), 'weak_sig_pos']))\n",
    "    print('weak_sig_neg - weak_sig_pos',stats.ttest_ind(network_properties_in_activity_categories_dic[network_property][city].loc[~network_properties_in_activity_categories_dic[network_property][city]['weak_sig_neg'].isna(), 'weak_sig_neg'], \n",
    "                          network_properties_in_activity_categories_dic[network_property][city].loc[~network_properties_in_activity_categories_dic[network_property][city]['weak_sig_pos'].isna(), 'weak_sig_pos']))\n",
    "    print('weak_insig - weak_sig_neg',stats.ttest_ind(network_properties_in_activity_categories_dic[network_property][city].loc[~network_properties_in_activity_categories_dic[network_property][city]['weak_insig'].isna(), 'weak_insig'], \n",
    "                          network_properties_in_activity_categories_dic[network_property][city].loc[~network_properties_in_activity_categories_dic[network_property][city]['weak_sig_neg'].isna(), 'weak_sig_neg']))\n",
    "    print('weak_insig - weak_sig_pos',stats.ttest_ind(network_properties_in_activity_categories_dic[network_property][city].loc[~network_properties_in_activity_categories_dic[network_property][city]['weak_insig'].isna(), 'weak_insig'], \n",
    "                          network_properties_in_activity_categories_dic[network_property][city].loc[~network_properties_in_activity_categories_dic[network_property][city]['weak_sig_pos'].isna(), 'weak_sig_pos']))\n",
    "\n"
   ]
  },
  {
   "cell_type": "code",
   "execution_count": 28,
   "id": "2ae2c6b7",
   "metadata": {
    "scrolled": false
   },
   "outputs": [
    {
     "name": "stdout",
     "output_type": "stream",
     "text": [
      "\n",
      "boston\n",
      "           strong  weak_sig_neg  weak_sig_pos  weak_insig\n",
      "count   50.000000     16.000000     22.000000  582.000000\n",
      "mean   982.980000    744.875000    501.000000  456.058419\n",
      "std     15.714922    158.954029    277.323088  352.203905\n",
      "min    893.000000    450.000000     40.000000    1.000000\n",
      "25%    984.250000    624.250000    294.500000   95.250000\n",
      "50%    988.000000    716.500000    584.500000  422.000000\n",
      "75%    989.000000    879.250000    658.500000  819.750000\n",
      "max    992.000000    987.000000    872.000000  987.000000\n",
      "strong - weak_sig_neg Ttest_indResult(statistic=10.604481422860449, pvalue=9.926162589547873e-16)\n",
      "strong - weak_sig_pos Ttest_indResult(statistic=12.35638798902529, pvalue=2.928412085502886e-19)\n",
      "weak_sig_neg - weak_sig_pos Ttest_indResult(statistic=3.1537577383438755, pvalue=0.003246241051912633)\n",
      "weak_insig - weak_sig_neg Ttest_indResult(statistic=-3.2688501583564284, pvalue=0.0011420290418023766)\n",
      "weak_insig - weak_sig_pos Ttest_indResult(statistic=-0.5914340722274246, pvalue=0.5544516296353097)\n",
      "\n",
      "chicago\n",
      "            strong  weak_sig_neg  weak_sig_pos   weak_insig\n",
      "count    50.000000      7.000000     20.000000   598.000000\n",
      "mean   1911.960000   1341.857143   1023.650000   986.683946\n",
      "std      13.897526    452.273305    643.571063   695.016541\n",
      "min    1834.000000    808.000000     43.000000     1.000000\n",
      "25%    1914.250000    953.000000    391.000000   262.000000\n",
      "50%    1916.000000   1431.000000   1331.000000  1023.500000\n",
      "75%    1917.000000   1669.500000   1510.750000  1696.750000\n",
      "max    1920.000000   1909.000000   1798.000000  1918.000000\n",
      "strong - weak_sig_neg Ttest_indResult(statistic=9.420773212699727, pvalue=4.524565234150763e-13)\n",
      "strong - weak_sig_pos Ttest_indResult(statistic=9.863605453644025, pvalue=9.545461540875504e-15)\n",
      "weak_sig_neg - weak_sig_pos Ttest_indResult(statistic=1.2012068574621406, pvalue=0.2409280028795784)\n",
      "weak_insig - weak_sig_neg Ttest_indResult(statistic=-1.3480818712857925, pvalue=0.17813823221556868)\n",
      "weak_insig - weak_sig_pos Ttest_indResult(statistic=-0.23449643561426298, pvalue=0.8146775203601863)\n",
      "\n",
      "miami\n",
      "           strong  weak_sig_neg  weak_sig_pos  weak_insig\n",
      "count   50.000000     11.000000     22.000000  578.000000\n",
      "mean   922.040000    751.727273    580.272727  499.856401\n",
      "std      3.675401    230.801253    316.807615  332.873538\n",
      "min    905.000000    286.000000     22.000000    1.000000\n",
      "25%    921.000000    653.000000    269.250000  164.250000\n",
      "50%    923.000000    897.000000    688.500000  525.500000\n",
      "75%    924.000000    915.000000    843.000000  842.750000\n",
      "max    926.000000    925.000000    910.000000  925.000000\n",
      "strong - weak_sig_neg Ttest_indResult(statistic=5.378754430824737, pvalue=1.3505408141989251e-06)\n",
      "strong - weak_sig_pos Ttest_indResult(statistic=7.697259777249821, pvalue=6.591316974155338e-11)\n",
      "weak_sig_neg - weak_sig_pos Ttest_indResult(statistic=1.590910163441673, pvalue=0.12177743212725264)\n",
      "weak_insig - weak_sig_neg Ttest_indResult(statistic=-2.4970698241111435, pvalue=0.012795280491903515)\n",
      "weak_insig - weak_sig_pos Ttest_indResult(statistic=-1.1139972106606282, pvalue=0.2657279243046659)\n"
     ]
    }
   ],
   "source": [
    "network_property = 'size_giant_component'\n",
    "\n",
    "for city in ['boston','chicago','miami']:\n",
    "# city = 'boston'\n",
    "    print()\n",
    "    print(city)\n",
    "    print(network_properties_in_activity_categories_dic[network_property][city].describe())\n",
    "    \n",
    "    print('strong - weak_sig_neg',stats.ttest_ind(network_properties_in_activity_categories_dic[network_property][city].loc[~network_properties_in_activity_categories_dic[network_property][city]['strong'].isna(), 'strong'], \n",
    "                          network_properties_in_activity_categories_dic[network_property][city].loc[~network_properties_in_activity_categories_dic[network_property][city]['weak_sig_neg'].isna(), 'weak_sig_neg']))\n",
    "    print('strong - weak_sig_pos',stats.ttest_ind(network_properties_in_activity_categories_dic[network_property][city].loc[~network_properties_in_activity_categories_dic[network_property][city]['strong'].isna(), 'strong'], \n",
    "                          network_properties_in_activity_categories_dic[network_property][city].loc[~network_properties_in_activity_categories_dic[network_property][city]['weak_sig_pos'].isna(), 'weak_sig_pos']))\n",
    "    print('weak_sig_neg - weak_sig_pos',stats.ttest_ind(network_properties_in_activity_categories_dic[network_property][city].loc[~network_properties_in_activity_categories_dic[network_property][city]['weak_sig_neg'].isna(), 'weak_sig_neg'], \n",
    "                          network_properties_in_activity_categories_dic[network_property][city].loc[~network_properties_in_activity_categories_dic[network_property][city]['weak_sig_pos'].isna(), 'weak_sig_pos']))\n",
    "    print('weak_insig - weak_sig_neg',stats.ttest_ind(network_properties_in_activity_categories_dic[network_property][city].loc[~network_properties_in_activity_categories_dic[network_property][city]['weak_insig'].isna(), 'weak_insig'], \n",
    "                          network_properties_in_activity_categories_dic[network_property][city].loc[~network_properties_in_activity_categories_dic[network_property][city]['weak_sig_neg'].isna(), 'weak_sig_neg']))\n",
    "    print('weak_insig - weak_sig_pos',stats.ttest_ind(network_properties_in_activity_categories_dic[network_property][city].loc[~network_properties_in_activity_categories_dic[network_property][city]['weak_insig'].isna(), 'weak_insig'], \n",
    "                          network_properties_in_activity_categories_dic[network_property][city].loc[~network_properties_in_activity_categories_dic[network_property][city]['weak_sig_pos'].isna(), 'weak_sig_pos']))\n",
    "\n"
   ]
  },
  {
   "cell_type": "code",
   "execution_count": 29,
   "id": "0ab8f1ee",
   "metadata": {},
   "outputs": [
    {
     "name": "stdout",
     "output_type": "stream",
     "text": [
      "\n",
      "boston\n",
      "          strong  weak_sig_neg  weak_sig_pos  weak_insig\n",
      "count  50.000000     16.000000     22.000000  582.000000\n",
      "mean    2.358012      3.594958      4.625872    5.262160\n",
      "std     0.252608      0.563996      2.237575    2.687974\n",
      "min     1.956036      2.476354      2.586211    2.100752\n",
      "25%     2.168316      3.297520      3.192107    3.296315\n",
      "50%     2.288616      3.568552      3.845346    4.303423\n",
      "75%     2.493181      3.926862      4.721534    6.200339\n",
      "max     3.010363      4.606684     10.934098   13.718757\n",
      "strong - weak_sig_neg Ttest_indResult(statistic=-12.258920109914218, pvalue=1.8954286902332005e-18)\n",
      "strong - weak_sig_pos Ttest_indResult(statistic=-7.127623827775031, pvalue=7.306103129756899e-10)\n",
      "weak_sig_neg - weak_sig_pos Ttest_indResult(statistic=-1.7956806052510106, pvalue=0.08094308850703832)\n",
      "weak_insig - weak_sig_neg Ttest_indResult(statistic=2.4775501724600852, pvalue=0.013504851200498406)\n",
      "weak_insig - weak_sig_pos Ttest_indResult(statistic=1.095773969667169, pvalue=0.27361587634248324)\n",
      "\n",
      "chicago\n",
      "          strong  weak_sig_neg  weak_sig_pos  weak_insig\n",
      "count  50.000000      7.000000     20.000000  598.000000\n",
      "mean    2.265821      3.667223      5.182131    5.026176\n",
      "std     0.248087      0.897645      3.079644    2.884173\n",
      "min     1.945181      2.495759      2.577799    2.065764\n",
      "25%     2.089126      3.036055      3.036700    3.049564\n",
      "50%     2.198645      3.408259      3.832230    3.979534\n",
      "75%     2.403701      4.422455      5.972940    5.898978\n",
      "max     3.082643      4.849525     11.464166   15.919317\n",
      "strong - weak_sig_neg Ttest_indResult(statistic=-9.19167424348937, pvalue=1.0450401568934955e-12)\n",
      "strong - weak_sig_pos Ttest_indResult(statistic=-6.715181160584758, pvalue=4.605124163016296e-09)\n",
      "weak_sig_neg - weak_sig_pos Ttest_indResult(statistic=-1.2679788298450285, pvalue=0.21648768990831746)\n",
      "weak_insig - weak_sig_neg Ttest_indResult(statistic=1.2449878065390103, pvalue=0.21361984434703088)\n",
      "weak_insig - weak_sig_pos Ttest_indResult(statistic=-0.2373636364098948, pvalue=0.8124536184099798)\n",
      "\n",
      "miami\n",
      "          strong  weak_sig_neg  weak_sig_pos  weak_insig\n",
      "count  50.000000     11.000000     22.000000  578.000000\n",
      "mean    2.159669      3.157175      4.723922    5.804557\n",
      "std     0.180585      1.044668      3.833806    4.872257\n",
      "min     1.875481      1.971680      2.216346    2.067233\n",
      "25%     2.038055      2.397052      2.938628    2.974588\n",
      "50%     2.109814      2.751982      3.089375    3.966450\n",
      "75%     2.240642      3.629878      5.277089    6.273964\n",
      "max     2.690222      4.978585     19.417619   25.131962\n",
      "strong - weak_sig_neg Ttest_indResult(statistic=-6.504406505603811, pvalue=1.8560325460655593e-08)\n",
      "strong - weak_sig_pos Ttest_indResult(statistic=-4.760787475129903, pvalue=1.0068943591949553e-05)\n",
      "weak_sig_neg - weak_sig_pos Ttest_indResult(statistic=-1.3214337370073443, pvalue=0.19602711243710272)\n",
      "weak_insig - weak_sig_neg Ttest_indResult(statistic=1.7998951112526942, pvalue=0.07239054530725068)\n",
      "weak_insig - weak_sig_pos Ttest_indResult(statistic=1.0279509617725509, pvalue=0.30438849790973166)\n"
     ]
    }
   ],
   "source": [
    "network_property = 'diameter'\n",
    "# Note this diameter computation includes the spatial network!\n",
    "\n",
    "for city in ['boston','chicago','miami']:\n",
    "# city = 'boston'\n",
    "    print()\n",
    "    print(city)\n",
    "    print(network_properties_in_activity_categories_dic[network_property][city].describe())\n",
    "    \n",
    "    print('strong - weak_sig_neg',stats.ttest_ind(network_properties_in_activity_categories_dic[network_property][city].loc[~network_properties_in_activity_categories_dic[network_property][city]['strong'].isna(), 'strong'], \n",
    "                          network_properties_in_activity_categories_dic[network_property][city].loc[~network_properties_in_activity_categories_dic[network_property][city]['weak_sig_neg'].isna(), 'weak_sig_neg']))\n",
    "    print('strong - weak_sig_pos',stats.ttest_ind(network_properties_in_activity_categories_dic[network_property][city].loc[~network_properties_in_activity_categories_dic[network_property][city]['strong'].isna(), 'strong'], \n",
    "                          network_properties_in_activity_categories_dic[network_property][city].loc[~network_properties_in_activity_categories_dic[network_property][city]['weak_sig_pos'].isna(), 'weak_sig_pos']))\n",
    "    print('weak_sig_neg - weak_sig_pos',stats.ttest_ind(network_properties_in_activity_categories_dic[network_property][city].loc[~network_properties_in_activity_categories_dic[network_property][city]['weak_sig_neg'].isna(), 'weak_sig_neg'], \n",
    "                          network_properties_in_activity_categories_dic[network_property][city].loc[~network_properties_in_activity_categories_dic[network_property][city]['weak_sig_pos'].isna(), 'weak_sig_pos']))\n",
    "    print('weak_insig - weak_sig_neg',stats.ttest_ind(network_properties_in_activity_categories_dic[network_property][city].loc[~network_properties_in_activity_categories_dic[network_property][city]['weak_insig'].isna(), 'weak_insig'], \n",
    "                          network_properties_in_activity_categories_dic[network_property][city].loc[~network_properties_in_activity_categories_dic[network_property][city]['weak_sig_neg'].isna(), 'weak_sig_neg']))\n",
    "    print('weak_insig - weak_sig_pos',stats.ttest_ind(network_properties_in_activity_categories_dic[network_property][city].loc[~network_properties_in_activity_categories_dic[network_property][city]['weak_insig'].isna(), 'weak_insig'], \n",
    "                          network_properties_in_activity_categories_dic[network_property][city].loc[~network_properties_in_activity_categories_dic[network_property][city]['weak_sig_pos'].isna(), 'weak_sig_pos']))\n"
   ]
  },
  {
   "cell_type": "code",
   "execution_count": 30,
   "id": "09fbdbee",
   "metadata": {
    "scrolled": false
   },
   "outputs": [
    {
     "name": "stdout",
     "output_type": "stream",
     "text": [
      "\n",
      "boston\n",
      "          strong  weak_sig_neg  weak_sig_pos  weak_insig\n",
      "count  50.000000     16.000000     22.000000  582.000000\n",
      "mean    4.640000      7.250000      6.363636    6.113402\n",
      "std     0.802038      1.437591      1.839913    2.500436\n",
      "min     4.000000      5.000000      2.000000    0.000000\n",
      "25%     4.000000      6.000000      6.000000    5.000000\n",
      "50%     4.000000      7.000000      6.500000    6.000000\n",
      "75%     5.000000      8.250000      7.750000    8.000000\n",
      "max     7.000000     10.000000      9.000000   14.000000\n",
      "strong - weak_sig_neg Ttest_indResult(statistic=-9.193778479440194, pvalue=2.5991391077361846e-13)\n",
      "strong - weak_sig_pos Ttest_indResult(statistic=-5.564523675627772, pvalue=4.51213563789634e-07)\n",
      "weak_sig_neg - weak_sig_pos Ttest_indResult(statistic=1.6019508189690048, pvalue=0.11790612618498549)\n",
      "weak_insig - weak_sig_neg Ttest_indResult(statistic=-1.8090554170656956, pvalue=0.07094613648833388)\n",
      "weak_insig - weak_sig_pos Ttest_indResult(statistic=-0.4645014131933197, pvalue=0.6424564890172315)\n",
      "\n",
      "chicago\n",
      "          strong  weak_sig_neg  weak_sig_pos  weak_insig\n",
      "count  50.000000      7.000000     20.000000  598.000000\n",
      "mean    4.400000      6.142857      5.500000    5.984950\n",
      "std     0.638877      0.899735      1.538968    2.013715\n",
      "min     3.000000      5.000000      2.000000    0.000000\n",
      "25%     4.000000      5.500000      5.000000    5.000000\n",
      "50%     4.000000      6.000000      6.000000    6.000000\n",
      "75%     5.000000      7.000000      6.250000    7.000000\n",
      "max     6.000000      7.000000      8.000000   13.000000\n",
      "strong - weak_sig_neg Ttest_indResult(statistic=-6.424127112306512, pvalue=3.2970260122179765e-08)\n",
      "strong - weak_sig_pos Ttest_indResult(statistic=-4.252471808668044, pvalue=6.607877193343026e-05)\n",
      "weak_sig_neg - weak_sig_pos Ttest_indResult(statistic=1.0365802271581515, pvalue=0.30985449427038736)\n",
      "weak_insig - weak_sig_neg Ttest_indResult(statistic=-0.207091526964452, pvalue=0.8360082919353506)\n",
      "weak_insig - weak_sig_pos Ttest_indResult(statistic=1.0662865076359884, pvalue=0.286711879619665)\n",
      "\n",
      "miami\n",
      "          strong  weak_sig_neg  weak_sig_pos  weak_insig\n",
      "count  50.000000     11.000000     22.000000  578.000000\n",
      "mean    4.120000      5.545455      5.318182    5.527682\n",
      "std     0.593846      1.128152      1.286796    1.960643\n",
      "min     3.000000      4.000000      2.000000    0.000000\n",
      "25%     4.000000      5.000000      5.000000    5.000000\n",
      "50%     4.000000      5.000000      5.500000    6.000000\n",
      "75%     4.000000      6.500000      6.000000    7.000000\n",
      "max     6.000000      7.000000      8.000000   12.000000\n",
      "strong - weak_sig_neg Ttest_indResult(statistic=-6.001814155886272, pvalue=1.2843018819237152e-07)\n",
      "strong - weak_sig_pos Ttest_indResult(statistic=-5.431003653455251, pvalue=7.65259992706881e-07)\n",
      "weak_sig_neg - weak_sig_pos Ttest_indResult(statistic=0.4972010975646155, pvalue=0.6225554522086998)\n",
      "weak_insig - weak_sig_neg Ttest_indResult(statistic=-0.02995372158849554, pvalue=0.9761141425141893)\n",
      "weak_insig - weak_sig_pos Ttest_indResult(statistic=0.4969008441655394, pvalue=0.6194415993283495)\n"
     ]
    }
   ],
   "source": [
    "network_property = 'diameter_giant_component'\n",
    "\n",
    "for city in ['boston','chicago','miami']:\n",
    "# city = 'boston'\n",
    "    print()\n",
    "    print(city)\n",
    "    print(network_properties_in_activity_categories_dic[network_property][city].describe())\n",
    "    \n",
    "    print('strong - weak_sig_neg',stats.ttest_ind(network_properties_in_activity_categories_dic[network_property][city].loc[~network_properties_in_activity_categories_dic[network_property][city]['strong'].isna(), 'strong'], \n",
    "                          network_properties_in_activity_categories_dic[network_property][city].loc[~network_properties_in_activity_categories_dic[network_property][city]['weak_sig_neg'].isna(), 'weak_sig_neg']))\n",
    "    print('strong - weak_sig_pos',stats.ttest_ind(network_properties_in_activity_categories_dic[network_property][city].loc[~network_properties_in_activity_categories_dic[network_property][city]['strong'].isna(), 'strong'], \n",
    "                          network_properties_in_activity_categories_dic[network_property][city].loc[~network_properties_in_activity_categories_dic[network_property][city]['weak_sig_pos'].isna(), 'weak_sig_pos']))\n",
    "    print('weak_sig_neg - weak_sig_pos',stats.ttest_ind(network_properties_in_activity_categories_dic[network_property][city].loc[~network_properties_in_activity_categories_dic[network_property][city]['weak_sig_neg'].isna(), 'weak_sig_neg'], \n",
    "                          network_properties_in_activity_categories_dic[network_property][city].loc[~network_properties_in_activity_categories_dic[network_property][city]['weak_sig_pos'].isna(), 'weak_sig_pos']))\n",
    "    print('weak_insig - weak_sig_neg',stats.ttest_ind(network_properties_in_activity_categories_dic[network_property][city].loc[~network_properties_in_activity_categories_dic[network_property][city]['weak_insig'].isna(), 'weak_insig'], \n",
    "                          network_properties_in_activity_categories_dic[network_property][city].loc[~network_properties_in_activity_categories_dic[network_property][city]['weak_sig_neg'].isna(), 'weak_sig_neg']))\n",
    "    print('weak_insig - weak_sig_pos',stats.ttest_ind(network_properties_in_activity_categories_dic[network_property][city].loc[~network_properties_in_activity_categories_dic[network_property][city]['weak_insig'].isna(), 'weak_insig'], \n",
    "                          network_properties_in_activity_categories_dic[network_property][city].loc[~network_properties_in_activity_categories_dic[network_property][city]['weak_sig_pos'].isna(), 'weak_sig_pos']))\n",
    "\n"
   ]
  },
  {
   "cell_type": "code",
   "execution_count": 31,
   "id": "ccca5d5a",
   "metadata": {},
   "outputs": [
    {
     "name": "stdout",
     "output_type": "stream",
     "text": [
      "\n",
      "boston\n",
      "          strong  weak_sig_neg  weak_sig_pos  weak_insig\n",
      "count  50.000000     16.000000     22.000000  582.000000\n",
      "mean    2.381033      3.548761      3.114665    3.151492\n",
      "std     0.279128      0.547624      0.630643    0.885930\n",
      "min     1.956851      2.507311      1.950000    0.000000\n",
      "25%     2.174983      3.209953      2.728719    2.597096\n",
      "50%     2.295348      3.542625      3.239564    3.192543\n",
      "75%     2.527667      3.834133      3.463452    3.730587\n",
      "max     3.143995      4.605128      4.042228    6.134101\n",
      "strong - weak_sig_neg Ttest_indResult(statistic=-11.27833138402407, pvalue=7.455783335235575e-17)\n",
      "strong - weak_sig_pos Ttest_indResult(statistic=-6.877311548631304, pvalue=2.0887231528538273e-09)\n",
      "weak_sig_neg - weak_sig_pos Ttest_indResult(statistic=2.211360215447156, pvalue=0.03344728477580611)\n",
      "weak_insig - weak_sig_neg Ttest_indResult(statistic=-1.7834462894245988, pvalue=0.07502244423658301)\n",
      "weak_insig - weak_sig_pos Ttest_indResult(statistic=0.19305635432023377, pvalue=0.8469799476818203)\n",
      "\n",
      "chicago\n",
      "          strong  weak_sig_neg  weak_sig_pos  weak_insig\n",
      "count  50.000000      7.000000     20.000000  598.000000\n",
      "mean    2.277242      3.358560      2.995172    3.116165\n",
      "std     0.267920      0.618167      0.632807    0.770089\n",
      "min     1.941900      2.502275      1.971831    0.000000\n",
      "25%     2.089742      2.912762      2.519746    2.631611\n",
      "50%     2.199054      3.385374      3.029974    3.130962\n",
      "75%     2.409598      3.811715      3.397866    3.622053\n",
      "max     3.212131      4.173319      3.968700    6.386192\n",
      "strong - weak_sig_neg Ttest_indResult(statistic=-8.244050015007389, pvalue=3.4963088679145566e-11)\n",
      "strong - weak_sig_pos Ttest_indResult(statistic=-6.708454169948836, pvalue=4.734573591007814e-09)\n",
      "weak_sig_neg - weak_sig_pos Ttest_indResult(statistic=1.314857524895024, pvalue=0.20049218964726298)\n",
      "weak_insig - weak_sig_neg Ttest_indResult(statistic=-0.8294194269764351, pvalue=0.4071953235347434)\n",
      "weak_insig - weak_sig_pos Ttest_indResult(statistic=0.6946727053842721, pvalue=0.48752235968685853)\n",
      "\n",
      "miami\n",
      "          strong  weak_sig_neg  weak_sig_pos  weak_insig\n",
      "count  50.000000     11.000000     22.000000  578.000000\n",
      "mean    2.169938      2.865282      2.859633    2.958694\n",
      "std     0.187112      0.586156      0.500485    0.782461\n",
      "min     1.879558      1.977709      1.909091    0.000000\n",
      "25%     2.049286      2.388124      2.610426    2.551050\n",
      "50%     2.120672      2.781376      2.856659    3.027857\n",
      "75%     2.254028      3.334149      3.076485    3.480046\n",
      "max     2.728596      3.695547      4.195064    5.445098\n",
      "strong - weak_sig_neg Ttest_indResult(statistic=-7.066143165258853, pvalue=2.0905104121952505e-09)\n",
      "strong - weak_sig_pos Ttest_indResult(statistic=-8.539678676539033, pvalue=1.852962524197371e-12)\n",
      "weak_sig_neg - weak_sig_pos Ttest_indResult(statistic=0.02888279568683344, pvalue=0.9771432122663981)\n",
      "weak_insig - weak_sig_neg Ttest_indResult(statistic=0.39370985442182604, pvalue=0.6939382329079449)\n",
      "weak_insig - weak_sig_pos Ttest_indResult(statistic=0.5889746084123914, pvalue=0.5561007192947154)\n"
     ]
    }
   ],
   "source": [
    "network_property = 'ave_distance_giant_component'\n",
    "\n",
    "for city in ['boston','chicago','miami']:\n",
    "# city = 'boston'\n",
    "    print()\n",
    "    print(city)\n",
    "    print(network_properties_in_activity_categories_dic[network_property][city].describe())\n",
    "    \n",
    "    print('strong - weak_sig_neg',stats.ttest_ind(network_properties_in_activity_categories_dic[network_property][city].loc[~network_properties_in_activity_categories_dic[network_property][city]['strong'].isna(), 'strong'], \n",
    "                          network_properties_in_activity_categories_dic[network_property][city].loc[~network_properties_in_activity_categories_dic[network_property][city]['weak_sig_neg'].isna(), 'weak_sig_neg']))\n",
    "    print('strong - weak_sig_pos',stats.ttest_ind(network_properties_in_activity_categories_dic[network_property][city].loc[~network_properties_in_activity_categories_dic[network_property][city]['strong'].isna(), 'strong'], \n",
    "                          network_properties_in_activity_categories_dic[network_property][city].loc[~network_properties_in_activity_categories_dic[network_property][city]['weak_sig_pos'].isna(), 'weak_sig_pos']))\n",
    "    print('weak_sig_neg - weak_sig_pos',stats.ttest_ind(network_properties_in_activity_categories_dic[network_property][city].loc[~network_properties_in_activity_categories_dic[network_property][city]['weak_sig_neg'].isna(), 'weak_sig_neg'], \n",
    "                          network_properties_in_activity_categories_dic[network_property][city].loc[~network_properties_in_activity_categories_dic[network_property][city]['weak_sig_pos'].isna(), 'weak_sig_pos']))\n",
    "    print('weak_insig - weak_sig_neg',stats.ttest_ind(network_properties_in_activity_categories_dic[network_property][city].loc[~network_properties_in_activity_categories_dic[network_property][city]['weak_insig'].isna(), 'weak_insig'], \n",
    "                          network_properties_in_activity_categories_dic[network_property][city].loc[~network_properties_in_activity_categories_dic[network_property][city]['weak_sig_neg'].isna(), 'weak_sig_neg']))\n",
    "    print('weak_insig - weak_sig_pos',stats.ttest_ind(network_properties_in_activity_categories_dic[network_property][city].loc[~network_properties_in_activity_categories_dic[network_property][city]['weak_insig'].isna(), 'weak_insig'], \n",
    "                          network_properties_in_activity_categories_dic[network_property][city].loc[~network_properties_in_activity_categories_dic[network_property][city]['weak_sig_pos'].isna(), 'weak_sig_pos']))\n",
    "\n"
   ]
  },
  {
   "cell_type": "markdown",
   "id": "206f2acc",
   "metadata": {},
   "source": [
    "#### edge betweenness centrality\n",
    "\n",
    "- The weak mobility ties play a more important structural role than the strong mobility ties based on the edge betweenness centrality metric.\n",
    "- However, it could be a natural result of the quantity of the mobility - weaker ties are more likely to be structurally important. \n",
    "- I am wondering how to resolve this issue. "
   ]
  },
  {
   "cell_type": "code",
   "execution_count": 66,
   "id": "29eb84c9",
   "metadata": {},
   "outputs": [
    {
     "name": "stdout",
     "output_type": "stream",
     "text": [
      "\n",
      "boston\n",
      "          strong  weak_sig_neg  weak_sig_pos  weak_insig\n",
      "count  50.000000     16.000000     22.000000  581.000000\n",
      "mean    2.224844      3.172663      5.791756    7.838554\n",
      "std     0.539924      0.769415      3.365839    6.647108\n",
      "min     1.476966      1.634014      1.969296    0.379672\n",
      "25%     1.828212      2.678374      3.638093    3.254770\n",
      "50%     2.108507      3.068286      4.643444    5.478375\n",
      "75%     2.427810      3.601465      6.744719   10.233820\n",
      "max     3.642681      4.398704     14.512485   55.700223\n",
      "strong - weak_sig_neg Ttest_indResult(statistic=-5.485020476169384, pvalue=7.528911784978724e-07)\n",
      "strong - weak_sig_pos Ttest_indResult(statistic=-7.345258561367069, pvalue=2.920164613396913e-10)\n",
      "weak_sig_neg - weak_sig_pos Ttest_indResult(statistic=-3.0445372433773064, pvalue=0.004338704167413825)\n",
      "weak_insig - weak_sig_neg Ttest_indResult(statistic=2.804994320633276, pvalue=0.005196171420421061)\n",
      "weak_insig - weak_sig_pos Ttest_indResult(statistic=1.4364798838176625, pvalue=0.15138616380543912)\n",
      "\n",
      "chicago\n",
      "          strong  weak_sig_neg  weak_sig_pos  weak_insig\n",
      "count  50.000000      7.000000     20.000000  594.000000\n",
      "mean    2.256946      3.737642      6.979409    8.836242\n",
      "std     0.723788      1.322632      4.892755    8.870543\n",
      "min     1.415211      1.995832      1.968879    1.883352\n",
      "25%     1.776115      2.607620      3.440897    3.242963\n",
      "50%     2.012104      4.140478      4.941732    5.454657\n",
      "75%     2.416189      4.751740      8.566162   11.786299\n",
      "max     4.495191      5.308463     18.006794   66.262503\n",
      "strong - weak_sig_neg Ttest_indResult(statistic=-4.524756841897609, pvalue=3.274774158458498e-05)\n",
      "strong - weak_sig_pos Ttest_indResult(statistic=-6.71462958260872, pvalue=4.6156045900673e-09)\n",
      "weak_sig_neg - weak_sig_pos Ttest_indResult(statistic=-1.7109984763533777, pvalue=0.09946370253035285)\n",
      "weak_insig - weak_sig_neg Ttest_indResult(statistic=1.5192981463302633, pvalue=0.12921509225642447)\n",
      "weak_insig - weak_sig_pos Ttest_indResult(statistic=0.9308693523218184, pvalue=0.35228819436083636)\n",
      "\n",
      "miami\n",
      "          strong  weak_sig_neg  weak_sig_pos  weak_insig\n",
      "count  50.000000     11.000000     22.000000  565.000000\n",
      "mean    2.157475      3.630595      5.139139    5.428885\n",
      "std     0.634799      1.704659      3.388596    3.576145\n",
      "min     1.388880      1.764759      1.688682    1.688682\n",
      "25%     1.683511      2.181596      2.741669    2.877473\n",
      "50%     1.931732      3.252228      3.758404    4.151878\n",
      "75%     2.503229      4.639465      7.041192    7.018303\n",
      "max     4.138578      7.134532     16.379468   27.097655\n",
      "strong - weak_sig_neg Ttest_indResult(statistic=-4.863532372518657, pvalue=8.931771115860252e-06)\n",
      "strong - weak_sig_pos Ttest_indResult(statistic=-6.036949227880349, pvalue=6.741389011366676e-08)\n",
      "weak_sig_neg - weak_sig_pos Ttest_indResult(statistic=-1.383734212126872, pvalue=0.1763231666958114)\n",
      "weak_insig - weak_sig_neg Ttest_indResult(statistic=1.6630198182225018, pvalue=0.09685434624227546)\n",
      "weak_insig - weak_sig_pos Ttest_indResult(statistic=0.37352255768925396, pvalue=0.708894879730611)\n"
     ]
    }
   ],
   "source": [
    "network_property = 'edge_betweenness_centrality'\n",
    "\n",
    "for city in ['boston','chicago','miami']:\n",
    "# city = 'boston'\n",
    "    print()\n",
    "    print(city)\n",
    "    print(network_properties_in_activity_categories_dic[network_property][city].describe())\n",
    "    \n",
    "    print('strong - weak_sig_neg',stats.ttest_ind(network_properties_in_activity_categories_dic[network_property][city].loc[~network_properties_in_activity_categories_dic[network_property][city]['strong'].isna(), 'strong'], \n",
    "                          network_properties_in_activity_categories_dic[network_property][city].loc[~network_properties_in_activity_categories_dic[network_property][city]['weak_sig_neg'].isna(), 'weak_sig_neg']))\n",
    "    print('strong - weak_sig_pos',stats.ttest_ind(network_properties_in_activity_categories_dic[network_property][city].loc[~network_properties_in_activity_categories_dic[network_property][city]['strong'].isna(), 'strong'], \n",
    "                          network_properties_in_activity_categories_dic[network_property][city].loc[~network_properties_in_activity_categories_dic[network_property][city]['weak_sig_pos'].isna(), 'weak_sig_pos']))\n",
    "    print('weak_sig_neg - weak_sig_pos',stats.ttest_ind(network_properties_in_activity_categories_dic[network_property][city].loc[~network_properties_in_activity_categories_dic[network_property][city]['weak_sig_neg'].isna(), 'weak_sig_neg'], \n",
    "                          network_properties_in_activity_categories_dic[network_property][city].loc[~network_properties_in_activity_categories_dic[network_property][city]['weak_sig_pos'].isna(), 'weak_sig_pos']))\n",
    "    print('weak_insig - weak_sig_neg',stats.ttest_ind(network_properties_in_activity_categories_dic[network_property][city].loc[~network_properties_in_activity_categories_dic[network_property][city]['weak_insig'].isna(), 'weak_insig'], \n",
    "                          network_properties_in_activity_categories_dic[network_property][city].loc[~network_properties_in_activity_categories_dic[network_property][city]['weak_sig_neg'].isna(), 'weak_sig_neg']))\n",
    "    print('weak_insig - weak_sig_pos',stats.ttest_ind(network_properties_in_activity_categories_dic[network_property][city].loc[~network_properties_in_activity_categories_dic[network_property][city]['weak_insig'].isna(), 'weak_insig'], \n",
    "                          network_properties_in_activity_categories_dic[network_property][city].loc[~network_properties_in_activity_categories_dic[network_property][city]['weak_sig_pos'].isna(), 'weak_sig_pos']))\n",
    "\n"
   ]
  },
  {
   "cell_type": "markdown",
   "id": "90cc7b03",
   "metadata": {},
   "source": [
    "### Degree distributions "
   ]
  },
  {
   "cell_type": "code",
   "execution_count": 82,
   "id": "29b350cb",
   "metadata": {},
   "outputs": [],
   "source": [
    "city = 'boston'"
   ]
  },
  {
   "cell_type": "code",
   "execution_count": 74,
   "id": "b3901dc0",
   "metadata": {
    "scrolled": true
   },
   "outputs": [
    {
     "name": "stdout",
     "output_type": "stream",
     "text": [
      "['Road', 'Bank', 'Medical', 'Chinese', 'Park', 'Department Store', 'Pool', 'Residence Hall', 'Auto Dealer', 'Grocery Store', 'Convenience Store', 'Donuts', \"Doctor's Office\", 'Pizza', 'Hospital', 'Nail Salon', 'School', 'Gas Station', 'High School', 'Coworking Space', 'Neighborhood', 'Fast Food', 'Bus', 'Liquor Store', 'Church', 'Sandwiches', 'Automotive', 'Coffee Shop', 'Café', 'Tech Startup', 'Playground', 'American', 'Supermarket', 'Big Box Store', 'Shop', 'Gym / Fitness', 'Pharmacy', 'Office', 'Salon / Barbershop', 'Laundry', 'Hardware', 'Residential', \"Dentist's Office\", 'Italian', 'Gym', 'Hotel', 'Other Outdoors', 'Building', 'Entertainment', 'Bar']\n"
     ]
    }
   ],
   "source": [
    "print(activity_cat_agg_outputs_dic[city]['strong'])"
   ]
  },
  {
   "cell_type": "code",
   "execution_count": 75,
   "id": "0a9f6052",
   "metadata": {},
   "outputs": [
    {
     "name": "stdout",
     "output_type": "stream",
     "text": [
      "['Discount Store', 'Fried Chicken', 'Convenience Store', 'Tattoo', 'Pet Service', 'Laundromat', 'Thrift / Vintage', 'Latin American', 'Brazilian', 'Caribbean', 'Car Washes', 'Video Games', 'Strip Club', 'Storage', 'Spanish', 'Hot Dogs']\n"
     ]
    }
   ],
   "source": [
    "print(activity_cat_agg_outputs_dic[city]['weak_sig_neg'])"
   ]
  },
  {
   "cell_type": "code",
   "execution_count": 76,
   "id": "64101e0b",
   "metadata": {},
   "outputs": [
    {
     "name": "stdout",
     "output_type": "stream",
     "text": [
      "['Bagels', 'Engineering', 'Food Stand', 'Science Museum', 'Gastropub', 'Tennis Court', 'Football', 'Fishing Store', 'Ski Area', 'Skating Rink', 'Art Museum', 'Peking Duck', 'French', 'Locksmith', 'University', 'Synagogue', 'Cupcakes', 'Sorority House', 'Indian Chinese', 'Noodles', 'Cycle Studio', 'Salad']\n"
     ]
    }
   ],
   "source": [
    "print(activity_cat_agg_outputs_dic[city]['weak_sig_pos'])"
   ]
  },
  {
   "cell_type": "code",
   "execution_count": 77,
   "id": "c4223ab9",
   "metadata": {
    "scrolled": true
   },
   "outputs": [
    {
     "name": "stdout",
     "output_type": "stream",
     "text": [
      "['Advertising Agency', 'Toll Plaza', 'Outdoor Supplies', 'Terminal', 'Kingdom Hall', 'Flower Shop', 'Outdoors & Recreation', 'Gaming Cafe', 'Video Store', 'Tex-Mex', 'Jewelry', 'Funeral Home', 'Pet Service', 'EV Charging', 'Nursery School', 'Lottery', 'Australian', 'Light Rail', 'Costume Shop', 'Community College', 'College Bookstore', 'Auto Garage', 'Food Truck', 'Arepas', 'Event Space', 'Temple', 'Outlet Store', 'Billiards', 'Bath House', 'Weight Loss Center', 'Vietnamese', 'Korean', 'Check Cashing Service', 'Shipping Store', 'Restaurant', 'TV Station', 'Theme Restaurant', 'Empanada', 'Pawn Shop', 'Dongbei', 'Police Station', 'Concert Hall', 'Flight School', 'Food Court', 'Poutine Place', 'Middle Eastern', 'Tram', 'Prayer Room', 'Farm', 'Dive Bar', 'Music Festival', 'Gate', 'Technology', 'Deli / Bodega', 'Colombian', 'Strip Club', 'Bowling Alley', 'Racetrack', 'Salad', 'Toll Booth', 'Surf Spot', 'Hotpot', 'Karaoke', 'Food Stand', 'Chocolate Shop', 'Travel', 'Desserts', 'Prison', 'ATM', 'Acupuncturist', 'Embassy', 'Taxi', 'Nightlife', 'Mediterranean', 'South American', 'Hobbies', 'Falafel', 'Frame Store', 'Peking Duck', 'Cave', 'Apparel', 'Administrative Building', 'Ramen', 'Cosmetics', 'Beach Bar', 'Steakhouse', 'Lawyer', 'Fishing Spot', 'Camera Store', 'Office Supplies', 'Mobility Store', 'Skate Park', 'Shoes', 'Cambodian', 'Rehab Center', 'Breakfast', 'Comedy Club', 'Border Crossing', 'Physical Therapist', 'Tailor', 'Rock Climbing', 'Fruit & Vegetable Store', 'Conference room', 'Currency Exchange', 'Stadium', 'Hot Spring', 'Piers', 'Go Kart', 'Circus School', 'IT Services', 'Arcade', 'Bagels', 'Fried Chicken', 'History Museum', 'Mattress Store', 'Trail', 'Tour Provider', 'Recruiting Agency', 'Courthouse', 'Wings', 'Castle', 'Transportation Services', 'Observatory', 'Hospital Ward', 'Herbs & Spices Store', 'Bike Trail', 'Veterinarians', 'Plane', 'Convention Center', 'Bistro', 'Carpet Store', 'Trade School', 'Port', 'Taxi Stand', 'Flea Market', 'Recording Studio', 'Other Event', 'Szechuan', 'Skating Rink', 'Bowling Green', 'North Indian', 'Athletics & Sports', 'Construction', 'Knitting Supplies', 'Soup', 'Stables', 'Golf Course', 'Sorority House', 'Trailer Park', 'Jewish', 'Swim School', 'Lighting', 'Pet Store', 'Butcher', 'Arts & Entertainment', 'Soccer', 'Newsstand', 'Market', 'Preserve', 'Music School', 'Gun Range', 'Cupcakes', 'Food & Drink', 'Vape Store', 'RV Park', 'Motorcycle Shop', 'Museum', 'Beer Store', 'Ski Chalet', 'Football', 'Vacation Rental', 'Business Center', 'Paintball Field', 'Internet Cafe', 'Cruise', 'Frat House', 'Synagogue', 'Housing Development', 'Eastern European', 'Medical School', 'Paella', 'Garden Center', 'Religious School', 'Indian', 'Education', 'State', 'Academic Building', 'River', 'Photography Lab', 'Military Base', 'Botanical Garden', 'Basketball Court', 'Laboratory', 'Town Hall', 'Meze Restaurants', 'Diner', 'Canal Lock', 'Credit Union', 'Sporting Goods', 'Music Venue', 'Fabric Shop', 'Gymnastics Gym', 'Arts & Crafts', 'Performing Arts', \"Women's Store\", 'Lake', 'Yogurt', 'Himalayan', 'Planetarium', 'Corporate Amenity', 'Yoga Studio', 'Scenic Lookout', 'Event Services', 'Auditorium', 'Line / Queue', 'Optical', 'Toys & Games', 'Casino', 'Bike Shop', 'Radio Station', 'Board Shop', 'Fountain', 'Lingerie', 'Electronics', 'Cemetery', 'Accessories', 'Gift Shop', 'Comfort Food', 'City', 'Indie Movies', 'Cocktail', 'Caribbean', 'Hockey Rink', 'South Indian', 'Daycare', 'Forest', 'Ethiopian', 'Urgent Care Center', 'Food', 'Shrine', 'Laser Tag', 'Library', 'Creperie', 'Chairlift', 'Mobile Phones', 'Hawaiian', 'Science', 'Art Gallery', 'Noodles', 'Baggage Claim', 'Preschool', 'Recreation Center', 'Pilates Studio', 'Chiropractors', 'Apres Ski Bar', 'Furniture / Home', 'Boutique', 'Snacks', 'Dive Shop', 'Boat / Ferry', 'Print Shop', 'Asian', 'Track', 'University', 'Photo Studio', 'Gay Bar', 'Piercing Parlor', 'Souvlaki', 'Belgian', 'Roller Rink', 'Spanish', 'Taiwanese', 'Tacos', 'Japanese', 'Arts', 'Mental Health', 'Shops', 'Portuguese', 'Burgers', 'Bike', 'Indie', 'Hunting Supply', 'Martial Arts', 'Brewery', 'Cuban', \"Men's Store\", 'Driving School', 'Beer Bar', 'Waste Facility', 'Latin American', 'Eye Doctor', 'Night Market', 'Animal Shelter', 'Convention', 'Burmese', 'Mosque', 'Buffet', 'Motel', 'Brazilian', 'Fish & Chips', 'Antiques', 'Malay', 'Hotel Bar', 'African', 'Pub', 'Palace', 'Elementary School', 'Lab', 'Cheese Shop', 'Cajun / Creole', 'Polish', 'Fishing Store', 'Bridal', 'Island', 'Spiritual', 'Locksmith', 'Discount Store', 'Baby Store', 'Roof Deck', 'Car Washes', 'Cricket', 'Real Estate', 'Floating Market', 'Opera House', 'Fire Station', 'Massage Studio', 'Landmark', 'Club', 'Assisted Living', 'Rental Service', 'Golf Driving Range', 'Business Services', 'Dumplings', 'Travel Agency', 'Indoor Play Area', 'Nutritionist', 'Language School', 'Used Bookstore', 'Cycle Studio', 'Waterfall', 'Airport', 'Dog Run', 'Speakeasy', 'Harbor / Marina', 'Laundromat', 'Hockey', 'Ice Cream', 'Badminton Court', 'Dry Cleaner', 'Ski Area', 'Smoothie Shop', 'Rock Club', 'Distillery', 'Bus Stop', 'Fish Market', 'Theme Park', 'Music Store', 'Dance Studio', 'Russian', 'Theater', 'Voting Booth', 'Greek', 'Tanning Salon', 'Warehouse', 'Tourist Information', 'Memorial Site', 'Child Care', 'Rest Areas', 'Distributor', 'Kosher', 'Motorsports Shop', 'Metro', 'Exhibit', 'History', 'Thai', 'Summer Camp', 'Zoo', 'Boarding', 'Airport Service', 'Sports Club', 'Law School', 'Pop-Up Shop', 'Non-Profit', 'Leather Goods', 'Adult Boutique', 'Bathing Area', 'Math', 'Disc Golf', 'Financial / Legal', 'Stationery Store', 'Amphitheater', 'Lodge', 'Parking', 'Train', 'Thrift / Vintage', 'Beach', 'Shopping Plaza', 'Public Art', 'Lounge', 'Rental Car', 'College & Education', 'Engineering', 'Ballroom', 'Luggage Store', 'Corporate Cafeteria', 'Perfume Shop', 'Circus', 'Irish', 'Bus Station', 'National Park', 'Classroom', 'Government', 'Organic Grocery', 'Boat Rental', 'Intersection', 'Hostel', 'Medical Supply', 'Dive Spot', 'Drugstore', 'Shoe Repair', 'Street Art', 'Storage', 'Alternative Healer', 'Nudist Beach', 'Tennis Court', 'Candy Store', 'Tunnel', 'Southern / Soul', 'Mall', 'Hindu Temple', 'Festival', 'Cable Car', 'Sports Bar', 'Field', 'Soccer Field', 'Other Repair', 'Mini Golf', 'Argentinian', 'Auto Workshop', 'Salsa Club', 'Cultural Center', 'Fair', 'Plaza', 'Whisky Bar', 'Tapas', 'Mexican', 'Pie Shop', 'Meeting Room', 'Campground', 'Moroccan', 'Social Club', 'Fireworks Store', 'Cantonese', 'Mac & Cheese', 'Soba', 'Country Dance Club', 'B & B', 'Recycling', 'Emergency Room', 'Souvenir Shop', 'Kids Store', 'Juice Bar', 'Burritos', 'Smoke Shop', 'Halal', 'Capitol Building', 'Tree', 'Hockey Field', 'Bubble Tea', 'Venezuelan', 'Gun Shop', 'Garden', 'Hookah Bar', 'Home Services', 'Hot Dogs', 'Insurance Office', 'Communications', 'Squash Court', 'Student Center', 'Well', 'Vineyard', 'Factory', 'Village', 'Spa', 'Duty-free', 'Boxing Gym', 'Post Office', \"Farmer's Market\", 'BBQ', 'Tattoo', 'Street Food Gathering', 'Moving Target', 'Israeli', 'Mountain', 'Record Shop', 'Monastery', 'Movie Theater', 'Water Park', 'Baseball', 'Shanghai', 'Baseball Field', 'Afghan', 'Indian Chinese', 'Christmas Market', 'Campaign', 'New American', 'Supplement Shop', 'Gastropub', 'Tennis', 'Medical Lab', 'Quad', 'Video Games', 'Dispensary', 'Hunan', 'Health & Beauty', 'Platform', 'City Hall', 'Film Studio', 'Seafood', 'Cafeteria', 'Food Service', 'Climbing Gym', 'Beer Garden', 'Comic Shop', 'Train Station', 'Aquarium', 'Dim Sum', 'Tea Room', 'Tibetan', 'Sushi', 'Canal', 'Bookstore', 'Professional', 'Wine Bar', 'Waterfront', 'Pitch', 'Sake Bar', 'Turkish', 'Community Center', 'Maternity Clinic', 'Jazz Club', 'Kitchen Supply', 'Piano Bar', 'Pastry', 'Zoo Exhibit', 'Astrologer', 'Pedestrian Street/Plaza', 'Gluten-free', 'Middle School', 'Art Museum', 'Volleyball Court', 'Peruvian', 'Baggage Locker', 'Bridge', 'German', 'Romanian', 'Gourmet', 'Heliport', 'Resort', 'Adult Education Center', 'Outdoor Gym', 'Science Museum', 'Design', 'Bakery', 'Private School', 'English', 'Historic Site', 'Winery', 'Vegetarian / Vegan', 'Town', 'Sculpture', 'Cineplex', 'Buddhist Temple', 'Rec Center', 'Warehouse Store', 'Watch Shops', 'Nightclub', 'Lighthouse', 'Wine Shop', 'Outdoor Sculpture', 'Basketball', 'Health Food Store']\n"
     ]
    }
   ],
   "source": [
    "print(activity_cat_agg_outputs_dic[city]['weak_insig'])"
   ]
  },
  {
   "cell_type": "code",
   "execution_count": 68,
   "id": "10d3c0ea",
   "metadata": {},
   "outputs": [
    {
     "name": "stdout",
     "output_type": "stream",
     "text": [
      "(array([  1,   2,   3,   4,   5,   6,   7,   8,   9,  10,  11,  12,  13,\n",
      "        14,  15,  16,  17,  19,  20,  21,  22,  23,  24,  25,  26,  27,\n",
      "        28,  29,  30,  32,  33,  34,  35,  37,  38,  39,  40,  42,  43,\n",
      "        44,  45,  46,  47,  49,  50,  51,  53,  54,  55,  59,  72,  84,\n",
      "       128, 227, 270]), array([159, 197, 134, 112,  70,  51,  31,  16,  10,   8,   8,   5,   5,\n",
      "         5,   7,   3,   3,   5,   6,   1,   4,   6,   2,   5,   5,   4,\n",
      "         1,   3,   2,   7,   1,   2,   2,   2,   1,   1,   2,   1,   1,\n",
      "         2,   1,   1,   1,   1,   1,   1,   1,   1,   1,   1,   1,   1,\n",
      "         1,   1,   1]))\n"
     ]
    }
   ],
   "source": [
    "print(network_property_degree_clustering['boston']['ATM']['degree_distributions'])"
   ]
  },
  {
   "cell_type": "markdown",
   "id": "10e7daa6",
   "metadata": {},
   "source": [
    "#### Wait - does it look like the weak ties have more power-law distributions?"
   ]
  },
  {
   "cell_type": "code",
   "execution_count": 78,
   "id": "22ecd32f",
   "metadata": {},
   "outputs": [
    {
     "data": {
      "image/png": "[encoded data removed]",
      "text/plain": [
       "<Figure size 640x480 with 1 Axes>"
      ]
     },
     "metadata": {},
     "output_type": "display_data"
    }
   ],
   "source": [
    "# strong\n",
    "activity = 'American'\n",
    "node_degrees=network_property_degree_clustering['boston'][activity]['degree_distributions'][0]\n",
    "degree_counts=network_property_degree_clustering['boston'][activity]['degree_distributions'][1]\n",
    "plt.bar(node_degrees, degree_counts)\n",
    "plt.show()\n"
   ]
  },
  {
   "cell_type": "code",
   "execution_count": 79,
   "id": "08e99a65",
   "metadata": {},
   "outputs": [
    {
     "data": {
      "image/png": "[encoded data removed]",
      "text/plain": [
       "<Figure size 640x480 with 1 Axes>"
      ]
     },
     "metadata": {},
     "output_type": "display_data"
    }
   ],
   "source": [
    "# weak negative\n",
    "activity = 'Fried Chicken'\n",
    "node_degrees=network_property_degree_clustering['boston'][activity]['degree_distributions'][0]\n",
    "degree_counts=network_property_degree_clustering['boston'][activity]['degree_distributions'][1]\n",
    "plt.bar(node_degrees, degree_counts)\n",
    "plt.show()\n"
   ]
  },
  {
   "cell_type": "code",
   "execution_count": 80,
   "id": "2c5e0516",
   "metadata": {},
   "outputs": [
    {
     "data": {
      "image/png": "[encoded data removed]",
      "text/plain": [
       "<Figure size 640x480 with 1 Axes>"
      ]
     },
     "metadata": {},
     "output_type": "display_data"
    }
   ],
   "source": [
    "# weak positive\n",
    "activity = 'French'\n",
    "node_degrees=network_property_degree_clustering['boston'][activity]['degree_distributions'][0]\n",
    "degree_counts=network_property_degree_clustering['boston'][activity]['degree_distributions'][1]\n",
    "plt.bar(node_degrees, degree_counts)\n",
    "plt.show()\n"
   ]
  },
  {
   "cell_type": "code",
   "execution_count": 81,
   "id": "f370ea5e",
   "metadata": {},
   "outputs": [
    {
     "data": {
      "image/png": "[encoded data removed]",
      "text/plain": [
       "<Figure size 640x480 with 1 Axes>"
      ]
     },
     "metadata": {},
     "output_type": "display_data"
    }
   ],
   "source": [
    "# weak insig\n",
    "activity = 'Frat House'\n",
    "node_degrees=network_property_degree_clustering['boston'][activity]['degree_distributions'][0]\n",
    "degree_counts=network_property_degree_clustering['boston'][activity]['degree_distributions'][1]\n",
    "plt.bar(node_degrees, degree_counts)\n",
    "plt.show()\n"
   ]
  },
  {
   "cell_type": "code",
   "execution_count": null,
   "id": "240cf9d0",
   "metadata": {},
   "outputs": [],
   "source": []
  },
  {
   "cell_type": "code",
   "execution_count": null,
   "id": "b46b37f2",
   "metadata": {},
   "outputs": [],
   "source": []
  },
  {
   "cell_type": "code",
   "execution_count": null,
   "id": "5e67a06c",
   "metadata": {},
   "outputs": [],
   "source": []
  },
  {
   "cell_type": "code",
   "execution_count": null,
   "id": "f6178fcd",
   "metadata": {},
   "outputs": [],
   "source": []
  },
  {
   "cell_type": "code",
   "execution_count": null,
   "id": "da485e66",
   "metadata": {},
   "outputs": [],
   "source": []
  },
  {
   "cell_type": "code",
   "execution_count": null,
   "id": "2a89632d",
   "metadata": {},
   "outputs": [],
   "source": []
  },
  {
   "cell_type": "code",
   "execution_count": null,
   "id": "b5e49543",
   "metadata": {},
   "outputs": [],
   "source": []
  },
  {
   "cell_type": "code",
   "execution_count": null,
   "id": "d590e90b",
   "metadata": {},
   "outputs": [],
   "source": []
  },
  {
   "cell_type": "code",
   "execution_count": null,
   "id": "4a444c0b",
   "metadata": {},
   "outputs": [],
   "source": []
  },
  {
   "cell_type": "code",
   "execution_count": null,
   "id": "bf2a464f",
   "metadata": {},
   "outputs": [],
   "source": []
  }
 ],
 "metadata": {
  "kernelspec": {
   "display_name": "Python 3",
   "language": "python",
   "name": "python3"
  },
  "language_info": {
   "codemirror_mode": {
    "name": "ipython",
    "version": 3
   },
   "file_extension": ".py",
   "mimetype": "text/x-python",
   "name": "python",
   "nbconvert_exporter": "python",
   "pygments_lexer": "ipython3",
   "version": "3.7.11"
  }
 },
 "nbformat": 4,
 "nbformat_minor": 5
}
