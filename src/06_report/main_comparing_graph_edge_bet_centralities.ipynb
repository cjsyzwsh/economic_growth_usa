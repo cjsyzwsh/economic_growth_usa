{
 "cells": [
  {
   "cell_type": "markdown",
   "id": "9b9c4a23",
   "metadata": {},
   "source": [
    "# Comparing edge bet centralities\n",
    "\n",
    "- Predictive ties are structurally critical."
   ]
  },
  {
   "cell_type": "code",
   "execution_count": 1,
   "id": "b57d6316",
   "metadata": {
    "collapsed": true
   },
   "outputs": [
    {
     "name": "stderr",
     "output_type": "stream",
     "text": [
      "\n",
      "Bad key text.latex.unicode in file /home/jtl/anaconda3/lib/python3.7/site-packages/matplotlib/mpl-data/stylelib/_classic_test.mplstyle, line 112 ('text.latex.unicode : False # use \"ucs\" and \"inputenc\" LaTeX packages for handling')\n",
      "You probably need to get an updated matplotlibrc file from\n",
      "https://github.com/matplotlib/matplotlib/blob/v3.5.1/matplotlibrc.template\n",
      "or from the matplotlib source distribution\n",
      "\n",
      "Bad key text.latex.preview in file /home/jtl/anaconda3/lib/python3.7/site-packages/matplotlib/mpl-data/stylelib/_classic_test.mplstyle, line 125 ('text.latex.preview : False')\n",
      "You probably need to get an updated matplotlibrc file from\n",
      "https://github.com/matplotlib/matplotlib/blob/v3.5.1/matplotlibrc.template\n",
      "or from the matplotlib source distribution\n",
      "\n",
      "Bad key mathtext.fallback_to_cm in file /home/jtl/anaconda3/lib/python3.7/site-packages/matplotlib/mpl-data/stylelib/_classic_test.mplstyle, line 157 ('mathtext.fallback_to_cm : True  # When True, use symbols from the Computer Modern')\n",
      "You probably need to get an updated matplotlibrc file from\n",
      "https://github.com/matplotlib/matplotlib/blob/v3.5.1/matplotlibrc.template\n",
      "or from the matplotlib source distribution\n",
      "\n",
      "Bad key savefig.jpeg_quality in file /home/jtl/anaconda3/lib/python3.7/site-packages/matplotlib/mpl-data/stylelib/_classic_test.mplstyle, line 420 ('savefig.jpeg_quality: 95       # when a jpeg is saved, the default quality parameter.')\n",
      "You probably need to get an updated matplotlibrc file from\n",
      "https://github.com/matplotlib/matplotlib/blob/v3.5.1/matplotlibrc.template\n",
      "or from the matplotlib source distribution\n",
      "\n",
      "Bad key savefig.frameon in file /home/jtl/anaconda3/lib/python3.7/site-packages/matplotlib/mpl-data/stylelib/_classic_test.mplstyle, line 423 ('savefig.frameon : True')\n",
      "You probably need to get an updated matplotlibrc file from\n",
      "https://github.com/matplotlib/matplotlib/blob/v3.5.1/matplotlibrc.template\n",
      "or from the matplotlib source distribution\n",
      "\n",
      "Bad key pgf.debug in file /home/jtl/anaconda3/lib/python3.7/site-packages/matplotlib/mpl-data/stylelib/_classic_test.mplstyle, line 444 ('pgf.debug           : False')\n",
      "You probably need to get an updated matplotlibrc file from\n",
      "https://github.com/matplotlib/matplotlib/blob/v3.5.1/matplotlibrc.template\n",
      "or from the matplotlib source distribution\n",
      "\n",
      "Bad key verbose.level in file /home/jtl/anaconda3/lib/python3.7/site-packages/matplotlib/mpl-data/stylelib/_classic_test.mplstyle, line 475 ('verbose.level  : silent      # one of silent, helpful, debug, debug-annoying')\n",
      "You probably need to get an updated matplotlibrc file from\n",
      "https://github.com/matplotlib/matplotlib/blob/v3.5.1/matplotlibrc.template\n",
      "or from the matplotlib source distribution\n",
      "\n",
      "Bad key verbose.fileo in file /home/jtl/anaconda3/lib/python3.7/site-packages/matplotlib/mpl-data/stylelib/_classic_test.mplstyle, line 476 ('verbose.fileo  : sys.stdout  # a log filename, sys.stdout or sys.stderr')\n",
      "You probably need to get an updated matplotlibrc file from\n",
      "https://github.com/matplotlib/matplotlib/blob/v3.5.1/matplotlibrc.template\n",
      "or from the matplotlib source distribution\n",
      "\n",
      "Bad key keymap.all_axes in file /home/jtl/anaconda3/lib/python3.7/site-packages/matplotlib/mpl-data/stylelib/_classic_test.mplstyle, line 493 ('keymap.all_axes : a                 # enable all axes')\n",
      "You probably need to get an updated matplotlibrc file from\n",
      "https://github.com/matplotlib/matplotlib/blob/v3.5.1/matplotlibrc.template\n",
      "or from the matplotlib source distribution\n",
      "\n",
      "Bad key animation.avconv_path in file /home/jtl/anaconda3/lib/python3.7/site-packages/matplotlib/mpl-data/stylelib/_classic_test.mplstyle, line 504 ('animation.avconv_path: avconv     # Path to avconv binary. Without full path')\n",
      "You probably need to get an updated matplotlibrc file from\n",
      "https://github.com/matplotlib/matplotlib/blob/v3.5.1/matplotlibrc.template\n",
      "or from the matplotlib source distribution\n",
      "\n",
      "Bad key animation.avconv_args in file /home/jtl/anaconda3/lib/python3.7/site-packages/matplotlib/mpl-data/stylelib/_classic_test.mplstyle, line 506 ('animation.avconv_args:            # Additional arguments to pass to avconv')\n",
      "You probably need to get an updated matplotlibrc file from\n",
      "https://github.com/matplotlib/matplotlib/blob/v3.5.1/matplotlibrc.template\n",
      "or from the matplotlib source distribution\n"
     ]
    }
   ],
   "source": [
    "import numpy as np\n",
    "import pandas as pd\n",
    "import geopandas as gpd\n",
    "import networkx as nx\n",
    "import matplotlib.pyplot as plt\n",
    "import pickle\n",
    "import copy\n",
    "from scipy.sparse import csr_matrix\n",
    "import time"
   ]
  },
  {
   "cell_type": "code",
   "execution_count": 2,
   "id": "a07cf196",
   "metadata": {},
   "outputs": [],
   "source": [
    "with open('../../data/05_model_outputs/network_new_edge_bet_centrality_dic.pickle', 'rb') as f:\n",
    "    network_edge_bet_centrality_dic = pickle.load(f)\n"
   ]
  },
  {
   "cell_type": "code",
   "execution_count": 3,
   "id": "0ef12d3e",
   "metadata": {},
   "outputs": [],
   "source": [
    "# \n",
    "fig_location = '../../../economic-strength-of-weak-mobility-ties-paper-/figs/'"
   ]
  },
  {
   "cell_type": "code",
   "execution_count": 4,
   "id": "556f4a16",
   "metadata": {},
   "outputs": [
    {
     "data": {
      "text/plain": [
       "dict_keys(['boston', 'miami', 'chicago'])"
      ]
     },
     "execution_count": 4,
     "metadata": {},
     "output_type": "execute_result"
    }
   ],
   "source": [
    "network_edge_bet_centrality_dic.keys()"
   ]
  },
  {
   "cell_type": "code",
   "execution_count": 5,
   "id": "85a556d8",
   "metadata": {},
   "outputs": [
    {
     "data": {
      "text/plain": [
       "dict_keys(['spatial_weak_edge_bet_centrality_list', 'weak_edge_bet_centrality_list', 'spatial_agg_edge_bet_centrality_list', 'agg_edge_bet_centrality_list', 'spatial_strong_edge_bet_centrality_list', 'strong_edge_bet_centrality_list', 'edge_count_list', 'weak_mobility_tie_names', 'strong_mobility_tie_names'])"
      ]
     },
     "execution_count": 5,
     "metadata": {},
     "output_type": "execute_result"
    }
   ],
   "source": [
    "network_edge_bet_centrality_dic['boston'].keys()"
   ]
  },
  {
   "cell_type": "code",
   "execution_count": 6,
   "id": "a3e2e334",
   "metadata": {},
   "outputs": [],
   "source": [
    "for city in ['boston','chicago','miami']:\n",
    "    normalized_weak_list = []\n",
    "    normalized_strong_list = []\n",
    "    normalized_agg_list = []\n",
    "\n",
    "    for idx in range(len(network_edge_bet_centrality_dic[city]['weak_edge_bet_centrality_list'])):\n",
    "        normalized_weak = network_edge_bet_centrality_dic[city]['weak_edge_bet_centrality_list'][idx]/network_edge_bet_centrality_dic[city]['spatial_weak_edge_bet_centrality_list'][idx]\n",
    "        normalized_strong = network_edge_bet_centrality_dic[city]['strong_edge_bet_centrality_list'][idx]/network_edge_bet_centrality_dic[city]['spatial_strong_edge_bet_centrality_list'][idx]\n",
    "        normalized_agg = network_edge_bet_centrality_dic[city]['agg_edge_bet_centrality_list'][idx]/network_edge_bet_centrality_dic[city]['spatial_agg_edge_bet_centrality_list'][idx]\n",
    "        normalized_weak_list.append(normalized_weak)\n",
    "        normalized_strong_list.append(normalized_strong)\n",
    "        normalized_agg_list.append(normalized_agg)\n",
    "\n",
    "    network_edge_bet_centrality_dic[city]['normalized_weak_list']=normalized_weak_list\n",
    "    network_edge_bet_centrality_dic[city]['normalized_strong_list']=normalized_strong_list\n",
    "    network_edge_bet_centrality_dic[city]['normalized_agg_list']=normalized_agg_list\n",
    "    "
   ]
  },
  {
   "cell_type": "code",
   "execution_count": 7,
   "id": "90d2be14",
   "metadata": {},
   "outputs": [],
   "source": [
    "for city in ['boston','chicago','miami']:\n",
    "    for key_ in network_edge_bet_centrality_dic[city].keys():\n",
    "        network_edge_bet_centrality_dic[city][key_] = pd.Series(network_edge_bet_centrality_dic[city][key_])\n"
   ]
  },
  {
   "cell_type": "code",
   "execution_count": 8,
   "id": "cd9f90bd",
   "metadata": {},
   "outputs": [],
   "source": [
    "network_edge_bet_centrality_df_dic = {}\n",
    "for city in ['boston','chicago','miami']:\n",
    "    network_edge_bet_centrality_df_dic[city] = pd.concat(network_edge_bet_centrality_dic[city], axis = 1)\n"
   ]
  },
  {
   "cell_type": "code",
   "execution_count": 9,
   "id": "23db4d54",
   "metadata": {},
   "outputs": [
    {
     "data": {
      "text/html": [
       "<div>\n",
       "<style scoped>\n",
       "    .dataframe tbody tr th:only-of-type {\n",
       "        vertical-align: middle;\n",
       "    }\n",
       "\n",
       "    .dataframe tbody tr th {\n",
       "        vertical-align: top;\n",
       "    }\n",
       "\n",
       "    .dataframe thead th {\n",
       "        text-align: right;\n",
       "    }\n",
       "</style>\n",
       "<table border=\"1\" class=\"dataframe\">\n",
       "  <thead>\n",
       "    <tr style=\"text-align: right;\">\n",
       "      <th></th>\n",
       "      <th>edge_bet_centrality</th>\n",
       "      <th>edge_cat</th>\n",
       "      <th>city</th>\n",
       "    </tr>\n",
       "  </thead>\n",
       "  <tbody>\n",
       "    <tr>\n",
       "      <th>0</th>\n",
       "      <td>2.276632</td>\n",
       "      <td>weak</td>\n",
       "      <td>miami</td>\n",
       "    </tr>\n",
       "    <tr>\n",
       "      <th>1</th>\n",
       "      <td>2.334124</td>\n",
       "      <td>weak</td>\n",
       "      <td>miami</td>\n",
       "    </tr>\n",
       "    <tr>\n",
       "      <th>2</th>\n",
       "      <td>2.303915</td>\n",
       "      <td>weak</td>\n",
       "      <td>miami</td>\n",
       "    </tr>\n",
       "    <tr>\n",
       "      <th>3</th>\n",
       "      <td>7.258977</td>\n",
       "      <td>weak</td>\n",
       "      <td>miami</td>\n",
       "    </tr>\n",
       "    <tr>\n",
       "      <th>4</th>\n",
       "      <td>1.923519</td>\n",
       "      <td>weak</td>\n",
       "      <td>miami</td>\n",
       "    </tr>\n",
       "    <tr>\n",
       "      <th>...</th>\n",
       "      <td>...</td>\n",
       "      <td>...</td>\n",
       "      <td>...</td>\n",
       "    </tr>\n",
       "    <tr>\n",
       "      <th>226</th>\n",
       "      <td>1.122142</td>\n",
       "      <td>agg</td>\n",
       "      <td>miami</td>\n",
       "    </tr>\n",
       "    <tr>\n",
       "      <th>227</th>\n",
       "      <td>1.207044</td>\n",
       "      <td>agg</td>\n",
       "      <td>miami</td>\n",
       "    </tr>\n",
       "    <tr>\n",
       "      <th>228</th>\n",
       "      <td>1.292166</td>\n",
       "      <td>agg</td>\n",
       "      <td>miami</td>\n",
       "    </tr>\n",
       "    <tr>\n",
       "      <th>229</th>\n",
       "      <td>1.213627</td>\n",
       "      <td>agg</td>\n",
       "      <td>miami</td>\n",
       "    </tr>\n",
       "    <tr>\n",
       "      <th>230</th>\n",
       "      <td>2.639834</td>\n",
       "      <td>agg</td>\n",
       "      <td>miami</td>\n",
       "    </tr>\n",
       "  </tbody>\n",
       "</table>\n",
       "<p>231 rows × 3 columns</p>\n",
       "</div>"
      ],
      "text/plain": [
       "     edge_bet_centrality edge_cat   city\n",
       "0               2.276632     weak  miami\n",
       "1               2.334124     weak  miami\n",
       "2               2.303915     weak  miami\n",
       "3               7.258977     weak  miami\n",
       "4               1.923519     weak  miami\n",
       "..                   ...      ...    ...\n",
       "226             1.122142      agg  miami\n",
       "227             1.207044      agg  miami\n",
       "228             1.292166      agg  miami\n",
       "229             1.213627      agg  miami\n",
       "230             2.639834      agg  miami\n",
       "\n",
       "[231 rows x 3 columns]"
      ]
     },
     "execution_count": 9,
     "metadata": {},
     "output_type": "execute_result"
    }
   ],
   "source": [
    "# \n",
    "df_dic = {}\n",
    "for city in ['boston','chicago','miami']:\n",
    "    df_dic[city] = pd.DataFrame({'edge_bet_centrality':list(network_edge_bet_centrality_df_dic[city]['normalized_weak_list'])+list(network_edge_bet_centrality_df_dic[city]['normalized_strong_list'])+list(network_edge_bet_centrality_df_dic[city]['normalized_agg_list']), \n",
    "                   'edge_cat':['weak']*network_edge_bet_centrality_df_dic[city].shape[0] + ['strong']*network_edge_bet_centrality_df_dic[city].shape[0] + ['agg']*network_edge_bet_centrality_df_dic[city].shape[0], \n",
    "                   'city':[city]*3*network_edge_bet_centrality_df_dic[city].shape[0]})\n",
    "\n",
    "df_dic[city]\n"
   ]
  },
  {
   "cell_type": "code",
   "execution_count": 10,
   "id": "8852f884",
   "metadata": {},
   "outputs": [],
   "source": [
    "# concat the dictionary\n",
    "df = pd.concat([df_dic['boston'],df_dic['chicago'],df_dic['miami']], axis = 0)"
   ]
  },
  {
   "cell_type": "code",
   "execution_count": 11,
   "id": "3e6d0b3c",
   "metadata": {},
   "outputs": [
    {
     "data": {
      "text/html": [
       "<div>\n",
       "<style scoped>\n",
       "    .dataframe tbody tr th:only-of-type {\n",
       "        vertical-align: middle;\n",
       "    }\n",
       "\n",
       "    .dataframe tbody tr th {\n",
       "        vertical-align: top;\n",
       "    }\n",
       "\n",
       "    .dataframe thead th {\n",
       "        text-align: right;\n",
       "    }\n",
       "</style>\n",
       "<table border=\"1\" class=\"dataframe\">\n",
       "  <thead>\n",
       "    <tr style=\"text-align: right;\">\n",
       "      <th></th>\n",
       "      <th>edge_bet_centrality</th>\n",
       "      <th>edge_cat</th>\n",
       "      <th>city</th>\n",
       "    </tr>\n",
       "  </thead>\n",
       "  <tbody>\n",
       "    <tr>\n",
       "      <th>0</th>\n",
       "      <td>3.450997</td>\n",
       "      <td>weak</td>\n",
       "      <td>boston</td>\n",
       "    </tr>\n",
       "    <tr>\n",
       "      <th>1</th>\n",
       "      <td>2.313928</td>\n",
       "      <td>weak</td>\n",
       "      <td>boston</td>\n",
       "    </tr>\n",
       "    <tr>\n",
       "      <th>2</th>\n",
       "      <td>2.815186</td>\n",
       "      <td>weak</td>\n",
       "      <td>boston</td>\n",
       "    </tr>\n",
       "    <tr>\n",
       "      <th>3</th>\n",
       "      <td>3.549344</td>\n",
       "      <td>weak</td>\n",
       "      <td>boston</td>\n",
       "    </tr>\n",
       "    <tr>\n",
       "      <th>4</th>\n",
       "      <td>3.620139</td>\n",
       "      <td>weak</td>\n",
       "      <td>boston</td>\n",
       "    </tr>\n",
       "    <tr>\n",
       "      <th>...</th>\n",
       "      <td>...</td>\n",
       "      <td>...</td>\n",
       "      <td>...</td>\n",
       "    </tr>\n",
       "    <tr>\n",
       "      <th>226</th>\n",
       "      <td>1.122142</td>\n",
       "      <td>agg</td>\n",
       "      <td>miami</td>\n",
       "    </tr>\n",
       "    <tr>\n",
       "      <th>227</th>\n",
       "      <td>1.207044</td>\n",
       "      <td>agg</td>\n",
       "      <td>miami</td>\n",
       "    </tr>\n",
       "    <tr>\n",
       "      <th>228</th>\n",
       "      <td>1.292166</td>\n",
       "      <td>agg</td>\n",
       "      <td>miami</td>\n",
       "    </tr>\n",
       "    <tr>\n",
       "      <th>229</th>\n",
       "      <td>1.213627</td>\n",
       "      <td>agg</td>\n",
       "      <td>miami</td>\n",
       "    </tr>\n",
       "    <tr>\n",
       "      <th>230</th>\n",
       "      <td>2.639834</td>\n",
       "      <td>agg</td>\n",
       "      <td>miami</td>\n",
       "    </tr>\n",
       "  </tbody>\n",
       "</table>\n",
       "<p>516 rows × 3 columns</p>\n",
       "</div>"
      ],
      "text/plain": [
       "     edge_bet_centrality edge_cat    city\n",
       "0               3.450997     weak  boston\n",
       "1               2.313928     weak  boston\n",
       "2               2.815186     weak  boston\n",
       "3               3.549344     weak  boston\n",
       "4               3.620139     weak  boston\n",
       "..                   ...      ...     ...\n",
       "226             1.122142      agg   miami\n",
       "227             1.207044      agg   miami\n",
       "228             1.292166      agg   miami\n",
       "229             1.213627      agg   miami\n",
       "230             2.639834      agg   miami\n",
       "\n",
       "[516 rows x 3 columns]"
      ]
     },
     "execution_count": 11,
     "metadata": {},
     "output_type": "execute_result"
    }
   ],
   "source": [
    "df"
   ]
  },
  {
   "cell_type": "code",
   "execution_count": 12,
   "id": "e718d4cb",
   "metadata": {},
   "outputs": [
    {
     "data": {
      "image/png": "[encoded data removed]",
      "text/plain": [
       "<Figure size 400x500 with 1 Axes>"
      ]
     },
     "metadata": {},
     "output_type": "display_data"
    }
   ],
   "source": [
    "# visualizing the aggreagate edge bet centralities\n",
    "\n",
    "import seaborn as sns\n",
    "sns.set_theme(style=\"whitegrid\")\n",
    "\n",
    "fig, ax = plt.subplots(figsize = (4,5))\n",
    "\n",
    "sns.boxplot(x=\"edge_cat\", y=\"edge_bet_centrality\", data=df, ax = ax, palette='YlOrBr')\n",
    "ax.axhline(1.0, linestyle = '--', color = 'grey')\n",
    "ax.annotate(\"Spatial Baseline = 1.0\",\n",
    "            xy=(-0.5, 0.5), xycoords = 'data',\n",
    "            xytext=(-0.5, 0.5), textcoords = 'data',\n",
    "            size = 10)\n",
    "\n",
    "params = {\n",
    "     'legend.fontsize': 20,\n",
    "     'axes.labelsize': 20,\n",
    "     'axes.titlesize': 30,\n",
    "     'xtick.labelsize': 20,\n",
    "     'ytick.labelsize': 20}\n",
    "\n",
    "ax.set_ylim([0,15])\n",
    "ax.set_xlabel(\" \")\n",
    "ax.set_ylabel(\"Edge betweenness centrality\")\n",
    "ax.set_xticklabels(['Weak','Strong','Aggregate'])\n",
    "\n",
    "plt.tight_layout()\n",
    "plt.show()\n",
    "\n",
    "fig.savefig(fig_location+'edge_bet_centrality_total.png')"
   ]
  },
  {
   "cell_type": "code",
   "execution_count": 13,
   "id": "7b440447",
   "metadata": {},
   "outputs": [
    {
     "data": {
      "image/png": "[encoded data removed]",
      "text/plain": [
       "<Figure size 900x500 with 1 Axes>"
      ]
     },
     "metadata": {},
     "output_type": "display_data"
    }
   ],
   "source": [
    "# visualizing the edge bet centralities of three cities\n",
    "\n",
    "import seaborn as sns\n",
    "sns.set_theme(style=\"whitegrid\")\n",
    "\n",
    "fig, ax = plt.subplots(figsize = (9,5))\n",
    "\n",
    "sns.boxplot(x=\"city\", y=\"edge_bet_centrality\", hue=\"edge_cat\", data=df, ax = ax, palette='YlOrBr')\n",
    "ax.axhline(1.0, linestyle = '--', color = 'grey')\n",
    "ax.annotate(\"Spatial Baseline = 1.0\",\n",
    "            xy=(-0.5, 0.5), xycoords = 'data',\n",
    "            xytext=(-0.5, 0.5), textcoords = 'data',\n",
    "            size = 10)\n",
    "ax.legend(title = 'edge categories')\n",
    "\n",
    "params = {\n",
    "     'legend.fontsize': 20,\n",
    "     'axes.labelsize': 20,\n",
    "     'axes.titlesize': 30,\n",
    "     'xtick.labelsize': 20,\n",
    "     'ytick.labelsize': 20}\n",
    "\n",
    "ax.set_ylim([0,15])\n",
    "ax.set_xlabel(\"Cities\")\n",
    "ax.set_ylabel(\"Edge betweenness centrality\")\n",
    "\n",
    "plt.tight_layout()\n",
    "plt.show()\n",
    "\n",
    "fig.savefig(fig_location+'edge_bet_centrality_cities.png')\n"
   ]
  },
  {
   "cell_type": "code",
   "execution_count": null,
   "id": "2ca25b05",
   "metadata": {},
   "outputs": [],
   "source": []
  },
  {
   "cell_type": "code",
   "execution_count": null,
   "id": "d16f6ea5",
   "metadata": {},
   "outputs": [],
   "source": []
  },
  {
   "cell_type": "code",
   "execution_count": null,
   "id": "7a59faca",
   "metadata": {},
   "outputs": [],
   "source": []
  },
  {
   "cell_type": "code",
   "execution_count": null,
   "id": "3f7f0189",
   "metadata": {},
   "outputs": [],
   "source": []
  },
  {
   "cell_type": "code",
   "execution_count": null,
   "id": "89a770e8",
   "metadata": {},
   "outputs": [],
   "source": []
  }
 ],
 "metadata": {
  "kernelspec": {
   "display_name": "Python 3",
   "language": "python",
   "name": "python3"
  },
  "language_info": {
   "codemirror_mode": {
    "name": "ipython",
    "version": 3
   },
   "file_extension": ".py",
   "mimetype": "text/x-python",
   "name": "python",
   "nbconvert_exporter": "python",
   "pygments_lexer": "ipython3",
   "version": "3.7.11"
  }
 },
 "nbformat": 4,
 "nbformat_minor": 5
}
