{
 "cells": [
  {
   "cell_type": "markdown",
   "id": "5112974d",
   "metadata": {},
   "source": [
    "# Temporal regularity analysis\n",
    "\n",
    "- Temporal regularity across the aggregate, strong, and weak mobility ties"
   ]
  },
  {
   "cell_type": "code",
   "execution_count": 1,
   "id": "06a0a4d1",
   "metadata": {
    "scrolled": true
   },
   "outputs": [
    {
     "name": "stderr",
     "output_type": "stream",
     "text": [
      "\n",
      "Bad key text.latex.unicode in file /home/jtl/anaconda3/lib/python3.7/site-packages/matplotlib/mpl-data/stylelib/_classic_test.mplstyle, line 112 ('text.latex.unicode : False # use \"ucs\" and \"inputenc\" LaTeX packages for handling')\n",
      "You probably need to get an updated matplotlibrc file from\n",
      "https://github.com/matplotlib/matplotlib/blob/v3.5.1/matplotlibrc.template\n",
      "or from the matplotlib source distribution\n",
      "\n",
      "Bad key text.latex.preview in file /home/jtl/anaconda3/lib/python3.7/site-packages/matplotlib/mpl-data/stylelib/_classic_test.mplstyle, line 125 ('text.latex.preview : False')\n",
      "You probably need to get an updated matplotlibrc file from\n",
      "https://github.com/matplotlib/matplotlib/blob/v3.5.1/matplotlibrc.template\n",
      "or from the matplotlib source distribution\n",
      "\n",
      "Bad key mathtext.fallback_to_cm in file /home/jtl/anaconda3/lib/python3.7/site-packages/matplotlib/mpl-data/stylelib/_classic_test.mplstyle, line 157 ('mathtext.fallback_to_cm : True  # When True, use symbols from the Computer Modern')\n",
      "You probably need to get an updated matplotlibrc file from\n",
      "https://github.com/matplotlib/matplotlib/blob/v3.5.1/matplotlibrc.template\n",
      "or from the matplotlib source distribution\n",
      "\n",
      "Bad key savefig.jpeg_quality in file /home/jtl/anaconda3/lib/python3.7/site-packages/matplotlib/mpl-data/stylelib/_classic_test.mplstyle, line 420 ('savefig.jpeg_quality: 95       # when a jpeg is saved, the default quality parameter.')\n",
      "You probably need to get an updated matplotlibrc file from\n",
      "https://github.com/matplotlib/matplotlib/blob/v3.5.1/matplotlibrc.template\n",
      "or from the matplotlib source distribution\n",
      "\n",
      "Bad key savefig.frameon in file /home/jtl/anaconda3/lib/python3.7/site-packages/matplotlib/mpl-data/stylelib/_classic_test.mplstyle, line 423 ('savefig.frameon : True')\n",
      "You probably need to get an updated matplotlibrc file from\n",
      "https://github.com/matplotlib/matplotlib/blob/v3.5.1/matplotlibrc.template\n",
      "or from the matplotlib source distribution\n",
      "\n",
      "Bad key pgf.debug in file /home/jtl/anaconda3/lib/python3.7/site-packages/matplotlib/mpl-data/stylelib/_classic_test.mplstyle, line 444 ('pgf.debug           : False')\n",
      "You probably need to get an updated matplotlibrc file from\n",
      "https://github.com/matplotlib/matplotlib/blob/v3.5.1/matplotlibrc.template\n",
      "or from the matplotlib source distribution\n",
      "\n",
      "Bad key verbose.level in file /home/jtl/anaconda3/lib/python3.7/site-packages/matplotlib/mpl-data/stylelib/_classic_test.mplstyle, line 475 ('verbose.level  : silent      # one of silent, helpful, debug, debug-annoying')\n",
      "You probably need to get an updated matplotlibrc file from\n",
      "https://github.com/matplotlib/matplotlib/blob/v3.5.1/matplotlibrc.template\n",
      "or from the matplotlib source distribution\n",
      "\n",
      "Bad key verbose.fileo in file /home/jtl/anaconda3/lib/python3.7/site-packages/matplotlib/mpl-data/stylelib/_classic_test.mplstyle, line 476 ('verbose.fileo  : sys.stdout  # a log filename, sys.stdout or sys.stderr')\n",
      "You probably need to get an updated matplotlibrc file from\n",
      "https://github.com/matplotlib/matplotlib/blob/v3.5.1/matplotlibrc.template\n",
      "or from the matplotlib source distribution\n",
      "\n",
      "Bad key keymap.all_axes in file /home/jtl/anaconda3/lib/python3.7/site-packages/matplotlib/mpl-data/stylelib/_classic_test.mplstyle, line 493 ('keymap.all_axes : a                 # enable all axes')\n",
      "You probably need to get an updated matplotlibrc file from\n",
      "https://github.com/matplotlib/matplotlib/blob/v3.5.1/matplotlibrc.template\n",
      "or from the matplotlib source distribution\n",
      "\n",
      "Bad key animation.avconv_path in file /home/jtl/anaconda3/lib/python3.7/site-packages/matplotlib/mpl-data/stylelib/_classic_test.mplstyle, line 504 ('animation.avconv_path: avconv     # Path to avconv binary. Without full path')\n",
      "You probably need to get an updated matplotlibrc file from\n",
      "https://github.com/matplotlib/matplotlib/blob/v3.5.1/matplotlibrc.template\n",
      "or from the matplotlib source distribution\n",
      "\n",
      "Bad key animation.avconv_args in file /home/jtl/anaconda3/lib/python3.7/site-packages/matplotlib/mpl-data/stylelib/_classic_test.mplstyle, line 506 ('animation.avconv_args:            # Additional arguments to pass to avconv')\n",
      "You probably need to get an updated matplotlibrc file from\n",
      "https://github.com/matplotlib/matplotlib/blob/v3.5.1/matplotlibrc.template\n",
      "or from the matplotlib source distribution\n"
     ]
    }
   ],
   "source": [
    "import numpy as np\n",
    "import pandas as pd\n",
    "import geopandas as gpd\n",
    "import networkx as nx\n",
    "import matplotlib.pyplot as plt\n",
    "import pickle\n",
    "import copy\n",
    "from scipy.sparse import csr_matrix\n",
    "import time"
   ]
  },
  {
   "cell_type": "code",
   "execution_count": 2,
   "id": "b531f2d4",
   "metadata": {},
   "outputs": [],
   "source": [
    "with open('../../data/05_model_outputs/temporal_performance.pickle', 'rb') as f:\n",
    "    temporal_performance = pickle.load(f)"
   ]
  },
  {
   "cell_type": "code",
   "execution_count": 3,
   "id": "7cc1adf5",
   "metadata": {},
   "outputs": [],
   "source": [
    "# \n",
    "fig_location = '../../../economic-strength-of-weak-mobility-ties-paper-/figs/'"
   ]
  },
  {
   "cell_type": "code",
   "execution_count": 4,
   "id": "6fe865d1",
   "metadata": {
    "scrolled": true
   },
   "outputs": [
    {
     "data": {
      "text/plain": [
       "{'aggregate': {'aggregate': 0.8469959929671144},\n",
       " 'strong': {'Office': 0.8151544828278091,\n",
       "  'Residential': 0.8190485463614737,\n",
       "  'Building': 0.8092602247572745,\n",
       "  'Automotive': 0.8730102369152167,\n",
       "  'Church': 0.8451734521023866,\n",
       "  'Salon / Barbershop': 0.8468901018439676,\n",
       "  \"Doctor's Office\": 0.8244271174708256,\n",
       "  'Pizza': 0.836381801840681,\n",
       "  'American': 0.726535023441807,\n",
       "  'Gas Station': 0.8778741341121703,\n",
       "  'Gym': 0.714349434841586,\n",
       "  'Road': 0.8441206932984844,\n",
       "  'Bank': 0.7206128849681136,\n",
       "  'Donuts': 0.8024916303589245,\n",
       "  'Hardware': 0.6287500825169141,\n",
       "  'Grocery Store': 0.617367705571898,\n",
       "  'Supermarket': 0.5350169353135696,\n",
       "  'Bar': 0.7692930552543473,\n",
       "  \"Dentist's Office\": 0.810874434023246,\n",
       "  'Convenience Store': 0.8734265063844331},\n",
       " 'weak': {'Art Museum': 0.4579023298774818,\n",
       "  'Bagels': 0.46909082443482153,\n",
       "  'Brazilian': 0.7047601705122248,\n",
       "  'Car Washes': 0.2833166840059451,\n",
       "  'Caribbean': 0.7630355213591438,\n",
       "  'Convenience Store': 0.8734265063844331,\n",
       "  'Cupcakes': 0.3326745077349009,\n",
       "  'Cycle Studio': 0.45396524662287663,\n",
       "  'Discount Store': 0.43536533906927,\n",
       "  'Engineering': 0.598291906029365,\n",
       "  'Fishing Store': 0.1484670980357562,\n",
       "  'Food Stand': 0.304192042816929,\n",
       "  'Football': 0.1774074389958239,\n",
       "  'French': 0.43697459697240415,\n",
       "  'Fried Chicken': 0.6156493683063122,\n",
       "  'Gastropub': 0.4419165670172196,\n",
       "  'Hot Dogs': 0.4040594568560707,\n",
       "  'Indian Chinese': 0.10767278198017316,\n",
       "  'Latin American': 0.46958358403054545,\n",
       "  'Laundromat': 0.613496268049732,\n",
       "  'Locksmith': 0.38392312241810755,\n",
       "  'Noodles': 0.3497448779634772,\n",
       "  'Peking Duck': 0.23298903031436924,\n",
       "  'Pet Service': 0.5432019641742336,\n",
       "  'Salad': 0.6664789924989203,\n",
       "  'Science Museum': 0.13752875133336107,\n",
       "  'Skating Rink': 0.6689739921265485,\n",
       "  'Ski Area': 0.5204621884674583,\n",
       "  'Sorority House': 0.19830500231126247,\n",
       "  'Spanish': 0.4485752149330894,\n",
       "  'Storage': 0.708845185169926,\n",
       "  'Strip Club': 0.585497372854802,\n",
       "  'Synagogue': 0.3027287279095642,\n",
       "  'Tattoo': 0.3754728853852719,\n",
       "  'Tennis Court': 0.4419966021691788,\n",
       "  'Thrift / Vintage': 0.686591249982303,\n",
       "  'University': 0.5282713835423922,\n",
       "  'Video Games': 0.4850163137371385}}"
      ]
     },
     "execution_count": 4,
     "metadata": {},
     "output_type": "execute_result"
    }
   ],
   "source": [
    "temporal_performance['boston']"
   ]
  },
  {
   "cell_type": "code",
   "execution_count": 5,
   "id": "ba307d0d",
   "metadata": {
    "scrolled": true
   },
   "outputs": [
    {
     "data": {
      "text/html": [
       "<div>\n",
       "<style scoped>\n",
       "    .dataframe tbody tr th:only-of-type {\n",
       "        vertical-align: middle;\n",
       "    }\n",
       "\n",
       "    .dataframe tbody tr th {\n",
       "        vertical-align: top;\n",
       "    }\n",
       "\n",
       "    .dataframe thead th {\n",
       "        text-align: right;\n",
       "    }\n",
       "</style>\n",
       "<table border=\"1\" class=\"dataframe\">\n",
       "  <thead>\n",
       "    <tr style=\"text-align: right;\">\n",
       "      <th></th>\n",
       "      <th>r2</th>\n",
       "      <th>tie_cat</th>\n",
       "      <th>city</th>\n",
       "    </tr>\n",
       "  </thead>\n",
       "  <tbody>\n",
       "    <tr>\n",
       "      <th>0</th>\n",
       "      <td>0.846996</td>\n",
       "      <td>aggregate</td>\n",
       "      <td>boston</td>\n",
       "    </tr>\n",
       "    <tr>\n",
       "      <th>1</th>\n",
       "      <td>0.815154</td>\n",
       "      <td>strong</td>\n",
       "      <td>boston</td>\n",
       "    </tr>\n",
       "    <tr>\n",
       "      <th>2</th>\n",
       "      <td>0.819049</td>\n",
       "      <td>strong</td>\n",
       "      <td>boston</td>\n",
       "    </tr>\n",
       "    <tr>\n",
       "      <th>3</th>\n",
       "      <td>0.809260</td>\n",
       "      <td>strong</td>\n",
       "      <td>boston</td>\n",
       "    </tr>\n",
       "    <tr>\n",
       "      <th>4</th>\n",
       "      <td>0.873010</td>\n",
       "      <td>strong</td>\n",
       "      <td>boston</td>\n",
       "    </tr>\n",
       "    <tr>\n",
       "      <th>...</th>\n",
       "      <td>...</td>\n",
       "      <td>...</td>\n",
       "      <td>...</td>\n",
       "    </tr>\n",
       "    <tr>\n",
       "      <th>156</th>\n",
       "      <td>0.344480</td>\n",
       "      <td>weak</td>\n",
       "      <td>miami</td>\n",
       "    </tr>\n",
       "    <tr>\n",
       "      <th>157</th>\n",
       "      <td>0.606174</td>\n",
       "      <td>weak</td>\n",
       "      <td>miami</td>\n",
       "    </tr>\n",
       "    <tr>\n",
       "      <th>158</th>\n",
       "      <td>0.368631</td>\n",
       "      <td>weak</td>\n",
       "      <td>miami</td>\n",
       "    </tr>\n",
       "    <tr>\n",
       "      <th>159</th>\n",
       "      <td>0.316893</td>\n",
       "      <td>weak</td>\n",
       "      <td>miami</td>\n",
       "    </tr>\n",
       "    <tr>\n",
       "      <th>160</th>\n",
       "      <td>0.577665</td>\n",
       "      <td>weak</td>\n",
       "      <td>miami</td>\n",
       "    </tr>\n",
       "  </tbody>\n",
       "</table>\n",
       "<p>161 rows × 3 columns</p>\n",
       "</div>"
      ],
      "text/plain": [
       "           r2    tie_cat    city\n",
       "0    0.846996  aggregate  boston\n",
       "1    0.815154     strong  boston\n",
       "2    0.819049     strong  boston\n",
       "3    0.809260     strong  boston\n",
       "4    0.873010     strong  boston\n",
       "..        ...        ...     ...\n",
       "156  0.344480       weak   miami\n",
       "157  0.606174       weak   miami\n",
       "158  0.368631       weak   miami\n",
       "159  0.316893       weak   miami\n",
       "160  0.577665       weak   miami\n",
       "\n",
       "[161 rows x 3 columns]"
      ]
     },
     "execution_count": 5,
     "metadata": {},
     "output_type": "execute_result"
    }
   ],
   "source": [
    "# combine the data for visualization\n",
    "temporal_r2_dic = {}\n",
    "for city in ['boston','chicago','miami']:\n",
    "    temporal_r2_df = pd.DataFrame({'r2': list(temporal_performance[city]['aggregate'].values()) + list(temporal_performance[city]['strong'].values()) +  list(temporal_performance[city]['weak'].values()),\n",
    "                                   'tie_cat': ['aggregate'] + ['strong'] * len(temporal_performance[city]['strong'].values()) + ['weak']*len(temporal_performance[city]['weak'].values()),\n",
    "                                   'city': [city]*(1+len(temporal_performance[city]['strong'].values())+len(temporal_performance[city]['weak'].values()))\n",
    "                                  })\n",
    "    temporal_r2_dic[city]=temporal_r2_df\n",
    "    \n",
    "# \n",
    "temporal_r2 = pd.concat(temporal_r2_dic, axis = 0)\n",
    "temporal_r2.reset_index(inplace = True, drop = True)\n",
    "temporal_r2"
   ]
  },
  {
   "cell_type": "markdown",
   "id": "8ae0d11b",
   "metadata": {},
   "source": [
    "#### following numbers are used in writing"
   ]
  },
  {
   "cell_type": "code",
   "execution_count": 7,
   "id": "82cd36d8",
   "metadata": {},
   "outputs": [
    {
     "data": {
      "text/plain": [
       "20.0"
      ]
     },
     "execution_count": 7,
     "metadata": {},
     "output_type": "execute_result"
    }
   ],
   "source": [
    "np.sum(temporal_r2.tie_cat == 'strong')/3"
   ]
  },
  {
   "cell_type": "code",
   "execution_count": 8,
   "id": "de98d5e8",
   "metadata": {},
   "outputs": [
    {
     "data": {
      "text/html": [
       "<div>\n",
       "<style scoped>\n",
       "    .dataframe tbody tr th:only-of-type {\n",
       "        vertical-align: middle;\n",
       "    }\n",
       "\n",
       "    .dataframe tbody tr th {\n",
       "        vertical-align: top;\n",
       "    }\n",
       "\n",
       "    .dataframe thead th {\n",
       "        text-align: right;\n",
       "    }\n",
       "</style>\n",
       "<table border=\"1\" class=\"dataframe\">\n",
       "  <thead>\n",
       "    <tr style=\"text-align: right;\">\n",
       "      <th></th>\n",
       "      <th>r2</th>\n",
       "      <th>tie_cat</th>\n",
       "      <th>city</th>\n",
       "    </tr>\n",
       "  </thead>\n",
       "  <tbody>\n",
       "    <tr>\n",
       "      <th>0</th>\n",
       "      <td>0.846996</td>\n",
       "      <td>aggregate</td>\n",
       "      <td>boston</td>\n",
       "    </tr>\n",
       "    <tr>\n",
       "      <th>59</th>\n",
       "      <td>0.880734</td>\n",
       "      <td>aggregate</td>\n",
       "      <td>chicago</td>\n",
       "    </tr>\n",
       "    <tr>\n",
       "      <th>107</th>\n",
       "      <td>0.821975</td>\n",
       "      <td>aggregate</td>\n",
       "      <td>miami</td>\n",
       "    </tr>\n",
       "  </tbody>\n",
       "</table>\n",
       "</div>"
      ],
      "text/plain": [
       "           r2    tie_cat     city\n",
       "0    0.846996  aggregate   boston\n",
       "59   0.880734  aggregate  chicago\n",
       "107  0.821975  aggregate    miami"
      ]
     },
     "execution_count": 8,
     "metadata": {},
     "output_type": "execute_result"
    }
   ],
   "source": [
    "# average aggregate\n",
    "temporal_r2.loc[temporal_r2.tie_cat == 'aggregate']"
   ]
  },
  {
   "cell_type": "code",
   "execution_count": 9,
   "id": "427f4d69",
   "metadata": {},
   "outputs": [
    {
     "data": {
      "text/html": [
       "<div>\n",
       "<style scoped>\n",
       "    .dataframe tbody tr th:only-of-type {\n",
       "        vertical-align: middle;\n",
       "    }\n",
       "\n",
       "    .dataframe tbody tr th {\n",
       "        vertical-align: top;\n",
       "    }\n",
       "\n",
       "    .dataframe thead th {\n",
       "        text-align: right;\n",
       "    }\n",
       "</style>\n",
       "<table border=\"1\" class=\"dataframe\">\n",
       "  <thead>\n",
       "    <tr style=\"text-align: right;\">\n",
       "      <th></th>\n",
       "      <th>r2</th>\n",
       "    </tr>\n",
       "    <tr>\n",
       "      <th>city</th>\n",
       "      <th></th>\n",
       "    </tr>\n",
       "  </thead>\n",
       "  <tbody>\n",
       "    <tr>\n",
       "      <th>boston</th>\n",
       "      <td>0.779503</td>\n",
       "    </tr>\n",
       "    <tr>\n",
       "      <th>chicago</th>\n",
       "      <td>0.844417</td>\n",
       "    </tr>\n",
       "    <tr>\n",
       "      <th>miami</th>\n",
       "      <td>0.776221</td>\n",
       "    </tr>\n",
       "  </tbody>\n",
       "</table>\n",
       "</div>"
      ],
      "text/plain": [
       "               r2\n",
       "city             \n",
       "boston   0.779503\n",
       "chicago  0.844417\n",
       "miami    0.776221"
      ]
     },
     "execution_count": 9,
     "metadata": {},
     "output_type": "execute_result"
    }
   ],
   "source": [
    "# average strong\n",
    "temporal_r2.loc[temporal_r2.tie_cat == 'strong'].groupby('city').mean()"
   ]
  },
  {
   "cell_type": "code",
   "execution_count": 10,
   "id": "29f64ff6",
   "metadata": {},
   "outputs": [
    {
     "data": {
      "text/html": [
       "<div>\n",
       "<style scoped>\n",
       "    .dataframe tbody tr th:only-of-type {\n",
       "        vertical-align: middle;\n",
       "    }\n",
       "\n",
       "    .dataframe tbody tr th {\n",
       "        vertical-align: top;\n",
       "    }\n",
       "\n",
       "    .dataframe thead th {\n",
       "        text-align: right;\n",
       "    }\n",
       "</style>\n",
       "<table border=\"1\" class=\"dataframe\">\n",
       "  <thead>\n",
       "    <tr style=\"text-align: right;\">\n",
       "      <th></th>\n",
       "      <th>r2</th>\n",
       "    </tr>\n",
       "    <tr>\n",
       "      <th>city</th>\n",
       "      <th></th>\n",
       "    </tr>\n",
       "  </thead>\n",
       "  <tbody>\n",
       "    <tr>\n",
       "      <th>boston</th>\n",
       "      <td>0.456733</td>\n",
       "    </tr>\n",
       "    <tr>\n",
       "      <th>chicago</th>\n",
       "      <td>0.459835</td>\n",
       "    </tr>\n",
       "    <tr>\n",
       "      <th>miami</th>\n",
       "      <td>0.464719</td>\n",
       "    </tr>\n",
       "  </tbody>\n",
       "</table>\n",
       "</div>"
      ],
      "text/plain": [
       "               r2\n",
       "city             \n",
       "boston   0.456733\n",
       "chicago  0.459835\n",
       "miami    0.464719"
      ]
     },
     "execution_count": 10,
     "metadata": {},
     "output_type": "execute_result"
    }
   ],
   "source": [
    "# average weak\n",
    "temporal_r2.loc[temporal_r2.tie_cat == 'weak'].groupby('city').mean()"
   ]
  },
  {
   "cell_type": "code",
   "execution_count": 11,
   "id": "b127aa8e",
   "metadata": {},
   "outputs": [
    {
     "data": {
      "image/png": "[encoded data removed]",
      "text/plain": [
       "<Figure size 1200x300 with 1 Axes>"
      ]
     },
     "metadata": {},
     "output_type": "display_data"
    }
   ],
   "source": [
    "# plot the comparison of temporal regularity.\n",
    "import seaborn as sns\n",
    "sns.set_theme(style=\"whitegrid\")\n",
    "\n",
    "fig, ax = plt.subplots(figsize = (12,3))\n",
    "\n",
    "sns.boxplot(x=\"city\", y=\"r2\", hue=\"tie_cat\", data=temporal_r2, \n",
    "            ax = ax, palette='PuBu',\n",
    "            width = 0.6)\n",
    "# ax.axhline(1.0, linestyle = '--', color = 'grey')\n",
    "# ax.annotate(\"Spatial Baseline = 1.0\",\n",
    "#             xy=(-0.5, 0.5), xycoords = 'data',\n",
    "#             xytext=(-0.5, 0.5), textcoords = 'data',\n",
    "#             size = 10)\n",
    "# ax.legend(title = 'edge categories')\n",
    "\n",
    "params = {\n",
    "     'legend.fontsize': 10,\n",
    "     'axes.labelsize': 10,\n",
    "     'axes.titlesize': 15,\n",
    "     'xtick.labelsize': 10,\n",
    "     'ytick.labelsize': 10}\n",
    "\n",
    "# ax.set_ylim([0,15])\n",
    "# ax.set_xlabel(\"Cities\")\n",
    "# ax.set_ylabel(\"Edge betweenness centrality\")\n",
    "\n",
    "plt.tight_layout()\n",
    "plt.show()\n",
    "\n",
    "# fig.savefig(fig_location+'edge_bet_centrality_cities.png')\n"
   ]
  },
  {
   "cell_type": "code",
   "execution_count": null,
   "id": "4d9fd457",
   "metadata": {},
   "outputs": [],
   "source": []
  },
  {
   "cell_type": "code",
   "execution_count": null,
   "id": "0901bb2f",
   "metadata": {},
   "outputs": [],
   "source": []
  }
 ],
 "metadata": {
  "kernelspec": {
   "display_name": "Python 3",
   "language": "python",
   "name": "python3"
  },
  "language_info": {
   "codemirror_mode": {
    "name": "ipython",
    "version": 3
   },
   "file_extension": ".py",
   "mimetype": "text/x-python",
   "name": "python",
   "nbconvert_exporter": "python",
   "pygments_lexer": "ipython3",
   "version": "3.7.11"
  }
 },
 "nbformat": 4,
 "nbformat_minor": 5
}
