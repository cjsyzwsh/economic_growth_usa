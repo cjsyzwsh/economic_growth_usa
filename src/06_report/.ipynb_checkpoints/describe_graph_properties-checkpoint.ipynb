{
 "cells": [
  {
   "cell_type": "markdown",
   "metadata": {},
   "source": [
    "# Describe the graph properties"
   ]
  },
  {
   "cell_type": "markdown",
   "metadata": {},
   "source": [
    "Observe the graph properties: density, connectivity, diameter, etc."
   ]
  },
  {
   "cell_type": "markdown",
   "metadata": {},
   "source": [
    "Note the benchmarks from Jure Leskovec's MSN network.\n",
    "\n",
    "- Degree distribution: heavily skewed (power law), avg degree = 14.4\n",
    "- Path length: 6.6\n",
    "- Clustering coefficient: 0.11\n",
    "- Connectivity: giant component\n",
    "\n",
    "J. Leskovec, E. Horvitz. Worldwide Buzz: Planetary-Scale Views on an Instant-Messaging Network. Proc. International WWW Conference, 2008\n",
    "\n",
    "https://chih-ling-hsu.github.io/2020/05/15/network-example#connectivity\n"
   ]
  },
  {
   "cell_type": "code",
   "execution_count": 1,
   "metadata": {},
   "outputs": [],
   "source": [
    "import numpy as np\n",
    "import pandas as pd\n",
    "import geopandas as gpd\n",
    "import networkx as nx\n",
    "import matplotlib.pyplot as plt\n",
    "import pickle\n",
    "import copy\n",
    "import scipy.sparse as sp\n",
    "from scipy.sparse import csr_matrix\n",
    "\n",
    "import torch\n",
    "from torch_geometric.data import Data\n",
    "from torch_geometric.loader import DataLoader"
   ]
  },
  {
   "cell_type": "code",
   "execution_count": 2,
   "metadata": {},
   "outputs": [],
   "source": [
    "# read files.\n",
    "with open(\"../data/02_intermediate/place_graph_A.pickle\", 'rb') as f:\n",
    "    A_place = pickle.load(f) # sparse matrix\n",
    "\n",
    "with open(\"../data/02_intermediate/place_graph_weighted_A.pickle\", 'rb') as f:\n",
    "    A_weighted_place = pickle.load(f) # sparse matrix    \n"
   ]
  },
  {
   "cell_type": "code",
   "execution_count": 11,
   "metadata": {},
   "outputs": [
    {
     "data": {
      "text/plain": [
       "(3101, 3101)"
      ]
     },
     "execution_count": 11,
     "metadata": {},
     "output_type": "execute_result"
    }
   ],
   "source": [
    "A_weighted_place.shape"
   ]
  },
  {
   "cell_type": "markdown",
   "metadata": {},
   "source": [
    "## Adjacency matrix with threshold filters"
   ]
  },
  {
   "cell_type": "markdown",
   "metadata": {},
   "source": [
    "### Threshold = 0"
   ]
  },
  {
   "cell_type": "code",
   "execution_count": 3,
   "metadata": {},
   "outputs": [
    {
     "name": "stdout",
     "output_type": "stream",
     "text": [
      "5540825427.0\n"
     ]
    },
    {
     "data": {
      "text/html": [
       "<div>\n",
       "<style scoped>\n",
       "    .dataframe tbody tr th:only-of-type {\n",
       "        vertical-align: middle;\n",
       "    }\n",
       "\n",
       "    .dataframe tbody tr th {\n",
       "        vertical-align: top;\n",
       "    }\n",
       "\n",
       "    .dataframe thead th {\n",
       "        text-align: right;\n",
       "    }\n",
       "</style>\n",
       "<table border=\"1\" class=\"dataframe\">\n",
       "  <thead>\n",
       "    <tr style=\"text-align: right;\">\n",
       "      <th></th>\n",
       "      <th>0</th>\n",
       "    </tr>\n",
       "  </thead>\n",
       "  <tbody>\n",
       "    <tr>\n",
       "      <th>count</th>\n",
       "      <td>9.616201e+06</td>\n",
       "    </tr>\n",
       "    <tr>\n",
       "      <th>mean</th>\n",
       "      <td>5.761969e+02</td>\n",
       "    </tr>\n",
       "    <tr>\n",
       "      <th>std</th>\n",
       "      <td>2.983999e+04</td>\n",
       "    </tr>\n",
       "    <tr>\n",
       "      <th>min</th>\n",
       "      <td>0.000000e+00</td>\n",
       "    </tr>\n",
       "    <tr>\n",
       "      <th>25%</th>\n",
       "      <td>0.000000e+00</td>\n",
       "    </tr>\n",
       "    <tr>\n",
       "      <th>50%</th>\n",
       "      <td>1.000000e+00</td>\n",
       "    </tr>\n",
       "    <tr>\n",
       "      <th>75%</th>\n",
       "      <td>2.600000e+01</td>\n",
       "    </tr>\n",
       "    <tr>\n",
       "      <th>max</th>\n",
       "      <td>2.358477e+07</td>\n",
       "    </tr>\n",
       "  </tbody>\n",
       "</table>\n",
       "</div>"
      ],
      "text/plain": [
       "                  0\n",
       "count  9.616201e+06\n",
       "mean   5.761969e+02\n",
       "std    2.983999e+04\n",
       "min    0.000000e+00\n",
       "25%    0.000000e+00\n",
       "50%    1.000000e+00\n",
       "75%    2.600000e+01\n",
       "max    2.358477e+07"
      ]
     },
     "execution_count": 3,
     "metadata": {},
     "output_type": "execute_result"
    }
   ],
   "source": [
    "A_weighted_array = A_weighted_place.toarray()\n",
    "print(np.sum(A_weighted_array))\n",
    "pd.DataFrame(A_weighted_array.reshape(-1, 1)).describe()"
   ]
  },
  {
   "cell_type": "code",
   "execution_count": 4,
   "metadata": {},
   "outputs": [],
   "source": [
    "epsilon = 0.0"
   ]
  },
  {
   "cell_type": "code",
   "execution_count": 5,
   "metadata": {},
   "outputs": [
    {
     "name": "stdout",
     "output_type": "stream",
     "text": [
      "Num of edges in the new adjacency matrix:  5290563.0\n",
      "Num of edges in the initial adjacency matrix:  5290563.0\n",
      "Total number of potential edges:  9616201\n"
     ]
    },
    {
     "data": {
      "text/plain": [
       "array([[1., 1., 1., ..., 0., 0., 0.],\n",
       "       [1., 1., 1., ..., 0., 0., 1.],\n",
       "       [1., 1., 1., ..., 0., 0., 0.],\n",
       "       ...,\n",
       "       [0., 0., 0., ..., 1., 1., 1.],\n",
       "       [0., 0., 0., ..., 1., 1., 1.],\n",
       "       [0., 1., 0., ..., 1., 1., 1.]])"
      ]
     },
     "execution_count": 5,
     "metadata": {},
     "output_type": "execute_result"
    }
   ],
   "source": [
    "# create a threshold to filter the weighting array.\n",
    "import copy\n",
    "A_threshold = copy.copy(A_weighted_array)\n",
    "\n",
    "import copy\n",
    "A_threshold = copy.copy(A_weighted_array)\n",
    "smaller_than_threshold_mask = A_threshold < epsilon\n",
    "A_threshold[smaller_than_threshold_mask] = 0.0\n",
    "larger_than_threshold_mask = A_threshold > epsilon\n",
    "A_threshold[larger_than_threshold_mask] = 1.0\n",
    "\n",
    "print(\"Num of edges in the new adjacency matrix: \", np.sum(A_threshold))\n",
    "print(\"Num of edges in the initial adjacency matrix: \", np.sum(A_place))\n",
    "print(\"Total number of potential edges: \", A_place.shape[0]*A_place.shape[1])\n",
    "\n",
    "# Q: what is the right density in a graph?\n",
    "\n",
    "A_threshold"
   ]
  },
  {
   "cell_type": "code",
   "execution_count": 6,
   "metadata": {},
   "outputs": [],
   "source": [
    "# Obtain the characters of the A_threshold graph. \n",
    "# density, diameter, etc. \n",
    "G = nx.from_numpy_matrix(A_threshold)"
   ]
  },
  {
   "cell_type": "code",
   "execution_count": 7,
   "metadata": {},
   "outputs": [
    {
     "name": "stdout",
     "output_type": "stream",
     "text": [
      "0.5506718956424046\n"
     ]
    }
   ],
   "source": [
    "# density\n",
    "print(nx.density(G))"
   ]
  },
  {
   "cell_type": "code",
   "execution_count": 8,
   "metadata": {},
   "outputs": [
    {
     "name": "stdout",
     "output_type": "stream",
     "text": [
      "Average degree is:  1707.0828764914543\n"
     ]
    },
    {
     "data": {
      "image/png": "[encoded data removed]",
      "text/plain": [
       "<Figure size 360x360 with 1 Axes>"
      ]
     },
     "metadata": {
      "needs_background": "light"
     },
     "output_type": "display_data"
    }
   ],
   "source": [
    "# degree distribution.\n",
    "degree_dict = dict(nx.degree(G))\n",
    "degree_counts = degree_dict.values()\n",
    "\n",
    "degree_hist, degree_bins, _ = plt.hist(degree_counts, bins=100)\n",
    "plt.close()\n",
    "\n",
    "fig, ax = plt.subplots(figsize = (5, 5))\n",
    "ax.loglog(degree_bins[1:], degree_hist)\n",
    "ax.set_xscale('log')\n",
    "ax.set_yscale('log')\n",
    "ax.set(title = 'Degree Distribution (Log-Log)')\n",
    "\n",
    "print(\"Average degree is: \", np.mean(list(degree_counts)))\n",
    "\n",
    "# print(hist)\n",
    "# print(bins)"
   ]
  },
  {
   "cell_type": "code",
   "execution_count": 9,
   "metadata": {},
   "outputs": [
    {
     "name": "stdout",
     "output_type": "stream",
     "text": [
      "1\n"
     ]
    }
   ],
   "source": [
    "# components\n",
    "print(nx.number_connected_components(G))"
   ]
  },
  {
   "cell_type": "code",
   "execution_count": 10,
   "metadata": {},
   "outputs": [],
   "source": [
    "# clustering coeffcient.\n",
    "clustering_dict = nx.clustering(G)\n",
    "clustering_keys = clustering_dict.keys()\n",
    "clustering_values = clustering_dict.values()"
   ]
  },
  {
   "cell_type": "code",
   "execution_count": null,
   "metadata": {},
   "outputs": [],
   "source": [
    "# average clustering coefficient\n",
    "print(\"average clustering coefficient: \", np.mean(clustering_values))\n"
   ]
  },
  {
   "cell_type": "code",
   "execution_count": 34,
   "metadata": {},
   "outputs": [
    {
     "data": {
      "text/plain": [
       "[Text(0.5, 1.0, 'Degree - Clustering Coefficients (Log-Log)')]"
      ]
     },
     "execution_count": 34,
     "metadata": {},
     "output_type": "execute_result"
    },
    {
     "data": {
      "image/png": "[encoded data removed]",
      "text/plain": [
       "<Figure size 360x360 with 1 Axes>"
      ]
     },
     "metadata": {
      "needs_background": "light"
     },
     "output_type": "display_data"
    }
   ],
   "source": [
    "# clustering_values\n",
    "degree_counts\n",
    "\n",
    "degree_cluster_df = pd.DataFrame([list(degree_counts), list(clustering_values)]).T\n",
    "degree_cluster_df.columns = ['degree', 'clustering_coeff']\n",
    "degree_cluster_df = degree_cluster_df.sort_values('degree').reset_index()\n",
    "degree_cluster_df\n",
    "\n",
    "fig, ax = plt.subplots(figsize = (5, 5))\n",
    "ax.loglog(degree_cluster_df['degree'], degree_cluster_df['clustering_coeff'])\n",
    "ax.set_xscale('log')\n",
    "ax.set_yscale('log')\n",
    "ax.set_xlabel('Degree')\n",
    "ax.set_xlabel('Clustering Coefficients')\n",
    "ax.set(title = 'Degree - Clustering Coefficients (Log-Log)')"
   ]
  },
  {
   "cell_type": "code",
   "execution_count": null,
   "metadata": {},
   "outputs": [],
   "source": [
    "# Component diameter (VERY VERY SLOW)\n",
    "largest_G_nodes = max(nx.connected_components(G), key=len)\n",
    "largest_sub_G = G.subgraph(largest_G_nodes)\n",
    "print(nx.diameter(largest_sub_G)) # it takes time to compute.\n"
   ]
  },
  {
   "cell_type": "code",
   "execution_count": null,
   "metadata": {},
   "outputs": [],
   "source": []
  },
  {
   "cell_type": "code",
   "execution_count": null,
   "metadata": {},
   "outputs": [],
   "source": []
  },
  {
   "cell_type": "code",
   "execution_count": null,
   "metadata": {},
   "outputs": [],
   "source": []
  },
  {
   "cell_type": "code",
   "execution_count": null,
   "metadata": {},
   "outputs": [],
   "source": []
  },
  {
   "cell_type": "code",
   "execution_count": null,
   "metadata": {},
   "outputs": [],
   "source": []
  },
  {
   "cell_type": "markdown",
   "metadata": {},
   "source": [
    "### Threshold = 1000"
   ]
  },
  {
   "cell_type": "code",
   "execution_count": 4,
   "metadata": {},
   "outputs": [
    {
     "name": "stdout",
     "output_type": "stream",
     "text": [
      "5540825427.0\n"
     ]
    }
   ],
   "source": [
    "A_weighted_array = A_weighted_place.toarray()\n",
    "print(np.sum(A_weighted_array))"
   ]
  },
  {
   "cell_type": "code",
   "execution_count": 5,
   "metadata": {},
   "outputs": [
    {
     "data": {
      "text/html": [
       "<div>\n",
       "<style scoped>\n",
       "    .dataframe tbody tr th:only-of-type {\n",
       "        vertical-align: middle;\n",
       "    }\n",
       "\n",
       "    .dataframe tbody tr th {\n",
       "        vertical-align: top;\n",
       "    }\n",
       "\n",
       "    .dataframe thead th {\n",
       "        text-align: right;\n",
       "    }\n",
       "</style>\n",
       "<table border=\"1\" class=\"dataframe\">\n",
       "  <thead>\n",
       "    <tr style=\"text-align: right;\">\n",
       "      <th></th>\n",
       "      <th>0</th>\n",
       "    </tr>\n",
       "  </thead>\n",
       "  <tbody>\n",
       "    <tr>\n",
       "      <th>count</th>\n",
       "      <td>9.616201e+06</td>\n",
       "    </tr>\n",
       "    <tr>\n",
       "      <th>mean</th>\n",
       "      <td>5.761969e+02</td>\n",
       "    </tr>\n",
       "    <tr>\n",
       "      <th>std</th>\n",
       "      <td>2.983999e+04</td>\n",
       "    </tr>\n",
       "    <tr>\n",
       "      <th>min</th>\n",
       "      <td>0.000000e+00</td>\n",
       "    </tr>\n",
       "    <tr>\n",
       "      <th>25%</th>\n",
       "      <td>0.000000e+00</td>\n",
       "    </tr>\n",
       "    <tr>\n",
       "      <th>50%</th>\n",
       "      <td>1.000000e+00</td>\n",
       "    </tr>\n",
       "    <tr>\n",
       "      <th>75%</th>\n",
       "      <td>2.600000e+01</td>\n",
       "    </tr>\n",
       "    <tr>\n",
       "      <th>max</th>\n",
       "      <td>2.358477e+07</td>\n",
       "    </tr>\n",
       "  </tbody>\n",
       "</table>\n",
       "</div>"
      ],
      "text/plain": [
       "                  0\n",
       "count  9.616201e+06\n",
       "mean   5.761969e+02\n",
       "std    2.983999e+04\n",
       "min    0.000000e+00\n",
       "25%    0.000000e+00\n",
       "50%    1.000000e+00\n",
       "75%    2.600000e+01\n",
       "max    2.358477e+07"
      ]
     },
     "execution_count": 5,
     "metadata": {},
     "output_type": "execute_result"
    }
   ],
   "source": [
    "# describe\n",
    "pd.DataFrame(A_weighted_array.reshape(-1, 1)).describe()"
   ]
  },
  {
   "cell_type": "code",
   "execution_count": 6,
   "metadata": {},
   "outputs": [],
   "source": [
    "# Set up the threshold\n",
    "epsilon = 1000.0"
   ]
  },
  {
   "cell_type": "code",
   "execution_count": 7,
   "metadata": {},
   "outputs": [
    {
     "name": "stdout",
     "output_type": "stream",
     "text": [
      "Num of edges in the new adjacency matrix:  661439.0\n",
      "Num of edges in the initial adjacency matrix:  5290563.0\n",
      "Total number of potential edges:  9616201\n"
     ]
    },
    {
     "data": {
      "text/plain": [
       "array([[1., 1., 0., ..., 0., 0., 0.],\n",
       "       [1., 1., 1., ..., 0., 0., 0.],\n",
       "       [0., 1., 1., ..., 0., 0., 0.],\n",
       "       ...,\n",
       "       [0., 0., 0., ..., 1., 1., 0.],\n",
       "       [0., 0., 0., ..., 1., 1., 0.],\n",
       "       [0., 0., 0., ..., 0., 0., 1.]])"
      ]
     },
     "execution_count": 7,
     "metadata": {},
     "output_type": "execute_result"
    }
   ],
   "source": [
    "# create a threshold to filter the weighting array.\n",
    "import copy\n",
    "A_threshold = copy.copy(A_weighted_array)\n",
    "\n",
    "import copy\n",
    "A_threshold = copy.copy(A_weighted_array)\n",
    "smaller_than_threshold_mask = A_threshold < epsilon\n",
    "A_threshold[smaller_than_threshold_mask] = 0.0\n",
    "larger_than_threshold_mask = A_threshold > epsilon\n",
    "A_threshold[larger_than_threshold_mask] = 1.0\n",
    "\n",
    "print(\"Num of edges in the new adjacency matrix: \", np.sum(A_threshold))\n",
    "print(\"Num of edges in the initial adjacency matrix: \", np.sum(A_place))\n",
    "print(\"Total number of potential edges: \", A_place.shape[0]*A_place.shape[1])\n",
    "\n",
    "# Q: what is the right density in a graph?\n",
    "\n",
    "A_threshold"
   ]
  },
  {
   "cell_type": "code",
   "execution_count": 8,
   "metadata": {},
   "outputs": [],
   "source": [
    "# Obtain the characters of the A_threshold graph. \n",
    "# density, diameter, etc. \n",
    "G = nx.from_numpy_matrix(A_threshold)"
   ]
  },
  {
   "cell_type": "code",
   "execution_count": 9,
   "metadata": {},
   "outputs": [
    {
     "name": "stdout",
     "output_type": "stream",
     "text": [
      "0.040433366967991595\n"
     ]
    }
   ],
   "source": [
    "# density\n",
    "print(nx.density(G))"
   ]
  },
  {
   "cell_type": "code",
   "execution_count": 10,
   "metadata": {},
   "outputs": [
    {
     "name": "stdout",
     "output_type": "stream",
     "text": [
      "Average degree is:  125.34343760077394\n"
     ]
    },
    {
     "data": {
      "image/png": "[encoded data removed]",
      "text/plain": [
       "<Figure size 360x360 with 1 Axes>"
      ]
     },
     "metadata": {
      "needs_background": "light"
     },
     "output_type": "display_data"
    }
   ],
   "source": [
    "# degree distribution.\n",
    "degree_dict = dict(nx.degree(G))\n",
    "degree_counts = degree_dict.values()\n",
    "\n",
    "degree_hist, degree_bins, _ = plt.hist(degree_counts, bins=100)\n",
    "plt.close()\n",
    "\n",
    "fig, ax = plt.subplots(figsize = (5, 5))\n",
    "ax.loglog(degree_bins[1:], degree_hist)\n",
    "ax.set_xscale('log')\n",
    "ax.set_yscale('log')\n",
    "ax.set(title = 'Degree Distribution (Log-Log)')\n",
    "\n",
    "print(\"Average degree is: \", np.mean(list(degree_counts)))\n",
    "\n",
    "# print(hist)\n",
    "# print(bins)\n"
   ]
  },
  {
   "cell_type": "code",
   "execution_count": 16,
   "metadata": {},
   "outputs": [
    {
     "name": "stdout",
     "output_type": "stream",
     "text": [
      "74\n"
     ]
    }
   ],
   "source": [
    "# components\n",
    "print(nx.number_connected_components(G))"
   ]
  },
  {
   "cell_type": "code",
   "execution_count": 11,
   "metadata": {
    "scrolled": true
   },
   "outputs": [
    {
     "data": {
      "text/plain": [
       "[Text(0.5, 1.0, 'Size of Connected Components (Log-Log)')]"
      ]
     },
     "execution_count": 11,
     "metadata": {},
     "output_type": "execute_result"
    },
    {
     "data": {
      "image/png": "[encoded data removed]",
      "text/plain": [
       "<Figure size 360x360 with 1 Axes>"
      ]
     },
     "metadata": {
      "needs_background": "light"
     },
     "output_type": "display_data"
    }
   ],
   "source": [
    "# components (giant component!)\n",
    "S = [len(c.copy()) for c in nx.connected_components(G)]\n",
    "S\n",
    "\n",
    "connect_hist, connect_bins, _ = plt.hist(S, bins=100)\n",
    "plt.close()\n",
    "\n",
    "fig, ax = plt.subplots(figsize = (5, 5))\n",
    "ax.loglog(connect_bins[1:], connect_hist)\n",
    "ax.set_xscale('log')\n",
    "ax.set_yscale('log')\n",
    "ax.set(title = 'Size of Connected Components (Log-Log)')\n"
   ]
  },
  {
   "cell_type": "code",
   "execution_count": 12,
   "metadata": {
    "collapsed": true
   },
   "outputs": [
    {
     "data": {
      "text/plain": [
       "dict_values([0.36201005025125627, 0.42096743835874273, 0.6402116402116402, 0.49537037037037035, 0.5307271557271557, 0.5884215287200362, 0.4343238587424634, 0.6015037593984962, 0.5503785672684915, 0, 0.4990825688073395, 0.8222222222222222, 0.7318548387096774, 0.5604551920341394, 0.5219349457881568, 0.6988636363636364, 0.6151260504201681, 0.7162162162162162, 0.7789473684210526, 0.5764423076923076, 0, 0.9, 0.6681547619047619, 0.5181800875690082, 0.6010526315789474, 0.39285714285714285, 0.6560150375939849, 0.7372372372372372, 0.41843025395656974, 0.6928991406603346, 0.5234765234765235, 0.5831285831285832, 0.6453373015873016, 0.37912116084704917, 0.44327525731700307, 0.8627450980392157, 0.3968021968287714, 0.4204978297457702, 0.6622710622710622, 0.49551099805476584, 0.5395976572447161, 0.776829268292683, 0.6903846153846154, 0.3152910322721644, 0.6281613123718387, 0.3320966154312107, 0.29025780541520924, 0.5615018688413184, 0.6159754224270353, 0.5890775890775891, 0.5237450787401575, 0.3829340953307393, 0.4104980939214947, 0.9454545454545454, 0.5729468599033817, 0.6862334032145353, 0.8785425101214575, 0.5, 0.452312065377392, 0.35140455818883926, 0.25893189875111083, 0.5378787878787878, 0.5847868217054264, 0.8225988700564971, 0.7166666666666667, 0.5663865546218487, 0.8587301587301587, 0.5097917955060812, 0.5334378265412748, 0.7842105263157895, 0.4917881101087208, 0.7485119047619048, 0.6909604519774011, 0.7463276836158192, 0.41247499545371885, 0.6205533596837944, 0.6930272108843537, 0.7234848484848485, 0.6621052631578948, 0.7272727272727273, 0.7719806763285024, 0.4321293429652563, 0.5979381443298969, 0.35049216944134226, 0.5592469545957918, 0.3, 0.45548759768943253, 0.6458752515090543, 0.5, 0.7069701280227596, 0.613838242169238, 0.3, 0.6573751451800233, 0.662431941923775, 0.5526673462453279, 0.364584874944502, 0.6420765027322405, 0.3933529315694921, 0.452275600505689, 0.5347194455551113, 0.4382178907065785, 0.3567567567567568, 0.5631828488971347, 0.7581699346405228, 0.5582354153782725, 0.5068418913426365, 0.6333907056798623, 0.579621095750128, 0.8, 1.0, 0.5469204927211646, 0.5700280112044818, 0.6885245901639344, 0.5557775557775558, 0.46831683168316834, 0.5884057971014492, 0.5519877675840978, 0.6419330289193302, 0.3333333333333333, 0.7071881606765328, 0.6617088607594936, 0.6650014692918014, 0.8876811594202898, 0.6092555331991951, 0.4984593837535014, 0.45578678349762686, 0.3354225595734723, 0.5481674634217008, 0.49645909645909647, 0.3912960306073649, 0.2854953475643131, 0.6063144329896907, 0.5113052415210688, 0.48191301991600055, 0.5098591549295775, 0.2118858354152472, 0.5470922882427307, 0.4821256038647343, 0.5614035087719298, 0.6065643648763853, 0.6021857923497268, 0.5387861084063615, 0.5209341468546181, 0.6281826163301142, 0.48366013071895425, 0.5708274894810659, 0.6536796536796536, 0.5579133510167993, 0.3759987840889352, 0.40836850139175723, 0.48977604673807207, 0.6145739235170129, 0.19773042668680943, 0.2829846768820786, 0.2575677110993096, 1.0, 0.194440111299351, 0.5778846153846153, 0.503933910306845, 0.6175666438824333, 0.7272727272727273, 0.19868435511801774, 0, 0.6504494976203067, 0.6859903381642513, 0, 0.624361593462717, 0.6124483691781798, 0, 0.47213368105863035, 0.4473523755921392, 0, 0.15094609724204536, 0.2626661875673733, 0.28672534349357715, 0.6354312354312355, 0.5744449619624282, 0.40306300034806825, 0.3059125964010283, 0.39194055006511913, 0.7604442094130089, 0.3333333333333333, 0.6154772658837699, 0.48652792990142385, 0.551981351981352, 0.6666666666666666, 0.5759637188208617, 0.5379084967320261, 0.6301958910654563, 0.638095238095238, 0.6167953667953668, 0.4422521050647229, 0.5093156732891833, 0.5291184041184042, 0.7403993855606759, 0.4777515351913085, 0.5937104930467763, 0.5882352941176471, 0.27466104039845046, 0.48368261912209365, 0.17745962516987454, 0.43591979075850046, 0.39147609147609147, 1.0, 0.7797101449275362, 0.5420289855072464, 0.20355137746442095, 0.4283723522853958, 0.17862583357036757, 0.5225396825396825, 0.6413043478260869, 0.6093023255813953, 0.38763410502540935, 0.3024528897778714, 0.6794871794871795, 0.3333333333333333, 0.4816118935837246, 0.35825755713934626, 0.8916666666666667, 1.0, 0, 1.0, 0.6684104627766599, 0, 0.7201426024955436, 0.8222222222222222, 0.8333333333333334, 0.7, 0.3246468171328868, 0.6630963972736125, 0.33015775230467975, 0.5486299307437519, 0.6553884711779449, 0.6025641025641025, 0.5325227963525836, 0.7095238095238096, 0.7462365591397849, 0.6666666666666666, 0.35558715487617015, 0.6462776659959758, 0.35290112072634416, 0.34295997445795723, 0.56214915797915, 0.5292170022371364, 0.4318830490776192, 0.41783058226011244, 0.352219328963515, 0.9094202898550725, 0.7264367816091954, 0.6747967479674797, 0.5401703072935949, 0.44888536180650745, 0.7361853832442068, 0.5757894736842105, 0.6377551020408163, 0.45417193426042984, 0.6159420289855072, 0.5, 0.5474969474969476, 0.7572463768115942, 0.6781609195402298, 0.7421052631578947, 0.7134146341463414, 0.6502415458937199, 0, 0.7312252964426877, 0.4815449942838478, 0.4482001755926251, 0.5108838185156045, 0.6711915535444947, 0.4934593023255814, 0.3550465282748747, 0.5299539170506913, 0.6231094978826376, 0.7134146341463414, 0.4950321449444769, 0.5104493207941484, 1.0, 0.5710955710955711, 0.6107539450613676, 0.5097643097643098, 0.5685599541021228, 0.7857142857142857, 0.7074468085106383, 0.49586776859504134, 0.8904761904761904, 0.5822784810126582, 0.8545454545454545, 0.37305555555555553, 0.5444330949948928, 0.6321321321321322, 0.4154086767305862, 0.5632183908045977, 0.6833333333333333, 0.26533854686949987, 0.6612103174603174, 0.602436323366556, 0.8333333333333334, 0.4456828345373237, 0.5524752475247525, 0.7073412698412699, 0.5647058823529412, 0.6219918548685672, 0.8689655172413793, 0.4563953488372093, 0.6603508771929825, 0.7393939393939394, 0.5850453893932155, 0.5501189262657152, 0.3960295136765725, 0.7198838896952104, 0.5376033057851239, 0.8624338624338624, 0.8380952380952381, 0.4875055187637969, 0.7333333333333333, 0.8555555555555555, 0.8525252525252526, 0.5292743953294412, 0.5901315789473685, 0.704183635690485, 0.6436781609195402, 0.5240373661426293, 0.5049980007996802, 0.47733664185277086, 0.6114149008885851, 0.5700852189244784, 0.8695652173913043, 0.3333333333333333, 0.5530964861192001, 0.5946041262563921, 0.5224344045955597, 0.6117566643882434, 0.45017482517482516, 0.3230388500915316, 0.7663280116110305, 0.4799458661417323, 0.35494978479196554, 0.5049938278532151, 0.34362646378757367, 0.6923076923076923, 0.500369094488189, 0.6536796536796536, 0.4540229885057471, 0.49298737727910236, 0.6027800053461642, 0.44983818770226536, 0.7251461988304093, 0.33948598130841123, 0.5703957382039574, 0.5606060606060606, 0.48669580553638525, 0.7564102564102564, 0.8666666666666667, 0.7064102564102565, 0.6049382716049383, 0.4553395322626092, 0.6, 0.6301075268817204, 0.8095238095238095, 0.28785010269296524, 0, 0.7764705882352941, 0.4931871321454487, 0.7083333333333334, 0.6168498168498169, 0.6170574243968739, 0.5541394335511982, 0.5936708860759494, 0.3832587523032377, 0.6435028248587571, 0.44979899497487436, 0.5252454417952315, 0.5756917282341011, 0.8735177865612648, 0.2312267425497983, 0.7619047619047619, 0.6530612244897959, 0.7700908455625437, 0.504769386151947, 0.6042095630290552, 0.6118455843469064, 0.42112597547380154, 0.5760829322473158, 0.3074461644901842, 0.5850189633375474, 0.6679400528945049, 0.3243785954629328, 0.4347182229535171, 0.39003451251078514, 0.626984126984127, 0.638477801268499, 0.524113475177305, 0.9333333333333333, 0.8744588744588745, 0.38857898877208036, 0, 0.5771694816540478, 0.447870778267254, 0.5708020050125313, 0.5922565033272837, 0.3931478466775196, 0.5460940392447242, 0.4763480282571761, 0.3564356435643564, 0.5797313797313798, 0.5710144927536231, 0.6153846153846154, 0.8268398268398268, 0.4543970874395832, 0.48410938654841096, 0.43505217925107426, 0.48529624800811244, 0.38612273361227334, 0, 0.530113297555158, 0.36285126066147966, 0.3462679955703212, 0.4683668903803132, 0.38303544978769627, 0.6, 0.5747536527353041, 0.36879358437935844, 0.4935064935064935, 0.5165971643035864, 0.45517324205848797, 0.5998361998361998, 0.587010078387458, 0.7965367965367965, 0.6057015920029619, 0.5094922737306843, 0.7513227513227513, 0.6121593291404612, 0.44144144144144143, 0.7636054421768708, 0.44562007874015747, 0.5994397759103641, 0.5885982956215104, 0.5668934240362812, 0.5070259307547443, 0.5233659369663096, 0.386630120298462, 0.9052631578947369, 0.8333333333333334, 0.301147337772781, 0.6369820655534941, 0.484812210085291, 0.6129032258064516, 0.6071428571428571, 0.6125490196078431, 0.46799431009957326, 0.4254749681891975, 0.40378218272955113, 0.4521808088818398, 0.5639097744360902, 0.561675272518646, 0.7896613190730838, 0.6476190476190476, 0.9444444444444444, 0.6430769230769231, 0.7065217391304348, 0.5348314606741573, 0, 0.5515239477503628, 0.5789473684210527, 0.6076923076923076, 0.329004329004329, 0.6503327283726558, 0.5942684766214178, 0.5798258345428157, 0, 0.367196084307262, 0.44025974025974024, 0.5112216694306246, 0.4705828277256849, 0, 1.0, 0.7149425287356321, 0.7661538461538462, 0.4733893557422969, 0.6600877192982456, 0.4508184847167898, 0.44464631782945735, 0.40217391304347827, 0.3151105651105651, 0.9111111111111111, 0.6752136752136753, 0.6608187134502924, 0.6263063063063063, 0.330890867707543, 0.3281949550467732, 0.6036217303822937, 0.43556701030927836, 0.4833100450240646, 1.0, 0.5467532467532468, 0.6267995570321152, 0.7169230769230769, 0, 0.6470588235294118, 1.0, 0.5680580762250453, 0.3489578620336018, 0.4444444444444444, 0, 0.4018169112508735, 0.5333333333333333, 0.4859862506610259, 0.5, 0.31248921856132483, 0.3711750996165702, 0.31852553361987324, 1.0, 0.5513590391908976, 0.6297384660593593, 0.47818648417450815, 0.6476418318523581, 0.6592261904761905, 0.6986215538847118, 0.6553884711779449, 0.6771507863089732, 0.49404117009750814, 0.7169811320754716, 0.5212580081537566, 0.4055223880597015, 0.5109039190897599, 0.5259522031366691, 0.7555555555555555, 0.5291908914728682, 0.5889175257731959, 0.5529279279279279, 0.6426690079016681, 0.6921182266009852, 0.38750590298859877, 0.5558672276764843, 0.4409321175278622, 0.6066666666666667, 0.6459425717852684, 0.44616883116883116, 0.5515151515151515, 0.5921212121212122, 0.5756410256410256, 0.5, 0.5580246913580247, 0.5676359039190898, 0.6433663366336634, 0.39401999901482687, 0.4309793664632374, 0.8164642375168691, 0.34545454545454546, 0, 0.45764607212748115, 0.5877192982456141, 0.6623376623376623, 0.2555873869277711, 0.6003401360544217, 0.5096774193548387, 0.5363636363636364, 0.5704800817160368, 0.595253164556962, 0.4484463276836158, 0.6239035087719298, 0.37356699525374226, 0.47554179566563465, 0.5194805194805194, 0.5984233158146202, 0.6365384615384615, 0.616454930429522, 0.5290384005077753, 0.4454017776165427, 0.8070175438596491, 0.6367461430575035, 0.3871142882997014, 0.756078431372549, 0.40905853866970515, 0.43512790136457374, 0.4398011350311899, 0.603641456582633, 0.8241758241758241, 0.6255293405928615, 0.5943502824858757, 0.5977115326708823, 0.625, 0.48921911421911424, 0.3065852665852666, 0.5859213250517599, 0, 0.680672268907563, 0.4360423004490801, 0.7342995169082126, 0.6944444444444444, 0.6575821104122991, 0.3975979772439949, 0.5254140491147915, 0.6043956043956044, 0.4193192428486546, 0.6131320064058567, 0.5552812365822242, 0.5171052631578947, 0.43987012987012986, 0.6025290498974709, 0.6846846846846847, 0.4887368120901055, 0.5773726040205703, 1.0, 0.3406392694063927, 0.22151651781843407, 0.49716129032258066, 0.449315489924627, 0.8, 0.3884151593453919, 0.45487627365356625, 0.4375674474703231, 0.46108374384236456, 0.7256410256410256, 0.515442690459849, 0.5031921424186617, 0.5882911392405064, 0.16666666666666666, 1.0, 0.6123657904479822, 0.322071867526413, 0.5757062146892655, 0.400427012956626, 0.51288394145537, 0.4221035803698006, 0.4642857142857143, 0.38491010904804007, 0.543233082706767, 0.5641584158415841, 0.43500320181271857, 0.8076923076923077, 0.593990216631726, 0.49737739312877, 0.4277622865109794, 0.49666666666666665, 0.5281385281385281, 0.6666666666666666, 1.0, 0.386999768679158, 0.7056451612903226, 0, 0.5, 0.4755301136821737, 0.5115479115479116, 0.2933876080523096, 0.49583333333333335, 0.4030029231995748, 0.6944444444444444, 0.5083986562150056, 0.6666666666666666, 0.3164819793237602, 0.4444444444444444, 0.7878787878787878, 0.4973544973544973, 0, 0.6303258145363408, 0.4458939264328486, 0.27698059462346447, 0.3183802498870992, 0.33903958207755674, 0.5323174603174603, 0.3902962644911979, 0.75, 0.4269192913385827, 0, 0.6327985739750446, 0.5853658536585366, 0.5133333333333333, 0.5625, 0.75, 1.0, 0, 0, 0.23499481984574652, 0.3274567743481212, 0.5151515151515151, 0.5588235294117647, 0.5, 0.6300211416490487, 0.522060470324748, 0.6140350877192983, 0.6512987012987013, 0.49321107388467644, 0.35713733673390524, 0.4240715883668904, 0.5019025875190258, 0.7485714285714286, 0.4886753603294441, 0.7052631578947368, 0.4456004232057838, 0.38088125466766243, 0, 0.46792717086834734, 0.229769392033543, 0.31885696464075475, 0.39520132377275236, 0.5099111414900889, 0.4909090909090909, 0.3708894878706199, 0.6353535353535353, 0.6666666666666666, 0.5128700128700129, 0.8363636363636363, 0.9166666666666666, 0.3517455762792922, 0.42528079192842183, 0.40863787375415284, 0.543778801843318, 0.36729064039408865, 0.5891472868217055, 0.4355842630651791, 0.8974358974358975, 0.5195446735395189, 0.6212121212121212, 0.3305799899878424, 0.5291005291005291, 0.3667742547940004, 0.5146198830409356, 0.6181818181818182, 0.3059210526315789, 0.46273291925465837, 0.6231231231231231, 0.385850991114149, 0.68, 0.58, 0.4165733482642777, 0.46153846153846156, 0.4199367088607595, 0.8545454545454545, 0.6205533596837944, 0.5646341463414634, 1.0, 0.498989898989899, 0.49825783972125437, 0.5646004480955937, 0.5705128205128205, 0, 0, 0.28851846409002163, 0.280235364586086, 0.4704956726986625, 0.5393430099312452, 0.5243589743589744, 0.38776912505726063, 0.43086190096554167, 0.25966239202281965, 0.4222052942296705, 0.5479566305254379, 0.32260233339924854, 0.8571428571428571, 0.6043956043956044, 0.8333333333333334, 1.0, 0.5903381642512078, 0.43295973432959733, 0.4322981366459627, 0.44754786257539997, 0.39813092390822924, 0.33009763530673286, 0.4835164835164835, 0.4380952380952381, 0.5601092896174863, 0.41631205673758864, 0.5528481012658227, 0.37061923583662715, 0.08678119283864538, 0.31426934097421205, 0.6641025641025641, 0.5751412429378531, 0.6186186186186187, 0.6608594657375145, 0.5619047619047619, 0.5084151472650772, 0.45419811760320566, 0.4320647177790035, 0.4533855122090416, 0.38996519109735944, 0.528169014084507, 0.24809165235136846, 0.5270684371807968, 0.43224857510571796, 0.7121212121212122, 0.4677307425399028, 0.557571269900037, 0.32762291908633373, 0.21218071180924078, 0.6082932247315809, 0.40015255530129673, 0.3141046562228024, 0.37105220883534135, 0.12591354661497492, 0.6482213438735178, 0.5898520084566596, 0.5758426966292135, 0.47525974025974027, 0.45603360857598146, 0.6397058823529411, 0.8033333333333333, 0.5134730538922155, 0.41432835820895525, 0.6232993197278912, 0.44565826330532216, 0.6236874236874237, 0.6692268305171531, 0.49568652745303554, 0.7272727272727273, 0.39703938673010836, 0.24108486266240542, 0.3238372312691276, 0.43235263648606653, 0, 0.8, 0.40649666059502126, 0.37164684218384514, 0.6847290640394089, 0.35224136645036175, 0.680952380952381, 0.7912087912087912, 0.525691699604743, 0.45464257964257965, 0.6207126207126207, 0.46357103372028746, 0.49296173830892775, 0.6088534107402032, 0.41386426527836406, 0.5224079457364341, 0.4492201956119482, 0.668235294117647, 0.6959280803807509, 0.4929123164417282, 0.7947368421052632, 0.6450704225352113, 0.38696854476322157, 0.7251461988304093, 0.6771196283391405, 1.0, 0.48677248677248675, 0.44925373134328356, 0.6061538461538462, 0.6185515873015873, 0.45555555555555555, 0.5723076923076923, 0.7, 0.5333333333333333, 0, 1.0, 0.5628008073280546, 0.5290303566165635, 0.5362942913385826, 0.5431547619047619, 0.3570482866043614, 0.6268292682926829, 0.5781683626271971, 0.6666666666666666, 0, 0.5991561181434599, 0.4985248447204969, 0.47572977481234363, 0.5597711532670883, 0.5256198347107438, 0.7833333333333333, 0.625638406537283, 0.4100418410041841, 0.6060783167738165, 0.41127247579529735, 0.3436397400185701, 0.45157337788916735, 0.4406303398519081, 0.43791678148250207, 0.37688013136289, 0.35825003621613793, 0.4862337273679485, 0.5661524076671341, 0.36445211389128557, 0.6552088841882602, 0.4965626652564781, 0.3915071353985381, 0.3917525773195876, 0.5663865546218487, 1.0, 1.0, 0.8666666666666667, 0.6807692307692308, 0.432712215320911, 0.41650006664001066, 0.4166666666666667, 0.3605617818130231, 0.4137336943145459, 0.4900826446280992, 0, 0.9238095238095239, 0.42204274598640795, 0.6013289036544851, 0.5369369369369369, 0.39015151515151514, 0.5095137420718816, 0.47731397459165154, 0.48878718535469107, 0.5256438969764837, 0.4888888888888889, 0.578743961352657, 0.37611868096428286, 0.37022465812893424, 0.43978792249814824, 0.5393939393939394, 0.5497076023391813, 0.4779299847792998, 0.49624060150375937, 0.5174662319515603, 0.43509615384615385, 0.6024489795918367, 0.5266666666666666, 0.3648825406791189, 0.39751045811651875, 0.6160965794768611, 0.6363636363636364, 0.2533201013887221, 0.6483091787439613, 0.4117488909799704, 0.49936881270347483, 0.21033322265536933, 0.42843758611187654, 0.5793103448275863, 0.4180583656253215, 0.7636363636363637, 0.46415152212253663, 0.5372881355932203, 0.5442670537010159, 0.49738292011019286, 0.6458333333333334, 0.38560526709561577, 0.5927318295739349, 0.5284715284715285, 0.6, 0.5942544459644323, 0.4851063829787234, 0.4222222222222222, 0.504982953055337, 0.4722222222222222, 0.676179604261796, 0.5, 0.7619047619047619, 0.48900308324768754, 0.6328011611030478, 0.46265227984685, 0.3848469212246302, 0.5166809238665526, 0.44943473792394656, 0.5432165318957772, 0.19201005837686574, 0.38870885212348627, 0.3605347282766638, 0.4993939393939394, 0.4915674603174603, 0.4041967664258686, 0.5700149365197908, 0.5300094838097819, 0.5427547363031234, 0.4937085335163578, 0.642243328810493, 0.56692242114237, 0.5610184372256365, 0.5684210526315789, 0.4971153846153846, 0.5675043834015195, 0.6423728813559322, 0.5301542776998598, 0.4699153511782201, 0.5104627173592691, 0.5355276907001045, 0.431326139923425, 0.8888888888888888, 0.6657801418439716, 0.3421732105079042, 0.5566037735849056, 0.4120350827822335, 0.5815384615384616, 0.4894949494949495, 0.5162790697674419, 0.5746913580246914, 0.570679012345679, 0.5813664596273292, 0.5957854406130269, 0.6323366555924695, 0.33608724388631855, 0.6571687019448214, 0.4869146005509642, 0.5388933440256616, 0.4618055555555556, 0.5299205236091632, 0.5566666666666666, 0.7619047619047619, 0.6095238095238096, 0.4961876832844575, 0.5061038113875688, 0.4643965081884424, 0.38049669628616994, 0.46923432801295395, 0.41694136449905106, 0.6406649616368286, 0.46375656102584545, 0.5245953665503015, 0.4312539628347071, 0.635438596491228, 0.3722518008142812, 0.12710597816980795, 0.46017776228651097, 0.42690281216276266, 0.47769423558897245, 0.29535587256180146, 0.7176470588235294, 0.5531055900621118, 0.554031746031746, 0.6489510489510489, 0.33129272523211917, 0.4610057211683228, 0.3043070784967399, 0.5754806777079764, 0.5580246913580247, 0.466403162055336, 0.6096096096096096, 0.4993903265140225, 0.4983912483912484, 0.6338893766461808, 0.6094736842105263, 0.62, 0.51192856190857, 0.546583850931677, 0.4882911392405063, 0.6421052631578947, 0.6370471633629529, 0.5311827956989247, 0.5463609172482552, 0.5310778914240756, 0.42342342342342343, 0.553968253968254, 0.354978354978355, 0.5299205236091632, 0.5601673101673101, 0.47584789311408016, 0.44285714285714284, 0.5673758865248227, 0.7101449275362319, 0.5656565656565656, 0.4962599345488546, 0.6583801122694467, 0.601978691019787, 0.4375, 0.27030757433756497, 0.6628205128205128, 0.6809116809116809, 0.5519668737060042, 0.4531614487415592, 0.6676342525399129, 0.5967741935483871, 0.4825324180015256, 0.6792792792792792, 0.5768849206349206, 0.5741935483870968, 0.47843467283820745, 0.6385048643113159, 0.6245421245421245, 0.5413469735720375, 0.6274599542334096, 0.390809043282585, 0.3061493690165361, 0.5623417721518987, 0.41784599029964786, 0.47232422140622876, 0.4507075471698113, 0.5768115942028985, 0.4827190827190827, 0.6014799154334038, 0.6677740863787376, 0.5111111111111111, 0.5806737588652482, 0.4675324675324675, 0.5331632653061225, 0.5243697478991597, 0.17606909754149017, 0.2964595415631041, 0.5498277559055118, 0.47448451556404747, 0.16140562934737673, 0.4226057014734145, 0.5418527708850289, 0.34353382786665476, 0.22318496411112182, 0.3605185643796552, 0.16233579812064994, 0.692261367058115, 0.6098797624221353, 0.4856247824573616, 0.6694093446958566, 0.7456059204440333, 0.6108910891089109, 0.7137027491408935, 0.7566666666666667, 0.5276073619631901, 0.38783461103430944, 0.3734917043740573, 0.5564714566929134, 0.4493815261044177, 0.5177922077922078, 0.49463471340427434, 0.28795975817988834, 0.3119235380926028, 0.4078062317135704, 0.21426506286992336, 0.5128205128205128, 0.5098477743308564, 0.5049019607843137, 0.4696969696969697, 0.6223698781838317, 0.6640464798359536, 0.391243752402922, 0.5996268159402905, 0.4879259760776348, 0.7037837837837838, 0.5226855494361395, 0.674025974025974, 0.5850453893932155, 0.5, 0.6090909090909091, 0.28338280658867354, 0.5609729132117192, 0.5208243881494203, 0.4232063600448715, 0.4042318520883523, 0.5483282674772036, 0.8528735632183908, 0.6231853566168736, 0.5281217750257998, 0.6328712871287129, 0.5179993077189339, 0.5794177732379979, 0.44641028558425305, 0.5890804597701149, 0.6287974683544304, 0.35077245920619415, 0.9333333333333333, 0.4726775956284153, 0.5091575091575091, 0.25359483004213335, 0.40470324748040315, 0.3200315191084595, 0.5151020408163265, 0.46248600223964165, 0.501252236135957, 0.46095900333188466, 0.5100250626566416, 0.5540229885057472, 0.5415809579782545, 0.46497175141242936, 0.5636440143067536, 0.4328972868217054, 0.6367816091954023, 0.37824729253870176, 0.18300964416361823, 0.25875228437309633, 0.6017069701280228, 0.5296052631578947, 0.5968354430379746, 0.565284178187404, 0.3902509255450432, 0.2500617957106507, 0.37969995606051093, 0.5503875968992248, 0.5061419200954085, 0.4646440516005733, 0.5473389355742297, 0.55406195207481, 0.45454545454545453, 0.47934336525307797, 0.530241935483871, 0.3806818181818182, 0.46167557932263814, 0.4228187919463087, 0.5396825396825397, 0.5364088647670737, 0.4642857142857143, 0.6289640591966174, 1.0, 0.5256410256410257, 0.3333333333333333, 0.47576031315868716, 0.3537348877374784, 0.48947368421052634, 0.5678160919540229, 0.7, 0.3198824343015214, 0.5294117647058824, 0.5, 0.43354559002845144, 0.2, 0.4021164021164021, 0.5251388691069648, 0.53132099967543, 0.4370469798657718, 0.5625, 0.5207373271889401, 0.46821599453178403, 0.5391180654338549, 0.6666666666666666, 0.34219546086151, 0.7142857142857143, 0.5371428571428571, 1.0, 0.40190853256179887, 0, 0.5735294117647058, 0.6388888888888888, 0.4922558922558923, 0.432996632996633, 0.5714285714285714, 0.3738656987295826, 0.6078431372549019, 0.49561018437225635, 0.5637755102040817, 0.5757575757575758, 0.5529100529100529, 0.5946843853820598, 0.45068027210884354, 0.5447106954997077, 0.4646153846153846, 0.5174129353233831, 0.561038961038961, 0.4213631423691973, 0.5378531073446328, 0.4166437034995867, 0.5412429378531074, 0.4582115721800117, 0.38, 0.5261261261261261, 0, 0.3882808181315644, 0.5364088647670737, 0.5032679738562091, 0.4214734437464306, 0.5491525423728814, 0.31210151655834106, 0.7333333333333333, 0.4368691677775662, 0.43263258480649786, 0.5555555555555556, 0.5862068965517241, 0.5270655270655271, 0.9523809523809523, 0.29302874600749895, 0.5977401129943503, 0.3980295566502463, 0.6444444444444445, 0, 0.6306253652834599, 0.5833333333333334, 0.44642857142857145, 0.3518663348738002, 0.32227527854569826, 0.3117610646858558, 0.47345132743362833, 0.7032967032967034, 0.6111111111111112, 0.5211267605633803, 0.36113744075829385, 0.35198945981554675, 0.6837606837606838, 0, 0.4696969696969697, 0.4909090909090909, 0.40328261482107636, 0.5318918918918919, 0.3986801242236025, 0.40806473548211614, 0.6771196283391405, 0.48334489937543373, 0.6595959595959596, 0.40284857571214394, 0.47131608548931386, 0.5404998494429388, 1.0, 0.7333333333333333, 0.7033333333333334, 1.0, 0.5666666666666667, 0.37027734170591314, 0.5431931252826775, 0.4186952288218111, 0.4962292609351433, 0.71, 0.42873230373230375, 0.6363636363636364, 0.4431594488188976, 0.4254713028906577, 0.36754878374766103, 0, 0, 0.4780138859667578, 0.5221052631578947, 0.5245791245791246, 0.40305010893246185, 0.5181981981981982, 0.7698924731182796, 0.4815831617478838, 0.8666666666666667, 0.4075328546267443, 0.7842105263157895, 0.6666666666666666, 0.6833333333333333, 0.37018425460636517, 0.4945054945054945, 0.39299317920099214, 0.6644518272425249, 0.49187828872111644, 0.5492935879521813, 0.6909090909090909, 0.5625754527162978, 0, 1.0, 0.38498774509803924, 0.6666666666666666, 0.5602795573675015, 0, 0.1, 0, 0, 0, 0.4803921568627451, 0.4300425129900803, 0.3772999167108352, 0.543675751222921, 0.3980137509549274, 0.4981329350261389, 0.31319564679693296, 0.45054945054945056, 0.7, 0.5137420718816068, 0.13072720581137176, 0.4108509158358451, 0.5165002935995302, 0.4777797141861276, 0.4376657824933687, 0.40948440971424194, 0.4887729972475735, 0.3206891695225576, 0.3956907193356526, 0.3875968992248062, 0.5614617940199336, 0.3952569169960474, 0.4344086021505376, 0.3223655312861878, 0.5833333333333334, 0.6005291005291006, 0.5660738714090288, 0.4041072050121824, 0.5152062631737429, 0.5320769084332763, 0.36288479634359455, 0.4393491124260355, 0.27074983070700415, 0.48419666374012293, 0.5118952151831061, 0.5661524076671341, 0.4159284116331096, 0.49814943326393707, 0.45714285714285713, 0.43237547892720307, 0.4538058937307999, 0.44018499486125384, 0.539298245614035, 0.4324617260533803, 0.4250925822017731, 0.5303030303030303, 0.3379096159986068, 0.5661526746620978, 0.5708020050125313, 0.48228450555261765, 0.6141552511415526, 0.49976689976689975, 0.3437318593675071, 0.5583381867598525, 0.43941553813257306, 0.3703644287585893, 0.4626909518213866, 0.5645645645645646, 0.5502732240437158, 0.43317972350230416, 0.6405228758169934, 0.7, 0.7555555555555555, 0.6947368421052632, 0.47619047619047616, 0.1604154352782234, 0.5265822784810127, 0.5173611111111112, 0.4372621240024555, 0.47680858428521977, 0.6187766714082503, 0.5626134301270418, 0.4220689655172414, 0.4093774625689519, 0.4467446270543616, 0.5254394079555966, 0.4751597608740466, 0.6284470246734397, 0.5971479500891266, 0.424452604379165, 0.35983725661145016, 0.366278934782104, 0.3549029367844699, 0.5381686655244622, 0.5058986814712005, 0.39982773471145566, 0.4309859154929577, 0.5790816326530612, 0.3412348169629723, 0.7237076648841355, 0.41021517061508367, 0.41578947368421054, 0.5005339435545385, 0.5851979345955249, 0.527603074772886, 0.26578162191156257, 0.3333333333333333, 0.3865612648221344, 0.6638694638694639, 0.5345181134654818, 0.5491000227842333, 0.4799685781618225, 0.5426515930113053, 0.6619718309859155, 0.4902962206332993, 0.5097142857142857, 0.3126083819601787, 0.6234967622571693, 0.6522702104097453, 0.3076617310941071, 0.5800865800865801, 0.24014827099680686, 0.46026986506746626, 0.4187261936398264, 0.43837452869710936, 0.4809438927085986, 0.6666666666666666, 0.6078431372549019, 0.6365914786967418, 0.316073940124573, 0.44507575757575757, 0.3055555555555556, 0.5599276345545002, 0.5607843137254902, 0.6117566643882434, 0.46033501896333756, 1.0, 0.43388196687689073, 0.6634920634920635, 0.4735632183908046, 0.44660467737390813, 0.6444444444444445, 0.5982905982905983, 0.49676190476190474, 0.43186907838070626, 0.49979677550467416, 0.29943134699680135, 0.5355642866820214, 0.524723443955751, 0.6405919661733616, 0.5472831765935214, 0.7619047619047619, 0.3969781281397326, 0.4911622538056417, 0.954248366013072, 0.6202090592334495, 0.44698097601323405, 0.5530671859785784, 0.5383961943594971, 0.6666666666666666, 0.625414031918097, 0.6594202898550725, 0.7472527472527473, 0.5188743994509266, 0.2649294549942498, 0.5036923860453272, 0.42344706911636043, 0.65, 0.8333333333333334, 0.49403905447070917, 0.5818112633181126, 0.1603867865921184, 0.4635780885780886, 0.6985507246376812, 0.4167877906976744, 0.3925558312655087, 0.39112615823235924, 0.38806264158376835, 0.4538540596094553, 0.678030303030303, 0.4745158002038736, 0.4773109243697479, 0.3261457608779658, 0.4773874985972394, 0.45543071161048687, 0.4650705528568124, 0.30564784053156147, 0.38534278959810875, 0.40799542301365943, 0.4640529050543222, 0.4874390701162355, 0.34635952283011107, 0.38948054770702023, 0.2047762464550573, 0.21298110084149538, 0.4765544144574477, 0.38871662360034454, 0.4272331154684096, 0.4875372689326178, 0.43996009432251043, 0, 0.47228070175438597, 0.7636363636363637, 0, 0.6666666666666666, 0.7066326530612245, 0.6282051282051282, 0.4278565471226022, 0.6797979797979798, 0.5822161422708618, 0.30451925993327267, 0.3489795918367347, 1.0, 0.8205128205128205, 0.6502816180235536, 0.740041928721174, 0.6536796536796536, 0.5384615384615384, 0.3606500691562932, 0.6361581920903955, 0.48543932008498936, 0.5023795926137445, 0.7114624505928854, 0.4993215739484396, 0.4, 0.5604395604395604, 0.6538461538461539, 0.8083333333333333, 0.4253997826424468, 0.443640350877193, 0.6274509803921569, 0.9333333333333333, 0, 0.5849802371541502, 0.4705128205128205, 0, 0.3333333333333333, 0.5333333333333333, 0.5037926675094817, 0.38855895639815236, 0.5530606789628442, 0.6706730769230769, 0.4703130374957, 0.5850980392156863, 0.5078810959483762, 0.48336402701043585, 0.5638001638001638, 0.34981061597807683, 0.5083073727933541, 0.6387096774193548, 0.5294289044289044, 0.4391934185817759, 0.37453544022887086, 0.5086477987421384, 0.536544724683784, 0.5573675688179505, 0.5967168262653899, 0.5987927565392354, 0.4222997990056067, 0.4103655210038189, 0.506081438392385, 0.4378535553793286, 0.456575682382134, 0.5147240345618057, 0.6707152496626181, 0.5144158846729227, 0.5358630614254336, 0.4728476821192053, 0.4024857196660599, 0.4791946308724832, 0.5195107746068724, 0.5851063829787234, 0.5557775557775558, 0.5378787878787878, 0.5015384615384615, 0.42698412698412697, 0.43830281894798023, 0.42194922194922196, 0.5704779189352692, 0.5800865800865801, 0.3359708485163977, 0.520918178452425, 0.44802867383512546, 0.5972515856236786, 0, 0.5031469825990373, 0.4910394265232975, 0.47808299240210406, 0.6233333333333333, 0.41841394091883327, 0, 0.44565217391304346, 0.4455752975677074, 0.3128991060025543, 0.4150889271371199, 0.4633879781420765, 0, 0.6666666666666666, 0.1442931384626247, 0.2354954534175996, 0.5561030235162374, 0, 1.0, 0.683982683982684, 0.6444444444444445, 0.3392857142857143, 0.2727272727272727, 0.4530612244897959, 0.7473684210526316, 0.424448419797257, 0.24610955263546436, 0.44370860927152317, 0.6144927536231884, 0.2940947940947941, 0.4529390288426433, 0.5975609756097561, 0.6139455782312925, 0.6666666666666666, 0.5224828072650326, 0.5950310559006211, 0.49422187981510013, 0.5286357786357786, 0.4033490319204605, 0, 0.41231126596980255, 0.7307692307692307, 0.782258064516129, 0.5913461538461539, 0.34689060125895377, 0.5, 0.6096788783355948, 0.4481526664342977, 0.3333333333333333, 0.7142857142857143, 0.7174603174603175, 0.3659926470588235, 0, 0.4324557086614173, 0, 0.5445068163592622, 0.5333333333333333, 0.1, 0.5555555555555556, 0.3902045666751549, 0.4963913392141139, 0.519327731092437, 0.4835164835164835, 0.5133333333333333, 0.3605416729013916, 0.5195681511470985, 0, 0.6320346320346321, 0.6650246305418719, 0.4986324426677888, 0.9523809523809523, 0.13012162815312422, 0.41108642758912517, 0.6136363636363636, 0, 0.41000134426670254, 0, 0.6292207792207792, 0.5170454545454546, 1.0, 0.4585804132973944, 0.5335756317064728, 0.5111111111111111, 0, 0.5122060470324749, 1.0, 0.2301546595123491, 0.4133207368918281, 0.3926829268292683, 0, 0.7747035573122529, 0.6126482213438735, 0.5597147950089126, 0, 0.5138427464008859, 0.4823914823914824, 0.5830835830835831, 0.6612794612794612, 0.5856777493606138, 0, 0.19980666469751082, 1.0, 0.35145551455514557, 0.4225352112676056, 0.3892106709508308, 0.484788880146866, 0.9545454545454546, 0.38273352999016713, 0.6448202959830867, 0.527403414195867, 0.6207215541165587, 0.5070785070785071, 0.45005136106831023, 0.6246246246246246, 0.7904761904761904, 0.3078527629425833, 0.4395078605604921, 0.518796992481203, 0.5806763285024155, 0.47453786523553965, 0.5435294117647059, 0.32208031245089896, 0.2574018072987752, 0.42857142857142855, 0.6428571428571429, 0.6666666666666666, 0.5097461097461098, 0.59375, 0, 0.6132796780684104, 0.6477987421383647, 0.7114164904862579, 0.7489177489177489, 0.3465841779649862, 0.7380952380952381, 0.5097866337506612, 0.500873616773442, 0.3722773276797658, 0.6363636363636364, 0.4558496794261411, 0.34968266502880874, 0, 0.4008363201911589, 0.565284178187404, 0, 0.3862052097346215, 1.0, 0.45602780005346166, 0.5063938618925832, 1.0, 0.7777777777777778, 0.7435897435897436, 0.4806777079763944, 0.5706122448979591, 0.48307692307692307, 0.7583333333333333, 0.6210526315789474, 0.5249907441688264, 0.4626762985896113, 0.6589147286821705, 0.6141176470588235, 0, 0.7572463768115942, 0.533831628638867, 0.6327985739750446, 0.636766334440753, 0.6702317290552585, 0.5870056497175141, 0.6861538461538461, 0.24537040838951804, 0.44205808988289014, 0.5505602240896359, 0.6210526315789474, 0.7636363636363637, 1.0, 0.8431372549019608, 0.4715334881677233, 0.5494949494949495, 0, 0.7907692307692308, 0.5654520917678812, 0.6592592592592592, 0.6802721088435374, 0.44397892464927313, 0.44203612479474547, 0.5847953216374269, 0.4205696202531646, 0.6945812807881774, 0.5310077519379846, 0.5402298850574713, 0.5583117363939282, 0.3946220410498462, 0.4456859093730602, 0.44688335443928523, 0.2676455197463601, 0.256205782521572, 0.538018018018018, 0.4166666666666667, 0.5827956989247312, 0.5161290322580645, 0, 0.5334826427771556, 0.8, 0.5, 0.5033986405437825, 0.4415653444953824, 0.5447530864197531, 0.5714851485148514, 0.5974338412189254, 0.6716417910447762, 0.5577431677931237, 0, 0.30986215538847117, 0.7758620689655172, 0.6065128900949797, 0.5297954671088999, 0.5569401176877813, 0.26951923595748123, 0.4268111035883548, 0.5506535947712419, 0.5079412646089302, 0.7719298245614035, 0.6265536723163841, 0.6007905138339921, 0.6024955436720143, 0.5554445554445554, 0.475, 0.34584796311180677, 0.6572199730094467, 0.5477410340009315, 0.11015055829971783, 0.5549950787401575, 0.6162162162162163, 0.7777777777777778, 0.38095238095238093, 0.43360433604336046, 0.6133333333333333, 0.3532522474881015, 0.5098722415795587, 0.5701149425287356, 0.675, 0.6368421052631579, 0.42958264386835815, 0.5051480051480052, 0.5305050505050505, 0.5276912426445137, 0.5747474747474748, 0.7258064516129032, 0.707641196013289, 0.48601437258153674, 0.44350640213873643, 0.363421453990849, 0.22266304347826088, 0.7721774193548387, 0.7098560354374308, 0.470606372045221, 0.6416666666666667, 0.5404089581304771, 0.6242424242424243, 0.6653225806451613, 0.5883940620782726, 0.44857111692844676, 0.4906761937957477, 0.5960170697012802, 0.487939007624047, 0.3148172687037871, 0.3899074288955932, 0.48717948717948717, 0.5387323943661971, 0.7523809523809524, 0.34201199112259434, 0.6861408633560532, 1.0, 0.5912508544087491, 0.625, 0.6773109243697479, 0.8128460686600222, 0.9777777777777777, 0.3717634331049405, 0.49194805194805197, 0, 0.7908496732026143, 0.4120838208701202, 0.2834618680377035, 0.5041785676504813, 0.5194658944658944, 1.0, 0.5114087301587301, 0.29239716312056735, 0.6098495212038304, 0.8888888888888888, 0.503256704980843, 0.7358870967741935, 0.4350987759059508, 0.35363061762802966, 0.5877659574468085, 0.45475979958738577, 1.0, 0.6454081632653061, 0.3927872518870562, 0.6341940532081377, 0.5367283950617284, 0.46897873823631925, 0.778516057585825, 0.648936170212766, 0.8666666666666667, 1.0, 1.0, 0, 0.45872540633019676, 0, 0.5225589225589226, 0.538115095913261, 0.5726817042606517, 1.0, 0.7416666666666667, 0.5054858934169278, 0.7007575757575758, 0.4149008885850991, 0.6930272108843537, 1.0, 0.46612308289652493, 0.5716552088841883, 0.4548611111111111, 0.4954627949183303, 0.47435897435897434, 0.6190476190476191, 0.27832448233115503, 0.23012477718360072, 0.5327731092436975, 0.45225885225885226, 0.4861111111111111, 0.645877378435518, 0.7517241379310344, 0.6545454545454545, 0.5725900116144018, 0.41638418079096046, 0.32456224899598396, 0.39650513421005223, 0.5833333333333334, 0.6545454545454545, 0.6515151515151515, 0.7916666666666666, 0.6428571428571429, 0.39891304347826084, 0.5565217391304348, 0.6344238975817923, 0.4752248280726503, 0.6090808416389811, 0.41412623443538, 0.32504417670682734, 0.4075924075924076, 0.45174825174825173, 0.5340136054421769, 0.6205533596837944, 0.6838235294117647, 0.4032809295967191, 0.39355089355089357, 0.44220485396955983, 0.39772298618017216, 0.33783573979195775, 0.6000522466039707, 0.15590650466273687, 0.42817543193468766, 0.4588923288613691, 0.706964006259781, 0.5723684210526315, 0.7916666666666666, 0.628454172366621, 0.4664989283384587, 0.4381565830841193, 0.5254237288135594, 0.5527065527065527, 0.8571428571428571, 0.7112638815441565, 0.2221729490022173, 0.7471264367816092, 0.538396802019777, 0.41515151515151516, 0.3503670110804619, 0.8571428571428571, 0.5386893743058127, 0, 0, 0.8952380952380953, 0.5595611285266457, 0.6951871657754011, 0.3866466294547016, 0.6454901960784314, 0.6387141858839972, 0.6923076923076923, 0.6161103047895501, 0.4919385076865392, 0.7944664031620553, 0.5033914728682171, 0.6553846153846153, 0.30552791887032865, 0.2388766901652606, 0.5074074074074074, 0.386254629348552, 0.6317016317016317, 0.6472049689440994, 0.6402116402116402, 0.7462121212121212, 0.47921455938697316, 0.3348974997037564, 0.577922077922078, 0.85, 0.6582278481012658, 0.24402323676174872, 0, 0.7727272727272727, 0.6913461538461538, 1.0, 0.38177667081776673, 1.0, 0.5358415841584159, 0.2730516153722702, 0.6841463414634147, 0, 0.5894736842105263, 0, 0.6698412698412698, 0.5528541226215645, 0.6470588235294118, 0.7142857142857143, 0, 0.79, 0.49668268130862503, 0.6480406386066764, 0.5039317606290817, 0.7333333333333333, 0.4852941176470588, 0, 0.603988603988604, 0.39564029460679495, 0.5010864841373316, 0.7591836734693878, 0, 0.4979544126241964, 0.6028556319407721, 1.0, 0.6631205673758865, 0.6666666666666666, 0.6181818181818182, 0.7378917378917379, 0.6825037707390649, 0.8055555555555556, 0.6902597402597402, 0.4374821785001426, 0.3464462076235921, 0.5856950067476383, 0.5295815295815296, 0, 0.6004784688995215, 0.3125328922637396, 1.0, 0, 0.4134296898524541, 0.3822162040171519, 0.7415329768270945, 0.6376306620209059, 0.767816091954023, 0.5847573479152427, 0.6461538461538462, 0.6666666666666666, 0.5884615384615385, 0.6485507246376812, 0.47549019607843135, 0, 0.5611003350379122, 0.5327231121281465, 0.5008807985907222, 0.5365458296492779, 0.5764600179694519, 0.5511823035850496, 0.6318484383000512, 0.545054945054945, 0.4010491177873152, 0.5833333333333334, 0.6733333333333333, 0.6, 0.19007165973185391, 0.428258064516129, 0.5714987714987715, 0.49875478927203065, 0.40149783762877533, 0.3502800922656875, 0.5634132086499123, 0.5080091533180778, 0.5247490481135341, 0.7485714285714286, 0.6563025210084034, 0.7339901477832512, 0.670929241261722, 0.5504852962480081, 0.524822695035461, 0.5530071355759429, 0.5330532212885154, 0.6996047430830039, 0.7238095238095238, 0.5514411950347149, 0.35121788825389777, 0.41686589871767005, 0.340805426689018, 0.47554697554697556, 0.3482858604809824, 0, 0.3993548657366679, 0.7076923076923077, 0.6511784511784512, 0.6912878787878788, 0.3747791164658634, 0.6478416098669263, 0.5373626373626373, 0.4476607630292643, 0.6713513513513514, 0.3884415584415584, 0.5937921727395412, 0.5426809477442389, 0.603963963963964, 0.6210826210826211, 0.5662136536030341, 0.7417417417417418, 0.6327006327006327, 0.6518987341772152, 0.5272863568215892, 0.8, 0.7032115171650055, 0.5441483803552769, 0.40781389240654753, 0.49061784897025174, 0.3878817573085089, 0.5121359223300971, 0.6968641114982579, 0.5233530846985012, 0.41770501303969865, 0.31437817845584837, 0.28715977377165075, 0.5487048163104501, 0.4810640457240532, 0.5373134328358209, 0.4397788600763459, 0.5808959644576083, 0.35592236440271574, 0.5586776859504132, 0.6331168831168831, 0.41718346253229976, 0.4467621984400508, 0.8842105263157894, 0.5906432748538012, 0.535759493670886, 0.41005291005291006, 0.4226375908618899, 0.568732782369146, 0.666049953746531, 0.6, 0.52046783625731, 0.5, 0.5900765900765901, 0.6818181818181818, 0.5784810126582278, 0.43510204081632653, 0.5302752293577981, 0.5535074244751664, 0.75, 0.49624457844070663, 0.6155102040816327, 0.5856844305120167, 1.0, 0.7455357142857143, 0.7421052631578947, 0.54349895297925, 0.6906906906906907, 0.480184331797235, 0.5, 0.416405962458594, 0.6259877085162423, 0.640506329113924, 0.8095238095238095, 0.6541512427287149, 0.4680232558139535, 0.531542699724518, 0.623699683401176, 0.5846785225718194, 0.6311514572384138, 0, 0.9333333333333333, 0.5636363636363636, 0.5606799150106236, 1.0, 0, 0.8235294117647058, 0.4690150032615786, 0.39237421383647797, 0.245141952267843, 0.5387894288150042, 0.7533333333333333, 0.5967213114754099, 0.28450390189520625, 0.40276589677787283, 0.6892307692307692, 0.9044117647058824, 1.0, 0, 0.7142857142857143, 0.7777777777777778, 0.45017182130584193, 0.8571428571428571, 0.7647058823529411, 0.9358974358974359, 0.4024426277947405, 0.2886629384850025, 0.9555555555555556, 0.5485188968335035, 1.0, 0.521689497716895, 0.6837944664031621, 0.6530612244897959, 0.7036290322580645, 0.7142857142857143, 0.5, 0.524941724941725, 0.6576354679802956, 0.7118226600985221, 0.6777408637873754, 0.6047619047619047, 0.7619047619047619, 0.9523809523809523, 0.6985294117647058, 0.4603174603174603, 0.5884057971014492, 0.48130841121495327, 0.5446327683615819, 0.5397435897435897, 0.5952380952380952, 0.5576662143826323, 0.5388888888888889, 0.37352748691099474, 0.5073891625615764, 0.7707509881422925, 0.5350797952423969, 0.6111111111111112, 0.5134865134865135, 1.0, 0.47750362844702465, 0.3570593149540518, 0.6923076923076923, 0.8939393939393939, 0.7777777777777778, 0.3304845601870515, 0.46867167919799496, 0.3880771478667446, 0.6176470588235294, 0.8571428571428571, 0.46331236897274636, 0.4384920634920635, 0.5614617940199336, 1.0, 0, 0, 0, 0.6190476190476191, 0.6470588235294118, 0.6238095238095238, 0.8484848484848485, 0.36827568890841755, 0.15329760973952342, 0.49789621318373073, 0.49634146341463414, 0.5778474399164054, 0.4550877192982456, 0.3524620510921881, 0.4428787516917443, 0.6179078014184397, 0.5229677419354839, 0.5814814814814815, 0.6796536796536796, 0.5171530977982591, 0.4768627450980392, 0.5303030303030303, 0.6327453640886477, 0.5533596837944664, 0.5059246309246309, 0.47551546391752575, 0.7874149659863946, 0.5647163120567376, 0.5530054644808743, 0.561980198019802, 0.593576965669989, 0.49718501261890896, 0.5293532338308458, 0.4836126629422719, 0.5741176470588235, 0.5826086956521739, 0.38824343015214385, 0.7037037037037037, 0.49072817729534146, 0.5445458496305954, 0.5230769230769231, 0.6774628879892037, 0.635846372688478, 0.6418079096045197, 0.36180162441545655, 0.6783625730994152, 0.5180762852404643, 0.4117828026457468, 0.389177662268426, 0.31878930061727206, 0.5303030303030303, 0.5512820512820513, 0.4420289855072464, 0.5126436781609195, 0.5848703555199145, 0.4880615351744031, 0.41096566336748613, 0.5089239856189008, 0.6821256038647343, 0.6585782638414217, 0.6033779848573093, 0.36742032412196446, 0.24835334606975606, 0.5518367346938775, 0.3729657094510526, 0.38618704231650736, 0.3416722408026756, 0.2960449998905645, 0.3979761904761905, 0.46228528752800596, 0.4423076923076923, 0.48419540229885055, 0.46828774062816614, 0.43959197786998616, 0.7371760973030143, 0.26290904307975604, 0.47873015873015873, 0.20948941508301971, 0.7277310924369748, 0.597819850831899, 0.33726433096710173, 0.30672698332914466, 0.18135010633760848, 0.7151515151515152, 0.6488147497805092, 0.7651448639157156, 0.5003828750435085, 0.5769991015274034, 0.549407114624506, 0.2826870631014702, 0.6600058771672054, 0.47961589327813237, 0.49344188150158297, 0.3812352302484512, 0.5636833046471601, 0.5756097560975609, 0.10308289342419828, 0.28524945770065074, 0.3659375768001966, 0.543299620733249, 0.3568636787492808, 0.16006822643452515, 0.45718432510885343, 0.46513349193761566, 0.5656565656565656, 0.5275823768974454, 0.6181818181818182, 0.527363184079602, 0.43123543123543123, 0.7428571428571429, 0.6182072829131653, 0.5184371184371185, 0.5642182130584192, 0.6589371980676328, 0.6897163120567376, 0.6054938632378726, 0.5021072796934866, 0.13036575710332782, 0.5840032982890125, 0.4958470815792468, 0.5186884131838261, 0.08382994458985515, 0.6240740740740741, 0.7159420289855073, 0.6374207188160677, 0.48166990872362714, 0.21716098772244447, 0.1622996945058449, 0.10631754734221886, 0.3310782402629668, 0.6123082896524946, 0.460089106553753, 0.4078075984663646, 0.6410256410256411, 0.6492753623188405, 0.4243372397314825, 0.5596129032258065, 0.5566502463054187, 0.5582706766917294, 0.3975457526711097, 0.5161616161616162, 0.6153846153846154, 0.631578947368421, 0.6491228070175439, 0.6353276353276354, 0.3743249045262468, 0.14839145635631812, 0.6387921022067363, 0.4852941176470588, 0.4007170435741864, 0.34894018583042974, 0.4865676359039191, 0.4667265177870048, 0.5519668737060042, 0.5241379310344828, 0.46878824969400246, 0.7815384615384615, 0.5653834851601528, 0.375686038643711, 0.7005879692446857, 0.5277777777777778, 0.5901754385964912, 0.504269523365937, 0.36179283327572304, 0.5193152903076568, 0.4556233653007847, 0.5347063310450039, 0.455741935483871, 0.42022560465001724, 0.6815686274509803, 0.5502571294997662, 0.5107913669064749, 0.3444808444808445, 0.5914669783752192, 0.4042706020634713, 0.4197318007662835, 0.44979203802733214, 0.6251276813074566, 0.5834064969271291, 0.6262626262626263, 0.6180555555555556, 0.6155473294553147, 0.6047430830039525, 0.5665024630541872, 0.6048979591836735, 0.6851851851851852, 0.735191637630662, 0.6873265494912119, 0.671957671957672, 0.5156071998177262, 0.6773109243697479, 0.7580645161290323, 0.6857142857142857, 0.4860576923076923, 0.5488933601609658, 0.5892002734107997, 0.7325581395348837, 0.5805626598465473, 0.6048979591836735, 0.45688729874776385, 0.08974530068178875, 0.4238095238095238, 0.4987179487179487, 0.38506951056941535, 0.6756756756756757, 0.6129032258064516, 0.4667131404670617, 0.6659678546471, 0.645021645021645, 0.6058201058201058, 0.8157894736842105, 0.5759615384615384, 0.12212694820099027, 0.2889470927187009, 0.5334448160535117, 0.1127461974003152, 0.16077430486906197, 0.18115221256138064, 0.4464207290294247, 0.383710658489185, 0.679992385303636, 0.5077128166063607, 0.09654761046925917, 0.22243975771983954, 0.5325867861142217, 0.16682855912824696, 0.1948292632980085, 0.6222079037800687, 0.4853111265325006, 0.4341286307053942, 0.26318929331263297, 0.485377358490566, 0.6555555555555556, 0.5559855521155831, 0.611179686122377, 0.6309165526675786, 0.6979166666666666, 0.2956719817767654, 0.6463276836158192, 0.6505494505494506, 0.5903720684182684, 0.6704089815557338, 0.5150666327136916, 0.6413586413586414, 0.29060311382072856, 0.20702838691785028, 0.5390070921985816, 0.27340171323573814, 0.4770447146369012, 0.16280741837458132, 0.4232441088995653, 0.3877412382275745, 0.2733636449748982, 0.38945339391436046, 0.6669912366114897, 0.542421068382463, 0.3878838444476099, 0.3462059937350975, 0.42207656161144536, 0.3455653883972468, 0.4435236341313689, 0.6382293762575453, 0.515596068936049, 0.4543691673736517, 0.11690654561198652, 0.5011459129106188, 0.6477272727272727, 0.5630128339995792, 0.35459523457155545, 0.5042473666326878, 0.5224260958205912, 0.4968218773096822, 0.5631868131868132, 0.5053050397877984, 0.3391149391149391, 0.5174825174825175, 0.4823348694316436, 0.5891215526046987, 0.4452501812907904, 0.5562543675751223, 0.5849110728628801, 0.8235294117647058, 0.44095226448167624, 0.536969696969697, 0.5591397849462365, 0.4302708364506958, 0.5509227614490773, 0.6350961538461538, 0.4389199255121043, 0.45045045045045046, 0.4977401129943503, 0.5168439716312057, 0.6321678321678321, 0.42032902467685074, 0.6822660098522167, 0.4917477158856469, 0.5041109969167523, 0.5890118423607067, 0.4701565995525727, 0.5060289933613331, 0.5715539947322212, 0.5344593890105307, 0.551844980416409, 0.5199610516066212, 0.6345514950166113, 0.4289612921191869, 0.4373611279440876, 0.5176056338028169, 0.47647480296154765, 0.6134585289514867, 0.5504495504495505, 0.5078709677419355, 0.6841463414634147, 0.536036036036036, 0.5563046192259675, 0.4478196962273395, 0.489996114996115, 0.5755102040816327, 0.445578231292517, 0.1660394746947239, 0.5386931647094249, 0.2904321594858679, 0.5321146738587553, 0.29497716894977166, 0.6809954751131222, 0.3817109144542773, 0.5523096129837702, 0.6063829787234043, 0.5919661733615222, 0.6225988700564972, 0.5896174863387978, 0.5391184573002755, 0.5099099099099099, 0.510248447204969, 0.4670806464453467, 0.49100671140939595, 0.4966887417218543, 0.6162790697674418, 0.5558615263571991, 0.3899966543994647, 0.5808743169398907, 0.5904095904095904, 0.6399038461538461, 0.4952230867723825, 0.6164556962025316, 0.5303524297469338, 0.5586340206185567, 0.4625928865161244, 0.5668756530825496, 0.3856460272892961, 0.4748427672955975, 0.5281124497991968, 0.5572327044025157, 0.6062626262626263, 0.4414350201948206, 0.49385675756667663, 0.5560421228234803, 0.5850647395362842, 0.584769038701623, 0.3868410128684101, 0.36578658923523644, 0.28238475405614216, 0.42262443438914027, 0.41287649402390436, 0.7597895967270601, 0.45816993464052286, 0.5467326732673268, 0.5586776859504132, 0.5267831837505904, 0.5832892649391856, 0.6307692307692307, 0.5094130675526024, 0.5866118614210217, 0.41820022083179975, 0.5038251366120219, 0.6397630507219548, 0.4888888888888889, 0.5545271629778672, 0.5224806201550387, 0.6047058823529412, 0.46561690253139326, 0.5730337078651685, 0.44669421487603306, 0.6666666666666666, 0.44559270516717325, 0.5134941485550514, 0.5418621624439579, 0.5356151711378353, 0.5503521797068341, 0.4940760993392572, 0.4874041621029573, 0.5328107502799552, 0.5841530054644809, 0.52000777000777, 0.5410661175932281, 0.5407066052227343, 0.45545454545454545, 0.5062061081169361, 0.424792757417103, 0.6401137980085349, 0.6666666666666666, 0.5569023569023569, 0.40972520395019324, 0.2933257090117475, 0.4686428363847719, 0.6070889894419306, 0.4569441425777005, 0.5860891165968017, 0.5756917282341011, 0.6234343434343435, 0.5321969696969697, 0.7462365591397849, 0.463980463980464, 0.5883769948810599, 0.4313458856345886, 0.4224134448349695, 0.47107014848950335, 0.48630079597821535, 0.44150384368994233, 0.5834578043315908, 0.5417236662106704, 0.8, 0.573076923076923, 0.5192553924948291, 0.38787139799930326, 0.520460358056266, 0.45346795434591747, 0.4422014854313464, 0.491645988420182, 0.32311907208052293, 0.5897759103641457, 0.28619998785744644, 0.4284100182035026, 0.4871086556169429, 0.4342773367660731, 0.46960334861471, 0.4548013762902721, 0.485612968591692, 0.7169230769230769, 0.4136013686911891, 0.4282051282051282, 0.5208888888888888, 0.6521739130434783, 0.4415954415954416, 0.4280373831775701, 0.29141886151231944, 0.5516062884483938, 0.44367732558139533, 0.45369237046103633, 0.5705645161290323, 0.587471600129828, 1.0, 0.3055555555555556, 0.5367965367965368, 0.6692307692307692, 0.5111555111555112, 0.5826612903225806, 0.3742180718924905, 0.43883666274970623, 0.5965324713488098, 0.4514338575393155, 0.6538461538461539, 0.6550724637681159, 0.577152600170503, 0.41529184207532144, 0.5943661971830986, 0.4252515663565597, 0.4473469387755102, 0.2087912087912088, 0.4890756302521008, 0.29633206328024864, 0.3902097902097902, 0.4, 0.5336837075967511, 0.4135064736075998, 0.39371980676328505, 0.607909604519774, 0.5468013468013468, 0.49538077403245945, 0.4703196347031963, 0.6682539682539682, 0.5513784461152882, 0.4665825977301387, 0.4421383647798742, 0.5293977340488968, 0.7010752688172043, 0.512012012012012, 0.6666666666666666, 0.6490486257928119, 0.6153846153846154, 0.5524193548387096, 0.4121034077555817, 0.49523809523809526, 0.5514705882352942, 0.5432506887052342, 1.0, 1.0, 0.3611111111111111, 0.41595441595441596, 0.6070588235294118, 0.3958904109589041, 0.6661706349206349, 0.6, 0.2857142857142857, 0.41624724061810153, 0.5975376196990424, 0.5505030181086519, 0.4182946213403066, 0.2595936984549096, 0.42795031055900623, 0.5306553911205074, 0.5203373015873016, 0.4690101757631822, 0.4628019323671498, 0.45422535211267606, 0.8235294117647058, 0.44501048846269103, 0.38657788418374983, 0.5920444033302498, 0.3524631632201353, 0.5347420521606701, 0.5641025641025641, 0.38635158676058473, 0.7720797720797721, 0.41980136561142145, 0.49096622152395913, 0.43206577595066803, 0.7439544807965861, 0.38235294117647056, 0.5926613069470212, 0.8571428571428571, 0.43412452700378396, 0.3171786244075401, 0.33395484439623024, 0.6410256410256411, 0.4427746131782006, 0.5394755903230479, 0.593469387755102, 0.4797979797979798, 0.6060109289617487, 0.5647226173541963, 0.49100877192982456, 0.3559494776689841, 0.45893719806763283, 0.6570621468926554, 0.6294995610184372, 0.44082428292954606, 0.39266075636853326, 0.7513227513227513, 0.526573553419191, 0.5809842331581462, 0.2897696283406488, 0.4537274220032841, 0.5813397129186603, 0.16915543337342434, 0.31976893200055206, 0.4166174055829228, 0.39176218432578513, 0.5148401826484018, 0.5811051693404634, 0.5195171026156942, 0.2433383609854198, 0.5259851513420902, 0.44315607090497133, 0.3021767504526125, 0.47134534615905704, 0.5111635220125786, 0.49440993788819876, 0.5627039627039627, 0.6280788177339901, 0.5951417004048583, 0.4799858931405396, 0.5779340984820437, 0.4757703081232493, 0.5691699604743083, 0.8095238095238095, 0.6274509803921569, 0.5038597503787605, 0.5542574257425743, 0.4936061381074169, 0.5, 0.7285714285714285, 0.2111925283787476, 0.29549752913184063, 0.5048459674627899, 0.5474506336575302, 0.5116623472787857, 0.6476190476190476, 0.46271050521251, 0.4040051679586563, 0.5180440771349862, 0.3311082166503853, 0.30360065466448444, 0.5186456188515214, 0.7251461988304093, 0.5768233987412069, 0.39444444444444443, 0.46527304400515035, 0.41214470284237725, 0.41353437702907436, 0.4729408823897013, 0.5558023907754153, 0.6339869281045751, 0.6, 0.5124272871496562, 0.5305090311986864, 0.5183473389355743, 0.7333333333333333, 0.6993464052287581, 0.7727272727272727, 0.38011695906432746, 0.6258823529411764, 0.6766666666666666, 0.40554809843400447, 0.5682730923694779, 0.6149193548387096, 0.5827898169577109, 0.5049634273772204, 0.5559883154819864, 0.5548387096774193, 0.6456984273820536, 0.532437171244886, 0.4318181818181818, 0.6078674948240166, 0.8214285714285714, 0.5924324324324325, 0.43042452830188677, 0.5256410256410257, 0.5289855072463768, 0.18213335917396126, 0.07109187798842971, 0.5791245791245792, 0, 0.3727524204702628, 0, 0.4526936988387588, 0.548801870251315, 0.4372841105354059, 0.4881542699724518, 0.7777777777777778, 0.43251612903225806, 0.5208125208125208, 0, 0.6285714285714286, 0, 0.8088235294117647, 0.6515151515151515, 0.782258064516129, 0, 0.33076302508395716, 1.0, 0.6391129032258065, 0.519350811485643, 0.4207868714496108, 0.7463054187192119, 0.6231231231231231, 0.39849624060150374, 1.0, 0.7368421052631579, 0, 0.6428571428571429, 0.5, 0.8014705882352942, 0, 0, 0.6, 0.7236467236467237, 0.6666666666666666, 0.45447768148355233, 0.3741511500547645, 0.5654761904761905, 0.6090395480225989, 0.7766666666666666, 0, 0.27652161020090443, 0.6109803921568627, 0.7051013277428372, 0.8181818181818182, 0.5512016718913271, 0.43405196241017135, 0.3907697790449038, 0.34412024756852344, 0.2828728828619469, 0.35063365753020925, 0.16666666666666666, 0.5078431372549019, 0.47544545849630593, 0.6717171717171717, 0.5294401544401545, 0.40017274599694375, 0, 0, 0.9052631578947369, 0.6594202898550725, 0.6856060606060606, 0.5287244401168452, 0.4919753086419753, 0.6336336336336337, 0.4057899090157155, 0.4731566428814135, 0.377666388192704, 0.9934640522875817, 0.6089635854341736, 0.46270543615676357, 0.7262295081967213, 0.8160919540229885, 0.7463414634146341, 0.6409937888198758, 0.6386913229018493, 0.2835820895522388, 0.717687074829932, 0.6231884057971014, 0.6344262295081967, 0.4860717264386989, 0.5408887229275579, 0.7477551020408163, 0.5262899262899263, 1.0, 0.5471036899608328, 0.4715447154471545, 1.0, 0, 0.6409574468085106, 0.6182873730043541, 0.6484567901234568, 0.28978686955207333, 0.701058201058201, 0.638533674339301, 0.47466259230965113, 0.21679585359160364, 0.34969527623154606, 0.2897701387450818, 0.4846984126984127, 0.5818815331010453, 0.2103275206013493, 0.41696028187059575, 0.26094777480802683, 1.0, 0.6196808510638298, 0.34812986519840516, 0.24348848376467472, 0.5557286258220837, 0.6713709677419355, 0.43548387096774194, 0.5369458128078818, 0.6666666666666666, 0.5950617283950618, 0.6265341905318527, 0.4879388583711488, 0.5702213279678069, 0.8529411764705882, 0.8285714285714286, 0.6638176638176638, 0.5220398970398971, 0.47138776716241504, 0.5609756097560976, 0.4666666666666667, 0.5032679738562091, 0.7549857549857549, 0.4854445318646735, 0, 0.6842105263157895, 0.5648376259798432, 0.5235211923614346, 0.5386482449589246, 0.34520424283457457, 0.9952380952380953, 0.3850357292980244, 0.7888888888888889, 0.347165991902834, 0.5843782654127482, 0.444810708220957, 0.35146030440148085, 0.708994708994709, 0.4918709677419355, 0.36768381284510315, 0.2703571721143606, 0.4881073734284743, 0.4798563573111884, 0, 0.8333333333333334, 0.6698412698412698, 0.657510227936879, 0.40463458110516937, 0.6123911930363544, 0.42456320657759505, 1.0, 0.5600549073438572, 0, 0.6362173038229376, 0.978021978021978, 0.747638326585695, 0.7687074829931972, 0.6610169491525424, 0.422623723487824, 0.6817375886524822, 0.7043269230769231, 0.40317732932589095, 0.4103924820342731, 0.3010945273631841, 0.4885964912280702, 0.7304421768707483, 0, 0.9204545454545454, 0.9213709677419355, 0.4860576923076923, 0.9555555555555556, 0.8761904761904762, 0.6581632653061225, 0.948051948051948, 0.496528555431131, 0.4559386973180077, 0.4700280112044818, 1.0, 0.8433333333333334, 0.8264580369843528, 0.8364153627311522, 0.9111111111111111, 0.5682882882882883, 0.7680672268907563, 0.7552552552552553, 0.4572072072072072, 0.6441036488630354, 0.6192754613807245, 0.7909407665505227, 0.503023516237402, 0.6673400673400673, 0.421875, 0.6830006049606776, 0.6303123399897593, 0.7170731707317073, 0.7829268292682927, 0.5627387599177197, 0.3485135989879823, 0.8939393939393939, 0.7575510204081632, 0.7363530778164924, 0.7711962833914053, 0.5486257928118393, 0.9095238095238095, 0.9842105263157894])"
      ]
     },
     "execution_count": 12,
     "metadata": {},
     "output_type": "execute_result"
    }
   ],
   "source": [
    "# clustering coeffcient.\n",
    "clustering_dict = nx.clustering(G)\n",
    "clustering_keys = clustering_dict.keys()\n",
    "clustering_values = clustering_dict.values()"
   ]
  },
  {
   "cell_type": "code",
   "execution_count": null,
   "metadata": {},
   "outputs": [],
   "source": [
    "# average clustering coefficient\n",
    "print(\"Average clustering coefficient is: \", np.mean(list(clustering_values)))"
   ]
  },
  {
   "cell_type": "code",
   "execution_count": 25,
   "metadata": {},
   "outputs": [
    {
     "data": {
      "text/plain": [
       "[Text(0.5, 1.0, 'Degree - Clustering Coefficients (Log-Log)')]"
      ]
     },
     "execution_count": 25,
     "metadata": {},
     "output_type": "execute_result"
    },
    {
     "data": {
      "image/png": "[encoded data removed]",
      "text/plain": [
       "<Figure size 360x360 with 1 Axes>"
      ]
     },
     "metadata": {
      "needs_background": "light"
     },
     "output_type": "display_data"
    }
   ],
   "source": [
    "# clustering_values\n",
    "degree_counts\n",
    "\n",
    "degree_cluster_df = pd.DataFrame([list(degree_counts), list(clustering_values)]).T\n",
    "degree_cluster_df.columns = ['degree', 'clustering_coeff']\n",
    "degree_cluster_df = degree_cluster_df.sort_values('degree').reset_index()\n",
    "degree_cluster_df\n",
    "\n",
    "fig, ax = plt.subplots(figsize = (5, 5))\n",
    "ax.loglog(degree_cluster_df['degree'], degree_cluster_df['clustering_coeff'])\n",
    "ax.set_xscale('log')\n",
    "ax.set_yscale('log')\n",
    "ax.set_xlabel('Degree')\n",
    "ax.set_xlabel('Clustering Coefficients')\n",
    "ax.set(title = 'Degree - Clustering Coefficients (Log-Log)')\n"
   ]
  },
  {
   "cell_type": "code",
   "execution_count": null,
   "metadata": {},
   "outputs": [],
   "source": [
    "# Component diameter (VERY VERY SLOW)\n",
    "largest_G_nodes = max(nx.connected_components(G), key=len)\n",
    "largest_sub_G = G.subgraph(largest_G_nodes)\n",
    "print(nx.diameter(largest_sub_G)) # it takes time to compute.\n"
   ]
  },
  {
   "cell_type": "code",
   "execution_count": null,
   "metadata": {},
   "outputs": [],
   "source": []
  },
  {
   "cell_type": "code",
   "execution_count": null,
   "metadata": {},
   "outputs": [],
   "source": []
  },
  {
   "cell_type": "code",
   "execution_count": null,
   "metadata": {},
   "outputs": [],
   "source": []
  },
  {
   "cell_type": "code",
   "execution_count": null,
   "metadata": {},
   "outputs": [],
   "source": []
  },
  {
   "cell_type": "code",
   "execution_count": null,
   "metadata": {},
   "outputs": [],
   "source": []
  },
  {
   "cell_type": "code",
   "execution_count": null,
   "metadata": {},
   "outputs": [],
   "source": []
  },
  {
   "cell_type": "code",
   "execution_count": null,
   "metadata": {},
   "outputs": [],
   "source": []
  },
  {
   "cell_type": "code",
   "execution_count": null,
   "metadata": {},
   "outputs": [],
   "source": []
  },
  {
   "cell_type": "code",
   "execution_count": null,
   "metadata": {},
   "outputs": [],
   "source": []
  },
  {
   "cell_type": "code",
   "execution_count": null,
   "metadata": {},
   "outputs": [],
   "source": []
  },
  {
   "cell_type": "code",
   "execution_count": null,
   "metadata": {},
   "outputs": [],
   "source": []
  },
  {
   "cell_type": "code",
   "execution_count": null,
   "metadata": {},
   "outputs": [],
   "source": []
  },
  {
   "cell_type": "code",
   "execution_count": null,
   "metadata": {},
   "outputs": [],
   "source": []
  },
  {
   "cell_type": "code",
   "execution_count": null,
   "metadata": {},
   "outputs": [],
   "source": []
  },
  {
   "cell_type": "code",
   "execution_count": null,
   "metadata": {},
   "outputs": [],
   "source": []
  }
 ],
 "metadata": {
  "kernelspec": {
   "display_name": "Python 3",
   "language": "python",
   "name": "python3"
  },
  "language_info": {
   "codemirror_mode": {
    "name": "ipython",
    "version": 3
   },
   "file_extension": ".py",
   "mimetype": "text/x-python",
   "name": "python",
   "nbconvert_exporter": "python",
   "pygments_lexer": "ipython3",
   "version": "3.7.4"
  }
 },
 "nbformat": 4,
 "nbformat_minor": 4
}
